{
 "cells": [
  {
   "cell_type": "code",
   "execution_count": 1,
   "metadata": {},
   "outputs": [],
   "source": [
    "from pathlib import Path\n",
    "\n",
    "from tqdm import tqdm\n",
    "\n",
    "import pandas as pd\n",
    "import numpy as np\n",
    "\n",
    "from sklearn.model_selection import KFold\n",
    "from pynndescent import NNDescent"
   ]
  },
  {
   "cell_type": "markdown",
   "metadata": {},
   "source": [
    "## Prepare path for the results\n",
    "\n",
    "**Notebook needs to be run for each embeddings separately**"
   ]
  },
  {
   "cell_type": "code",
   "execution_count": 2,
   "metadata": {},
   "outputs": [],
   "source": [
    "### Deep\n",
    "# embeddings_path = '../data/reduced_deep_embeddings.h5'\n",
    "# results_path_pattern = 'results_deep_embeddings/repeat_{}/{}.csv'\n",
    "\n",
    "### 3-mers\n",
    "# embeddings_path = '../data/reduced_3mers_embeddings.h5'\n",
    "# results_path_pattern = 'results_3mers_embeddings/repeat_{}/{}.csv'\n",
    "\n",
    "### 3-mers-tfidf\n",
    "# embeddings_path = '../data/reduced_3mers-tfidf_embeddings.h5'\n",
    "# results_path_pattern = 'results_3mers-tfidf_embeddings/repeat_{}/{}.csv'\n",
    "\n",
    "### AA frequencies\n",
    "embeddings_path = '../data/reduced_aafreq_embeddings.h5'\n",
    "results_path_pattern = 'results_aafreq_embeddings/repeat_{}/{}.csv'"
   ]
  },
  {
   "cell_type": "markdown",
   "metadata": {},
   "source": [
    "## Load data"
   ]
  },
  {
   "cell_type": "code",
   "execution_count": 3,
   "metadata": {},
   "outputs": [
    {
     "data": {
      "text/html": [
       "<div>\n",
       "<style scoped>\n",
       "    .dataframe tbody tr th:only-of-type {\n",
       "        vertical-align: middle;\n",
       "    }\n",
       "\n",
       "    .dataframe tbody tr th {\n",
       "        vertical-align: top;\n",
       "    }\n",
       "\n",
       "    .dataframe thead th {\n",
       "        text-align: right;\n",
       "    }\n",
       "</style>\n",
       "<table border=\"1\" class=\"dataframe\">\n",
       "  <thead>\n",
       "    <tr style=\"text-align: right;\">\n",
       "      <th></th>\n",
       "      <th>accessions</th>\n",
       "      <th>sequence_length</th>\n",
       "      <th>sequence</th>\n",
       "      <th>description</th>\n",
       "      <th>InterPro</th>\n",
       "      <th>GO</th>\n",
       "      <th>KO</th>\n",
       "      <th>Gene3D</th>\n",
       "      <th>Pfam</th>\n",
       "      <th>KEGG</th>\n",
       "      <th>...</th>\n",
       "      <th>Superkingdom</th>\n",
       "      <th>Kingdom</th>\n",
       "      <th>Phylum</th>\n",
       "      <th>Class</th>\n",
       "      <th>Order</th>\n",
       "      <th>Family</th>\n",
       "      <th>Subfamily</th>\n",
       "      <th>Genus</th>\n",
       "      <th>Species</th>\n",
       "      <th>Transmembrane</th>\n",
       "    </tr>\n",
       "    <tr>\n",
       "      <th>entry_name</th>\n",
       "      <th></th>\n",
       "      <th></th>\n",
       "      <th></th>\n",
       "      <th></th>\n",
       "      <th></th>\n",
       "      <th></th>\n",
       "      <th></th>\n",
       "      <th></th>\n",
       "      <th></th>\n",
       "      <th></th>\n",
       "      <th></th>\n",
       "      <th></th>\n",
       "      <th></th>\n",
       "      <th></th>\n",
       "      <th></th>\n",
       "      <th></th>\n",
       "      <th></th>\n",
       "      <th></th>\n",
       "      <th></th>\n",
       "      <th></th>\n",
       "      <th></th>\n",
       "    </tr>\n",
       "  </thead>\n",
       "  <tbody>\n",
       "    <tr>\n",
       "      <th>12AH_CLOS4</th>\n",
       "      <td>P21215</td>\n",
       "      <td>29.0</td>\n",
       "      <td>MIFDGKVAIITGGGKAKSIGYGIAVAYAK</td>\n",
       "      <td>RecName: Full=12-alpha-hydroxysteroid dehydrog...</td>\n",
       "      <td>IPR036291</td>\n",
       "      <td>GO:0047013||GO:0030573||GO:0016042</td>\n",
       "      <td>NaN</td>\n",
       "      <td>NaN</td>\n",
       "      <td>NaN</td>\n",
       "      <td>NaN</td>\n",
       "      <td>...</td>\n",
       "      <td>Bacteria</td>\n",
       "      <td>NaN</td>\n",
       "      <td>Firmicutes</td>\n",
       "      <td>Clostridia</td>\n",
       "      <td>Clostridiales</td>\n",
       "      <td>Clostridiaceae</td>\n",
       "      <td>NaN</td>\n",
       "      <td>Clostridium</td>\n",
       "      <td>NaN</td>\n",
       "      <td>0.0</td>\n",
       "    </tr>\n",
       "    <tr>\n",
       "      <th>12KD_MYCSM</th>\n",
       "      <td>P80438</td>\n",
       "      <td>24.0</td>\n",
       "      <td>MFHVLTLTYLCPLDVVXQTRPAHV</td>\n",
       "      <td>RecName: Full=12 kDa protein; Flags: Fragment;</td>\n",
       "      <td>NaN</td>\n",
       "      <td>NaN</td>\n",
       "      <td>NaN</td>\n",
       "      <td>NaN</td>\n",
       "      <td>NaN</td>\n",
       "      <td>NaN</td>\n",
       "      <td>...</td>\n",
       "      <td>Bacteria</td>\n",
       "      <td>NaN</td>\n",
       "      <td>Actinobacteria</td>\n",
       "      <td>Actinobacteria</td>\n",
       "      <td>Corynebacteriales</td>\n",
       "      <td>Mycobacteriaceae</td>\n",
       "      <td>NaN</td>\n",
       "      <td>Mycolicibacterium</td>\n",
       "      <td>NaN</td>\n",
       "      <td>0.0</td>\n",
       "    </tr>\n",
       "    <tr>\n",
       "      <th>12OLP_LISIN</th>\n",
       "      <td>Q92AT0</td>\n",
       "      <td>1086.0</td>\n",
       "      <td>MTMLKEIKKADLSAAFYPSGELAWLKLKDIMLNQVIQNPLENRLSQ...</td>\n",
       "      <td>RecName: Full=1,2-beta-oligoglucan phosphoryla...</td>\n",
       "      <td>IPR008928||IPR012341||IPR033432</td>\n",
       "      <td>GO:0016740</td>\n",
       "      <td>K21298</td>\n",
       "      <td>1.50.10.10</td>\n",
       "      <td>PF17167</td>\n",
       "      <td>lin:lin1839</td>\n",
       "      <td>...</td>\n",
       "      <td>Bacteria</td>\n",
       "      <td>NaN</td>\n",
       "      <td>Firmicutes</td>\n",
       "      <td>Bacilli</td>\n",
       "      <td>Bacillales</td>\n",
       "      <td>Listeriaceae</td>\n",
       "      <td>NaN</td>\n",
       "      <td>Listeria</td>\n",
       "      <td>NaN</td>\n",
       "      <td>NaN</td>\n",
       "    </tr>\n",
       "    <tr>\n",
       "      <th>12S_PROFR</th>\n",
       "      <td>Q8GBW6||Q05617</td>\n",
       "      <td>611.0</td>\n",
       "      <td>MAENNNLKLASTMEGRVEQLAEQRQVIEAGGGERRVEKQHSQGKQT...</td>\n",
       "      <td>RecName: Full=Methylmalonyl-CoA carboxyltransf...</td>\n",
       "      <td>IPR034733||IPR000438||IPR029045||IPR011763||IP...</td>\n",
       "      <td>GO:0009317||GO:0003989||GO:0047154||GO:0006633</td>\n",
       "      <td>NaN</td>\n",
       "      <td>NaN</td>\n",
       "      <td>PF01039</td>\n",
       "      <td>NaN</td>\n",
       "      <td>...</td>\n",
       "      <td>Bacteria</td>\n",
       "      <td>NaN</td>\n",
       "      <td>Actinobacteria</td>\n",
       "      <td>Actinobacteria</td>\n",
       "      <td>Propionibacteriales</td>\n",
       "      <td>Propionibacteriaceae</td>\n",
       "      <td>NaN</td>\n",
       "      <td>Propionibacterium</td>\n",
       "      <td>NaN</td>\n",
       "      <td>0.0</td>\n",
       "    </tr>\n",
       "    <tr>\n",
       "      <th>14KD_MYCBO</th>\n",
       "      <td>P0A5B8||A0A1R3Y251||P30223||X2BJK6</td>\n",
       "      <td>144.0</td>\n",
       "      <td>MATTLPVQRHPRSLFPEFSELFAAFPSFAGLRPTFDTRLMRLEDEM...</td>\n",
       "      <td>RecName: Full=14 kDa antigen; AltName: Full=16...</td>\n",
       "      <td>IPR002068||IPR008978</td>\n",
       "      <td>GO:0005618||GO:0005576</td>\n",
       "      <td>NaN</td>\n",
       "      <td>2.60.40.790</td>\n",
       "      <td>PF00011</td>\n",
       "      <td>NaN</td>\n",
       "      <td>...</td>\n",
       "      <td>Bacteria</td>\n",
       "      <td>NaN</td>\n",
       "      <td>Actinobacteria</td>\n",
       "      <td>Actinobacteria</td>\n",
       "      <td>Corynebacteriales</td>\n",
       "      <td>Mycobacteriaceae</td>\n",
       "      <td>NaN</td>\n",
       "      <td>Mycobacterium</td>\n",
       "      <td>NaN</td>\n",
       "      <td>0.0</td>\n",
       "    </tr>\n",
       "  </tbody>\n",
       "</table>\n",
       "<p>5 rows × 23 columns</p>\n",
       "</div>"
      ],
      "text/plain": [
       "                                     accessions  sequence_length  \\\n",
       "entry_name                                                         \n",
       "12AH_CLOS4                               P21215             29.0   \n",
       "12KD_MYCSM                               P80438             24.0   \n",
       "12OLP_LISIN                              Q92AT0           1086.0   \n",
       "12S_PROFR                        Q8GBW6||Q05617            611.0   \n",
       "14KD_MYCBO   P0A5B8||A0A1R3Y251||P30223||X2BJK6            144.0   \n",
       "\n",
       "                                                      sequence  \\\n",
       "entry_name                                                       \n",
       "12AH_CLOS4                       MIFDGKVAIITGGGKAKSIGYGIAVAYAK   \n",
       "12KD_MYCSM                            MFHVLTLTYLCPLDVVXQTRPAHV   \n",
       "12OLP_LISIN  MTMLKEIKKADLSAAFYPSGELAWLKLKDIMLNQVIQNPLENRLSQ...   \n",
       "12S_PROFR    MAENNNLKLASTMEGRVEQLAEQRQVIEAGGGERRVEKQHSQGKQT...   \n",
       "14KD_MYCBO   MATTLPVQRHPRSLFPEFSELFAAFPSFAGLRPTFDTRLMRLEDEM...   \n",
       "\n",
       "                                                   description  \\\n",
       "entry_name                                                       \n",
       "12AH_CLOS4   RecName: Full=12-alpha-hydroxysteroid dehydrog...   \n",
       "12KD_MYCSM      RecName: Full=12 kDa protein; Flags: Fragment;   \n",
       "12OLP_LISIN  RecName: Full=1,2-beta-oligoglucan phosphoryla...   \n",
       "12S_PROFR    RecName: Full=Methylmalonyl-CoA carboxyltransf...   \n",
       "14KD_MYCBO   RecName: Full=14 kDa antigen; AltName: Full=16...   \n",
       "\n",
       "                                                      InterPro  \\\n",
       "entry_name                                                       \n",
       "12AH_CLOS4                                           IPR036291   \n",
       "12KD_MYCSM                                                 NaN   \n",
       "12OLP_LISIN                    IPR008928||IPR012341||IPR033432   \n",
       "12S_PROFR    IPR034733||IPR000438||IPR029045||IPR011763||IP...   \n",
       "14KD_MYCBO                                IPR002068||IPR008978   \n",
       "\n",
       "                                                         GO      KO  \\\n",
       "entry_name                                                            \n",
       "12AH_CLOS4               GO:0047013||GO:0030573||GO:0016042     NaN   \n",
       "12KD_MYCSM                                              NaN     NaN   \n",
       "12OLP_LISIN                                      GO:0016740  K21298   \n",
       "12S_PROFR    GO:0009317||GO:0003989||GO:0047154||GO:0006633     NaN   \n",
       "14KD_MYCBO                           GO:0005618||GO:0005576     NaN   \n",
       "\n",
       "                  Gene3D     Pfam         KEGG  ... Superkingdom Kingdom  \\\n",
       "entry_name                                      ...                        \n",
       "12AH_CLOS4           NaN      NaN          NaN  ...     Bacteria     NaN   \n",
       "12KD_MYCSM           NaN      NaN          NaN  ...     Bacteria     NaN   \n",
       "12OLP_LISIN   1.50.10.10  PF17167  lin:lin1839  ...     Bacteria     NaN   \n",
       "12S_PROFR            NaN  PF01039          NaN  ...     Bacteria     NaN   \n",
       "14KD_MYCBO   2.60.40.790  PF00011          NaN  ...     Bacteria     NaN   \n",
       "\n",
       "                     Phylum           Class                Order  \\\n",
       "entry_name                                                         \n",
       "12AH_CLOS4       Firmicutes      Clostridia        Clostridiales   \n",
       "12KD_MYCSM   Actinobacteria  Actinobacteria    Corynebacteriales   \n",
       "12OLP_LISIN      Firmicutes         Bacilli           Bacillales   \n",
       "12S_PROFR    Actinobacteria  Actinobacteria  Propionibacteriales   \n",
       "14KD_MYCBO   Actinobacteria  Actinobacteria    Corynebacteriales   \n",
       "\n",
       "                           Family Subfamily              Genus Species  \\\n",
       "entry_name                                                               \n",
       "12AH_CLOS4         Clostridiaceae       NaN        Clostridium     NaN   \n",
       "12KD_MYCSM       Mycobacteriaceae       NaN  Mycolicibacterium     NaN   \n",
       "12OLP_LISIN          Listeriaceae       NaN           Listeria     NaN   \n",
       "12S_PROFR    Propionibacteriaceae       NaN  Propionibacterium     NaN   \n",
       "14KD_MYCBO       Mycobacteriaceae       NaN      Mycobacterium     NaN   \n",
       "\n",
       "            Transmembrane  \n",
       "entry_name                 \n",
       "12AH_CLOS4            0.0  \n",
       "12KD_MYCSM            0.0  \n",
       "12OLP_LISIN           NaN  \n",
       "12S_PROFR             0.0  \n",
       "14KD_MYCBO            0.0  \n",
       "\n",
       "[5 rows x 23 columns]"
      ]
     },
     "execution_count": 3,
     "metadata": {},
     "output_type": "execute_result"
    }
   ],
   "source": [
    "swiss_df = pd.read_hdf('../data/bacterial_swissprot.h5')\n",
    "swiss_df.head()"
   ]
  },
  {
   "cell_type": "code",
   "execution_count": 4,
   "metadata": {},
   "outputs": [
    {
     "data": {
      "text/html": [
       "<div>\n",
       "<style scoped>\n",
       "    .dataframe tbody tr th:only-of-type {\n",
       "        vertical-align: middle;\n",
       "    }\n",
       "\n",
       "    .dataframe tbody tr th {\n",
       "        vertical-align: top;\n",
       "    }\n",
       "\n",
       "    .dataframe thead th {\n",
       "        text-align: right;\n",
       "    }\n",
       "</style>\n",
       "<table border=\"1\" class=\"dataframe\">\n",
       "  <thead>\n",
       "    <tr style=\"text-align: right;\">\n",
       "      <th></th>\n",
       "      <th>M</th>\n",
       "      <th>A</th>\n",
       "      <th>F</th>\n",
       "      <th>S</th>\n",
       "      <th>E</th>\n",
       "      <th>D</th>\n",
       "      <th>V</th>\n",
       "      <th>L</th>\n",
       "      <th>K</th>\n",
       "      <th>Y</th>\n",
       "      <th>R</th>\n",
       "      <th>P</th>\n",
       "      <th>N</th>\n",
       "      <th>W</th>\n",
       "      <th>Q</th>\n",
       "      <th>C</th>\n",
       "      <th>G</th>\n",
       "      <th>I</th>\n",
       "      <th>H</th>\n",
       "      <th>T</th>\n",
       "    </tr>\n",
       "    <tr>\n",
       "      <th>entry_name</th>\n",
       "      <th></th>\n",
       "      <th></th>\n",
       "      <th></th>\n",
       "      <th></th>\n",
       "      <th></th>\n",
       "      <th></th>\n",
       "      <th></th>\n",
       "      <th></th>\n",
       "      <th></th>\n",
       "      <th></th>\n",
       "      <th></th>\n",
       "      <th></th>\n",
       "      <th></th>\n",
       "      <th></th>\n",
       "      <th></th>\n",
       "      <th></th>\n",
       "      <th></th>\n",
       "      <th></th>\n",
       "      <th></th>\n",
       "      <th></th>\n",
       "    </tr>\n",
       "  </thead>\n",
       "  <tbody>\n",
       "    <tr>\n",
       "      <th>001R_FRG3G</th>\n",
       "      <td>0.023438</td>\n",
       "      <td>0.050781</td>\n",
       "      <td>0.031250</td>\n",
       "      <td>0.050781</td>\n",
       "      <td>0.058594</td>\n",
       "      <td>0.066406</td>\n",
       "      <td>0.082031</td>\n",
       "      <td>0.097656</td>\n",
       "      <td>0.113281</td>\n",
       "      <td>0.054688</td>\n",
       "      <td>0.058594</td>\n",
       "      <td>0.042969</td>\n",
       "      <td>0.031250</td>\n",
       "      <td>0.015625</td>\n",
       "      <td>0.035156</td>\n",
       "      <td>0.015625</td>\n",
       "      <td>0.058594</td>\n",
       "      <td>0.046875</td>\n",
       "      <td>0.035156</td>\n",
       "      <td>0.031250</td>\n",
       "    </tr>\n",
       "    <tr>\n",
       "      <th>002L_FRG3G</th>\n",
       "      <td>0.021875</td>\n",
       "      <td>0.081250</td>\n",
       "      <td>0.028125</td>\n",
       "      <td>0.068750</td>\n",
       "      <td>0.018750</td>\n",
       "      <td>0.075000</td>\n",
       "      <td>0.071875</td>\n",
       "      <td>0.043750</td>\n",
       "      <td>0.053125</td>\n",
       "      <td>0.034375</td>\n",
       "      <td>0.050000</td>\n",
       "      <td>0.115625</td>\n",
       "      <td>0.028125</td>\n",
       "      <td>0.018750</td>\n",
       "      <td>0.040625</td>\n",
       "      <td>0.056250</td>\n",
       "      <td>0.071875</td>\n",
       "      <td>0.031250</td>\n",
       "      <td>0.009375</td>\n",
       "      <td>0.081250</td>\n",
       "    </tr>\n",
       "    <tr>\n",
       "      <th>002R_IIV3</th>\n",
       "      <td>0.024017</td>\n",
       "      <td>0.032751</td>\n",
       "      <td>0.048035</td>\n",
       "      <td>0.080786</td>\n",
       "      <td>0.098253</td>\n",
       "      <td>0.102620</td>\n",
       "      <td>0.045852</td>\n",
       "      <td>0.074236</td>\n",
       "      <td>0.045852</td>\n",
       "      <td>0.045852</td>\n",
       "      <td>0.048035</td>\n",
       "      <td>0.054585</td>\n",
       "      <td>0.048035</td>\n",
       "      <td>0.032751</td>\n",
       "      <td>0.034934</td>\n",
       "      <td>0.013100</td>\n",
       "      <td>0.034934</td>\n",
       "      <td>0.052402</td>\n",
       "      <td>0.021834</td>\n",
       "      <td>0.061135</td>\n",
       "    </tr>\n",
       "    <tr>\n",
       "      <th>003L_IIV3</th>\n",
       "      <td>0.019231</td>\n",
       "      <td>0.064103</td>\n",
       "      <td>0.019231</td>\n",
       "      <td>0.096154</td>\n",
       "      <td>0.025641</td>\n",
       "      <td>0.032051</td>\n",
       "      <td>0.025641</td>\n",
       "      <td>0.076923</td>\n",
       "      <td>0.025641</td>\n",
       "      <td>0.051282</td>\n",
       "      <td>0.057692</td>\n",
       "      <td>0.128205</td>\n",
       "      <td>0.057692</td>\n",
       "      <td>0.012821</td>\n",
       "      <td>0.025641</td>\n",
       "      <td>0.051282</td>\n",
       "      <td>0.057692</td>\n",
       "      <td>0.038462</td>\n",
       "      <td>0.019231</td>\n",
       "      <td>0.115385</td>\n",
       "    </tr>\n",
       "    <tr>\n",
       "      <th>003R_FRG3G</th>\n",
       "      <td>0.061644</td>\n",
       "      <td>0.066210</td>\n",
       "      <td>0.045662</td>\n",
       "      <td>0.084475</td>\n",
       "      <td>0.031963</td>\n",
       "      <td>0.066210</td>\n",
       "      <td>0.121005</td>\n",
       "      <td>0.107306</td>\n",
       "      <td>0.043379</td>\n",
       "      <td>0.015982</td>\n",
       "      <td>0.047945</td>\n",
       "      <td>0.045662</td>\n",
       "      <td>0.038813</td>\n",
       "      <td>0.011416</td>\n",
       "      <td>0.029680</td>\n",
       "      <td>0.009132</td>\n",
       "      <td>0.059361</td>\n",
       "      <td>0.027397</td>\n",
       "      <td>0.022831</td>\n",
       "      <td>0.063927</td>\n",
       "    </tr>\n",
       "  </tbody>\n",
       "</table>\n",
       "</div>"
      ],
      "text/plain": [
       "                   M         A         F         S         E         D  \\\n",
       "entry_name                                                               \n",
       "001R_FRG3G  0.023438  0.050781  0.031250  0.050781  0.058594  0.066406   \n",
       "002L_FRG3G  0.021875  0.081250  0.028125  0.068750  0.018750  0.075000   \n",
       "002R_IIV3   0.024017  0.032751  0.048035  0.080786  0.098253  0.102620   \n",
       "003L_IIV3   0.019231  0.064103  0.019231  0.096154  0.025641  0.032051   \n",
       "003R_FRG3G  0.061644  0.066210  0.045662  0.084475  0.031963  0.066210   \n",
       "\n",
       "                   V         L         K         Y         R         P  \\\n",
       "entry_name                                                               \n",
       "001R_FRG3G  0.082031  0.097656  0.113281  0.054688  0.058594  0.042969   \n",
       "002L_FRG3G  0.071875  0.043750  0.053125  0.034375  0.050000  0.115625   \n",
       "002R_IIV3   0.045852  0.074236  0.045852  0.045852  0.048035  0.054585   \n",
       "003L_IIV3   0.025641  0.076923  0.025641  0.051282  0.057692  0.128205   \n",
       "003R_FRG3G  0.121005  0.107306  0.043379  0.015982  0.047945  0.045662   \n",
       "\n",
       "                   N         W         Q         C         G         I  \\\n",
       "entry_name                                                               \n",
       "001R_FRG3G  0.031250  0.015625  0.035156  0.015625  0.058594  0.046875   \n",
       "002L_FRG3G  0.028125  0.018750  0.040625  0.056250  0.071875  0.031250   \n",
       "002R_IIV3   0.048035  0.032751  0.034934  0.013100  0.034934  0.052402   \n",
       "003L_IIV3   0.057692  0.012821  0.025641  0.051282  0.057692  0.038462   \n",
       "003R_FRG3G  0.038813  0.011416  0.029680  0.009132  0.059361  0.027397   \n",
       "\n",
       "                   H         T  \n",
       "entry_name                      \n",
       "001R_FRG3G  0.035156  0.031250  \n",
       "002L_FRG3G  0.009375  0.081250  \n",
       "002R_IIV3   0.021834  0.061135  \n",
       "003L_IIV3   0.019231  0.115385  \n",
       "003R_FRG3G  0.022831  0.063927  "
      ]
     },
     "execution_count": 4,
     "metadata": {},
     "output_type": "execute_result"
    }
   ],
   "source": [
    "embed_df = pd.read_hdf(embeddings_path)\n",
    "embedding_columns = embed_df.columns\n",
    "\n",
    "embed_df.head()"
   ]
  },
  {
   "cell_type": "code",
   "execution_count": 5,
   "metadata": {},
   "outputs": [],
   "source": [
    "swiss_df = swiss_df.join(embed_df)"
   ]
  },
  {
   "cell_type": "markdown",
   "metadata": {},
   "source": [
    "## Helpers"
   ]
  },
  {
   "cell_type": "code",
   "execution_count": 6,
   "metadata": {
    "ExecuteTime": {
     "end_time": "2020-03-13T12:16:35.716553Z",
     "start_time": "2020-03-13T12:16:35.710813Z"
    }
   },
   "outputs": [],
   "source": [
    "def calculate_iou(ground_truth, predictions):\n",
    "    predictions_counts = pd.Series(predictions).value_counts()\n",
    "    len_ground_truth = len(ground_truth)\n",
    "    \n",
    "    # take all values that are equally popular as the last value - we break ties in this manner\n",
    "    most_popular_values = predictions_counts.loc[\n",
    "        predictions_counts >= predictions_counts.iloc[\n",
    "            min(len_ground_truth-1, len(predictions_counts)-1)\n",
    "        ]\n",
    "    ].index\n",
    "    \n",
    "    intersection = set(most_popular_values).intersection(set(ground_truth))\n",
    "    union = set(most_popular_values).union(set(ground_truth))\n",
    "    return len(intersection) / len(union)\n",
    "\n",
    "def calculate_metric(neighbors, train_y, test_y, metric_function):\n",
    "    neighbor_labels = train_y.values[neighbors]\n",
    "\n",
    "    labels_df = (\n",
    "        pd.DataFrame(neighbor_labels, index=test_y.index)\n",
    "            .sum(axis=1)\n",
    "            .rename('neighbors_labels')\n",
    "            .to_frame()\n",
    "    )\n",
    "    \n",
    "    labels_df = labels_df.merge(test_y, left_index=True, right_index=True)\n",
    "    \n",
    "    return labels_df.apply(lambda x: metric_function(x[1], x[0]), axis=1)"
   ]
  },
  {
   "cell_type": "markdown",
   "metadata": {},
   "source": [
    "## Cross-validation for all annotations "
   ]
  },
  {
   "cell_type": "code",
   "execution_count": 7,
   "metadata": {},
   "outputs": [
    {
     "data": {
      "text/html": [
       "<div>\n",
       "<style scoped>\n",
       "    .dataframe tbody tr th:only-of-type {\n",
       "        vertical-align: middle;\n",
       "    }\n",
       "\n",
       "    .dataframe tbody tr th {\n",
       "        vertical-align: top;\n",
       "    }\n",
       "\n",
       "    .dataframe thead th {\n",
       "        text-align: right;\n",
       "    }\n",
       "</style>\n",
       "<table border=\"1\" class=\"dataframe\">\n",
       "  <thead>\n",
       "    <tr style=\"text-align: right;\">\n",
       "      <th></th>\n",
       "      <th>Phylum</th>\n",
       "      <th>Order</th>\n",
       "      <th>Family</th>\n",
       "      <th>Genus</th>\n",
       "      <th>SUPFAM</th>\n",
       "      <th>Gene3D</th>\n",
       "      <th>InterPro</th>\n",
       "      <th>KO</th>\n",
       "      <th>GO</th>\n",
       "      <th>eggNOG</th>\n",
       "      <th>Pfam</th>\n",
       "      <th>EC number</th>\n",
       "    </tr>\n",
       "    <tr>\n",
       "      <th>entry_name</th>\n",
       "      <th></th>\n",
       "      <th></th>\n",
       "      <th></th>\n",
       "      <th></th>\n",
       "      <th></th>\n",
       "      <th></th>\n",
       "      <th></th>\n",
       "      <th></th>\n",
       "      <th></th>\n",
       "      <th></th>\n",
       "      <th></th>\n",
       "      <th></th>\n",
       "    </tr>\n",
       "  </thead>\n",
       "  <tbody>\n",
       "    <tr>\n",
       "      <th>12AH_CLOS4</th>\n",
       "      <td>Firmicutes</td>\n",
       "      <td>Clostridiales</td>\n",
       "      <td>Clostridiaceae</td>\n",
       "      <td>Clostridium</td>\n",
       "      <td>SSF51735</td>\n",
       "      <td>NaN</td>\n",
       "      <td>IPR036291</td>\n",
       "      <td>NaN</td>\n",
       "      <td>GO:0047013||GO:0030573||GO:0016042</td>\n",
       "      <td>NaN</td>\n",
       "      <td>NaN</td>\n",
       "      <td>1.1.1.176</td>\n",
       "    </tr>\n",
       "    <tr>\n",
       "      <th>12KD_MYCSM</th>\n",
       "      <td>Actinobacteria</td>\n",
       "      <td>Corynebacteriales</td>\n",
       "      <td>Mycobacteriaceae</td>\n",
       "      <td>Mycolicibacterium</td>\n",
       "      <td>NaN</td>\n",
       "      <td>NaN</td>\n",
       "      <td>NaN</td>\n",
       "      <td>NaN</td>\n",
       "      <td>NaN</td>\n",
       "      <td>NaN</td>\n",
       "      <td>NaN</td>\n",
       "      <td>NaN</td>\n",
       "    </tr>\n",
       "    <tr>\n",
       "      <th>12OLP_LISIN</th>\n",
       "      <td>Firmicutes</td>\n",
       "      <td>Bacillales</td>\n",
       "      <td>Listeriaceae</td>\n",
       "      <td>Listeria</td>\n",
       "      <td>SSF48208</td>\n",
       "      <td>1.50.10.10</td>\n",
       "      <td>IPR008928||IPR012341||IPR033432</td>\n",
       "      <td>K21298</td>\n",
       "      <td>GO:0016740</td>\n",
       "      <td>ENOG4107T40||COG3459</td>\n",
       "      <td>PF17167</td>\n",
       "      <td>2.4.1.333</td>\n",
       "    </tr>\n",
       "    <tr>\n",
       "      <th>12S_PROFR</th>\n",
       "      <td>Actinobacteria</td>\n",
       "      <td>Propionibacteriales</td>\n",
       "      <td>Propionibacteriaceae</td>\n",
       "      <td>Propionibacterium</td>\n",
       "      <td>SSF52096</td>\n",
       "      <td>NaN</td>\n",
       "      <td>IPR034733||IPR000438||IPR029045||IPR011763||IP...</td>\n",
       "      <td>NaN</td>\n",
       "      <td>GO:0009317||GO:0003989||GO:0047154||GO:0006633</td>\n",
       "      <td>ENOG4107QX3||COG4799</td>\n",
       "      <td>PF01039</td>\n",
       "      <td>2.1.3.1</td>\n",
       "    </tr>\n",
       "    <tr>\n",
       "      <th>14KD_MYCBO</th>\n",
       "      <td>Actinobacteria</td>\n",
       "      <td>Corynebacteriales</td>\n",
       "      <td>Mycobacteriaceae</td>\n",
       "      <td>Mycobacterium</td>\n",
       "      <td>SSF49764</td>\n",
       "      <td>2.60.40.790</td>\n",
       "      <td>IPR002068||IPR008978</td>\n",
       "      <td>NaN</td>\n",
       "      <td>GO:0005618||GO:0005576</td>\n",
       "      <td>NaN</td>\n",
       "      <td>PF00011</td>\n",
       "      <td>NaN</td>\n",
       "    </tr>\n",
       "  </tbody>\n",
       "</table>\n",
       "</div>"
      ],
      "text/plain": [
       "                     Phylum                Order                Family  \\\n",
       "entry_name                                                               \n",
       "12AH_CLOS4       Firmicutes        Clostridiales        Clostridiaceae   \n",
       "12KD_MYCSM   Actinobacteria    Corynebacteriales      Mycobacteriaceae   \n",
       "12OLP_LISIN      Firmicutes           Bacillales          Listeriaceae   \n",
       "12S_PROFR    Actinobacteria  Propionibacteriales  Propionibacteriaceae   \n",
       "14KD_MYCBO   Actinobacteria    Corynebacteriales      Mycobacteriaceae   \n",
       "\n",
       "                         Genus    SUPFAM       Gene3D  \\\n",
       "entry_name                                              \n",
       "12AH_CLOS4         Clostridium  SSF51735          NaN   \n",
       "12KD_MYCSM   Mycolicibacterium       NaN          NaN   \n",
       "12OLP_LISIN           Listeria  SSF48208   1.50.10.10   \n",
       "12S_PROFR    Propionibacterium  SSF52096          NaN   \n",
       "14KD_MYCBO       Mycobacterium  SSF49764  2.60.40.790   \n",
       "\n",
       "                                                      InterPro      KO  \\\n",
       "entry_name                                                               \n",
       "12AH_CLOS4                                           IPR036291     NaN   \n",
       "12KD_MYCSM                                                 NaN     NaN   \n",
       "12OLP_LISIN                    IPR008928||IPR012341||IPR033432  K21298   \n",
       "12S_PROFR    IPR034733||IPR000438||IPR029045||IPR011763||IP...     NaN   \n",
       "14KD_MYCBO                                IPR002068||IPR008978     NaN   \n",
       "\n",
       "                                                         GO  \\\n",
       "entry_name                                                    \n",
       "12AH_CLOS4               GO:0047013||GO:0030573||GO:0016042   \n",
       "12KD_MYCSM                                              NaN   \n",
       "12OLP_LISIN                                      GO:0016740   \n",
       "12S_PROFR    GO:0009317||GO:0003989||GO:0047154||GO:0006633   \n",
       "14KD_MYCBO                           GO:0005618||GO:0005576   \n",
       "\n",
       "                           eggNOG     Pfam  EC number  \n",
       "entry_name                                             \n",
       "12AH_CLOS4                    NaN      NaN  1.1.1.176  \n",
       "12KD_MYCSM                    NaN      NaN        NaN  \n",
       "12OLP_LISIN  ENOG4107T40||COG3459  PF17167  2.4.1.333  \n",
       "12S_PROFR    ENOG4107QX3||COG4799  PF01039    2.1.3.1  \n",
       "14KD_MYCBO                    NaN  PF00011        NaN  "
      ]
     },
     "execution_count": 7,
     "metadata": {},
     "output_type": "execute_result"
    }
   ],
   "source": [
    "ks = [3, 15, 51]\n",
    "n_repeats = 10\n",
    "n_folds = 5\n",
    "random_state_seed=0\n",
    "\n",
    "annotations = [\n",
    "    'Phylum',\n",
    "    'Order',\n",
    "    'Family',\n",
    "    'Genus',\n",
    "    'SUPFAM',\n",
    "    'Gene3D',\n",
    "    'InterPro',\n",
    "    'KO',\n",
    "    'GO',\n",
    "    'eggNOG',\n",
    "    'Pfam',\n",
    "    'EC number'\n",
    "]\n",
    "swiss_df[annotations].head()"
   ]
  },
  {
   "cell_type": "code",
   "execution_count": 8,
   "metadata": {},
   "outputs": [
    {
     "name": "stderr",
     "output_type": "stream",
     "text": [
      "  0%|          | 0/12 [00:00<?, ?it/s]"
     ]
    },
    {
     "name": "stdout",
     "output_type": "stream",
     "text": [
      "Phylum\n"
     ]
    },
    {
     "name": "stderr",
     "output_type": "stream",
     "text": [
      "\n",
      "  0%|          | 0/5 [00:00<?, ?it/s]\u001b[A"
     ]
    },
    {
     "name": "stdout",
     "output_type": "stream",
     "text": [
      "Phylum for k=3: 0.7627\n",
      "Phylum for k=15: 0.7342\n",
      "Phylum for k=51: 0.6877\n"
     ]
    },
    {
     "name": "stderr",
     "output_type": "stream",
     "text": [
      "\n",
      " 20%|██        | 1/5 [02:44<10:58, 164.68s/it]\u001b[A"
     ]
    },
    {
     "name": "stdout",
     "output_type": "stream",
     "text": [
      "Phylum for k=3: 0.7624\n",
      "Phylum for k=15: 0.7319\n",
      "Phylum for k=51: 0.6863\n"
     ]
    },
    {
     "name": "stderr",
     "output_type": "stream",
     "text": [
      "\n",
      " 40%|████      | 2/5 [05:03<07:27, 149.21s/it]\u001b[A"
     ]
    },
    {
     "name": "stdout",
     "output_type": "stream",
     "text": [
      "Phylum for k=3: 0.7650\n",
      "Phylum for k=15: 0.7343\n",
      "Phylum for k=51: 0.6871\n"
     ]
    },
    {
     "name": "stderr",
     "output_type": "stream",
     "text": [
      "\n",
      " 60%|██████    | 3/5 [07:23<04:50, 145.13s/it]\u001b[A"
     ]
    },
    {
     "name": "stdout",
     "output_type": "stream",
     "text": [
      "Phylum for k=3: 0.7615\n",
      "Phylum for k=15: 0.7326\n",
      "Phylum for k=51: 0.6845\n"
     ]
    },
    {
     "name": "stderr",
     "output_type": "stream",
     "text": [
      "\n",
      " 80%|████████  | 4/5 [09:51<02:26, 146.36s/it]\u001b[A"
     ]
    },
    {
     "name": "stdout",
     "output_type": "stream",
     "text": [
      "Phylum for k=3: 0.7659\n",
      "Phylum for k=15: 0.7327\n",
      "Phylum for k=51: 0.6874\n"
     ]
    },
    {
     "name": "stderr",
     "output_type": "stream",
     "text": [
      "\n",
      "100%|██████████| 5/5 [12:22<00:00, 148.59s/it]\u001b[A\n",
      "\n",
      "  0%|          | 0/5 [00:00<?, ?it/s]\u001b[A"
     ]
    },
    {
     "name": "stdout",
     "output_type": "stream",
     "text": [
      "Phylum for k=3: 0.7646\n",
      "Phylum for k=15: 0.7343\n",
      "Phylum for k=51: 0.6885\n"
     ]
    },
    {
     "name": "stderr",
     "output_type": "stream",
     "text": [
      "\n",
      " 20%|██        | 1/5 [02:23<09:34, 143.63s/it]\u001b[A"
     ]
    },
    {
     "name": "stdout",
     "output_type": "stream",
     "text": [
      "Phylum for k=3: 0.7624\n",
      "Phylum for k=15: 0.7298\n",
      "Phylum for k=51: 0.6848\n"
     ]
    },
    {
     "name": "stderr",
     "output_type": "stream",
     "text": [
      "\n",
      " 40%|████      | 2/5 [04:42<07:02, 140.79s/it]\u001b[A"
     ]
    },
    {
     "name": "stdout",
     "output_type": "stream",
     "text": [
      "Phylum for k=3: 0.7633\n",
      "Phylum for k=15: 0.7330\n",
      "Phylum for k=51: 0.6881\n"
     ]
    },
    {
     "name": "stderr",
     "output_type": "stream",
     "text": [
      "\n",
      " 60%|██████    | 3/5 [07:02<04:41, 140.57s/it]\u001b[A"
     ]
    },
    {
     "name": "stdout",
     "output_type": "stream",
     "text": [
      "Phylum for k=3: 0.7643\n",
      "Phylum for k=15: 0.7339\n",
      "Phylum for k=51: 0.6872\n"
     ]
    },
    {
     "name": "stderr",
     "output_type": "stream",
     "text": [
      "\n",
      " 80%|████████  | 4/5 [09:29<02:23, 143.10s/it]\u001b[A"
     ]
    },
    {
     "name": "stdout",
     "output_type": "stream",
     "text": [
      "Phylum for k=3: 0.7628\n",
      "Phylum for k=15: 0.7327\n",
      "Phylum for k=51: 0.6875\n"
     ]
    },
    {
     "name": "stderr",
     "output_type": "stream",
     "text": [
      "\n",
      "100%|██████████| 5/5 [11:52<00:00, 142.53s/it]\u001b[A\n",
      "\n",
      "  0%|          | 0/5 [00:00<?, ?it/s]\u001b[A"
     ]
    },
    {
     "name": "stdout",
     "output_type": "stream",
     "text": [
      "Phylum for k=3: 0.7639\n",
      "Phylum for k=15: 0.7293\n",
      "Phylum for k=51: 0.6818\n"
     ]
    },
    {
     "name": "stderr",
     "output_type": "stream",
     "text": [
      "\n",
      " 20%|██        | 1/5 [02:16<09:04, 136.24s/it]\u001b[A"
     ]
    },
    {
     "name": "stdout",
     "output_type": "stream",
     "text": [
      "Phylum for k=3: 0.7639\n",
      "Phylum for k=15: 0.7350\n",
      "Phylum for k=51: 0.6885\n"
     ]
    },
    {
     "name": "stderr",
     "output_type": "stream",
     "text": [
      "\n",
      " 40%|████      | 2/5 [04:51<07:21, 147.33s/it]\u001b[A"
     ]
    },
    {
     "name": "stdout",
     "output_type": "stream",
     "text": [
      "Phylum for k=3: 0.7668\n",
      "Phylum for k=15: 0.7359\n",
      "Phylum for k=51: 0.6905\n"
     ]
    },
    {
     "name": "stderr",
     "output_type": "stream",
     "text": [
      "\n",
      " 60%|██████    | 3/5 [07:06<04:43, 141.60s/it]\u001b[A"
     ]
    },
    {
     "name": "stdout",
     "output_type": "stream",
     "text": [
      "Phylum for k=3: 0.7588\n",
      "Phylum for k=15: 0.7306\n",
      "Phylum for k=51: 0.6848\n"
     ]
    },
    {
     "name": "stderr",
     "output_type": "stream",
     "text": [
      "\n",
      " 80%|████████  | 4/5 [09:29<02:22, 142.27s/it]\u001b[A"
     ]
    },
    {
     "name": "stdout",
     "output_type": "stream",
     "text": [
      "Phylum for k=3: 0.7654\n",
      "Phylum for k=15: 0.7350\n",
      "Phylum for k=51: 0.6897\n"
     ]
    },
    {
     "name": "stderr",
     "output_type": "stream",
     "text": [
      "\n",
      "100%|██████████| 5/5 [11:56<00:00, 143.23s/it]\u001b[A\n",
      "\n",
      "  0%|          | 0/5 [00:00<?, ?it/s]\u001b[A"
     ]
    },
    {
     "name": "stdout",
     "output_type": "stream",
     "text": [
      "Phylum for k=3: 0.7653\n",
      "Phylum for k=15: 0.7359\n",
      "Phylum for k=51: 0.6902\n"
     ]
    },
    {
     "name": "stderr",
     "output_type": "stream",
     "text": [
      "\n",
      " 20%|██        | 1/5 [02:20<09:21, 140.47s/it]\u001b[A"
     ]
    },
    {
     "name": "stdout",
     "output_type": "stream",
     "text": [
      "Phylum for k=3: 0.7620\n",
      "Phylum for k=15: 0.7331\n",
      "Phylum for k=51: 0.6866\n"
     ]
    },
    {
     "name": "stderr",
     "output_type": "stream",
     "text": [
      "\n",
      " 40%|████      | 2/5 [04:42<07:03, 141.19s/it]\u001b[A"
     ]
    },
    {
     "name": "stdout",
     "output_type": "stream",
     "text": [
      "Phylum for k=3: 0.7632\n",
      "Phylum for k=15: 0.7311\n",
      "Phylum for k=51: 0.6839\n"
     ]
    },
    {
     "name": "stderr",
     "output_type": "stream",
     "text": [
      "\n",
      " 60%|██████    | 3/5 [07:06<04:45, 142.56s/it]\u001b[A"
     ]
    },
    {
     "name": "stdout",
     "output_type": "stream",
     "text": [
      "Phylum for k=3: 0.7629\n",
      "Phylum for k=15: 0.7313\n",
      "Phylum for k=51: 0.6866\n"
     ]
    },
    {
     "name": "stderr",
     "output_type": "stream",
     "text": [
      "\n",
      " 80%|████████  | 4/5 [09:27<02:22, 142.10s/it]\u001b[A"
     ]
    },
    {
     "name": "stdout",
     "output_type": "stream",
     "text": [
      "Phylum for k=3: 0.7638\n",
      "Phylum for k=15: 0.7361\n",
      "Phylum for k=51: 0.6877\n"
     ]
    },
    {
     "name": "stderr",
     "output_type": "stream",
     "text": [
      "\n",
      "100%|██████████| 5/5 [11:53<00:00, 142.62s/it]\u001b[A\n",
      "\n",
      "  0%|          | 0/5 [00:00<?, ?it/s]\u001b[A"
     ]
    },
    {
     "name": "stdout",
     "output_type": "stream",
     "text": [
      "Phylum for k=3: 0.7643\n",
      "Phylum for k=15: 0.7345\n",
      "Phylum for k=51: 0.6910\n"
     ]
    },
    {
     "name": "stderr",
     "output_type": "stream",
     "text": [
      "\n",
      " 20%|██        | 1/5 [02:29<09:58, 149.65s/it]\u001b[A"
     ]
    },
    {
     "name": "stdout",
     "output_type": "stream",
     "text": [
      "Phylum for k=3: 0.7633\n",
      "Phylum for k=15: 0.7314\n",
      "Phylum for k=51: 0.6854\n"
     ]
    },
    {
     "name": "stderr",
     "output_type": "stream",
     "text": [
      "\n",
      " 40%|████      | 2/5 [04:49<07:10, 143.65s/it]\u001b[A"
     ]
    },
    {
     "name": "stdout",
     "output_type": "stream",
     "text": [
      "Phylum for k=3: 0.7620\n",
      "Phylum for k=15: 0.7376\n",
      "Phylum for k=51: 0.6905\n"
     ]
    },
    {
     "name": "stderr",
     "output_type": "stream",
     "text": [
      "\n",
      " 60%|██████    | 3/5 [07:07<04:42, 141.32s/it]\u001b[A"
     ]
    },
    {
     "name": "stdout",
     "output_type": "stream",
     "text": [
      "Phylum for k=3: 0.7635\n",
      "Phylum for k=15: 0.7321\n",
      "Phylum for k=51: 0.6853\n"
     ]
    },
    {
     "name": "stderr",
     "output_type": "stream",
     "text": [
      "\n",
      " 80%|████████  | 4/5 [09:24<02:19, 139.69s/it]\u001b[A"
     ]
    },
    {
     "name": "stdout",
     "output_type": "stream",
     "text": [
      "Phylum for k=3: 0.7612\n",
      "Phylum for k=15: 0.7306\n",
      "Phylum for k=51: 0.6823\n"
     ]
    },
    {
     "name": "stderr",
     "output_type": "stream",
     "text": [
      "\n",
      "100%|██████████| 5/5 [11:36<00:00, 139.38s/it]\u001b[A\n",
      "\n",
      "  0%|          | 0/5 [00:00<?, ?it/s]\u001b[A"
     ]
    },
    {
     "name": "stdout",
     "output_type": "stream",
     "text": [
      "Phylum for k=3: 0.7660\n",
      "Phylum for k=15: 0.7358\n",
      "Phylum for k=51: 0.6904\n"
     ]
    },
    {
     "name": "stderr",
     "output_type": "stream",
     "text": [
      "\n",
      " 20%|██        | 1/5 [02:11<08:44, 131.04s/it]\u001b[A"
     ]
    },
    {
     "name": "stdout",
     "output_type": "stream",
     "text": [
      "Phylum for k=3: 0.7637\n",
      "Phylum for k=15: 0.7322\n",
      "Phylum for k=51: 0.6865\n"
     ]
    },
    {
     "name": "stderr",
     "output_type": "stream",
     "text": [
      "\n",
      " 40%|████      | 2/5 [04:20<06:30, 130.12s/it]\u001b[A"
     ]
    },
    {
     "name": "stdout",
     "output_type": "stream",
     "text": [
      "Phylum for k=3: 0.7645\n",
      "Phylum for k=15: 0.7341\n",
      "Phylum for k=51: 0.6896\n"
     ]
    },
    {
     "name": "stderr",
     "output_type": "stream",
     "text": [
      "\n",
      " 60%|██████    | 3/5 [06:21<04:12, 126.09s/it]\u001b[A"
     ]
    },
    {
     "name": "stdout",
     "output_type": "stream",
     "text": [
      "Phylum for k=3: 0.7619\n",
      "Phylum for k=15: 0.7336\n",
      "Phylum for k=51: 0.6862\n"
     ]
    },
    {
     "name": "stderr",
     "output_type": "stream",
     "text": [
      "\n",
      " 80%|████████  | 4/5 [08:36<02:09, 129.47s/it]\u001b[A"
     ]
    },
    {
     "name": "stdout",
     "output_type": "stream",
     "text": [
      "Phylum for k=3: 0.7599\n",
      "Phylum for k=15: 0.7302\n",
      "Phylum for k=51: 0.6844\n"
     ]
    },
    {
     "name": "stderr",
     "output_type": "stream",
     "text": [
      "\n",
      "100%|██████████| 5/5 [10:48<00:00, 129.70s/it]\u001b[A\n",
      "\n",
      "  0%|          | 0/5 [00:00<?, ?it/s]\u001b[A"
     ]
    },
    {
     "name": "stdout",
     "output_type": "stream",
     "text": [
      "Phylum for k=3: 0.7648\n",
      "Phylum for k=15: 0.7329\n",
      "Phylum for k=51: 0.6862\n"
     ]
    },
    {
     "name": "stderr",
     "output_type": "stream",
     "text": [
      "\n",
      " 20%|██        | 1/5 [02:23<09:35, 143.79s/it]\u001b[A"
     ]
    },
    {
     "name": "stdout",
     "output_type": "stream",
     "text": [
      "Phylum for k=3: 0.7623\n",
      "Phylum for k=15: 0.7355\n",
      "Phylum for k=51: 0.6874\n"
     ]
    },
    {
     "name": "stderr",
     "output_type": "stream",
     "text": [
      "\n",
      " 40%|████      | 2/5 [04:41<07:00, 140.16s/it]\u001b[A"
     ]
    },
    {
     "name": "stdout",
     "output_type": "stream",
     "text": [
      "Phylum for k=3: 0.7634\n",
      "Phylum for k=15: 0.7346\n",
      "Phylum for k=51: 0.6882\n"
     ]
    },
    {
     "name": "stderr",
     "output_type": "stream",
     "text": [
      "\n",
      " 60%|██████    | 3/5 [07:07<04:45, 142.93s/it]\u001b[A"
     ]
    },
    {
     "name": "stdout",
     "output_type": "stream",
     "text": [
      "Phylum for k=3: 0.7621\n",
      "Phylum for k=15: 0.7306\n",
      "Phylum for k=51: 0.6871\n"
     ]
    },
    {
     "name": "stderr",
     "output_type": "stream",
     "text": [
      "\n",
      " 80%|████████  | 4/5 [09:30<02:23, 143.00s/it]\u001b[A"
     ]
    },
    {
     "name": "stdout",
     "output_type": "stream",
     "text": [
      "Phylum for k=3: 0.7637\n",
      "Phylum for k=15: 0.7325\n",
      "Phylum for k=51: 0.6878\n"
     ]
    },
    {
     "name": "stderr",
     "output_type": "stream",
     "text": [
      "\n",
      "100%|██████████| 5/5 [12:10<00:00, 146.08s/it]\u001b[A\n",
      "\n",
      "  0%|          | 0/5 [00:00<?, ?it/s]\u001b[A"
     ]
    },
    {
     "name": "stdout",
     "output_type": "stream",
     "text": [
      "Phylum for k=3: 0.7622\n",
      "Phylum for k=15: 0.7309\n",
      "Phylum for k=51: 0.6850\n"
     ]
    },
    {
     "name": "stderr",
     "output_type": "stream",
     "text": [
      "\n",
      " 20%|██        | 1/5 [02:26<09:44, 146.07s/it]\u001b[A"
     ]
    },
    {
     "name": "stdout",
     "output_type": "stream",
     "text": [
      "Phylum for k=3: 0.7614\n",
      "Phylum for k=15: 0.7331\n",
      "Phylum for k=51: 0.6886\n"
     ]
    },
    {
     "name": "stderr",
     "output_type": "stream",
     "text": [
      "\n",
      " 40%|████      | 2/5 [04:55<07:23, 147.84s/it]\u001b[A"
     ]
    },
    {
     "name": "stdout",
     "output_type": "stream",
     "text": [
      "Phylum for k=3: 0.7647\n",
      "Phylum for k=15: 0.7342\n",
      "Phylum for k=51: 0.6861\n"
     ]
    },
    {
     "name": "stderr",
     "output_type": "stream",
     "text": [
      "\n",
      " 60%|██████    | 3/5 [07:28<05:00, 150.35s/it]\u001b[A"
     ]
    },
    {
     "name": "stdout",
     "output_type": "stream",
     "text": [
      "Phylum for k=3: 0.7629\n",
      "Phylum for k=15: 0.7332\n",
      "Phylum for k=51: 0.6876\n"
     ]
    },
    {
     "name": "stderr",
     "output_type": "stream",
     "text": [
      "\n",
      " 80%|████████  | 4/5 [09:59<02:30, 150.60s/it]\u001b[A"
     ]
    },
    {
     "name": "stdout",
     "output_type": "stream",
     "text": [
      "Phylum for k=3: 0.7640\n",
      "Phylum for k=15: 0.7355\n",
      "Phylum for k=51: 0.6894\n"
     ]
    },
    {
     "name": "stderr",
     "output_type": "stream",
     "text": [
      "\n",
      "100%|██████████| 5/5 [12:33<00:00, 150.63s/it]\u001b[A\n",
      "\n",
      "  0%|          | 0/5 [00:00<?, ?it/s]\u001b[A"
     ]
    },
    {
     "name": "stdout",
     "output_type": "stream",
     "text": [
      "Phylum for k=3: 0.7617\n",
      "Phylum for k=15: 0.7338\n",
      "Phylum for k=51: 0.6903\n"
     ]
    },
    {
     "name": "stderr",
     "output_type": "stream",
     "text": [
      "\n",
      " 20%|██        | 1/5 [02:32<10:10, 152.52s/it]\u001b[A"
     ]
    },
    {
     "name": "stdout",
     "output_type": "stream",
     "text": [
      "Phylum for k=3: 0.7670\n",
      "Phylum for k=15: 0.7375\n",
      "Phylum for k=51: 0.6904\n"
     ]
    },
    {
     "name": "stderr",
     "output_type": "stream",
     "text": [
      "\n",
      " 40%|████      | 2/5 [05:03<07:34, 151.52s/it]\u001b[A"
     ]
    },
    {
     "name": "stdout",
     "output_type": "stream",
     "text": [
      "Phylum for k=3: 0.7611\n",
      "Phylum for k=15: 0.7300\n",
      "Phylum for k=51: 0.6826\n"
     ]
    },
    {
     "name": "stderr",
     "output_type": "stream",
     "text": [
      "\n",
      " 60%|██████    | 3/5 [07:37<05:05, 152.65s/it]\u001b[A"
     ]
    },
    {
     "name": "stdout",
     "output_type": "stream",
     "text": [
      "Phylum for k=3: 0.7653\n",
      "Phylum for k=15: 0.7342\n",
      "Phylum for k=51: 0.6875\n"
     ]
    },
    {
     "name": "stderr",
     "output_type": "stream",
     "text": [
      "\n",
      " 80%|████████  | 4/5 [10:08<02:31, 151.97s/it]\u001b[A"
     ]
    },
    {
     "name": "stdout",
     "output_type": "stream",
     "text": [
      "Phylum for k=3: 0.7652\n",
      "Phylum for k=15: 0.7311\n",
      "Phylum for k=51: 0.6840\n"
     ]
    },
    {
     "name": "stderr",
     "output_type": "stream",
     "text": [
      "\n",
      "100%|██████████| 5/5 [12:43<00:00, 152.60s/it]\u001b[A\n",
      "\n",
      "  0%|          | 0/5 [00:00<?, ?it/s]\u001b[A"
     ]
    },
    {
     "name": "stdout",
     "output_type": "stream",
     "text": [
      "Phylum for k=3: 0.7664\n",
      "Phylum for k=15: 0.7349\n",
      "Phylum for k=51: 0.6885\n"
     ]
    },
    {
     "name": "stderr",
     "output_type": "stream",
     "text": [
      "\n",
      " 20%|██        | 1/5 [02:35<10:23, 155.89s/it]\u001b[A"
     ]
    },
    {
     "name": "stdout",
     "output_type": "stream",
     "text": [
      "Phylum for k=3: 0.7625\n",
      "Phylum for k=15: 0.7332\n",
      "Phylum for k=51: 0.6870\n"
     ]
    },
    {
     "name": "stderr",
     "output_type": "stream",
     "text": [
      "\n",
      " 40%|████      | 2/5 [05:10<07:45, 155.17s/it]\u001b[A"
     ]
    },
    {
     "name": "stdout",
     "output_type": "stream",
     "text": [
      "Phylum for k=3: 0.7624\n",
      "Phylum for k=15: 0.7331\n",
      "Phylum for k=51: 0.6858\n"
     ]
    },
    {
     "name": "stderr",
     "output_type": "stream",
     "text": [
      "\n",
      " 60%|██████    | 3/5 [07:45<05:09, 154.92s/it]\u001b[A"
     ]
    },
    {
     "name": "stdout",
     "output_type": "stream",
     "text": [
      "Phylum for k=3: 0.7621\n",
      "Phylum for k=15: 0.7311\n",
      "Phylum for k=51: 0.6864\n"
     ]
    },
    {
     "name": "stderr",
     "output_type": "stream",
     "text": [
      "\n",
      " 80%|████████  | 4/5 [10:12<02:31, 151.75s/it]\u001b[A"
     ]
    },
    {
     "name": "stdout",
     "output_type": "stream",
     "text": [
      "Phylum for k=3: 0.7643\n",
      "Phylum for k=15: 0.7349\n",
      "Phylum for k=51: 0.6880\n"
     ]
    },
    {
     "name": "stderr",
     "output_type": "stream",
     "text": [
      "\n",
      "100%|██████████| 5/5 [12:36<00:00, 151.32s/it]\u001b[A\n",
      "  8%|▊         | 1/12 [2:00:33<22:06:09, 7233.56s/it]"
     ]
    },
    {
     "name": "stdout",
     "output_type": "stream",
     "text": [
      "Order\n"
     ]
    },
    {
     "name": "stderr",
     "output_type": "stream",
     "text": [
      "\n",
      "  0%|          | 0/5 [00:00<?, ?it/s]\u001b[A"
     ]
    },
    {
     "name": "stdout",
     "output_type": "stream",
     "text": [
      "Order for k=3: 0.5021\n",
      "Order for k=15: 0.4466\n",
      "Order for k=51: 0.3687\n"
     ]
    },
    {
     "name": "stderr",
     "output_type": "stream",
     "text": [
      "\n",
      " 20%|██        | 1/5 [02:26<09:47, 146.81s/it]\u001b[A"
     ]
    },
    {
     "name": "stdout",
     "output_type": "stream",
     "text": [
      "Order for k=3: 0.5038\n",
      "Order for k=15: 0.4474\n",
      "Order for k=51: 0.3674\n"
     ]
    },
    {
     "name": "stderr",
     "output_type": "stream",
     "text": [
      "\n",
      " 40%|████      | 2/5 [04:55<07:24, 148.04s/it]\u001b[A"
     ]
    },
    {
     "name": "stdout",
     "output_type": "stream",
     "text": [
      "Order for k=3: 0.5050\n",
      "Order for k=15: 0.4463\n",
      "Order for k=51: 0.3652\n"
     ]
    },
    {
     "name": "stderr",
     "output_type": "stream",
     "text": [
      "\n",
      " 60%|██████    | 3/5 [07:21<04:53, 146.85s/it]\u001b[A"
     ]
    },
    {
     "name": "stdout",
     "output_type": "stream",
     "text": [
      "Order for k=3: 0.5022\n",
      "Order for k=15: 0.4427\n",
      "Order for k=51: 0.3620\n"
     ]
    },
    {
     "name": "stderr",
     "output_type": "stream",
     "text": [
      "\n",
      " 80%|████████  | 4/5 [09:46<02:26, 146.38s/it]\u001b[A"
     ]
    },
    {
     "name": "stdout",
     "output_type": "stream",
     "text": [
      "Order for k=3: 0.5042\n",
      "Order for k=15: 0.4481\n",
      "Order for k=51: 0.3701\n"
     ]
    },
    {
     "name": "stderr",
     "output_type": "stream",
     "text": [
      "\n",
      "100%|██████████| 5/5 [12:07<00:00, 145.52s/it]\u001b[A\n",
      "\n",
      "  0%|          | 0/5 [00:00<?, ?it/s]\u001b[A"
     ]
    },
    {
     "name": "stdout",
     "output_type": "stream",
     "text": [
      "Order for k=3: 0.5007\n",
      "Order for k=15: 0.4439\n",
      "Order for k=51: 0.3661\n"
     ]
    },
    {
     "name": "stderr",
     "output_type": "stream",
     "text": [
      "\n",
      " 20%|██        | 1/5 [02:32<10:09, 152.34s/it]\u001b[A"
     ]
    },
    {
     "name": "stdout",
     "output_type": "stream",
     "text": [
      "Order for k=3: 0.5077\n",
      "Order for k=15: 0.4497\n",
      "Order for k=51: 0.3697\n"
     ]
    },
    {
     "name": "stderr",
     "output_type": "stream",
     "text": [
      "\n",
      " 40%|████      | 2/5 [04:56<07:22, 147.60s/it]\u001b[A"
     ]
    },
    {
     "name": "stdout",
     "output_type": "stream",
     "text": [
      "Order for k=3: 0.5025\n",
      "Order for k=15: 0.4448\n",
      "Order for k=51: 0.3659\n"
     ]
    },
    {
     "name": "stderr",
     "output_type": "stream",
     "text": [
      "\n",
      " 60%|██████    | 3/5 [07:20<04:52, 146.00s/it]\u001b[A"
     ]
    },
    {
     "name": "stdout",
     "output_type": "stream",
     "text": [
      "Order for k=3: 0.5001\n",
      "Order for k=15: 0.4431\n",
      "Order for k=51: 0.3655\n"
     ]
    },
    {
     "name": "stderr",
     "output_type": "stream",
     "text": [
      "\n",
      " 80%|████████  | 4/5 [09:50<02:27, 147.48s/it]\u001b[A"
     ]
    },
    {
     "name": "stdout",
     "output_type": "stream",
     "text": [
      "Order for k=3: 0.5083\n",
      "Order for k=15: 0.4488\n",
      "Order for k=51: 0.3662\n"
     ]
    },
    {
     "name": "stderr",
     "output_type": "stream",
     "text": [
      "\n",
      "100%|██████████| 5/5 [12:23<00:00, 148.77s/it]\u001b[A\n",
      "\n",
      "  0%|          | 0/5 [00:00<?, ?it/s]\u001b[A"
     ]
    },
    {
     "name": "stdout",
     "output_type": "stream",
     "text": [
      "Order for k=3: 0.5024\n",
      "Order for k=15: 0.4472\n",
      "Order for k=51: 0.3674\n"
     ]
    },
    {
     "name": "stderr",
     "output_type": "stream",
     "text": [
      "\n",
      " 20%|██        | 1/5 [02:28<09:54, 148.75s/it]\u001b[A"
     ]
    },
    {
     "name": "stdout",
     "output_type": "stream",
     "text": [
      "Order for k=3: 0.5046\n",
      "Order for k=15: 0.4451\n",
      "Order for k=51: 0.3652\n"
     ]
    },
    {
     "name": "stderr",
     "output_type": "stream",
     "text": [
      "\n",
      " 40%|████      | 2/5 [04:54<07:21, 147.23s/it]\u001b[A"
     ]
    },
    {
     "name": "stdout",
     "output_type": "stream",
     "text": [
      "Order for k=3: 0.5049\n",
      "Order for k=15: 0.4468\n",
      "Order for k=51: 0.3649\n"
     ]
    },
    {
     "name": "stderr",
     "output_type": "stream",
     "text": [
      "\n",
      " 60%|██████    | 3/5 [07:15<04:48, 144.24s/it]\u001b[A"
     ]
    },
    {
     "name": "stdout",
     "output_type": "stream",
     "text": [
      "Order for k=3: 0.4990\n",
      "Order for k=15: 0.4454\n",
      "Order for k=51: 0.3683\n"
     ]
    },
    {
     "name": "stderr",
     "output_type": "stream",
     "text": [
      "\n",
      " 80%|████████  | 4/5 [09:45<02:26, 146.55s/it]\u001b[A"
     ]
    },
    {
     "name": "stdout",
     "output_type": "stream",
     "text": [
      "Order for k=3: 0.5061\n",
      "Order for k=15: 0.4472\n",
      "Order for k=51: 0.3667\n"
     ]
    },
    {
     "name": "stderr",
     "output_type": "stream",
     "text": [
      "\n",
      "100%|██████████| 5/5 [12:13<00:00, 146.68s/it]\u001b[A\n",
      "\n",
      "  0%|          | 0/5 [00:00<?, ?it/s]\u001b[A"
     ]
    },
    {
     "name": "stdout",
     "output_type": "stream",
     "text": [
      "Order for k=3: 0.5012\n",
      "Order for k=15: 0.4452\n",
      "Order for k=51: 0.3648\n"
     ]
    },
    {
     "name": "stderr",
     "output_type": "stream",
     "text": [
      "\n",
      " 20%|██        | 1/5 [02:31<10:04, 151.08s/it]\u001b[A"
     ]
    },
    {
     "name": "stdout",
     "output_type": "stream",
     "text": [
      "Order for k=3: 0.5034\n",
      "Order for k=15: 0.4445\n",
      "Order for k=51: 0.3663\n"
     ]
    },
    {
     "name": "stderr",
     "output_type": "stream",
     "text": [
      "\n",
      " 40%|████      | 2/5 [05:00<07:29, 149.92s/it]\u001b[A"
     ]
    },
    {
     "name": "stdout",
     "output_type": "stream",
     "text": [
      "Order for k=3: 0.5076\n",
      "Order for k=15: 0.4508\n",
      "Order for k=51: 0.3703\n"
     ]
    },
    {
     "name": "stderr",
     "output_type": "stream",
     "text": [
      "\n",
      " 60%|██████    | 3/5 [07:32<05:02, 151.21s/it]\u001b[A"
     ]
    },
    {
     "name": "stdout",
     "output_type": "stream",
     "text": [
      "Order for k=3: 0.5025\n",
      "Order for k=15: 0.4456\n",
      "Order for k=51: 0.3681\n"
     ]
    },
    {
     "name": "stderr",
     "output_type": "stream",
     "text": [
      "\n",
      " 80%|████████  | 4/5 [10:09<02:33, 153.48s/it]\u001b[A"
     ]
    },
    {
     "name": "stdout",
     "output_type": "stream",
     "text": [
      "Order for k=3: 0.5023\n",
      "Order for k=15: 0.4460\n",
      "Order for k=51: 0.3639\n"
     ]
    },
    {
     "name": "stderr",
     "output_type": "stream",
     "text": [
      "\n",
      "100%|██████████| 5/5 [12:27<00:00, 149.42s/it]\u001b[A\n",
      "\n",
      "  0%|          | 0/5 [00:00<?, ?it/s]\u001b[A"
     ]
    },
    {
     "name": "stdout",
     "output_type": "stream",
     "text": [
      "Order for k=3: 0.5039\n",
      "Order for k=15: 0.4439\n",
      "Order for k=51: 0.3655\n"
     ]
    },
    {
     "name": "stderr",
     "output_type": "stream",
     "text": [
      "\n",
      " 20%|██        | 1/5 [02:19<09:17, 139.39s/it]\u001b[A"
     ]
    },
    {
     "name": "stdout",
     "output_type": "stream",
     "text": [
      "Order for k=3: 0.5082\n",
      "Order for k=15: 0.4516\n",
      "Order for k=51: 0.3702\n"
     ]
    },
    {
     "name": "stderr",
     "output_type": "stream",
     "text": [
      "\n",
      " 40%|████      | 2/5 [04:41<07:02, 140.92s/it]\u001b[A"
     ]
    },
    {
     "name": "stdout",
     "output_type": "stream",
     "text": [
      "Order for k=3: 0.5032\n",
      "Order for k=15: 0.4462\n",
      "Order for k=51: 0.3647\n"
     ]
    },
    {
     "name": "stderr",
     "output_type": "stream",
     "text": [
      "\n",
      " 60%|██████    | 3/5 [07:12<04:50, 145.44s/it]\u001b[A"
     ]
    },
    {
     "name": "stdout",
     "output_type": "stream",
     "text": [
      "Order for k=3: 0.5006\n",
      "Order for k=15: 0.4428\n",
      "Order for k=51: 0.3642\n"
     ]
    },
    {
     "name": "stderr",
     "output_type": "stream",
     "text": [
      "\n",
      " 80%|████████  | 4/5 [09:35<02:24, 144.49s/it]\u001b[A"
     ]
    },
    {
     "name": "stdout",
     "output_type": "stream",
     "text": [
      "Order for k=3: 0.5072\n",
      "Order for k=15: 0.4455\n",
      "Order for k=51: 0.3658\n"
     ]
    },
    {
     "name": "stderr",
     "output_type": "stream",
     "text": [
      "\n",
      "100%|██████████| 5/5 [11:49<00:00, 141.85s/it]\u001b[A\n",
      "\n",
      "  0%|          | 0/5 [00:00<?, ?it/s]\u001b[A"
     ]
    },
    {
     "name": "stdout",
     "output_type": "stream",
     "text": [
      "Order for k=3: 0.5040\n",
      "Order for k=15: 0.4460\n",
      "Order for k=51: 0.3666\n"
     ]
    },
    {
     "name": "stderr",
     "output_type": "stream",
     "text": [
      "\n",
      " 20%|██        | 1/5 [02:25<09:41, 145.25s/it]\u001b[A"
     ]
    },
    {
     "name": "stdout",
     "output_type": "stream",
     "text": [
      "Order for k=3: 0.5052\n",
      "Order for k=15: 0.4447\n",
      "Order for k=51: 0.3648\n"
     ]
    },
    {
     "name": "stderr",
     "output_type": "stream",
     "text": [
      "\n",
      " 40%|████      | 2/5 [04:49<07:13, 144.40s/it]\u001b[A"
     ]
    },
    {
     "name": "stdout",
     "output_type": "stream",
     "text": [
      "Order for k=3: 0.5017\n",
      "Order for k=15: 0.4441\n",
      "Order for k=51: 0.3651\n"
     ]
    },
    {
     "name": "stderr",
     "output_type": "stream",
     "text": [
      "\n",
      " 60%|██████    | 3/5 [07:17<04:52, 146.24s/it]\u001b[A"
     ]
    },
    {
     "name": "stdout",
     "output_type": "stream",
     "text": [
      "Order for k=3: 0.5047\n",
      "Order for k=15: 0.4485\n",
      "Order for k=51: 0.3715\n"
     ]
    },
    {
     "name": "stderr",
     "output_type": "stream",
     "text": [
      "\n",
      " 80%|████████  | 4/5 [09:43<02:26, 146.17s/it]\u001b[A"
     ]
    },
    {
     "name": "stdout",
     "output_type": "stream",
     "text": [
      "Order for k=3: 0.5053\n",
      "Order for k=15: 0.4482\n",
      "Order for k=51: 0.3681\n"
     ]
    },
    {
     "name": "stderr",
     "output_type": "stream",
     "text": [
      "\n",
      "100%|██████████| 5/5 [11:57<00:00, 143.51s/it]\u001b[A\n",
      "\n",
      "  0%|          | 0/5 [00:00<?, ?it/s]\u001b[A"
     ]
    },
    {
     "name": "stdout",
     "output_type": "stream",
     "text": [
      "Order for k=3: 0.5011\n",
      "Order for k=15: 0.4435\n",
      "Order for k=51: 0.3638\n"
     ]
    },
    {
     "name": "stderr",
     "output_type": "stream",
     "text": [
      "\n",
      " 20%|██        | 1/5 [02:27<09:50, 147.61s/it]\u001b[A"
     ]
    },
    {
     "name": "stdout",
     "output_type": "stream",
     "text": [
      "Order for k=3: 0.5044\n",
      "Order for k=15: 0.4447\n",
      "Order for k=51: 0.3657\n"
     ]
    },
    {
     "name": "stderr",
     "output_type": "stream",
     "text": [
      "\n",
      " 40%|████      | 2/5 [04:49<07:12, 144.19s/it]\u001b[A"
     ]
    },
    {
     "name": "stdout",
     "output_type": "stream",
     "text": [
      "Order for k=3: 0.5059\n",
      "Order for k=15: 0.4522\n",
      "Order for k=51: 0.3715\n"
     ]
    },
    {
     "name": "stderr",
     "output_type": "stream",
     "text": [
      "\n",
      " 60%|██████    | 3/5 [07:10<04:45, 142.89s/it]\u001b[A"
     ]
    },
    {
     "name": "stdout",
     "output_type": "stream",
     "text": [
      "Order for k=3: 0.5017\n",
      "Order for k=15: 0.4445\n",
      "Order for k=51: 0.3644\n"
     ]
    },
    {
     "name": "stderr",
     "output_type": "stream",
     "text": [
      "\n",
      " 80%|████████  | 4/5 [09:32<02:22, 142.25s/it]\u001b[A"
     ]
    },
    {
     "name": "stdout",
     "output_type": "stream",
     "text": [
      "Order for k=3: 0.5024\n",
      "Order for k=15: 0.4465\n",
      "Order for k=51: 0.3661\n"
     ]
    },
    {
     "name": "stderr",
     "output_type": "stream",
     "text": [
      "\n",
      "100%|██████████| 5/5 [11:41<00:00, 140.39s/it]\u001b[A\n",
      "\n",
      "  0%|          | 0/5 [00:00<?, ?it/s]\u001b[A"
     ]
    },
    {
     "name": "stdout",
     "output_type": "stream",
     "text": [
      "Order for k=3: 0.5027\n",
      "Order for k=15: 0.4460\n",
      "Order for k=51: 0.3691\n"
     ]
    },
    {
     "name": "stderr",
     "output_type": "stream",
     "text": [
      "\n",
      " 20%|██        | 1/5 [02:09<08:36, 129.15s/it]\u001b[A"
     ]
    },
    {
     "name": "stdout",
     "output_type": "stream",
     "text": [
      "Order for k=3: 0.5060\n",
      "Order for k=15: 0.4479\n",
      "Order for k=51: 0.3654\n"
     ]
    },
    {
     "name": "stderr",
     "output_type": "stream",
     "text": [
      "\n",
      " 40%|████      | 2/5 [04:15<06:22, 127.58s/it]\u001b[A"
     ]
    },
    {
     "name": "stdout",
     "output_type": "stream",
     "text": [
      "Order for k=3: 0.5016\n",
      "Order for k=15: 0.4465\n",
      "Order for k=51: 0.3666\n"
     ]
    },
    {
     "name": "stderr",
     "output_type": "stream",
     "text": [
      "\n",
      " 60%|██████    | 3/5 [06:25<04:17, 128.68s/it]\u001b[A"
     ]
    },
    {
     "name": "stdout",
     "output_type": "stream",
     "text": [
      "Order for k=3: 0.5017\n",
      "Order for k=15: 0.4471\n",
      "Order for k=51: 0.3673\n"
     ]
    },
    {
     "name": "stderr",
     "output_type": "stream",
     "text": [
      "\n",
      " 80%|████████  | 4/5 [08:35<02:09, 129.08s/it]\u001b[A"
     ]
    },
    {
     "name": "stdout",
     "output_type": "stream",
     "text": [
      "Order for k=3: 0.5033\n",
      "Order for k=15: 0.4444\n",
      "Order for k=51: 0.3652\n"
     ]
    },
    {
     "name": "stderr",
     "output_type": "stream",
     "text": [
      "\n",
      "100%|██████████| 5/5 [10:41<00:00, 128.33s/it]\u001b[A\n",
      "\n",
      "  0%|          | 0/5 [00:00<?, ?it/s]\u001b[A"
     ]
    },
    {
     "name": "stdout",
     "output_type": "stream",
     "text": [
      "Order for k=3: 0.5049\n",
      "Order for k=15: 0.4494\n",
      "Order for k=51: 0.3687\n"
     ]
    },
    {
     "name": "stderr",
     "output_type": "stream",
     "text": [
      "\n",
      " 20%|██        | 1/5 [02:09<08:37, 129.26s/it]\u001b[A"
     ]
    },
    {
     "name": "stdout",
     "output_type": "stream",
     "text": [
      "Order for k=3: 0.5050\n",
      "Order for k=15: 0.4440\n",
      "Order for k=51: 0.3657\n"
     ]
    },
    {
     "name": "stderr",
     "output_type": "stream",
     "text": [
      "\n",
      " 40%|████      | 2/5 [04:19<06:30, 130.08s/it]\u001b[A"
     ]
    },
    {
     "name": "stdout",
     "output_type": "stream",
     "text": [
      "Order for k=3: 0.5033\n",
      "Order for k=15: 0.4482\n",
      "Order for k=51: 0.3693\n"
     ]
    },
    {
     "name": "stderr",
     "output_type": "stream",
     "text": [
      "\n",
      " 60%|██████    | 3/5 [06:31<04:21, 130.68s/it]\u001b[A"
     ]
    },
    {
     "name": "stdout",
     "output_type": "stream",
     "text": [
      "Order for k=3: 0.5019\n",
      "Order for k=15: 0.4463\n",
      "Order for k=51: 0.3682\n"
     ]
    },
    {
     "name": "stderr",
     "output_type": "stream",
     "text": [
      "\n",
      " 80%|████████  | 4/5 [08:40<02:09, 129.94s/it]\u001b[A"
     ]
    },
    {
     "name": "stdout",
     "output_type": "stream",
     "text": [
      "Order for k=3: 0.5023\n",
      "Order for k=15: 0.4456\n",
      "Order for k=51: 0.3636\n"
     ]
    },
    {
     "name": "stderr",
     "output_type": "stream",
     "text": [
      "\n",
      "100%|██████████| 5/5 [10:55<00:00, 131.14s/it]\u001b[A\n",
      "\n",
      "  0%|          | 0/5 [00:00<?, ?it/s]\u001b[A"
     ]
    },
    {
     "name": "stdout",
     "output_type": "stream",
     "text": [
      "Order for k=3: 0.5010\n",
      "Order for k=15: 0.4437\n",
      "Order for k=51: 0.3653\n"
     ]
    },
    {
     "name": "stderr",
     "output_type": "stream",
     "text": [
      "\n",
      " 20%|██        | 1/5 [02:07<08:28, 127.15s/it]\u001b[A"
     ]
    },
    {
     "name": "stdout",
     "output_type": "stream",
     "text": [
      "Order for k=3: 0.5054\n",
      "Order for k=15: 0.4498\n",
      "Order for k=51: 0.3674\n"
     ]
    },
    {
     "name": "stderr",
     "output_type": "stream",
     "text": [
      "\n",
      " 40%|████      | 2/5 [04:16<06:25, 128.40s/it]\u001b[A"
     ]
    },
    {
     "name": "stdout",
     "output_type": "stream",
     "text": [
      "Order for k=3: 0.5039\n",
      "Order for k=15: 0.4479\n",
      "Order for k=51: 0.3705\n"
     ]
    },
    {
     "name": "stderr",
     "output_type": "stream",
     "text": [
      "\n",
      " 60%|██████    | 3/5 [06:30<04:21, 130.84s/it]\u001b[A"
     ]
    },
    {
     "name": "stdout",
     "output_type": "stream",
     "text": [
      "Order for k=3: 0.5021\n",
      "Order for k=15: 0.4436\n",
      "Order for k=51: 0.3643\n"
     ]
    },
    {
     "name": "stderr",
     "output_type": "stream",
     "text": [
      "\n",
      " 80%|████████  | 4/5 [08:51<02:15, 135.02s/it]\u001b[A"
     ]
    },
    {
     "name": "stdout",
     "output_type": "stream",
     "text": [
      "Order for k=3: 0.5046\n",
      "Order for k=15: 0.4461\n",
      "Order for k=51: 0.3670\n"
     ]
    },
    {
     "name": "stderr",
     "output_type": "stream",
     "text": [
      "\n",
      "100%|██████████| 5/5 [11:14<00:00, 134.83s/it]\u001b[A\n",
      " 17%|█▋        | 2/12 [3:58:06<19:47:50, 7127.06s/it]"
     ]
    },
    {
     "name": "stdout",
     "output_type": "stream",
     "text": [
      "Family\n"
     ]
    },
    {
     "name": "stderr",
     "output_type": "stream",
     "text": [
      "\n",
      "  0%|          | 0/5 [00:00<?, ?it/s]\u001b[A"
     ]
    },
    {
     "name": "stdout",
     "output_type": "stream",
     "text": [
      "Family for k=3: 0.4090\n",
      "Family for k=15: 0.3437\n",
      "Family for k=51: 0.2665\n"
     ]
    },
    {
     "name": "stderr",
     "output_type": "stream",
     "text": [
      "\n",
      " 20%|██        | 1/5 [02:23<09:34, 143.64s/it]\u001b[A"
     ]
    },
    {
     "name": "stdout",
     "output_type": "stream",
     "text": [
      "Family for k=3: 0.4114\n",
      "Family for k=15: 0.3465\n",
      "Family for k=51: 0.2677\n"
     ]
    },
    {
     "name": "stderr",
     "output_type": "stream",
     "text": [
      "\n",
      " 40%|████      | 2/5 [04:36<06:51, 137.29s/it]\u001b[A"
     ]
    },
    {
     "name": "stdout",
     "output_type": "stream",
     "text": [
      "Family for k=3: 0.4110\n",
      "Family for k=15: 0.3454\n",
      "Family for k=51: 0.2666\n"
     ]
    },
    {
     "name": "stderr",
     "output_type": "stream",
     "text": [
      "\n",
      " 60%|██████    | 3/5 [06:41<04:23, 131.60s/it]\u001b[A"
     ]
    },
    {
     "name": "stdout",
     "output_type": "stream",
     "text": [
      "Family for k=3: 0.4105\n",
      "Family for k=15: 0.3465\n",
      "Family for k=51: 0.2680\n"
     ]
    },
    {
     "name": "stderr",
     "output_type": "stream",
     "text": [
      "\n",
      " 80%|████████  | 4/5 [08:45<02:08, 128.71s/it]\u001b[A"
     ]
    },
    {
     "name": "stdout",
     "output_type": "stream",
     "text": [
      "Family for k=3: 0.4141\n",
      "Family for k=15: 0.3472\n",
      "Family for k=51: 0.2706\n"
     ]
    },
    {
     "name": "stderr",
     "output_type": "stream",
     "text": [
      "\n",
      "100%|██████████| 5/5 [10:56<00:00, 131.29s/it]\u001b[A\n",
      "\n",
      "  0%|          | 0/5 [00:00<?, ?it/s]\u001b[A"
     ]
    },
    {
     "name": "stdout",
     "output_type": "stream",
     "text": [
      "Family for k=3: 0.4096\n",
      "Family for k=15: 0.3440\n",
      "Family for k=51: 0.2659\n"
     ]
    },
    {
     "name": "stderr",
     "output_type": "stream",
     "text": [
      "\n",
      " 20%|██        | 1/5 [02:15<09:01, 135.28s/it]\u001b[A"
     ]
    },
    {
     "name": "stdout",
     "output_type": "stream",
     "text": [
      "Family for k=3: 0.4101\n",
      "Family for k=15: 0.3459\n",
      "Family for k=51: 0.2689\n"
     ]
    },
    {
     "name": "stderr",
     "output_type": "stream",
     "text": [
      "\n",
      " 40%|████      | 2/5 [04:26<06:38, 132.99s/it]\u001b[A"
     ]
    },
    {
     "name": "stdout",
     "output_type": "stream",
     "text": [
      "Family for k=3: 0.4131\n",
      "Family for k=15: 0.3457\n",
      "Family for k=51: 0.2678\n"
     ]
    },
    {
     "name": "stderr",
     "output_type": "stream",
     "text": [
      "\n",
      " 60%|██████    | 3/5 [06:50<04:36, 138.15s/it]\u001b[A"
     ]
    },
    {
     "name": "stdout",
     "output_type": "stream",
     "text": [
      "Family for k=3: 0.4101\n",
      "Family for k=15: 0.3454\n",
      "Family for k=51: 0.2652\n"
     ]
    },
    {
     "name": "stderr",
     "output_type": "stream",
     "text": [
      "\n",
      " 80%|████████  | 4/5 [09:25<02:24, 144.47s/it]\u001b[A"
     ]
    },
    {
     "name": "stdout",
     "output_type": "stream",
     "text": [
      "Family for k=3: 0.4114\n",
      "Family for k=15: 0.3454\n",
      "Family for k=51: 0.2691\n"
     ]
    },
    {
     "name": "stderr",
     "output_type": "stream",
     "text": [
      "\n",
      "100%|██████████| 5/5 [12:07<00:00, 145.53s/it]\u001b[A\n",
      "\n",
      "  0%|          | 0/5 [00:00<?, ?it/s]\u001b[A"
     ]
    },
    {
     "name": "stdout",
     "output_type": "stream",
     "text": [
      "Family for k=3: 0.4148\n",
      "Family for k=15: 0.3494\n",
      "Family for k=51: 0.2686\n"
     ]
    },
    {
     "name": "stderr",
     "output_type": "stream",
     "text": [
      "\n",
      " 20%|██        | 1/5 [02:41<10:45, 161.36s/it]\u001b[A"
     ]
    },
    {
     "name": "stdout",
     "output_type": "stream",
     "text": [
      "Family for k=3: 0.4122\n",
      "Family for k=15: 0.3461\n",
      "Family for k=51: 0.2690\n"
     ]
    },
    {
     "name": "stderr",
     "output_type": "stream",
     "text": [
      "\n",
      " 40%|████      | 2/5 [05:27<08:13, 164.46s/it]\u001b[A"
     ]
    },
    {
     "name": "stdout",
     "output_type": "stream",
     "text": [
      "Family for k=3: 0.4089\n",
      "Family for k=15: 0.3441\n",
      "Family for k=51: 0.2663\n"
     ]
    },
    {
     "name": "stderr",
     "output_type": "stream",
     "text": [
      "\n",
      " 60%|██████    | 3/5 [08:14<05:31, 165.52s/it]\u001b[A"
     ]
    },
    {
     "name": "stdout",
     "output_type": "stream",
     "text": [
      "Family for k=3: 0.4133\n",
      "Family for k=15: 0.3472\n",
      "Family for k=51: 0.2682\n"
     ]
    },
    {
     "name": "stderr",
     "output_type": "stream",
     "text": [
      "\n",
      " 80%|████████  | 4/5 [10:25<02:31, 151.69s/it]\u001b[A"
     ]
    },
    {
     "name": "stdout",
     "output_type": "stream",
     "text": [
      "Family for k=3: 0.4116\n",
      "Family for k=15: 0.3457\n",
      "Family for k=51: 0.2680\n"
     ]
    },
    {
     "name": "stderr",
     "output_type": "stream",
     "text": [
      "\n",
      "100%|██████████| 5/5 [12:40<00:00, 152.02s/it]\u001b[A\n",
      "\n",
      "  0%|          | 0/5 [00:00<?, ?it/s]\u001b[A"
     ]
    },
    {
     "name": "stdout",
     "output_type": "stream",
     "text": [
      "Family for k=3: 0.4115\n",
      "Family for k=15: 0.3472\n",
      "Family for k=51: 0.2692\n"
     ]
    },
    {
     "name": "stderr",
     "output_type": "stream",
     "text": [
      "\n",
      " 20%|██        | 1/5 [02:10<08:43, 130.84s/it]\u001b[A"
     ]
    },
    {
     "name": "stdout",
     "output_type": "stream",
     "text": [
      "Family for k=3: 0.4111\n",
      "Family for k=15: 0.3435\n",
      "Family for k=51: 0.2650\n"
     ]
    },
    {
     "name": "stderr",
     "output_type": "stream",
     "text": [
      "\n",
      " 40%|████      | 2/5 [04:19<06:28, 129.51s/it]\u001b[A"
     ]
    },
    {
     "name": "stdout",
     "output_type": "stream",
     "text": [
      "Family for k=3: 0.4111\n",
      "Family for k=15: 0.3460\n",
      "Family for k=51: 0.2667\n"
     ]
    },
    {
     "name": "stderr",
     "output_type": "stream",
     "text": [
      "\n",
      " 60%|██████    | 3/5 [06:29<04:19, 129.95s/it]\u001b[A"
     ]
    },
    {
     "name": "stdout",
     "output_type": "stream",
     "text": [
      "Family for k=3: 0.4105\n",
      "Family for k=15: 0.3447\n",
      "Family for k=51: 0.2660\n"
     ]
    },
    {
     "name": "stderr",
     "output_type": "stream",
     "text": [
      "\n",
      " 80%|████████  | 4/5 [08:44<02:11, 131.63s/it]\u001b[A"
     ]
    },
    {
     "name": "stdout",
     "output_type": "stream",
     "text": [
      "Family for k=3: 0.4122\n",
      "Family for k=15: 0.3483\n",
      "Family for k=51: 0.2721\n"
     ]
    },
    {
     "name": "stderr",
     "output_type": "stream",
     "text": [
      "\n",
      "100%|██████████| 5/5 [10:50<00:00, 130.15s/it]\u001b[A\n",
      "\n",
      "  0%|          | 0/5 [00:00<?, ?it/s]\u001b[A"
     ]
    },
    {
     "name": "stdout",
     "output_type": "stream",
     "text": [
      "Family for k=3: 0.4129\n",
      "Family for k=15: 0.3488\n",
      "Family for k=51: 0.2675\n"
     ]
    },
    {
     "name": "stderr",
     "output_type": "stream",
     "text": [
      "\n",
      " 20%|██        | 1/5 [02:10<08:43, 130.88s/it]\u001b[A"
     ]
    },
    {
     "name": "stdout",
     "output_type": "stream",
     "text": [
      "Family for k=3: 0.4122\n",
      "Family for k=15: 0.3441\n",
      "Family for k=51: 0.2671\n"
     ]
    },
    {
     "name": "stderr",
     "output_type": "stream",
     "text": [
      "\n",
      " 40%|████      | 2/5 [04:46<07:15, 145.16s/it]\u001b[A"
     ]
    },
    {
     "name": "stdout",
     "output_type": "stream",
     "text": [
      "Family for k=3: 0.4124\n",
      "Family for k=15: 0.3447\n",
      "Family for k=51: 0.2666\n"
     ]
    },
    {
     "name": "stderr",
     "output_type": "stream",
     "text": [
      "\n",
      " 60%|██████    | 3/5 [07:21<04:59, 149.83s/it]\u001b[A"
     ]
    },
    {
     "name": "stdout",
     "output_type": "stream",
     "text": [
      "Family for k=3: 0.4090\n",
      "Family for k=15: 0.3428\n",
      "Family for k=51: 0.2658\n"
     ]
    },
    {
     "name": "stderr",
     "output_type": "stream",
     "text": [
      "\n",
      " 80%|████████  | 4/5 [09:57<02:32, 152.47s/it]\u001b[A"
     ]
    },
    {
     "name": "stdout",
     "output_type": "stream",
     "text": [
      "Family for k=3: 0.4110\n",
      "Family for k=15: 0.3470\n",
      "Family for k=51: 0.2697\n"
     ]
    },
    {
     "name": "stderr",
     "output_type": "stream",
     "text": [
      "\n",
      "100%|██████████| 5/5 [13:12<00:00, 158.42s/it]\u001b[A\n",
      "\n",
      "  0%|          | 0/5 [00:00<?, ?it/s]\u001b[A"
     ]
    },
    {
     "name": "stdout",
     "output_type": "stream",
     "text": [
      "Family for k=3: 0.4142\n",
      "Family for k=15: 0.3463\n",
      "Family for k=51: 0.2687\n"
     ]
    },
    {
     "name": "stderr",
     "output_type": "stream",
     "text": [
      "\n",
      " 20%|██        | 1/5 [03:25<13:40, 205.21s/it]\u001b[A"
     ]
    },
    {
     "name": "stdout",
     "output_type": "stream",
     "text": [
      "Family for k=3: 0.4135\n",
      "Family for k=15: 0.3494\n",
      "Family for k=51: 0.2687\n"
     ]
    },
    {
     "name": "stderr",
     "output_type": "stream",
     "text": [
      "\n",
      " 40%|████      | 2/5 [06:34<09:47, 195.73s/it]\u001b[A"
     ]
    },
    {
     "name": "stdout",
     "output_type": "stream",
     "text": [
      "Family for k=3: 0.4117\n",
      "Family for k=15: 0.3452\n",
      "Family for k=51: 0.2655\n"
     ]
    },
    {
     "name": "stderr",
     "output_type": "stream",
     "text": [
      "\n",
      " 60%|██████    | 3/5 [09:09<05:54, 177.19s/it]\u001b[A"
     ]
    },
    {
     "name": "stdout",
     "output_type": "stream",
     "text": [
      "Family for k=3: 0.4129\n",
      "Family for k=15: 0.3465\n",
      "Family for k=51: 0.2669\n"
     ]
    },
    {
     "name": "stderr",
     "output_type": "stream",
     "text": [
      "\n",
      " 80%|████████  | 4/5 [11:38<02:45, 165.95s/it]\u001b[A"
     ]
    },
    {
     "name": "stdout",
     "output_type": "stream",
     "text": [
      "Family for k=3: 0.4108\n",
      "Family for k=15: 0.3464\n",
      "Family for k=51: 0.2659\n"
     ]
    },
    {
     "name": "stderr",
     "output_type": "stream",
     "text": [
      "\n",
      "100%|██████████| 5/5 [13:54<00:00, 166.98s/it]\u001b[A\n",
      "\n",
      "  0%|          | 0/5 [00:00<?, ?it/s]\u001b[A"
     ]
    },
    {
     "name": "stdout",
     "output_type": "stream",
     "text": [
      "Family for k=3: 0.4124\n",
      "Family for k=15: 0.3468\n",
      "Family for k=51: 0.2677\n"
     ]
    },
    {
     "name": "stderr",
     "output_type": "stream",
     "text": [
      "\n",
      " 20%|██        | 1/5 [02:07<08:29, 127.43s/it]\u001b[A"
     ]
    },
    {
     "name": "stdout",
     "output_type": "stream",
     "text": [
      "Family for k=3: 0.4111\n",
      "Family for k=15: 0.3455\n",
      "Family for k=51: 0.2711\n"
     ]
    },
    {
     "name": "stderr",
     "output_type": "stream",
     "text": [
      "\n",
      " 40%|████      | 2/5 [04:22<06:35, 131.76s/it]\u001b[A"
     ]
    },
    {
     "name": "stdout",
     "output_type": "stream",
     "text": [
      "Family for k=3: 0.4120\n",
      "Family for k=15: 0.3467\n",
      "Family for k=51: 0.2681\n"
     ]
    },
    {
     "name": "stderr",
     "output_type": "stream",
     "text": [
      "\n",
      " 60%|██████    | 3/5 [06:31<04:21, 130.57s/it]\u001b[A"
     ]
    },
    {
     "name": "stdout",
     "output_type": "stream",
     "text": [
      "Family for k=3: 0.4102\n",
      "Family for k=15: 0.3436\n",
      "Family for k=51: 0.2655\n"
     ]
    },
    {
     "name": "stderr",
     "output_type": "stream",
     "text": [
      "\n",
      " 80%|████████  | 4/5 [08:43<02:11, 131.00s/it]\u001b[A"
     ]
    },
    {
     "name": "stdout",
     "output_type": "stream",
     "text": [
      "Family for k=3: 0.4114\n",
      "Family for k=15: 0.3454\n",
      "Family for k=51: 0.2683\n"
     ]
    },
    {
     "name": "stderr",
     "output_type": "stream",
     "text": [
      "\n",
      "100%|██████████| 5/5 [11:00<00:00, 132.01s/it]\u001b[A\n",
      "\n",
      "  0%|          | 0/5 [00:00<?, ?it/s]\u001b[A"
     ]
    },
    {
     "name": "stdout",
     "output_type": "stream",
     "text": [
      "Family for k=3: 0.4129\n",
      "Family for k=15: 0.3464\n",
      "Family for k=51: 0.2662\n"
     ]
    },
    {
     "name": "stderr",
     "output_type": "stream",
     "text": [
      "\n",
      " 20%|██        | 1/5 [02:15<09:02, 135.65s/it]\u001b[A"
     ]
    },
    {
     "name": "stdout",
     "output_type": "stream",
     "text": [
      "Family for k=3: 0.4125\n",
      "Family for k=15: 0.3488\n",
      "Family for k=51: 0.2700\n"
     ]
    },
    {
     "name": "stderr",
     "output_type": "stream",
     "text": [
      "\n",
      " 40%|████      | 2/5 [05:02<07:41, 153.88s/it]\u001b[A"
     ]
    },
    {
     "name": "stdout",
     "output_type": "stream",
     "text": [
      "Family for k=3: 0.4097\n",
      "Family for k=15: 0.3479\n",
      "Family for k=51: 0.2693\n"
     ]
    },
    {
     "name": "stderr",
     "output_type": "stream",
     "text": [
      "\n",
      " 60%|██████    | 3/5 [07:41<05:12, 156.10s/it]\u001b[A"
     ]
    },
    {
     "name": "stdout",
     "output_type": "stream",
     "text": [
      "Family for k=3: 0.4114\n",
      "Family for k=15: 0.3469\n",
      "Family for k=51: 0.2679\n"
     ]
    },
    {
     "name": "stderr",
     "output_type": "stream",
     "text": [
      "\n",
      " 80%|████████  | 4/5 [10:17<02:36, 156.12s/it]\u001b[A"
     ]
    },
    {
     "name": "stdout",
     "output_type": "stream",
     "text": [
      "Family for k=3: 0.4106\n",
      "Family for k=15: 0.3446\n",
      "Family for k=51: 0.2672\n"
     ]
    },
    {
     "name": "stderr",
     "output_type": "stream",
     "text": [
      "\n",
      "100%|██████████| 5/5 [12:25<00:00, 149.08s/it]\u001b[A\n",
      "\n",
      "  0%|          | 0/5 [00:00<?, ?it/s]\u001b[A"
     ]
    },
    {
     "name": "stdout",
     "output_type": "stream",
     "text": [
      "Family for k=3: 0.4079\n",
      "Family for k=15: 0.3444\n",
      "Family for k=51: 0.2646\n"
     ]
    },
    {
     "name": "stderr",
     "output_type": "stream",
     "text": [
      "\n",
      " 20%|██        | 1/5 [02:08<08:33, 128.49s/it]\u001b[A"
     ]
    },
    {
     "name": "stdout",
     "output_type": "stream",
     "text": [
      "Family for k=3: 0.4131\n",
      "Family for k=15: 0.3467\n",
      "Family for k=51: 0.2699\n"
     ]
    },
    {
     "name": "stderr",
     "output_type": "stream",
     "text": [
      "\n",
      " 40%|████      | 2/5 [04:18<06:27, 129.18s/it]\u001b[A"
     ]
    },
    {
     "name": "stdout",
     "output_type": "stream",
     "text": [
      "Family for k=3: 0.4103\n",
      "Family for k=15: 0.3447\n",
      "Family for k=51: 0.2655\n"
     ]
    },
    {
     "name": "stderr",
     "output_type": "stream",
     "text": [
      "\n",
      " 60%|██████    | 3/5 [06:30<04:21, 130.66s/it]\u001b[A"
     ]
    },
    {
     "name": "stdout",
     "output_type": "stream",
     "text": [
      "Family for k=3: 0.4112\n",
      "Family for k=15: 0.3469\n",
      "Family for k=51: 0.2698\n"
     ]
    },
    {
     "name": "stderr",
     "output_type": "stream",
     "text": [
      "\n",
      " 80%|████████  | 4/5 [08:50<02:14, 134.25s/it]\u001b[A"
     ]
    },
    {
     "name": "stdout",
     "output_type": "stream",
     "text": [
      "Family for k=3: 0.4119\n",
      "Family for k=15: 0.3443\n",
      "Family for k=51: 0.2663\n"
     ]
    },
    {
     "name": "stderr",
     "output_type": "stream",
     "text": [
      "\n",
      "100%|██████████| 5/5 [10:58<00:00, 131.75s/it]\u001b[A\n",
      "\n",
      "  0%|          | 0/5 [00:00<?, ?it/s]\u001b[A"
     ]
    },
    {
     "name": "stdout",
     "output_type": "stream",
     "text": [
      "Family for k=3: 0.4144\n",
      "Family for k=15: 0.3480\n",
      "Family for k=51: 0.2715\n"
     ]
    },
    {
     "name": "stderr",
     "output_type": "stream",
     "text": [
      "\n",
      " 20%|██        | 1/5 [02:14<08:57, 134.35s/it]\u001b[A"
     ]
    },
    {
     "name": "stdout",
     "output_type": "stream",
     "text": [
      "Family for k=3: 0.4123\n",
      "Family for k=15: 0.3444\n",
      "Family for k=51: 0.2668\n"
     ]
    },
    {
     "name": "stderr",
     "output_type": "stream",
     "text": [
      "\n",
      " 40%|████      | 2/5 [04:29<06:43, 134.57s/it]\u001b[A"
     ]
    },
    {
     "name": "stdout",
     "output_type": "stream",
     "text": [
      "Family for k=3: 0.4093\n",
      "Family for k=15: 0.3447\n",
      "Family for k=51: 0.2674\n"
     ]
    },
    {
     "name": "stderr",
     "output_type": "stream",
     "text": [
      "\n",
      " 60%|██████    | 3/5 [06:40<04:26, 133.07s/it]\u001b[A"
     ]
    },
    {
     "name": "stdout",
     "output_type": "stream",
     "text": [
      "Family for k=3: 0.4129\n",
      "Family for k=15: 0.3468\n",
      "Family for k=51: 0.2698\n"
     ]
    },
    {
     "name": "stderr",
     "output_type": "stream",
     "text": [
      "\n",
      " 80%|████████  | 4/5 [08:46<02:10, 130.26s/it]\u001b[A"
     ]
    },
    {
     "name": "stdout",
     "output_type": "stream",
     "text": [
      "Family for k=3: 0.4086\n",
      "Family for k=15: 0.3430\n",
      "Family for k=51: 0.2659\n"
     ]
    },
    {
     "name": "stderr",
     "output_type": "stream",
     "text": [
      "\n",
      "100%|██████████| 5/5 [10:53<00:00, 130.76s/it]\u001b[A\n",
      " 25%|██▌       | 3/12 [5:57:06<17:49:58, 7133.13s/it]"
     ]
    },
    {
     "name": "stdout",
     "output_type": "stream",
     "text": [
      "Genus\n"
     ]
    },
    {
     "name": "stderr",
     "output_type": "stream",
     "text": [
      "\n",
      "  0%|          | 0/5 [00:00<?, ?it/s]\u001b[A"
     ]
    },
    {
     "name": "stdout",
     "output_type": "stream",
     "text": [
      "Genus for k=3: 0.2857\n",
      "Genus for k=15: 0.2414\n",
      "Genus for k=51: 0.1995\n"
     ]
    },
    {
     "name": "stderr",
     "output_type": "stream",
     "text": [
      "\n",
      " 20%|██        | 1/5 [02:09<08:36, 129.12s/it]\u001b[A"
     ]
    },
    {
     "name": "stdout",
     "output_type": "stream",
     "text": [
      "Genus for k=3: 0.2844\n",
      "Genus for k=15: 0.2396\n",
      "Genus for k=51: 0.1971\n"
     ]
    },
    {
     "name": "stderr",
     "output_type": "stream",
     "text": [
      "\n",
      " 40%|████      | 2/5 [04:33<06:53, 137.94s/it]\u001b[A"
     ]
    },
    {
     "name": "stdout",
     "output_type": "stream",
     "text": [
      "Genus for k=3: 0.2859\n",
      "Genus for k=15: 0.2425\n",
      "Genus for k=51: 0.2028\n"
     ]
    },
    {
     "name": "stderr",
     "output_type": "stream",
     "text": [
      "\n",
      " 60%|██████    | 3/5 [06:44<04:29, 134.71s/it]\u001b[A"
     ]
    },
    {
     "name": "stdout",
     "output_type": "stream",
     "text": [
      "Genus for k=3: 0.2854\n",
      "Genus for k=15: 0.2419\n",
      "Genus for k=51: 0.1987\n"
     ]
    },
    {
     "name": "stderr",
     "output_type": "stream",
     "text": [
      "\n",
      " 80%|████████  | 4/5 [09:14<02:20, 140.74s/it]\u001b[A"
     ]
    },
    {
     "name": "stdout",
     "output_type": "stream",
     "text": [
      "Genus for k=3: 0.2873\n",
      "Genus for k=15: 0.2439\n",
      "Genus for k=51: 0.1996\n"
     ]
    },
    {
     "name": "stderr",
     "output_type": "stream",
     "text": [
      "\n",
      "100%|██████████| 5/5 [12:03<00:00, 144.72s/it]\u001b[A\n",
      "\n",
      "  0%|          | 0/5 [00:00<?, ?it/s]\u001b[A"
     ]
    },
    {
     "name": "stdout",
     "output_type": "stream",
     "text": [
      "Genus for k=3: 0.2884\n",
      "Genus for k=15: 0.2453\n",
      "Genus for k=51: 0.2006\n"
     ]
    },
    {
     "name": "stderr",
     "output_type": "stream",
     "text": [
      "\n",
      " 20%|██        | 1/5 [02:54<11:38, 174.61s/it]\u001b[A"
     ]
    },
    {
     "name": "stdout",
     "output_type": "stream",
     "text": [
      "Genus for k=3: 0.2840\n",
      "Genus for k=15: 0.2434\n",
      "Genus for k=51: 0.1986\n"
     ]
    },
    {
     "name": "stderr",
     "output_type": "stream",
     "text": [
      "\n",
      " 40%|████      | 2/5 [05:38<08:24, 168.25s/it]\u001b[A"
     ]
    },
    {
     "name": "stdout",
     "output_type": "stream",
     "text": [
      "Genus for k=3: 0.2865\n",
      "Genus for k=15: 0.2450\n",
      "Genus for k=51: 0.2021\n"
     ]
    },
    {
     "name": "stderr",
     "output_type": "stream",
     "text": [
      "\n",
      " 60%|██████    | 3/5 [08:26<05:36, 168.17s/it]\u001b[A"
     ]
    },
    {
     "name": "stdout",
     "output_type": "stream",
     "text": [
      "Genus for k=3: 0.2852\n",
      "Genus for k=15: 0.2429\n",
      "Genus for k=51: 0.2002\n"
     ]
    },
    {
     "name": "stderr",
     "output_type": "stream",
     "text": [
      "\n",
      " 80%|████████  | 4/5 [11:20<02:50, 170.34s/it]\u001b[A"
     ]
    },
    {
     "name": "stdout",
     "output_type": "stream",
     "text": [
      "Genus for k=3: 0.2864\n",
      "Genus for k=15: 0.2415\n",
      "Genus for k=51: 0.1976\n"
     ]
    },
    {
     "name": "stderr",
     "output_type": "stream",
     "text": [
      "\n",
      "100%|██████████| 5/5 [13:36<00:00, 163.24s/it]\u001b[A\n",
      "\n",
      "  0%|          | 0/5 [00:00<?, ?it/s]\u001b[A"
     ]
    },
    {
     "name": "stdout",
     "output_type": "stream",
     "text": [
      "Genus for k=3: 0.2858\n",
      "Genus for k=15: 0.2440\n",
      "Genus for k=51: 0.2019\n"
     ]
    },
    {
     "name": "stderr",
     "output_type": "stream",
     "text": [
      "\n",
      " 20%|██        | 1/5 [02:11<08:46, 131.67s/it]\u001b[A"
     ]
    },
    {
     "name": "stdout",
     "output_type": "stream",
     "text": [
      "Genus for k=3: 0.2870\n",
      "Genus for k=15: 0.2420\n",
      "Genus for k=51: 0.1986\n"
     ]
    },
    {
     "name": "stderr",
     "output_type": "stream",
     "text": [
      "\n",
      " 40%|████      | 2/5 [04:26<06:41, 133.67s/it]\u001b[A"
     ]
    },
    {
     "name": "stdout",
     "output_type": "stream",
     "text": [
      "Genus for k=3: 0.2833\n",
      "Genus for k=15: 0.2431\n",
      "Genus for k=51: 0.2012\n"
     ]
    },
    {
     "name": "stderr",
     "output_type": "stream",
     "text": [
      "\n",
      " 60%|██████    | 3/5 [06:38<04:25, 132.76s/it]\u001b[A"
     ]
    },
    {
     "name": "stdout",
     "output_type": "stream",
     "text": [
      "Genus for k=3: 0.2844\n",
      "Genus for k=15: 0.2421\n",
      "Genus for k=51: 0.1991\n"
     ]
    },
    {
     "name": "stderr",
     "output_type": "stream",
     "text": [
      "\n",
      " 80%|████████  | 4/5 [08:59<02:15, 135.91s/it]\u001b[A"
     ]
    },
    {
     "name": "stdout",
     "output_type": "stream",
     "text": [
      "Genus for k=3: 0.2862\n",
      "Genus for k=15: 0.2429\n",
      "Genus for k=51: 0.2000\n"
     ]
    },
    {
     "name": "stderr",
     "output_type": "stream",
     "text": [
      "\n",
      "100%|██████████| 5/5 [11:44<00:00, 140.99s/it]\u001b[A\n",
      "\n",
      "  0%|          | 0/5 [00:00<?, ?it/s]\u001b[A"
     ]
    },
    {
     "name": "stdout",
     "output_type": "stream",
     "text": [
      "Genus for k=3: 0.2846\n",
      "Genus for k=15: 0.2415\n",
      "Genus for k=51: 0.1981\n"
     ]
    },
    {
     "name": "stderr",
     "output_type": "stream",
     "text": [
      "\n",
      " 20%|██        | 1/5 [02:56<11:45, 176.33s/it]\u001b[A"
     ]
    },
    {
     "name": "stdout",
     "output_type": "stream",
     "text": [
      "Genus for k=3: 0.2846\n",
      "Genus for k=15: 0.2436\n",
      "Genus for k=51: 0.2013\n"
     ]
    },
    {
     "name": "stderr",
     "output_type": "stream",
     "text": [
      "\n",
      " 40%|████      | 2/5 [05:41<08:28, 169.58s/it]\u001b[A"
     ]
    },
    {
     "name": "stdout",
     "output_type": "stream",
     "text": [
      "Genus for k=3: 0.2850\n",
      "Genus for k=15: 0.2430\n",
      "Genus for k=51: 0.2001\n"
     ]
    },
    {
     "name": "stderr",
     "output_type": "stream",
     "text": [
      "\n",
      " 60%|██████    | 3/5 [08:18<05:28, 164.01s/it]\u001b[A"
     ]
    },
    {
     "name": "stdout",
     "output_type": "stream",
     "text": [
      "Genus for k=3: 0.2866\n",
      "Genus for k=15: 0.2424\n",
      "Genus for k=51: 0.1986\n"
     ]
    },
    {
     "name": "stderr",
     "output_type": "stream",
     "text": [
      "\n",
      " 80%|████████  | 4/5 [10:57<02:42, 162.15s/it]\u001b[A"
     ]
    },
    {
     "name": "stdout",
     "output_type": "stream",
     "text": [
      "Genus for k=3: 0.2863\n",
      "Genus for k=15: 0.2423\n",
      "Genus for k=51: 0.1995\n"
     ]
    },
    {
     "name": "stderr",
     "output_type": "stream",
     "text": [
      "\n",
      "100%|██████████| 5/5 [13:46<00:00, 165.31s/it]\u001b[A\n",
      "\n",
      "  0%|          | 0/5 [00:00<?, ?it/s]\u001b[A"
     ]
    },
    {
     "name": "stdout",
     "output_type": "stream",
     "text": [
      "Genus for k=3: 0.2883\n",
      "Genus for k=15: 0.2453\n",
      "Genus for k=51: 0.2044\n"
     ]
    },
    {
     "name": "stderr",
     "output_type": "stream",
     "text": [
      "\n",
      " 20%|██        | 1/5 [02:45<10:59, 165.00s/it]\u001b[A"
     ]
    },
    {
     "name": "stdout",
     "output_type": "stream",
     "text": [
      "Genus for k=3: 0.2868\n",
      "Genus for k=15: 0.2422\n",
      "Genus for k=51: 0.1980\n"
     ]
    },
    {
     "name": "stderr",
     "output_type": "stream",
     "text": [
      "\n",
      " 40%|████      | 2/5 [05:24<08:05, 161.86s/it]\u001b[A"
     ]
    },
    {
     "name": "stdout",
     "output_type": "stream",
     "text": [
      "Genus for k=3: 0.2860\n",
      "Genus for k=15: 0.2435\n",
      "Genus for k=51: 0.1994\n"
     ]
    },
    {
     "name": "stderr",
     "output_type": "stream",
     "text": [
      "\n",
      " 60%|██████    | 3/5 [07:59<05:17, 158.70s/it]\u001b[A"
     ]
    },
    {
     "name": "stdout",
     "output_type": "stream",
     "text": [
      "Genus for k=3: 0.2819\n",
      "Genus for k=15: 0.2399\n",
      "Genus for k=51: 0.1977\n"
     ]
    },
    {
     "name": "stderr",
     "output_type": "stream",
     "text": [
      "\n",
      " 80%|████████  | 4/5 [10:36<02:38, 158.18s/it]\u001b[A"
     ]
    },
    {
     "name": "stdout",
     "output_type": "stream",
     "text": [
      "Genus for k=3: 0.2848\n",
      "Genus for k=15: 0.2424\n",
      "Genus for k=51: 0.1993\n"
     ]
    },
    {
     "name": "stderr",
     "output_type": "stream",
     "text": [
      "\n",
      "100%|██████████| 5/5 [13:19<00:00, 159.92s/it]\u001b[A\n",
      "\n",
      "  0%|          | 0/5 [00:00<?, ?it/s]\u001b[A"
     ]
    },
    {
     "name": "stdout",
     "output_type": "stream",
     "text": [
      "Genus for k=3: 0.2840\n",
      "Genus for k=15: 0.2404\n",
      "Genus for k=51: 0.1970\n"
     ]
    },
    {
     "name": "stderr",
     "output_type": "stream",
     "text": [
      "\n",
      " 20%|██        | 1/5 [03:07<12:29, 187.31s/it]\u001b[A"
     ]
    },
    {
     "name": "stdout",
     "output_type": "stream",
     "text": [
      "Genus for k=3: 0.2879\n",
      "Genus for k=15: 0.2436\n",
      "Genus for k=51: 0.2009\n"
     ]
    },
    {
     "name": "stderr",
     "output_type": "stream",
     "text": [
      "\n",
      " 40%|████      | 2/5 [06:06<09:06, 182.27s/it]\u001b[A"
     ]
    },
    {
     "name": "stdout",
     "output_type": "stream",
     "text": [
      "Genus for k=3: 0.2861\n",
      "Genus for k=15: 0.2413\n",
      "Genus for k=51: 0.1995\n"
     ]
    },
    {
     "name": "stderr",
     "output_type": "stream",
     "text": [
      "\n",
      " 60%|██████    | 3/5 [09:04<06:00, 180.30s/it]\u001b[A"
     ]
    },
    {
     "name": "stdout",
     "output_type": "stream",
     "text": [
      "Genus for k=3: 0.2859\n",
      "Genus for k=15: 0.2437\n",
      "Genus for k=51: 0.2005\n"
     ]
    },
    {
     "name": "stderr",
     "output_type": "stream",
     "text": [
      "\n",
      " 80%|████████  | 4/5 [11:59<02:58, 178.43s/it]\u001b[A"
     ]
    },
    {
     "name": "stdout",
     "output_type": "stream",
     "text": [
      "Genus for k=3: 0.2848\n",
      "Genus for k=15: 0.2438\n",
      "Genus for k=51: 0.2005\n"
     ]
    },
    {
     "name": "stderr",
     "output_type": "stream",
     "text": [
      "\n",
      "100%|██████████| 5/5 [14:40<00:00, 176.08s/it]\u001b[A\n",
      "\n",
      "  0%|          | 0/5 [00:00<?, ?it/s]\u001b[A"
     ]
    },
    {
     "name": "stdout",
     "output_type": "stream",
     "text": [
      "Genus for k=3: 0.2826\n",
      "Genus for k=15: 0.2419\n",
      "Genus for k=51: 0.1990\n"
     ]
    },
    {
     "name": "stderr",
     "output_type": "stream",
     "text": [
      "\n",
      " 20%|██        | 1/5 [01:45<07:01, 105.29s/it]\u001b[A"
     ]
    },
    {
     "name": "stdout",
     "output_type": "stream",
     "text": [
      "Genus for k=3: 0.2873\n",
      "Genus for k=15: 0.2433\n",
      "Genus for k=51: 0.1978\n"
     ]
    },
    {
     "name": "stderr",
     "output_type": "stream",
     "text": [
      "\n",
      " 40%|████      | 2/5 [03:27<05:11, 103.72s/it]\u001b[A"
     ]
    },
    {
     "name": "stdout",
     "output_type": "stream",
     "text": [
      "Genus for k=3: 0.2857\n",
      "Genus for k=15: 0.2433\n",
      "Genus for k=51: 0.2014\n"
     ]
    },
    {
     "name": "stderr",
     "output_type": "stream",
     "text": [
      "\n",
      " 60%|██████    | 3/5 [05:12<03:27, 103.89s/it]\u001b[A"
     ]
    },
    {
     "name": "stdout",
     "output_type": "stream",
     "text": [
      "Genus for k=3: 0.2854\n",
      "Genus for k=15: 0.2432\n",
      "Genus for k=51: 0.1989\n"
     ]
    },
    {
     "name": "stderr",
     "output_type": "stream",
     "text": [
      "\n",
      " 80%|████████  | 4/5 [06:57<01:44, 104.34s/it]\u001b[A"
     ]
    },
    {
     "name": "stdout",
     "output_type": "stream",
     "text": [
      "Genus for k=3: 0.2864\n",
      "Genus for k=15: 0.2432\n",
      "Genus for k=51: 0.1994\n"
     ]
    },
    {
     "name": "stderr",
     "output_type": "stream",
     "text": [
      "\n",
      "100%|██████████| 5/5 [08:39<00:00, 103.96s/it]\u001b[A\n",
      "\n",
      "  0%|          | 0/5 [00:00<?, ?it/s]\u001b[A"
     ]
    },
    {
     "name": "stdout",
     "output_type": "stream",
     "text": [
      "Genus for k=3: 0.2863\n",
      "Genus for k=15: 0.2458\n",
      "Genus for k=51: 0.2018\n"
     ]
    },
    {
     "name": "stderr",
     "output_type": "stream",
     "text": [
      "\n",
      " 20%|██        | 1/5 [01:44<06:57, 104.35s/it]\u001b[A"
     ]
    },
    {
     "name": "stdout",
     "output_type": "stream",
     "text": [
      "Genus for k=3: 0.2859\n",
      "Genus for k=15: 0.2428\n",
      "Genus for k=51: 0.1986\n"
     ]
    },
    {
     "name": "stderr",
     "output_type": "stream",
     "text": [
      "\n",
      " 40%|████      | 2/5 [03:26<05:08, 102.98s/it]\u001b[A"
     ]
    },
    {
     "name": "stdout",
     "output_type": "stream",
     "text": [
      "Genus for k=3: 0.2829\n",
      "Genus for k=15: 0.2412\n",
      "Genus for k=51: 0.1977\n"
     ]
    },
    {
     "name": "stderr",
     "output_type": "stream",
     "text": [
      "\n",
      " 60%|██████    | 3/5 [05:09<03:26, 103.01s/it]\u001b[A"
     ]
    },
    {
     "name": "stdout",
     "output_type": "stream",
     "text": [
      "Genus for k=3: 0.2861\n",
      "Genus for k=15: 0.2410\n",
      "Genus for k=51: 0.1963\n"
     ]
    },
    {
     "name": "stderr",
     "output_type": "stream",
     "text": [
      "\n",
      " 80%|████████  | 4/5 [06:52<01:43, 103.13s/it]\u001b[A"
     ]
    },
    {
     "name": "stdout",
     "output_type": "stream",
     "text": [
      "Genus for k=3: 0.2890\n",
      "Genus for k=15: 0.2470\n",
      "Genus for k=51: 0.2031\n"
     ]
    },
    {
     "name": "stderr",
     "output_type": "stream",
     "text": [
      "\n",
      "100%|██████████| 5/5 [08:36<00:00, 103.22s/it]\u001b[A\n",
      "\n",
      "  0%|          | 0/5 [00:00<?, ?it/s]\u001b[A"
     ]
    },
    {
     "name": "stdout",
     "output_type": "stream",
     "text": [
      "Genus for k=3: 0.2850\n",
      "Genus for k=15: 0.2421\n",
      "Genus for k=51: 0.1984\n"
     ]
    },
    {
     "name": "stderr",
     "output_type": "stream",
     "text": [
      "\n",
      " 20%|██        | 1/5 [01:42<06:48, 102.17s/it]\u001b[A"
     ]
    },
    {
     "name": "stdout",
     "output_type": "stream",
     "text": [
      "Genus for k=3: 0.2871\n",
      "Genus for k=15: 0.2438\n",
      "Genus for k=51: 0.1992\n"
     ]
    },
    {
     "name": "stderr",
     "output_type": "stream",
     "text": [
      "\n",
      " 40%|████      | 2/5 [03:54<06:00, 120.15s/it]\u001b[A"
     ]
    },
    {
     "name": "stdout",
     "output_type": "stream",
     "text": [
      "Genus for k=3: 0.2857\n",
      "Genus for k=15: 0.2434\n",
      "Genus for k=51: 0.2006\n"
     ]
    },
    {
     "name": "stderr",
     "output_type": "stream",
     "text": [
      "\n",
      " 60%|██████    | 3/5 [06:02<04:07, 123.64s/it]\u001b[A"
     ]
    },
    {
     "name": "stdout",
     "output_type": "stream",
     "text": [
      "Genus for k=3: 0.2845\n",
      "Genus for k=15: 0.2406\n",
      "Genus for k=51: 0.1992\n"
     ]
    },
    {
     "name": "stderr",
     "output_type": "stream",
     "text": [
      "\n",
      " 80%|████████  | 4/5 [07:45<01:55, 115.56s/it]\u001b[A"
     ]
    },
    {
     "name": "stdout",
     "output_type": "stream",
     "text": [
      "Genus for k=3: 0.2845\n",
      "Genus for k=15: 0.2438\n",
      "Genus for k=51: 0.2010\n"
     ]
    },
    {
     "name": "stderr",
     "output_type": "stream",
     "text": [
      "\n",
      "100%|██████████| 5/5 [09:27<00:00, 113.56s/it]\u001b[A\n",
      "\n",
      "  0%|          | 0/5 [00:00<?, ?it/s]\u001b[A"
     ]
    },
    {
     "name": "stdout",
     "output_type": "stream",
     "text": [
      "Genus for k=3: 0.2860\n",
      "Genus for k=15: 0.2431\n",
      "Genus for k=51: 0.2005\n"
     ]
    },
    {
     "name": "stderr",
     "output_type": "stream",
     "text": [
      "\n",
      " 20%|██        | 1/5 [01:41<06:44, 101.10s/it]\u001b[A"
     ]
    },
    {
     "name": "stdout",
     "output_type": "stream",
     "text": [
      "Genus for k=3: 0.2814\n",
      "Genus for k=15: 0.2399\n",
      "Genus for k=51: 0.1967\n"
     ]
    },
    {
     "name": "stderr",
     "output_type": "stream",
     "text": [
      "\n",
      " 40%|████      | 2/5 [03:21<05:01, 100.46s/it]\u001b[A"
     ]
    },
    {
     "name": "stdout",
     "output_type": "stream",
     "text": [
      "Genus for k=3: 0.2867\n",
      "Genus for k=15: 0.2448\n",
      "Genus for k=51: 0.1997\n"
     ]
    },
    {
     "name": "stderr",
     "output_type": "stream",
     "text": [
      "\n",
      " 60%|██████    | 3/5 [05:01<03:21, 100.59s/it]\u001b[A"
     ]
    },
    {
     "name": "stdout",
     "output_type": "stream",
     "text": [
      "Genus for k=3: 0.2843\n",
      "Genus for k=15: 0.2408\n",
      "Genus for k=51: 0.1979\n"
     ]
    },
    {
     "name": "stderr",
     "output_type": "stream",
     "text": [
      "\n",
      " 80%|████████  | 4/5 [06:50<01:43, 103.67s/it]\u001b[A"
     ]
    },
    {
     "name": "stdout",
     "output_type": "stream",
     "text": [
      "Genus for k=3: 0.2861\n",
      "Genus for k=15: 0.2441\n",
      "Genus for k=51: 0.2016\n"
     ]
    },
    {
     "name": "stderr",
     "output_type": "stream",
     "text": [
      "\n",
      "100%|██████████| 5/5 [08:32<00:00, 102.54s/it]\u001b[A\n",
      " 33%|███▎      | 4/12 [7:51:34<15:37:07, 7028.46s/it]"
     ]
    },
    {
     "name": "stdout",
     "output_type": "stream",
     "text": [
      "SUPFAM\n"
     ]
    },
    {
     "name": "stderr",
     "output_type": "stream",
     "text": [
      "\n",
      "  0%|          | 0/5 [00:00<?, ?it/s]\u001b[A"
     ]
    },
    {
     "name": "stdout",
     "output_type": "stream",
     "text": [
      "SUPFAM for k=3: 0.6530\n",
      "SUPFAM for k=15: 0.6081\n",
      "SUPFAM for k=51: 0.5206\n"
     ]
    },
    {
     "name": "stderr",
     "output_type": "stream",
     "text": [
      "\n",
      " 20%|██        | 1/5 [01:15<05:02, 75.69s/it]\u001b[A"
     ]
    },
    {
     "name": "stdout",
     "output_type": "stream",
     "text": [
      "SUPFAM for k=3: 0.6516\n",
      "SUPFAM for k=15: 0.6082\n",
      "SUPFAM for k=51: 0.5201\n"
     ]
    },
    {
     "name": "stderr",
     "output_type": "stream",
     "text": [
      "\n",
      " 40%|████      | 2/5 [02:30<03:45, 75.32s/it]\u001b[A"
     ]
    },
    {
     "name": "stdout",
     "output_type": "stream",
     "text": [
      "SUPFAM for k=3: 0.6550\n",
      "SUPFAM for k=15: 0.6102\n",
      "SUPFAM for k=51: 0.5227\n"
     ]
    },
    {
     "name": "stderr",
     "output_type": "stream",
     "text": [
      "\n",
      " 60%|██████    | 3/5 [03:45<02:30, 75.24s/it]\u001b[A"
     ]
    },
    {
     "name": "stdout",
     "output_type": "stream",
     "text": [
      "SUPFAM for k=3: 0.6565\n",
      "SUPFAM for k=15: 0.6084\n",
      "SUPFAM for k=51: 0.5217\n"
     ]
    },
    {
     "name": "stderr",
     "output_type": "stream",
     "text": [
      "\n",
      " 80%|████████  | 4/5 [05:00<01:15, 75.12s/it]\u001b[A"
     ]
    },
    {
     "name": "stdout",
     "output_type": "stream",
     "text": [
      "SUPFAM for k=3: 0.6494\n",
      "SUPFAM for k=15: 0.6042\n",
      "SUPFAM for k=51: 0.5190\n"
     ]
    },
    {
     "name": "stderr",
     "output_type": "stream",
     "text": [
      "\n",
      "100%|██████████| 5/5 [06:16<00:00, 75.30s/it]\u001b[A\n",
      "\n",
      "  0%|          | 0/5 [00:00<?, ?it/s]\u001b[A"
     ]
    },
    {
     "name": "stdout",
     "output_type": "stream",
     "text": [
      "SUPFAM for k=3: 0.6527\n",
      "SUPFAM for k=15: 0.6113\n",
      "SUPFAM for k=51: 0.5231\n"
     ]
    },
    {
     "name": "stderr",
     "output_type": "stream",
     "text": [
      "\n",
      " 20%|██        | 1/5 [01:15<05:02, 75.70s/it]\u001b[A"
     ]
    },
    {
     "name": "stdout",
     "output_type": "stream",
     "text": [
      "SUPFAM for k=3: 0.6502\n",
      "SUPFAM for k=15: 0.6064\n",
      "SUPFAM for k=51: 0.5196\n"
     ]
    },
    {
     "name": "stderr",
     "output_type": "stream",
     "text": [
      "\n",
      " 40%|████      | 2/5 [02:31<03:46, 75.61s/it]\u001b[A"
     ]
    },
    {
     "name": "stdout",
     "output_type": "stream",
     "text": [
      "SUPFAM for k=3: 0.6575\n",
      "SUPFAM for k=15: 0.6107\n",
      "SUPFAM for k=51: 0.5232\n"
     ]
    },
    {
     "name": "stderr",
     "output_type": "stream",
     "text": [
      "\n",
      " 60%|██████    | 3/5 [03:47<02:31, 75.88s/it]\u001b[A"
     ]
    },
    {
     "name": "stdout",
     "output_type": "stream",
     "text": [
      "SUPFAM for k=3: 0.6553\n",
      "SUPFAM for k=15: 0.6078\n",
      "SUPFAM for k=51: 0.5191\n"
     ]
    },
    {
     "name": "stderr",
     "output_type": "stream",
     "text": [
      "\n",
      " 80%|████████  | 4/5 [05:04<01:16, 76.15s/it]\u001b[A"
     ]
    },
    {
     "name": "stdout",
     "output_type": "stream",
     "text": [
      "SUPFAM for k=3: 0.6476\n",
      "SUPFAM for k=15: 0.6046\n",
      "SUPFAM for k=51: 0.5193\n"
     ]
    },
    {
     "name": "stderr",
     "output_type": "stream",
     "text": [
      "\n",
      "100%|██████████| 5/5 [06:20<00:00, 76.12s/it]\u001b[A\n",
      "\n",
      "  0%|          | 0/5 [00:00<?, ?it/s]\u001b[A"
     ]
    },
    {
     "name": "stdout",
     "output_type": "stream",
     "text": [
      "SUPFAM for k=3: 0.6510\n",
      "SUPFAM for k=15: 0.6073\n",
      "SUPFAM for k=51: 0.5221\n"
     ]
    },
    {
     "name": "stderr",
     "output_type": "stream",
     "text": [
      "\n",
      " 20%|██        | 1/5 [01:16<05:05, 76.48s/it]\u001b[A"
     ]
    },
    {
     "name": "stdout",
     "output_type": "stream",
     "text": [
      "SUPFAM for k=3: 0.6516\n",
      "SUPFAM for k=15: 0.6082\n",
      "SUPFAM for k=51: 0.5200\n"
     ]
    },
    {
     "name": "stderr",
     "output_type": "stream",
     "text": [
      "\n",
      " 40%|████      | 2/5 [02:32<03:47, 75.99s/it]\u001b[A"
     ]
    },
    {
     "name": "stdout",
     "output_type": "stream",
     "text": [
      "SUPFAM for k=3: 0.6516\n",
      "SUPFAM for k=15: 0.6083\n",
      "SUPFAM for k=51: 0.5241\n"
     ]
    },
    {
     "name": "stderr",
     "output_type": "stream",
     "text": [
      "\n",
      " 60%|██████    | 3/5 [03:49<02:33, 76.57s/it]\u001b[A"
     ]
    },
    {
     "name": "stdout",
     "output_type": "stream",
     "text": [
      "SUPFAM for k=3: 0.6575\n",
      "SUPFAM for k=15: 0.6125\n",
      "SUPFAM for k=51: 0.5218\n"
     ]
    },
    {
     "name": "stderr",
     "output_type": "stream",
     "text": [
      "\n",
      " 80%|████████  | 4/5 [05:05<01:16, 76.24s/it]\u001b[A"
     ]
    },
    {
     "name": "stdout",
     "output_type": "stream",
     "text": [
      "SUPFAM for k=3: 0.6542\n",
      "SUPFAM for k=15: 0.6078\n",
      "SUPFAM for k=51: 0.5171\n"
     ]
    },
    {
     "name": "stderr",
     "output_type": "stream",
     "text": [
      "\n",
      "100%|██████████| 5/5 [06:22<00:00, 76.43s/it]\u001b[A\n",
      "\n",
      "  0%|          | 0/5 [00:00<?, ?it/s]\u001b[A"
     ]
    },
    {
     "name": "stdout",
     "output_type": "stream",
     "text": [
      "SUPFAM for k=3: 0.6534\n",
      "SUPFAM for k=15: 0.6074\n",
      "SUPFAM for k=51: 0.5209\n"
     ]
    },
    {
     "name": "stderr",
     "output_type": "stream",
     "text": [
      "\n",
      " 20%|██        | 1/5 [01:15<05:02, 75.64s/it]\u001b[A"
     ]
    },
    {
     "name": "stdout",
     "output_type": "stream",
     "text": [
      "SUPFAM for k=3: 0.6513\n",
      "SUPFAM for k=15: 0.6071\n",
      "SUPFAM for k=51: 0.5205\n"
     ]
    },
    {
     "name": "stderr",
     "output_type": "stream",
     "text": [
      "\n",
      " 40%|████      | 2/5 [02:31<03:47, 75.85s/it]\u001b[A"
     ]
    },
    {
     "name": "stdout",
     "output_type": "stream",
     "text": [
      "SUPFAM for k=3: 0.6527\n",
      "SUPFAM for k=15: 0.6076\n",
      "SUPFAM for k=51: 0.5192\n"
     ]
    },
    {
     "name": "stderr",
     "output_type": "stream",
     "text": [
      "\n",
      " 60%|██████    | 3/5 [03:47<02:31, 75.97s/it]\u001b[A"
     ]
    },
    {
     "name": "stdout",
     "output_type": "stream",
     "text": [
      "SUPFAM for k=3: 0.6544\n",
      "SUPFAM for k=15: 0.6097\n",
      "SUPFAM for k=51: 0.5241\n"
     ]
    },
    {
     "name": "stderr",
     "output_type": "stream",
     "text": [
      "\n",
      " 80%|████████  | 4/5 [05:02<01:15, 75.55s/it]\u001b[A"
     ]
    },
    {
     "name": "stdout",
     "output_type": "stream",
     "text": [
      "SUPFAM for k=3: 0.6547\n",
      "SUPFAM for k=15: 0.6062\n",
      "SUPFAM for k=51: 0.5177\n"
     ]
    },
    {
     "name": "stderr",
     "output_type": "stream",
     "text": [
      "\n",
      "100%|██████████| 5/5 [06:18<00:00, 75.61s/it]\u001b[A\n",
      "\n",
      "  0%|          | 0/5 [00:00<?, ?it/s]\u001b[A"
     ]
    },
    {
     "name": "stdout",
     "output_type": "stream",
     "text": [
      "SUPFAM for k=3: 0.6536\n",
      "SUPFAM for k=15: 0.6086\n",
      "SUPFAM for k=51: 0.5203\n"
     ]
    },
    {
     "name": "stderr",
     "output_type": "stream",
     "text": [
      "\n",
      " 20%|██        | 1/5 [01:15<05:01, 75.43s/it]\u001b[A"
     ]
    },
    {
     "name": "stdout",
     "output_type": "stream",
     "text": [
      "SUPFAM for k=3: 0.6502\n",
      "SUPFAM for k=15: 0.6050\n",
      "SUPFAM for k=51: 0.5189\n"
     ]
    },
    {
     "name": "stderr",
     "output_type": "stream",
     "text": [
      "\n",
      " 40%|████      | 2/5 [02:31<03:46, 75.52s/it]\u001b[A"
     ]
    },
    {
     "name": "stdout",
     "output_type": "stream",
     "text": [
      "SUPFAM for k=3: 0.6523\n",
      "SUPFAM for k=15: 0.6060\n",
      "SUPFAM for k=51: 0.5176\n"
     ]
    },
    {
     "name": "stderr",
     "output_type": "stream",
     "text": [
      "\n",
      " 60%|██████    | 3/5 [03:47<02:31, 75.83s/it]\u001b[A"
     ]
    },
    {
     "name": "stdout",
     "output_type": "stream",
     "text": [
      "SUPFAM for k=3: 0.6512\n",
      "SUPFAM for k=15: 0.6079\n",
      "SUPFAM for k=51: 0.5227\n"
     ]
    },
    {
     "name": "stderr",
     "output_type": "stream",
     "text": [
      "\n",
      " 80%|████████  | 4/5 [05:02<01:15, 75.56s/it]\u001b[A"
     ]
    },
    {
     "name": "stdout",
     "output_type": "stream",
     "text": [
      "SUPFAM for k=3: 0.6563\n",
      "SUPFAM for k=15: 0.6116\n",
      "SUPFAM for k=51: 0.5227\n"
     ]
    },
    {
     "name": "stderr",
     "output_type": "stream",
     "text": [
      "\n",
      "100%|██████████| 5/5 [06:18<00:00, 75.62s/it]\u001b[A\n",
      "\n",
      "  0%|          | 0/5 [00:00<?, ?it/s]\u001b[A"
     ]
    },
    {
     "name": "stdout",
     "output_type": "stream",
     "text": [
      "SUPFAM for k=3: 0.6565\n",
      "SUPFAM for k=15: 0.6133\n",
      "SUPFAM for k=51: 0.5248\n"
     ]
    },
    {
     "name": "stderr",
     "output_type": "stream",
     "text": [
      "\n",
      " 20%|██        | 1/5 [01:15<05:01, 75.32s/it]\u001b[A"
     ]
    },
    {
     "name": "stdout",
     "output_type": "stream",
     "text": [
      "SUPFAM for k=3: 0.6474\n",
      "SUPFAM for k=15: 0.6047\n",
      "SUPFAM for k=51: 0.5210\n"
     ]
    },
    {
     "name": "stderr",
     "output_type": "stream",
     "text": [
      "\n",
      " 40%|████      | 2/5 [02:31<03:47, 75.98s/it]\u001b[A"
     ]
    },
    {
     "name": "stdout",
     "output_type": "stream",
     "text": [
      "SUPFAM for k=3: 0.6544\n",
      "SUPFAM for k=15: 0.6099\n",
      "SUPFAM for k=51: 0.5233\n"
     ]
    },
    {
     "name": "stderr",
     "output_type": "stream",
     "text": [
      "\n",
      " 60%|██████    | 3/5 [03:47<02:31, 75.80s/it]\u001b[A"
     ]
    },
    {
     "name": "stdout",
     "output_type": "stream",
     "text": [
      "SUPFAM for k=3: 0.6525\n",
      "SUPFAM for k=15: 0.6065\n",
      "SUPFAM for k=51: 0.5191\n"
     ]
    },
    {
     "name": "stderr",
     "output_type": "stream",
     "text": [
      "\n",
      " 80%|████████  | 4/5 [05:04<01:16, 76.30s/it]\u001b[A"
     ]
    },
    {
     "name": "stdout",
     "output_type": "stream",
     "text": [
      "SUPFAM for k=3: 0.6523\n",
      "SUPFAM for k=15: 0.6051\n",
      "SUPFAM for k=51: 0.5155\n"
     ]
    },
    {
     "name": "stderr",
     "output_type": "stream",
     "text": [
      "\n",
      "100%|██████████| 5/5 [06:19<00:00, 75.99s/it]\u001b[A\n",
      "\n",
      "  0%|          | 0/5 [00:00<?, ?it/s]\u001b[A"
     ]
    },
    {
     "name": "stdout",
     "output_type": "stream",
     "text": [
      "SUPFAM for k=3: 0.6533\n",
      "SUPFAM for k=15: 0.6090\n",
      "SUPFAM for k=51: 0.5216\n"
     ]
    },
    {
     "name": "stderr",
     "output_type": "stream",
     "text": [
      "\n",
      " 20%|██        | 1/5 [01:15<05:00, 75.08s/it]\u001b[A"
     ]
    },
    {
     "name": "stdout",
     "output_type": "stream",
     "text": [
      "SUPFAM for k=3: 0.6536\n",
      "SUPFAM for k=15: 0.6060\n",
      "SUPFAM for k=51: 0.5160\n"
     ]
    },
    {
     "name": "stderr",
     "output_type": "stream",
     "text": [
      "\n",
      " 40%|████      | 2/5 [02:30<03:45, 75.28s/it]\u001b[A"
     ]
    },
    {
     "name": "stdout",
     "output_type": "stream",
     "text": [
      "SUPFAM for k=3: 0.6526\n",
      "SUPFAM for k=15: 0.6092\n",
      "SUPFAM for k=51: 0.5212\n"
     ]
    },
    {
     "name": "stderr",
     "output_type": "stream",
     "text": [
      "\n",
      " 60%|██████    | 3/5 [03:45<02:29, 74.98s/it]\u001b[A"
     ]
    },
    {
     "name": "stdout",
     "output_type": "stream",
     "text": [
      "SUPFAM for k=3: 0.6491\n",
      "SUPFAM for k=15: 0.6066\n",
      "SUPFAM for k=51: 0.5180\n"
     ]
    },
    {
     "name": "stderr",
     "output_type": "stream",
     "text": [
      "\n",
      " 80%|████████  | 4/5 [05:00<01:15, 75.22s/it]\u001b[A"
     ]
    },
    {
     "name": "stdout",
     "output_type": "stream",
     "text": [
      "SUPFAM for k=3: 0.6538\n",
      "SUPFAM for k=15: 0.6122\n",
      "SUPFAM for k=51: 0.5229\n"
     ]
    },
    {
     "name": "stderr",
     "output_type": "stream",
     "text": [
      "\n",
      "100%|██████████| 5/5 [06:15<00:00, 75.05s/it]\u001b[A\n",
      "\n",
      "  0%|          | 0/5 [00:00<?, ?it/s]\u001b[A"
     ]
    },
    {
     "name": "stdout",
     "output_type": "stream",
     "text": [
      "SUPFAM for k=3: 0.6530\n",
      "SUPFAM for k=15: 0.6067\n",
      "SUPFAM for k=51: 0.5191\n"
     ]
    },
    {
     "name": "stderr",
     "output_type": "stream",
     "text": [
      "\n",
      " 20%|██        | 1/5 [01:15<05:01, 75.32s/it]\u001b[A"
     ]
    },
    {
     "name": "stdout",
     "output_type": "stream",
     "text": [
      "SUPFAM for k=3: 0.6552\n",
      "SUPFAM for k=15: 0.6084\n",
      "SUPFAM for k=51: 0.5206\n"
     ]
    },
    {
     "name": "stderr",
     "output_type": "stream",
     "text": [
      "\n",
      " 40%|████      | 2/5 [02:30<03:45, 75.01s/it]\u001b[A"
     ]
    },
    {
     "name": "stdout",
     "output_type": "stream",
     "text": [
      "SUPFAM for k=3: 0.6531\n",
      "SUPFAM for k=15: 0.6050\n",
      "SUPFAM for k=51: 0.5206\n"
     ]
    },
    {
     "name": "stderr",
     "output_type": "stream",
     "text": [
      "\n",
      " 60%|██████    | 3/5 [03:44<02:29, 74.88s/it]\u001b[A"
     ]
    },
    {
     "name": "stdout",
     "output_type": "stream",
     "text": [
      "SUPFAM for k=3: 0.6526\n",
      "SUPFAM for k=15: 0.6072\n",
      "SUPFAM for k=51: 0.5179\n"
     ]
    },
    {
     "name": "stderr",
     "output_type": "stream",
     "text": [
      "\n",
      " 80%|████████  | 4/5 [05:01<01:15, 75.42s/it]\u001b[A"
     ]
    },
    {
     "name": "stdout",
     "output_type": "stream",
     "text": [
      "SUPFAM for k=3: 0.6510\n",
      "SUPFAM for k=15: 0.6117\n",
      "SUPFAM for k=51: 0.5260\n"
     ]
    },
    {
     "name": "stderr",
     "output_type": "stream",
     "text": [
      "\n",
      "100%|██████████| 5/5 [06:16<00:00, 75.33s/it]\u001b[A\n",
      "\n",
      "  0%|          | 0/5 [00:00<?, ?it/s]\u001b[A"
     ]
    },
    {
     "name": "stdout",
     "output_type": "stream",
     "text": [
      "SUPFAM for k=3: 0.6550\n",
      "SUPFAM for k=15: 0.6103\n",
      "SUPFAM for k=51: 0.5225\n"
     ]
    },
    {
     "name": "stderr",
     "output_type": "stream",
     "text": [
      "\n",
      " 20%|██        | 1/5 [01:15<05:00, 75.05s/it]\u001b[A"
     ]
    },
    {
     "name": "stdout",
     "output_type": "stream",
     "text": [
      "SUPFAM for k=3: 0.6521\n",
      "SUPFAM for k=15: 0.6104\n",
      "SUPFAM for k=51: 0.5256\n"
     ]
    },
    {
     "name": "stderr",
     "output_type": "stream",
     "text": [
      "\n",
      " 40%|████      | 2/5 [02:30<03:46, 75.51s/it]\u001b[A"
     ]
    },
    {
     "name": "stdout",
     "output_type": "stream",
     "text": [
      "SUPFAM for k=3: 0.6509\n",
      "SUPFAM for k=15: 0.6045\n",
      "SUPFAM for k=51: 0.5175\n"
     ]
    },
    {
     "name": "stderr",
     "output_type": "stream",
     "text": [
      "\n",
      " 60%|██████    | 3/5 [03:45<02:30, 75.00s/it]\u001b[A"
     ]
    },
    {
     "name": "stdout",
     "output_type": "stream",
     "text": [
      "SUPFAM for k=3: 0.6493\n",
      "SUPFAM for k=15: 0.6045\n",
      "SUPFAM for k=51: 0.5179\n"
     ]
    },
    {
     "name": "stderr",
     "output_type": "stream",
     "text": [
      "\n",
      " 80%|████████  | 4/5 [05:00<01:14, 74.98s/it]\u001b[A"
     ]
    },
    {
     "name": "stdout",
     "output_type": "stream",
     "text": [
      "SUPFAM for k=3: 0.6547\n",
      "SUPFAM for k=15: 0.6109\n",
      "SUPFAM for k=51: 0.5219\n"
     ]
    },
    {
     "name": "stderr",
     "output_type": "stream",
     "text": [
      "\n",
      "100%|██████████| 5/5 [06:15<00:00, 75.02s/it]\u001b[A\n",
      "\n",
      "  0%|          | 0/5 [00:00<?, ?it/s]\u001b[A"
     ]
    },
    {
     "name": "stdout",
     "output_type": "stream",
     "text": [
      "SUPFAM for k=3: 0.6592\n",
      "SUPFAM for k=15: 0.6145\n",
      "SUPFAM for k=51: 0.5276\n"
     ]
    },
    {
     "name": "stderr",
     "output_type": "stream",
     "text": [
      "\n",
      " 20%|██        | 1/5 [01:15<05:00, 75.21s/it]\u001b[A"
     ]
    },
    {
     "name": "stdout",
     "output_type": "stream",
     "text": [
      "SUPFAM for k=3: 0.6466\n",
      "SUPFAM for k=15: 0.6009\n",
      "SUPFAM for k=51: 0.5149\n"
     ]
    },
    {
     "name": "stderr",
     "output_type": "stream",
     "text": [
      "\n",
      " 40%|████      | 2/5 [02:29<03:44, 74.85s/it]\u001b[A"
     ]
    },
    {
     "name": "stdout",
     "output_type": "stream",
     "text": [
      "SUPFAM for k=3: 0.6513\n",
      "SUPFAM for k=15: 0.6072\n",
      "SUPFAM for k=51: 0.5181\n"
     ]
    },
    {
     "name": "stderr",
     "output_type": "stream",
     "text": [
      "\n",
      " 60%|██████    | 3/5 [03:43<02:28, 74.23s/it]\u001b[A"
     ]
    },
    {
     "name": "stdout",
     "output_type": "stream",
     "text": [
      "SUPFAM for k=3: 0.6548\n",
      "SUPFAM for k=15: 0.6115\n",
      "SUPFAM for k=51: 0.5242\n"
     ]
    },
    {
     "name": "stderr",
     "output_type": "stream",
     "text": [
      "\n",
      " 80%|████████  | 4/5 [04:58<01:14, 74.53s/it]\u001b[A"
     ]
    },
    {
     "name": "stdout",
     "output_type": "stream",
     "text": [
      "SUPFAM for k=3: 0.6531\n",
      "SUPFAM for k=15: 0.6075\n",
      "SUPFAM for k=51: 0.5189\n"
     ]
    },
    {
     "name": "stderr",
     "output_type": "stream",
     "text": [
      "\n",
      "100%|██████████| 5/5 [06:13<00:00, 74.66s/it]\u001b[A\n",
      " 42%|████▏     | 5/12 [8:54:30<11:23:08, 5855.57s/it]"
     ]
    },
    {
     "name": "stdout",
     "output_type": "stream",
     "text": [
      "Gene3D\n"
     ]
    },
    {
     "name": "stderr",
     "output_type": "stream",
     "text": [
      "\n",
      "  0%|          | 0/5 [00:00<?, ?it/s]\u001b[A"
     ]
    },
    {
     "name": "stdout",
     "output_type": "stream",
     "text": [
      "Gene3D for k=3: 0.6684\n",
      "Gene3D for k=15: 0.6232\n",
      "Gene3D for k=51: 0.5440\n"
     ]
    },
    {
     "name": "stderr",
     "output_type": "stream",
     "text": [
      "\n",
      " 20%|██        | 1/5 [00:59<03:57, 59.49s/it]\u001b[A"
     ]
    },
    {
     "name": "stdout",
     "output_type": "stream",
     "text": [
      "Gene3D for k=3: 0.6743\n",
      "Gene3D for k=15: 0.6263\n",
      "Gene3D for k=51: 0.5456\n"
     ]
    },
    {
     "name": "stderr",
     "output_type": "stream",
     "text": [
      "\n",
      " 40%|████      | 2/5 [01:59<02:58, 59.61s/it]\u001b[A"
     ]
    },
    {
     "name": "stdout",
     "output_type": "stream",
     "text": [
      "Gene3D for k=3: 0.6768\n",
      "Gene3D for k=15: 0.6322\n",
      "Gene3D for k=51: 0.5510\n"
     ]
    },
    {
     "name": "stderr",
     "output_type": "stream",
     "text": [
      "\n",
      " 60%|██████    | 3/5 [02:59<01:59, 59.93s/it]\u001b[A"
     ]
    },
    {
     "name": "stdout",
     "output_type": "stream",
     "text": [
      "Gene3D for k=3: 0.6713\n",
      "Gene3D for k=15: 0.6283\n",
      "Gene3D for k=51: 0.5446\n"
     ]
    },
    {
     "name": "stderr",
     "output_type": "stream",
     "text": [
      "\n",
      " 80%|████████  | 4/5 [03:58<00:59, 59.71s/it]\u001b[A"
     ]
    },
    {
     "name": "stdout",
     "output_type": "stream",
     "text": [
      "Gene3D for k=3: 0.6704\n",
      "Gene3D for k=15: 0.6312\n",
      "Gene3D for k=51: 0.5489\n"
     ]
    },
    {
     "name": "stderr",
     "output_type": "stream",
     "text": [
      "\n",
      "100%|██████████| 5/5 [04:59<00:00, 59.85s/it]\u001b[A\n",
      "\n",
      "  0%|          | 0/5 [00:00<?, ?it/s]\u001b[A"
     ]
    },
    {
     "name": "stdout",
     "output_type": "stream",
     "text": [
      "Gene3D for k=3: 0.6757\n",
      "Gene3D for k=15: 0.6322\n",
      "Gene3D for k=51: 0.5509\n"
     ]
    },
    {
     "name": "stderr",
     "output_type": "stream",
     "text": [
      "\n",
      " 20%|██        | 1/5 [00:59<03:58, 59.75s/it]\u001b[A"
     ]
    },
    {
     "name": "stdout",
     "output_type": "stream",
     "text": [
      "Gene3D for k=3: 0.6696\n",
      "Gene3D for k=15: 0.6285\n",
      "Gene3D for k=51: 0.5475\n"
     ]
    },
    {
     "name": "stderr",
     "output_type": "stream",
     "text": [
      "\n",
      " 40%|████      | 2/5 [02:00<03:00, 60.05s/it]\u001b[A"
     ]
    },
    {
     "name": "stdout",
     "output_type": "stream",
     "text": [
      "Gene3D for k=3: 0.6697\n",
      "Gene3D for k=15: 0.6291\n",
      "Gene3D for k=51: 0.5484\n"
     ]
    },
    {
     "name": "stderr",
     "output_type": "stream",
     "text": [
      "\n",
      " 60%|██████    | 3/5 [03:00<02:00, 60.10s/it]\u001b[A"
     ]
    },
    {
     "name": "stdout",
     "output_type": "stream",
     "text": [
      "Gene3D for k=3: 0.6739\n",
      "Gene3D for k=15: 0.6244\n",
      "Gene3D for k=51: 0.5470\n"
     ]
    },
    {
     "name": "stderr",
     "output_type": "stream",
     "text": [
      "\n",
      " 80%|████████  | 4/5 [03:59<00:59, 59.94s/it]\u001b[A"
     ]
    },
    {
     "name": "stdout",
     "output_type": "stream",
     "text": [
      "Gene3D for k=3: 0.6716\n",
      "Gene3D for k=15: 0.6269\n",
      "Gene3D for k=51: 0.5430\n"
     ]
    },
    {
     "name": "stderr",
     "output_type": "stream",
     "text": [
      "\n",
      "100%|██████████| 5/5 [04:59<00:00, 59.92s/it]\u001b[A\n",
      "\n",
      "  0%|          | 0/5 [00:00<?, ?it/s]\u001b[A"
     ]
    },
    {
     "name": "stdout",
     "output_type": "stream",
     "text": [
      "Gene3D for k=3: 0.6761\n",
      "Gene3D for k=15: 0.6312\n",
      "Gene3D for k=51: 0.5521\n"
     ]
    },
    {
     "name": "stderr",
     "output_type": "stream",
     "text": [
      "\n",
      " 20%|██        | 1/5 [01:00<04:00, 60.20s/it]\u001b[A"
     ]
    },
    {
     "name": "stdout",
     "output_type": "stream",
     "text": [
      "Gene3D for k=3: 0.6723\n",
      "Gene3D for k=15: 0.6280\n",
      "Gene3D for k=51: 0.5522\n"
     ]
    },
    {
     "name": "stderr",
     "output_type": "stream",
     "text": [
      "\n",
      " 40%|████      | 2/5 [02:00<03:00, 60.11s/it]\u001b[A"
     ]
    },
    {
     "name": "stdout",
     "output_type": "stream",
     "text": [
      "Gene3D for k=3: 0.6716\n",
      "Gene3D for k=15: 0.6316\n",
      "Gene3D for k=51: 0.5484\n"
     ]
    },
    {
     "name": "stderr",
     "output_type": "stream",
     "text": [
      "\n",
      " 60%|██████    | 3/5 [03:00<02:00, 60.39s/it]\u001b[A"
     ]
    },
    {
     "name": "stdout",
     "output_type": "stream",
     "text": [
      "Gene3D for k=3: 0.6721\n",
      "Gene3D for k=15: 0.6273\n",
      "Gene3D for k=51: 0.5450\n"
     ]
    },
    {
     "name": "stderr",
     "output_type": "stream",
     "text": [
      "\n",
      " 80%|████████  | 4/5 [04:01<01:00, 60.32s/it]\u001b[A"
     ]
    },
    {
     "name": "stdout",
     "output_type": "stream",
     "text": [
      "Gene3D for k=3: 0.6704\n",
      "Gene3D for k=15: 0.6273\n",
      "Gene3D for k=51: 0.5426\n"
     ]
    },
    {
     "name": "stderr",
     "output_type": "stream",
     "text": [
      "\n",
      "100%|██████████| 5/5 [05:01<00:00, 60.26s/it]\u001b[A\n",
      "\n",
      "  0%|          | 0/5 [00:00<?, ?it/s]\u001b[A"
     ]
    },
    {
     "name": "stdout",
     "output_type": "stream",
     "text": [
      "Gene3D for k=3: 0.6717\n",
      "Gene3D for k=15: 0.6303\n",
      "Gene3D for k=51: 0.5480\n"
     ]
    },
    {
     "name": "stderr",
     "output_type": "stream",
     "text": [
      "\n",
      " 20%|██        | 1/5 [01:01<04:05, 61.47s/it]\u001b[A"
     ]
    },
    {
     "name": "stdout",
     "output_type": "stream",
     "text": [
      "Gene3D for k=3: 0.6682\n",
      "Gene3D for k=15: 0.6266\n",
      "Gene3D for k=51: 0.5482\n"
     ]
    },
    {
     "name": "stderr",
     "output_type": "stream",
     "text": [
      "\n",
      " 40%|████      | 2/5 [02:01<03:02, 60.76s/it]\u001b[A"
     ]
    },
    {
     "name": "stdout",
     "output_type": "stream",
     "text": [
      "Gene3D for k=3: 0.6726\n",
      "Gene3D for k=15: 0.6287\n",
      "Gene3D for k=51: 0.5491\n"
     ]
    },
    {
     "name": "stderr",
     "output_type": "stream",
     "text": [
      "\n",
      " 60%|██████    | 3/5 [03:02<02:01, 60.95s/it]\u001b[A"
     ]
    },
    {
     "name": "stdout",
     "output_type": "stream",
     "text": [
      "Gene3D for k=3: 0.6758\n",
      "Gene3D for k=15: 0.6310\n",
      "Gene3D for k=51: 0.5470\n"
     ]
    },
    {
     "name": "stderr",
     "output_type": "stream",
     "text": [
      "\n",
      " 80%|████████  | 4/5 [04:02<01:00, 60.44s/it]\u001b[A"
     ]
    },
    {
     "name": "stdout",
     "output_type": "stream",
     "text": [
      "Gene3D for k=3: 0.6726\n",
      "Gene3D for k=15: 0.6258\n",
      "Gene3D for k=51: 0.5450\n"
     ]
    },
    {
     "name": "stderr",
     "output_type": "stream",
     "text": [
      "\n",
      "100%|██████████| 5/5 [05:02<00:00, 60.50s/it]\u001b[A\n",
      "\n",
      "  0%|          | 0/5 [00:00<?, ?it/s]\u001b[A"
     ]
    },
    {
     "name": "stdout",
     "output_type": "stream",
     "text": [
      "Gene3D for k=3: 0.6709\n",
      "Gene3D for k=15: 0.6287\n",
      "Gene3D for k=51: 0.5485\n"
     ]
    },
    {
     "name": "stderr",
     "output_type": "stream",
     "text": [
      "\n",
      " 20%|██        | 1/5 [01:00<04:00, 60.12s/it]\u001b[A"
     ]
    },
    {
     "name": "stdout",
     "output_type": "stream",
     "text": [
      "Gene3D for k=3: 0.6679\n",
      "Gene3D for k=15: 0.6202\n",
      "Gene3D for k=51: 0.5366\n"
     ]
    },
    {
     "name": "stderr",
     "output_type": "stream",
     "text": [
      "\n",
      " 40%|████      | 2/5 [02:00<03:00, 60.03s/it]\u001b[A"
     ]
    },
    {
     "name": "stdout",
     "output_type": "stream",
     "text": [
      "Gene3D for k=3: 0.6726\n",
      "Gene3D for k=15: 0.6273\n",
      "Gene3D for k=51: 0.5511\n"
     ]
    },
    {
     "name": "stderr",
     "output_type": "stream",
     "text": [
      "\n",
      " 60%|██████    | 3/5 [03:00<02:00, 60.31s/it]\u001b[A"
     ]
    },
    {
     "name": "stdout",
     "output_type": "stream",
     "text": [
      "Gene3D for k=3: 0.6768\n",
      "Gene3D for k=15: 0.6298\n",
      "Gene3D for k=51: 0.5487\n"
     ]
    },
    {
     "name": "stderr",
     "output_type": "stream",
     "text": [
      "\n",
      " 80%|████████  | 4/5 [04:00<01:00, 60.15s/it]\u001b[A"
     ]
    },
    {
     "name": "stdout",
     "output_type": "stream",
     "text": [
      "Gene3D for k=3: 0.6743\n",
      "Gene3D for k=15: 0.6328\n",
      "Gene3D for k=51: 0.5510\n"
     ]
    },
    {
     "name": "stderr",
     "output_type": "stream",
     "text": [
      "\n",
      "100%|██████████| 5/5 [05:00<00:00, 60.13s/it]\u001b[A\n",
      "\n",
      "  0%|          | 0/5 [00:00<?, ?it/s]\u001b[A"
     ]
    },
    {
     "name": "stdout",
     "output_type": "stream",
     "text": [
      "Gene3D for k=3: 0.6732\n",
      "Gene3D for k=15: 0.6296\n",
      "Gene3D for k=51: 0.5502\n"
     ]
    },
    {
     "name": "stderr",
     "output_type": "stream",
     "text": [
      "\n",
      " 20%|██        | 1/5 [01:00<04:01, 60.32s/it]\u001b[A"
     ]
    },
    {
     "name": "stdout",
     "output_type": "stream",
     "text": [
      "Gene3D for k=3: 0.6718\n",
      "Gene3D for k=15: 0.6275\n",
      "Gene3D for k=51: 0.5444\n"
     ]
    },
    {
     "name": "stderr",
     "output_type": "stream",
     "text": [
      "\n",
      " 40%|████      | 2/5 [02:01<03:01, 60.57s/it]\u001b[A"
     ]
    },
    {
     "name": "stdout",
     "output_type": "stream",
     "text": [
      "Gene3D for k=3: 0.6700\n",
      "Gene3D for k=15: 0.6275\n",
      "Gene3D for k=51: 0.5480\n"
     ]
    },
    {
     "name": "stderr",
     "output_type": "stream",
     "text": [
      "\n",
      " 60%|██████    | 3/5 [03:01<02:01, 60.60s/it]\u001b[A"
     ]
    },
    {
     "name": "stdout",
     "output_type": "stream",
     "text": [
      "Gene3D for k=3: 0.6698\n",
      "Gene3D for k=15: 0.6260\n",
      "Gene3D for k=51: 0.5447\n"
     ]
    },
    {
     "name": "stderr",
     "output_type": "stream",
     "text": [
      "\n",
      " 80%|████████  | 4/5 [04:01<01:00, 60.36s/it]\u001b[A"
     ]
    },
    {
     "name": "stdout",
     "output_type": "stream",
     "text": [
      "Gene3D for k=3: 0.6772\n",
      "Gene3D for k=15: 0.6318\n",
      "Gene3D for k=51: 0.5504\n"
     ]
    },
    {
     "name": "stderr",
     "output_type": "stream",
     "text": [
      "\n",
      "100%|██████████| 5/5 [05:04<00:00, 60.82s/it]\u001b[A\n",
      "\n",
      "  0%|          | 0/5 [00:00<?, ?it/s]\u001b[A"
     ]
    },
    {
     "name": "stdout",
     "output_type": "stream",
     "text": [
      "Gene3D for k=3: 0.6795\n",
      "Gene3D for k=15: 0.6328\n",
      "Gene3D for k=51: 0.5512\n"
     ]
    },
    {
     "name": "stderr",
     "output_type": "stream",
     "text": [
      "\n",
      " 20%|██        | 1/5 [01:01<04:05, 61.43s/it]\u001b[A"
     ]
    },
    {
     "name": "stdout",
     "output_type": "stream",
     "text": [
      "Gene3D for k=3: 0.6712\n",
      "Gene3D for k=15: 0.6286\n",
      "Gene3D for k=51: 0.5466\n"
     ]
    },
    {
     "name": "stderr",
     "output_type": "stream",
     "text": [
      "\n",
      " 40%|████      | 2/5 [02:02<03:04, 61.34s/it]\u001b[A"
     ]
    },
    {
     "name": "stdout",
     "output_type": "stream",
     "text": [
      "Gene3D for k=3: 0.6727\n",
      "Gene3D for k=15: 0.6312\n",
      "Gene3D for k=51: 0.5479\n"
     ]
    },
    {
     "name": "stderr",
     "output_type": "stream",
     "text": [
      "\n",
      " 60%|██████    | 3/5 [03:03<02:02, 61.18s/it]\u001b[A"
     ]
    },
    {
     "name": "stdout",
     "output_type": "stream",
     "text": [
      "Gene3D for k=3: 0.6693\n",
      "Gene3D for k=15: 0.6225\n",
      "Gene3D for k=51: 0.5439\n"
     ]
    },
    {
     "name": "stderr",
     "output_type": "stream",
     "text": [
      "\n",
      " 80%|████████  | 4/5 [04:05<01:01, 61.60s/it]\u001b[A"
     ]
    },
    {
     "name": "stdout",
     "output_type": "stream",
     "text": [
      "Gene3D for k=3: 0.6724\n",
      "Gene3D for k=15: 0.6295\n",
      "Gene3D for k=51: 0.5463\n"
     ]
    },
    {
     "name": "stderr",
     "output_type": "stream",
     "text": [
      "\n",
      "100%|██████████| 5/5 [05:07<00:00, 61.43s/it]\u001b[A\n",
      "\n",
      "  0%|          | 0/5 [00:00<?, ?it/s]\u001b[A"
     ]
    },
    {
     "name": "stdout",
     "output_type": "stream",
     "text": [
      "Gene3D for k=3: 0.6691\n",
      "Gene3D for k=15: 0.6260\n",
      "Gene3D for k=51: 0.5457\n"
     ]
    },
    {
     "name": "stderr",
     "output_type": "stream",
     "text": [
      "\n",
      " 20%|██        | 1/5 [01:04<04:17, 64.34s/it]\u001b[A"
     ]
    },
    {
     "name": "stdout",
     "output_type": "stream",
     "text": [
      "Gene3D for k=3: 0.6737\n",
      "Gene3D for k=15: 0.6314\n",
      "Gene3D for k=51: 0.5529\n"
     ]
    },
    {
     "name": "stderr",
     "output_type": "stream",
     "text": [
      "\n",
      " 40%|████      | 2/5 [02:06<03:08, 62.82s/it]\u001b[A"
     ]
    },
    {
     "name": "stdout",
     "output_type": "stream",
     "text": [
      "Gene3D for k=3: 0.6731\n",
      "Gene3D for k=15: 0.6295\n",
      "Gene3D for k=51: 0.5459\n"
     ]
    },
    {
     "name": "stderr",
     "output_type": "stream",
     "text": [
      "\n",
      " 60%|██████    | 3/5 [03:07<02:04, 62.13s/it]\u001b[A"
     ]
    },
    {
     "name": "stdout",
     "output_type": "stream",
     "text": [
      "Gene3D for k=3: 0.6684\n",
      "Gene3D for k=15: 0.6245\n",
      "Gene3D for k=51: 0.5425\n"
     ]
    },
    {
     "name": "stderr",
     "output_type": "stream",
     "text": [
      "\n",
      " 80%|████████  | 4/5 [04:08<01:01, 61.85s/it]\u001b[A"
     ]
    },
    {
     "name": "stdout",
     "output_type": "stream",
     "text": [
      "Gene3D for k=3: 0.6717\n",
      "Gene3D for k=15: 0.6307\n",
      "Gene3D for k=51: 0.5497\n"
     ]
    },
    {
     "name": "stderr",
     "output_type": "stream",
     "text": [
      "\n",
      "100%|██████████| 5/5 [05:09<00:00, 61.92s/it]\u001b[A\n",
      "\n",
      "  0%|          | 0/5 [00:00<?, ?it/s]\u001b[A"
     ]
    },
    {
     "name": "stdout",
     "output_type": "stream",
     "text": [
      "Gene3D for k=3: 0.6739\n",
      "Gene3D for k=15: 0.6322\n",
      "Gene3D for k=51: 0.5498\n"
     ]
    },
    {
     "name": "stderr",
     "output_type": "stream",
     "text": [
      "\n",
      " 20%|██        | 1/5 [01:02<04:09, 62.48s/it]\u001b[A"
     ]
    },
    {
     "name": "stdout",
     "output_type": "stream",
     "text": [
      "Gene3D for k=3: 0.6743\n",
      "Gene3D for k=15: 0.6301\n",
      "Gene3D for k=51: 0.5511\n"
     ]
    },
    {
     "name": "stderr",
     "output_type": "stream",
     "text": [
      "\n",
      " 40%|████      | 2/5 [02:04<03:05, 61.93s/it]\u001b[A"
     ]
    },
    {
     "name": "stdout",
     "output_type": "stream",
     "text": [
      "Gene3D for k=3: 0.6708\n",
      "Gene3D for k=15: 0.6260\n",
      "Gene3D for k=51: 0.5457\n"
     ]
    },
    {
     "name": "stderr",
     "output_type": "stream",
     "text": [
      "\n",
      " 60%|██████    | 3/5 [03:05<02:03, 61.92s/it]\u001b[A"
     ]
    },
    {
     "name": "stdout",
     "output_type": "stream",
     "text": [
      "Gene3D for k=3: 0.6692\n",
      "Gene3D for k=15: 0.6272\n",
      "Gene3D for k=51: 0.5432\n"
     ]
    },
    {
     "name": "stderr",
     "output_type": "stream",
     "text": [
      "\n",
      " 80%|████████  | 4/5 [04:08<01:02, 62.04s/it]\u001b[A"
     ]
    },
    {
     "name": "stdout",
     "output_type": "stream",
     "text": [
      "Gene3D for k=3: 0.6675\n",
      "Gene3D for k=15: 0.6266\n",
      "Gene3D for k=51: 0.5465\n"
     ]
    },
    {
     "name": "stderr",
     "output_type": "stream",
     "text": [
      "\n",
      "100%|██████████| 5/5 [05:09<00:00, 61.89s/it]\u001b[A\n",
      "\n",
      "  0%|          | 0/5 [00:00<?, ?it/s]\u001b[A"
     ]
    },
    {
     "name": "stdout",
     "output_type": "stream",
     "text": [
      "Gene3D for k=3: 0.6751\n",
      "Gene3D for k=15: 0.6307\n",
      "Gene3D for k=51: 0.5476\n"
     ]
    },
    {
     "name": "stderr",
     "output_type": "stream",
     "text": [
      "\n",
      " 20%|██        | 1/5 [01:00<04:02, 60.60s/it]\u001b[A"
     ]
    },
    {
     "name": "stdout",
     "output_type": "stream",
     "text": [
      "Gene3D for k=3: 0.6704\n",
      "Gene3D for k=15: 0.6298\n",
      "Gene3D for k=51: 0.5502\n"
     ]
    },
    {
     "name": "stderr",
     "output_type": "stream",
     "text": [
      "\n",
      " 40%|████      | 2/5 [02:01<03:03, 61.04s/it]\u001b[A"
     ]
    },
    {
     "name": "stdout",
     "output_type": "stream",
     "text": [
      "Gene3D for k=3: 0.6694\n",
      "Gene3D for k=15: 0.6243\n",
      "Gene3D for k=51: 0.5435\n"
     ]
    },
    {
     "name": "stderr",
     "output_type": "stream",
     "text": [
      "\n",
      " 60%|██████    | 3/5 [03:02<02:01, 60.85s/it]\u001b[A"
     ]
    },
    {
     "name": "stdout",
     "output_type": "stream",
     "text": [
      "Gene3D for k=3: 0.6718\n",
      "Gene3D for k=15: 0.6290\n",
      "Gene3D for k=51: 0.5473\n"
     ]
    },
    {
     "name": "stderr",
     "output_type": "stream",
     "text": [
      "\n",
      " 80%|████████  | 4/5 [04:03<01:00, 60.70s/it]\u001b[A"
     ]
    },
    {
     "name": "stdout",
     "output_type": "stream",
     "text": [
      "Gene3D for k=3: 0.6741\n",
      "Gene3D for k=15: 0.6301\n",
      "Gene3D for k=51: 0.5480\n"
     ]
    },
    {
     "name": "stderr",
     "output_type": "stream",
     "text": [
      "\n",
      "100%|██████████| 5/5 [05:03<00:00, 60.76s/it]\u001b[A\n",
      " 50%|█████     | 6/12 [9:45:08<8:09:44, 4897.48s/it] "
     ]
    },
    {
     "name": "stdout",
     "output_type": "stream",
     "text": [
      "InterPro\n"
     ]
    },
    {
     "name": "stderr",
     "output_type": "stream",
     "text": [
      "\n",
      "  0%|          | 0/5 [00:00<?, ?it/s]\u001b[A"
     ]
    },
    {
     "name": "stdout",
     "output_type": "stream",
     "text": [
      "InterPro for k=3: 0.6046\n",
      "InterPro for k=15: 0.5569\n",
      "InterPro for k=51: 0.4714\n"
     ]
    },
    {
     "name": "stderr",
     "output_type": "stream",
     "text": [
      "\n",
      " 20%|██        | 1/5 [01:45<07:03, 105.87s/it]\u001b[A"
     ]
    },
    {
     "name": "stdout",
     "output_type": "stream",
     "text": [
      "InterPro for k=3: 0.6023\n",
      "InterPro for k=15: 0.5552\n",
      "InterPro for k=51: 0.4711\n"
     ]
    },
    {
     "name": "stderr",
     "output_type": "stream",
     "text": [
      "\n",
      " 40%|████      | 2/5 [03:31<05:17, 105.69s/it]\u001b[A"
     ]
    },
    {
     "name": "stdout",
     "output_type": "stream",
     "text": [
      "InterPro for k=3: 0.6024\n",
      "InterPro for k=15: 0.5575\n",
      "InterPro for k=51: 0.4759\n"
     ]
    },
    {
     "name": "stderr",
     "output_type": "stream",
     "text": [
      "\n",
      " 60%|██████    | 3/5 [05:18<03:32, 106.46s/it]\u001b[A"
     ]
    },
    {
     "name": "stdout",
     "output_type": "stream",
     "text": [
      "InterPro for k=3: 0.6042\n",
      "InterPro for k=15: 0.5573\n",
      "InterPro for k=51: 0.4725\n"
     ]
    },
    {
     "name": "stderr",
     "output_type": "stream",
     "text": [
      "\n",
      " 80%|████████  | 4/5 [07:05<01:46, 106.65s/it]\u001b[A"
     ]
    },
    {
     "name": "stdout",
     "output_type": "stream",
     "text": [
      "InterPro for k=3: 0.6022\n",
      "InterPro for k=15: 0.5592\n",
      "InterPro for k=51: 0.4729\n"
     ]
    },
    {
     "name": "stderr",
     "output_type": "stream",
     "text": [
      "\n",
      "100%|██████████| 5/5 [08:52<00:00, 106.53s/it]\u001b[A\n",
      "\n",
      "  0%|          | 0/5 [00:00<?, ?it/s]\u001b[A"
     ]
    },
    {
     "name": "stdout",
     "output_type": "stream",
     "text": [
      "InterPro for k=3: 0.6045\n",
      "InterPro for k=15: 0.5616\n",
      "InterPro for k=51: 0.4782\n"
     ]
    },
    {
     "name": "stderr",
     "output_type": "stream",
     "text": [
      "\n",
      " 20%|██        | 1/5 [01:46<07:06, 106.51s/it]\u001b[A"
     ]
    },
    {
     "name": "stdout",
     "output_type": "stream",
     "text": [
      "InterPro for k=3: 0.6042\n",
      "InterPro for k=15: 0.5570\n",
      "InterPro for k=51: 0.4730\n"
     ]
    },
    {
     "name": "stderr",
     "output_type": "stream",
     "text": [
      "\n",
      " 40%|████      | 2/5 [03:33<05:20, 106.69s/it]\u001b[A"
     ]
    },
    {
     "name": "stdout",
     "output_type": "stream",
     "text": [
      "InterPro for k=3: 0.6040\n",
      "InterPro for k=15: 0.5594\n",
      "InterPro for k=51: 0.4729\n"
     ]
    },
    {
     "name": "stderr",
     "output_type": "stream",
     "text": [
      "\n",
      " 60%|██████    | 3/5 [05:21<03:34, 107.40s/it]\u001b[A"
     ]
    },
    {
     "name": "stdout",
     "output_type": "stream",
     "text": [
      "InterPro for k=3: 0.5999\n",
      "InterPro for k=15: 0.5519\n",
      "InterPro for k=51: 0.4661\n"
     ]
    },
    {
     "name": "stderr",
     "output_type": "stream",
     "text": [
      "\n",
      " 80%|████████  | 4/5 [07:08<01:47, 107.30s/it]\u001b[A"
     ]
    },
    {
     "name": "stdout",
     "output_type": "stream",
     "text": [
      "InterPro for k=3: 0.6046\n",
      "InterPro for k=15: 0.5595\n",
      "InterPro for k=51: 0.4758\n"
     ]
    },
    {
     "name": "stderr",
     "output_type": "stream",
     "text": [
      "\n",
      "100%|██████████| 5/5 [08:55<00:00, 107.09s/it]\u001b[A\n",
      "\n",
      "  0%|          | 0/5 [00:00<?, ?it/s]\u001b[A"
     ]
    },
    {
     "name": "stdout",
     "output_type": "stream",
     "text": [
      "InterPro for k=3: 0.6019\n",
      "InterPro for k=15: 0.5573\n",
      "InterPro for k=51: 0.4718\n"
     ]
    },
    {
     "name": "stderr",
     "output_type": "stream",
     "text": [
      "\n",
      " 20%|██        | 1/5 [01:46<07:05, 106.40s/it]\u001b[A"
     ]
    },
    {
     "name": "stdout",
     "output_type": "stream",
     "text": [
      "InterPro for k=3: 0.6026\n",
      "InterPro for k=15: 0.5570\n",
      "InterPro for k=51: 0.4718\n"
     ]
    },
    {
     "name": "stderr",
     "output_type": "stream",
     "text": [
      "\n",
      " 40%|████      | 2/5 [03:33<05:19, 106.60s/it]\u001b[A"
     ]
    },
    {
     "name": "stdout",
     "output_type": "stream",
     "text": [
      "InterPro for k=3: 0.6077\n",
      "InterPro for k=15: 0.5614\n",
      "InterPro for k=51: 0.4776\n"
     ]
    },
    {
     "name": "stderr",
     "output_type": "stream",
     "text": [
      "\n",
      " 60%|██████    | 3/5 [05:20<03:33, 106.89s/it]\u001b[A"
     ]
    },
    {
     "name": "stdout",
     "output_type": "stream",
     "text": [
      "InterPro for k=3: 0.6030\n",
      "InterPro for k=15: 0.5557\n",
      "InterPro for k=51: 0.4721\n"
     ]
    },
    {
     "name": "stderr",
     "output_type": "stream",
     "text": [
      "\n",
      " 80%|████████  | 4/5 [07:06<01:46, 106.65s/it]\u001b[A"
     ]
    },
    {
     "name": "stdout",
     "output_type": "stream",
     "text": [
      "InterPro for k=3: 0.6010\n",
      "InterPro for k=15: 0.5570\n",
      "InterPro for k=51: 0.4726\n"
     ]
    },
    {
     "name": "stderr",
     "output_type": "stream",
     "text": [
      "\n",
      "100%|██████████| 5/5 [08:54<00:00, 106.94s/it]\u001b[A\n",
      "\n",
      "  0%|          | 0/5 [00:00<?, ?it/s]\u001b[A"
     ]
    },
    {
     "name": "stdout",
     "output_type": "stream",
     "text": [
      "InterPro for k=3: 0.6038\n",
      "InterPro for k=15: 0.5592\n",
      "InterPro for k=51: 0.4733\n"
     ]
    },
    {
     "name": "stderr",
     "output_type": "stream",
     "text": [
      "\n",
      " 20%|██        | 1/5 [01:49<07:17, 109.33s/it]\u001b[A"
     ]
    },
    {
     "name": "stdout",
     "output_type": "stream",
     "text": [
      "InterPro for k=3: 0.5969\n",
      "InterPro for k=15: 0.5531\n",
      "InterPro for k=51: 0.4695\n"
     ]
    },
    {
     "name": "stderr",
     "output_type": "stream",
     "text": [
      "\n",
      " 40%|████      | 2/5 [03:36<05:23, 107.99s/it]\u001b[A"
     ]
    },
    {
     "name": "stdout",
     "output_type": "stream",
     "text": [
      "InterPro for k=3: 0.6044\n",
      "InterPro for k=15: 0.5593\n",
      "InterPro for k=51: 0.4743\n"
     ]
    },
    {
     "name": "stderr",
     "output_type": "stream",
     "text": [
      "\n",
      " 60%|██████    | 3/5 [05:24<03:35, 107.87s/it]\u001b[A"
     ]
    },
    {
     "name": "stdout",
     "output_type": "stream",
     "text": [
      "InterPro for k=3: 0.6044\n",
      "InterPro for k=15: 0.5599\n",
      "InterPro for k=51: 0.4748\n"
     ]
    },
    {
     "name": "stderr",
     "output_type": "stream",
     "text": [
      "\n",
      " 80%|████████  | 4/5 [07:11<01:47, 107.59s/it]\u001b[A"
     ]
    },
    {
     "name": "stdout",
     "output_type": "stream",
     "text": [
      "InterPro for k=3: 0.6045\n",
      "InterPro for k=15: 0.5575\n",
      "InterPro for k=51: 0.4740\n"
     ]
    },
    {
     "name": "stderr",
     "output_type": "stream",
     "text": [
      "\n",
      "100%|██████████| 5/5 [08:58<00:00, 107.69s/it]\u001b[A\n",
      "\n",
      "  0%|          | 0/5 [00:00<?, ?it/s]\u001b[A"
     ]
    },
    {
     "name": "stdout",
     "output_type": "stream",
     "text": [
      "InterPro for k=3: 0.6044\n",
      "InterPro for k=15: 0.5606\n",
      "InterPro for k=51: 0.4754\n"
     ]
    },
    {
     "name": "stderr",
     "output_type": "stream",
     "text": [
      "\n",
      " 20%|██        | 1/5 [01:46<07:04, 106.15s/it]\u001b[A"
     ]
    },
    {
     "name": "stdout",
     "output_type": "stream",
     "text": [
      "InterPro for k=3: 0.6043\n",
      "InterPro for k=15: 0.5591\n",
      "InterPro for k=51: 0.4761\n"
     ]
    },
    {
     "name": "stderr",
     "output_type": "stream",
     "text": [
      "\n",
      " 40%|████      | 2/5 [03:33<05:20, 106.81s/it]\u001b[A"
     ]
    },
    {
     "name": "stdout",
     "output_type": "stream",
     "text": [
      "InterPro for k=3: 0.6047\n",
      "InterPro for k=15: 0.5564\n",
      "InterPro for k=51: 0.4709\n"
     ]
    },
    {
     "name": "stderr",
     "output_type": "stream",
     "text": [
      "\n",
      " 60%|██████    | 3/5 [05:19<03:32, 106.50s/it]\u001b[A"
     ]
    },
    {
     "name": "stdout",
     "output_type": "stream",
     "text": [
      "InterPro for k=3: 0.6036\n",
      "InterPro for k=15: 0.5579\n",
      "InterPro for k=51: 0.4737\n"
     ]
    },
    {
     "name": "stderr",
     "output_type": "stream",
     "text": [
      "\n",
      " 80%|████████  | 4/5 [07:07<01:46, 106.90s/it]\u001b[A"
     ]
    },
    {
     "name": "stdout",
     "output_type": "stream",
     "text": [
      "InterPro for k=3: 0.6010\n",
      "InterPro for k=15: 0.5546\n",
      "InterPro for k=51: 0.4709\n"
     ]
    },
    {
     "name": "stderr",
     "output_type": "stream",
     "text": [
      "\n",
      "100%|██████████| 5/5 [08:53<00:00, 106.67s/it]\u001b[A\n",
      "\n",
      "  0%|          | 0/5 [00:00<?, ?it/s]\u001b[A"
     ]
    },
    {
     "name": "stdout",
     "output_type": "stream",
     "text": [
      "InterPro for k=3: 0.6022\n",
      "InterPro for k=15: 0.5572\n",
      "InterPro for k=51: 0.4736\n"
     ]
    },
    {
     "name": "stderr",
     "output_type": "stream",
     "text": [
      "\n",
      " 20%|██        | 1/5 [01:46<07:04, 106.14s/it]\u001b[A"
     ]
    },
    {
     "name": "stdout",
     "output_type": "stream",
     "text": [
      "InterPro for k=3: 0.6034\n",
      "InterPro for k=15: 0.5585\n",
      "InterPro for k=51: 0.4742\n"
     ]
    },
    {
     "name": "stderr",
     "output_type": "stream",
     "text": [
      "\n",
      " 40%|████      | 2/5 [03:33<05:19, 106.62s/it]\u001b[A"
     ]
    },
    {
     "name": "stdout",
     "output_type": "stream",
     "text": [
      "InterPro for k=3: 0.6023\n",
      "InterPro for k=15: 0.5577\n",
      "InterPro for k=51: 0.4740\n"
     ]
    },
    {
     "name": "stderr",
     "output_type": "stream",
     "text": [
      "\n",
      " 60%|██████    | 3/5 [05:20<03:34, 107.05s/it]\u001b[A"
     ]
    },
    {
     "name": "stdout",
     "output_type": "stream",
     "text": [
      "InterPro for k=3: 0.6032\n",
      "InterPro for k=15: 0.5567\n",
      "InterPro for k=51: 0.4712\n"
     ]
    },
    {
     "name": "stderr",
     "output_type": "stream",
     "text": [
      "\n",
      " 80%|████████  | 4/5 [07:07<01:46, 106.93s/it]\u001b[A"
     ]
    },
    {
     "name": "stdout",
     "output_type": "stream",
     "text": [
      "InterPro for k=3: 0.6040\n",
      "InterPro for k=15: 0.5578\n",
      "InterPro for k=51: 0.4723\n"
     ]
    },
    {
     "name": "stderr",
     "output_type": "stream",
     "text": [
      "\n",
      "100%|██████████| 5/5 [08:53<00:00, 106.66s/it]\u001b[A\n",
      "\n",
      "  0%|          | 0/5 [00:00<?, ?it/s]\u001b[A"
     ]
    },
    {
     "name": "stdout",
     "output_type": "stream",
     "text": [
      "InterPro for k=3: 0.6051\n",
      "InterPro for k=15: 0.5593\n",
      "InterPro for k=51: 0.4735\n"
     ]
    },
    {
     "name": "stderr",
     "output_type": "stream",
     "text": [
      "\n",
      " 20%|██        | 1/5 [01:47<07:10, 107.63s/it]\u001b[A"
     ]
    },
    {
     "name": "stdout",
     "output_type": "stream",
     "text": [
      "InterPro for k=3: 0.6000\n",
      "InterPro for k=15: 0.5542\n",
      "InterPro for k=51: 0.4706\n"
     ]
    },
    {
     "name": "stderr",
     "output_type": "stream",
     "text": [
      "\n",
      " 40%|████      | 2/5 [03:36<05:25, 108.35s/it]\u001b[A"
     ]
    },
    {
     "name": "stdout",
     "output_type": "stream",
     "text": [
      "InterPro for k=3: 0.6030\n",
      "InterPro for k=15: 0.5579\n",
      "InterPro for k=51: 0.4759\n"
     ]
    },
    {
     "name": "stderr",
     "output_type": "stream",
     "text": [
      "\n",
      " 60%|██████    | 3/5 [05:20<03:32, 106.49s/it]\u001b[A"
     ]
    },
    {
     "name": "stdout",
     "output_type": "stream",
     "text": [
      "InterPro for k=3: 0.6027\n",
      "InterPro for k=15: 0.5572\n",
      "InterPro for k=51: 0.4722\n"
     ]
    },
    {
     "name": "stderr",
     "output_type": "stream",
     "text": [
      "\n",
      " 80%|████████  | 4/5 [07:06<01:46, 106.36s/it]\u001b[A"
     ]
    },
    {
     "name": "stdout",
     "output_type": "stream",
     "text": [
      "InterPro for k=3: 0.6038\n",
      "InterPro for k=15: 0.5584\n",
      "InterPro for k=51: 0.4740\n"
     ]
    },
    {
     "name": "stderr",
     "output_type": "stream",
     "text": [
      "\n",
      "100%|██████████| 5/5 [08:53<00:00, 106.79s/it]\u001b[A\n",
      "\n",
      "  0%|          | 0/5 [00:00<?, ?it/s]\u001b[A"
     ]
    },
    {
     "name": "stdout",
     "output_type": "stream",
     "text": [
      "InterPro for k=3: 0.6049\n",
      "InterPro for k=15: 0.5576\n",
      "InterPro for k=51: 0.4717\n"
     ]
    },
    {
     "name": "stderr",
     "output_type": "stream",
     "text": [
      "\n",
      " 20%|██        | 1/5 [01:47<07:11, 107.94s/it]\u001b[A"
     ]
    },
    {
     "name": "stdout",
     "output_type": "stream",
     "text": [
      "InterPro for k=3: 0.6007\n",
      "InterPro for k=15: 0.5555\n",
      "InterPro for k=51: 0.4701\n"
     ]
    },
    {
     "name": "stderr",
     "output_type": "stream",
     "text": [
      "\n",
      " 40%|████      | 2/5 [03:34<05:20, 106.85s/it]\u001b[A"
     ]
    },
    {
     "name": "stdout",
     "output_type": "stream",
     "text": [
      "InterPro for k=3: 0.6016\n",
      "InterPro for k=15: 0.5575\n",
      "InterPro for k=51: 0.4750\n"
     ]
    },
    {
     "name": "stderr",
     "output_type": "stream",
     "text": [
      "\n",
      " 60%|██████    | 3/5 [05:20<03:33, 106.60s/it]\u001b[A"
     ]
    },
    {
     "name": "stdout",
     "output_type": "stream",
     "text": [
      "InterPro for k=3: 0.6042\n",
      "InterPro for k=15: 0.5608\n",
      "InterPro for k=51: 0.4767\n"
     ]
    },
    {
     "name": "stderr",
     "output_type": "stream",
     "text": [
      "\n",
      " 80%|████████  | 4/5 [07:06<01:46, 106.24s/it]\u001b[A"
     ]
    },
    {
     "name": "stdout",
     "output_type": "stream",
     "text": [
      "InterPro for k=3: 0.6037\n",
      "InterPro for k=15: 0.5586\n",
      "InterPro for k=51: 0.4728\n"
     ]
    },
    {
     "name": "stderr",
     "output_type": "stream",
     "text": [
      "\n",
      "100%|██████████| 5/5 [08:51<00:00, 106.20s/it]\u001b[A\n",
      "\n",
      "  0%|          | 0/5 [00:00<?, ?it/s]\u001b[A"
     ]
    },
    {
     "name": "stdout",
     "output_type": "stream",
     "text": [
      "InterPro for k=3: 0.6067\n",
      "InterPro for k=15: 0.5634\n",
      "InterPro for k=51: 0.4781\n"
     ]
    },
    {
     "name": "stderr",
     "output_type": "stream",
     "text": [
      "\n",
      " 20%|██        | 1/5 [01:44<06:59, 104.98s/it]\u001b[A"
     ]
    },
    {
     "name": "stdout",
     "output_type": "stream",
     "text": [
      "InterPro for k=3: 0.6033\n",
      "InterPro for k=15: 0.5567\n",
      "InterPro for k=51: 0.4720\n"
     ]
    },
    {
     "name": "stderr",
     "output_type": "stream",
     "text": [
      "\n",
      " 40%|████      | 2/5 [03:30<05:16, 105.40s/it]\u001b[A"
     ]
    },
    {
     "name": "stdout",
     "output_type": "stream",
     "text": [
      "InterPro for k=3: 0.6039\n",
      "InterPro for k=15: 0.5573\n",
      "InterPro for k=51: 0.4734\n"
     ]
    },
    {
     "name": "stderr",
     "output_type": "stream",
     "text": [
      "\n",
      " 60%|██████    | 3/5 [05:16<03:30, 105.37s/it]\u001b[A"
     ]
    },
    {
     "name": "stdout",
     "output_type": "stream",
     "text": [
      "InterPro for k=3: 0.6013\n",
      "InterPro for k=15: 0.5554\n",
      "InterPro for k=51: 0.4709\n"
     ]
    },
    {
     "name": "stderr",
     "output_type": "stream",
     "text": [
      "\n",
      " 80%|████████  | 4/5 [07:01<01:45, 105.56s/it]\u001b[A"
     ]
    },
    {
     "name": "stdout",
     "output_type": "stream",
     "text": [
      "InterPro for k=3: 0.6024\n",
      "InterPro for k=15: 0.5565\n",
      "InterPro for k=51: 0.4724\n"
     ]
    },
    {
     "name": "stderr",
     "output_type": "stream",
     "text": [
      "\n",
      "100%|██████████| 5/5 [08:48<00:00, 105.75s/it]\u001b[A\n",
      "\n",
      "  0%|          | 0/5 [00:00<?, ?it/s]\u001b[A"
     ]
    },
    {
     "name": "stdout",
     "output_type": "stream",
     "text": [
      "InterPro for k=3: 0.6052\n",
      "InterPro for k=15: 0.5600\n",
      "InterPro for k=51: 0.4750\n"
     ]
    },
    {
     "name": "stderr",
     "output_type": "stream",
     "text": [
      "\n",
      " 20%|██        | 1/5 [01:45<07:03, 105.91s/it]\u001b[A"
     ]
    },
    {
     "name": "stdout",
     "output_type": "stream",
     "text": [
      "InterPro for k=3: 0.6030\n",
      "InterPro for k=15: 0.5569\n",
      "InterPro for k=51: 0.4743\n"
     ]
    },
    {
     "name": "stderr",
     "output_type": "stream",
     "text": [
      "\n",
      " 40%|████      | 2/5 [03:33<05:20, 106.70s/it]\u001b[A"
     ]
    },
    {
     "name": "stdout",
     "output_type": "stream",
     "text": [
      "InterPro for k=3: 0.6045\n",
      "InterPro for k=15: 0.5589\n",
      "InterPro for k=51: 0.4742\n"
     ]
    },
    {
     "name": "stderr",
     "output_type": "stream",
     "text": [
      "\n",
      " 60%|██████    | 3/5 [05:19<03:32, 106.41s/it]\u001b[A"
     ]
    },
    {
     "name": "stdout",
     "output_type": "stream",
     "text": [
      "InterPro for k=3: 0.6012\n",
      "InterPro for k=15: 0.5553\n",
      "InterPro for k=51: 0.4711\n"
     ]
    },
    {
     "name": "stderr",
     "output_type": "stream",
     "text": [
      "\n",
      " 80%|████████  | 4/5 [07:05<01:46, 106.39s/it]\u001b[A"
     ]
    },
    {
     "name": "stdout",
     "output_type": "stream",
     "text": [
      "InterPro for k=3: 0.5999\n",
      "InterPro for k=15: 0.5535\n",
      "InterPro for k=51: 0.4700\n"
     ]
    },
    {
     "name": "stderr",
     "output_type": "stream",
     "text": [
      "\n",
      "100%|██████████| 5/5 [08:51<00:00, 106.32s/it]\u001b[A\n",
      " 58%|█████▊    | 7/12 [11:14:01<7:00:00, 5040.05s/it]"
     ]
    },
    {
     "name": "stdout",
     "output_type": "stream",
     "text": [
      "KO\n"
     ]
    },
    {
     "name": "stderr",
     "output_type": "stream",
     "text": [
      "\n",
      "  0%|          | 0/5 [00:00<?, ?it/s]\u001b[A"
     ]
    },
    {
     "name": "stdout",
     "output_type": "stream",
     "text": [
      "KO for k=3: 0.6316\n",
      "KO for k=15: 0.5857\n",
      "KO for k=51: 0.5065\n"
     ]
    },
    {
     "name": "stderr",
     "output_type": "stream",
     "text": [
      "\n",
      " 20%|██        | 1/5 [01:26<05:47, 86.86s/it]\u001b[A"
     ]
    },
    {
     "name": "stdout",
     "output_type": "stream",
     "text": [
      "KO for k=3: 0.6356\n",
      "KO for k=15: 0.5923\n",
      "KO for k=51: 0.5177\n"
     ]
    },
    {
     "name": "stderr",
     "output_type": "stream",
     "text": [
      "\n",
      " 40%|████      | 2/5 [02:54<04:21, 87.21s/it]\u001b[A"
     ]
    },
    {
     "name": "stdout",
     "output_type": "stream",
     "text": [
      "KO for k=3: 0.6273\n",
      "KO for k=15: 0.5854\n",
      "KO for k=51: 0.5092\n"
     ]
    },
    {
     "name": "stderr",
     "output_type": "stream",
     "text": [
      "\n",
      " 60%|██████    | 3/5 [04:21<02:54, 87.38s/it]\u001b[A"
     ]
    },
    {
     "name": "stdout",
     "output_type": "stream",
     "text": [
      "KO for k=3: 0.6316\n",
      "KO for k=15: 0.5826\n",
      "KO for k=51: 0.5055\n"
     ]
    },
    {
     "name": "stderr",
     "output_type": "stream",
     "text": [
      "\n",
      " 80%|████████  | 4/5 [05:48<01:27, 87.22s/it]\u001b[A"
     ]
    },
    {
     "name": "stdout",
     "output_type": "stream",
     "text": [
      "KO for k=3: 0.6308\n",
      "KO for k=15: 0.5858\n",
      "KO for k=51: 0.5111\n"
     ]
    },
    {
     "name": "stderr",
     "output_type": "stream",
     "text": [
      "\n",
      "100%|██████████| 5/5 [07:15<00:00, 87.10s/it]\u001b[A\n",
      "\n",
      "  0%|          | 0/5 [00:00<?, ?it/s]\u001b[A"
     ]
    },
    {
     "name": "stdout",
     "output_type": "stream",
     "text": [
      "KO for k=3: 0.6310\n",
      "KO for k=15: 0.5883\n",
      "KO for k=51: 0.5123\n"
     ]
    },
    {
     "name": "stderr",
     "output_type": "stream",
     "text": [
      "\n",
      " 20%|██        | 1/5 [01:28<05:54, 88.54s/it]\u001b[A"
     ]
    },
    {
     "name": "stdout",
     "output_type": "stream",
     "text": [
      "KO for k=3: 0.6275\n",
      "KO for k=15: 0.5813\n",
      "KO for k=51: 0.5053\n"
     ]
    },
    {
     "name": "stderr",
     "output_type": "stream",
     "text": [
      "\n",
      " 40%|████      | 2/5 [02:55<04:22, 87.39s/it]\u001b[A"
     ]
    },
    {
     "name": "stdout",
     "output_type": "stream",
     "text": [
      "KO for k=3: 0.6348\n",
      "KO for k=15: 0.5910\n",
      "KO for k=51: 0.5138\n"
     ]
    },
    {
     "name": "stderr",
     "output_type": "stream",
     "text": [
      "\n",
      " 60%|██████    | 3/5 [04:23<02:55, 87.69s/it]\u001b[A"
     ]
    },
    {
     "name": "stdout",
     "output_type": "stream",
     "text": [
      "KO for k=3: 0.6301\n",
      "KO for k=15: 0.5826\n",
      "KO for k=51: 0.5052\n"
     ]
    },
    {
     "name": "stderr",
     "output_type": "stream",
     "text": [
      "\n",
      " 80%|████████  | 4/5 [05:50<01:27, 87.70s/it]\u001b[A"
     ]
    },
    {
     "name": "stdout",
     "output_type": "stream",
     "text": [
      "KO for k=3: 0.6347\n",
      "KO for k=15: 0.5888\n",
      "KO for k=51: 0.5120\n"
     ]
    },
    {
     "name": "stderr",
     "output_type": "stream",
     "text": [
      "\n",
      "100%|██████████| 5/5 [07:17<00:00, 87.46s/it]\u001b[A\n",
      "\n",
      "  0%|          | 0/5 [00:00<?, ?it/s]\u001b[A"
     ]
    },
    {
     "name": "stdout",
     "output_type": "stream",
     "text": [
      "KO for k=3: 0.6288\n",
      "KO for k=15: 0.5828\n",
      "KO for k=51: 0.5093\n"
     ]
    },
    {
     "name": "stderr",
     "output_type": "stream",
     "text": [
      "\n",
      " 20%|██        | 1/5 [01:28<05:55, 88.94s/it]\u001b[A"
     ]
    },
    {
     "name": "stdout",
     "output_type": "stream",
     "text": [
      "KO for k=3: 0.6345\n",
      "KO for k=15: 0.5895\n",
      "KO for k=51: 0.5107\n"
     ]
    },
    {
     "name": "stderr",
     "output_type": "stream",
     "text": [
      "\n",
      " 40%|████      | 2/5 [02:56<04:25, 88.40s/it]\u001b[A"
     ]
    },
    {
     "name": "stdout",
     "output_type": "stream",
     "text": [
      "KO for k=3: 0.6305\n",
      "KO for k=15: 0.5875\n",
      "KO for k=51: 0.5120\n"
     ]
    },
    {
     "name": "stderr",
     "output_type": "stream",
     "text": [
      "\n",
      " 60%|██████    | 3/5 [04:23<02:55, 87.71s/it]\u001b[A"
     ]
    },
    {
     "name": "stdout",
     "output_type": "stream",
     "text": [
      "KO for k=3: 0.6341\n",
      "KO for k=15: 0.5905\n",
      "KO for k=51: 0.5141\n"
     ]
    },
    {
     "name": "stderr",
     "output_type": "stream",
     "text": [
      "\n",
      " 80%|████████  | 4/5 [05:51<01:27, 87.64s/it]\u001b[A"
     ]
    },
    {
     "name": "stdout",
     "output_type": "stream",
     "text": [
      "KO for k=3: 0.6281\n",
      "KO for k=15: 0.5865\n",
      "KO for k=51: 0.5101\n"
     ]
    },
    {
     "name": "stderr",
     "output_type": "stream",
     "text": [
      "\n",
      "100%|██████████| 5/5 [07:18<00:00, 87.65s/it]\u001b[A\n",
      "\n",
      "  0%|          | 0/5 [00:00<?, ?it/s]\u001b[A"
     ]
    },
    {
     "name": "stdout",
     "output_type": "stream",
     "text": [
      "KO for k=3: 0.6261\n",
      "KO for k=15: 0.5828\n",
      "KO for k=51: 0.5108\n"
     ]
    },
    {
     "name": "stderr",
     "output_type": "stream",
     "text": [
      "\n",
      " 20%|██        | 1/5 [01:27<05:50, 87.57s/it]\u001b[A"
     ]
    },
    {
     "name": "stdout",
     "output_type": "stream",
     "text": [
      "KO for k=3: 0.6318\n",
      "KO for k=15: 0.5844\n",
      "KO for k=51: 0.5064\n"
     ]
    },
    {
     "name": "stderr",
     "output_type": "stream",
     "text": [
      "\n",
      " 40%|████      | 2/5 [02:55<04:23, 87.80s/it]\u001b[A"
     ]
    },
    {
     "name": "stdout",
     "output_type": "stream",
     "text": [
      "KO for k=3: 0.6362\n",
      "KO for k=15: 0.5914\n",
      "KO for k=51: 0.5124\n"
     ]
    },
    {
     "name": "stderr",
     "output_type": "stream",
     "text": [
      "\n",
      " 60%|██████    | 3/5 [04:22<02:54, 87.44s/it]\u001b[A"
     ]
    },
    {
     "name": "stdout",
     "output_type": "stream",
     "text": [
      "KO for k=3: 0.6317\n",
      "KO for k=15: 0.5860\n",
      "KO for k=51: 0.5126\n"
     ]
    },
    {
     "name": "stderr",
     "output_type": "stream",
     "text": [
      "\n",
      " 80%|████████  | 4/5 [05:51<01:28, 88.08s/it]\u001b[A"
     ]
    },
    {
     "name": "stdout",
     "output_type": "stream",
     "text": [
      "KO for k=3: 0.6319\n",
      "KO for k=15: 0.5903\n",
      "KO for k=51: 0.5124\n"
     ]
    },
    {
     "name": "stderr",
     "output_type": "stream",
     "text": [
      "\n",
      "100%|██████████| 5/5 [07:23<00:00, 88.73s/it]\u001b[A\n",
      "\n",
      "  0%|          | 0/5 [00:00<?, ?it/s]\u001b[A"
     ]
    },
    {
     "name": "stdout",
     "output_type": "stream",
     "text": [
      "KO for k=3: 0.6343\n",
      "KO for k=15: 0.5900\n",
      "KO for k=51: 0.5136\n"
     ]
    },
    {
     "name": "stderr",
     "output_type": "stream",
     "text": [
      "\n",
      " 20%|██        | 1/5 [01:28<05:52, 88.22s/it]\u001b[A"
     ]
    },
    {
     "name": "stdout",
     "output_type": "stream",
     "text": [
      "KO for k=3: 0.6281\n",
      "KO for k=15: 0.5844\n",
      "KO for k=51: 0.5093\n"
     ]
    },
    {
     "name": "stderr",
     "output_type": "stream",
     "text": [
      "\n",
      " 40%|████      | 2/5 [02:55<04:22, 87.47s/it]\u001b[A"
     ]
    },
    {
     "name": "stdout",
     "output_type": "stream",
     "text": [
      "KO for k=3: 0.6319\n",
      "KO for k=15: 0.5877\n",
      "KO for k=51: 0.5095\n"
     ]
    },
    {
     "name": "stderr",
     "output_type": "stream",
     "text": [
      "\n",
      " 60%|██████    | 3/5 [04:22<02:54, 87.40s/it]\u001b[A"
     ]
    },
    {
     "name": "stdout",
     "output_type": "stream",
     "text": [
      "KO for k=3: 0.6318\n",
      "KO for k=15: 0.5863\n",
      "KO for k=51: 0.5101\n"
     ]
    },
    {
     "name": "stderr",
     "output_type": "stream",
     "text": [
      "\n",
      " 80%|████████  | 4/5 [05:50<01:27, 87.61s/it]\u001b[A"
     ]
    },
    {
     "name": "stdout",
     "output_type": "stream",
     "text": [
      "KO for k=3: 0.6306\n",
      "KO for k=15: 0.5873\n",
      "KO for k=51: 0.5102\n"
     ]
    },
    {
     "name": "stderr",
     "output_type": "stream",
     "text": [
      "\n",
      "100%|██████████| 5/5 [07:16<00:00, 87.27s/it]\u001b[A\n",
      "\n",
      "  0%|          | 0/5 [00:00<?, ?it/s]\u001b[A"
     ]
    },
    {
     "name": "stdout",
     "output_type": "stream",
     "text": [
      "KO for k=3: 0.6309\n",
      "KO for k=15: 0.5848\n",
      "KO for k=51: 0.5096\n"
     ]
    },
    {
     "name": "stderr",
     "output_type": "stream",
     "text": [
      "\n",
      " 20%|██        | 1/5 [01:26<05:46, 86.51s/it]\u001b[A"
     ]
    },
    {
     "name": "stdout",
     "output_type": "stream",
     "text": [
      "KO for k=3: 0.6357\n",
      "KO for k=15: 0.5890\n",
      "KO for k=51: 0.5128\n"
     ]
    },
    {
     "name": "stderr",
     "output_type": "stream",
     "text": [
      "\n",
      " 40%|████      | 2/5 [02:53<04:20, 86.96s/it]\u001b[A"
     ]
    },
    {
     "name": "stdout",
     "output_type": "stream",
     "text": [
      "KO for k=3: 0.6297\n",
      "KO for k=15: 0.5847\n",
      "KO for k=51: 0.5091\n"
     ]
    },
    {
     "name": "stderr",
     "output_type": "stream",
     "text": [
      "\n",
      " 60%|██████    | 3/5 [04:21<02:54, 87.17s/it]\u001b[A"
     ]
    },
    {
     "name": "stdout",
     "output_type": "stream",
     "text": [
      "KO for k=3: 0.6309\n",
      "KO for k=15: 0.5851\n",
      "KO for k=51: 0.5065\n"
     ]
    },
    {
     "name": "stderr",
     "output_type": "stream",
     "text": [
      "\n",
      " 80%|████████  | 4/5 [05:47<01:26, 86.93s/it]\u001b[A"
     ]
    },
    {
     "name": "stdout",
     "output_type": "stream",
     "text": [
      "KO for k=3: 0.6310\n",
      "KO for k=15: 0.5876\n",
      "KO for k=51: 0.5123\n"
     ]
    },
    {
     "name": "stderr",
     "output_type": "stream",
     "text": [
      "\n",
      "100%|██████████| 5/5 [07:15<00:00, 87.07s/it]\u001b[A\n",
      "\n",
      "  0%|          | 0/5 [00:00<?, ?it/s]\u001b[A"
     ]
    },
    {
     "name": "stdout",
     "output_type": "stream",
     "text": [
      "KO for k=3: 0.6338\n",
      "KO for k=15: 0.5897\n",
      "KO for k=51: 0.5137\n"
     ]
    },
    {
     "name": "stderr",
     "output_type": "stream",
     "text": [
      "\n",
      " 20%|██        | 1/5 [01:27<05:50, 87.73s/it]\u001b[A"
     ]
    },
    {
     "name": "stdout",
     "output_type": "stream",
     "text": [
      "KO for k=3: 0.6300\n",
      "KO for k=15: 0.5880\n",
      "KO for k=51: 0.5105\n"
     ]
    },
    {
     "name": "stderr",
     "output_type": "stream",
     "text": [
      "\n",
      " 40%|████      | 2/5 [02:54<04:20, 86.96s/it]\u001b[A"
     ]
    },
    {
     "name": "stdout",
     "output_type": "stream",
     "text": [
      "KO for k=3: 0.6328\n",
      "KO for k=15: 0.5905\n",
      "KO for k=51: 0.5096\n"
     ]
    },
    {
     "name": "stderr",
     "output_type": "stream",
     "text": [
      "\n",
      " 60%|██████    | 3/5 [04:20<02:53, 86.69s/it]\u001b[A"
     ]
    },
    {
     "name": "stdout",
     "output_type": "stream",
     "text": [
      "KO for k=3: 0.6293\n",
      "KO for k=15: 0.5835\n",
      "KO for k=51: 0.5099\n"
     ]
    },
    {
     "name": "stderr",
     "output_type": "stream",
     "text": [
      "\n",
      " 80%|████████  | 4/5 [05:47<01:26, 86.92s/it]\u001b[A"
     ]
    },
    {
     "name": "stdout",
     "output_type": "stream",
     "text": [
      "KO for k=3: 0.6322\n",
      "KO for k=15: 0.5848\n",
      "KO for k=51: 0.5087\n"
     ]
    },
    {
     "name": "stderr",
     "output_type": "stream",
     "text": [
      "\n",
      "100%|██████████| 5/5 [07:14<00:00, 86.81s/it]\u001b[A\n",
      "\n",
      "  0%|          | 0/5 [00:00<?, ?it/s]\u001b[A"
     ]
    },
    {
     "name": "stdout",
     "output_type": "stream",
     "text": [
      "KO for k=3: 0.6238\n",
      "KO for k=15: 0.5790\n",
      "KO for k=51: 0.5065\n"
     ]
    },
    {
     "name": "stderr",
     "output_type": "stream",
     "text": [
      "\n",
      " 20%|██        | 1/5 [01:27<05:48, 87.15s/it]\u001b[A"
     ]
    },
    {
     "name": "stdout",
     "output_type": "stream",
     "text": [
      "KO for k=3: 0.6287\n",
      "KO for k=15: 0.5866\n",
      "KO for k=51: 0.5099\n"
     ]
    },
    {
     "name": "stderr",
     "output_type": "stream",
     "text": [
      "\n",
      " 40%|████      | 2/5 [02:54<04:22, 87.41s/it]\u001b[A"
     ]
    },
    {
     "name": "stdout",
     "output_type": "stream",
     "text": [
      "KO for k=3: 0.6341\n",
      "KO for k=15: 0.5893\n",
      "KO for k=51: 0.5130\n"
     ]
    },
    {
     "name": "stderr",
     "output_type": "stream",
     "text": [
      "\n",
      " 60%|██████    | 3/5 [04:21<02:53, 86.96s/it]\u001b[A"
     ]
    },
    {
     "name": "stdout",
     "output_type": "stream",
     "text": [
      "KO for k=3: 0.6317\n",
      "KO for k=15: 0.5863\n",
      "KO for k=51: 0.5116\n"
     ]
    },
    {
     "name": "stderr",
     "output_type": "stream",
     "text": [
      "\n",
      " 80%|████████  | 4/5 [05:48<01:27, 87.26s/it]\u001b[A"
     ]
    },
    {
     "name": "stdout",
     "output_type": "stream",
     "text": [
      "KO for k=3: 0.6350\n",
      "KO for k=15: 0.5934\n",
      "KO for k=51: 0.5132\n"
     ]
    },
    {
     "name": "stderr",
     "output_type": "stream",
     "text": [
      "\n",
      "100%|██████████| 5/5 [07:16<00:00, 87.35s/it]\u001b[A\n",
      "\n",
      "  0%|          | 0/5 [00:00<?, ?it/s]\u001b[A"
     ]
    },
    {
     "name": "stdout",
     "output_type": "stream",
     "text": [
      "KO for k=3: 0.6329\n",
      "KO for k=15: 0.5868\n",
      "KO for k=51: 0.5119\n"
     ]
    },
    {
     "name": "stderr",
     "output_type": "stream",
     "text": [
      "\n",
      " 20%|██        | 1/5 [01:26<05:47, 86.83s/it]\u001b[A"
     ]
    },
    {
     "name": "stdout",
     "output_type": "stream",
     "text": [
      "KO for k=3: 0.6329\n",
      "KO for k=15: 0.5903\n",
      "KO for k=51: 0.5106\n"
     ]
    },
    {
     "name": "stderr",
     "output_type": "stream",
     "text": [
      "\n",
      " 40%|████      | 2/5 [02:55<04:23, 87.84s/it]\u001b[A"
     ]
    },
    {
     "name": "stdout",
     "output_type": "stream",
     "text": [
      "KO for k=3: 0.6322\n",
      "KO for k=15: 0.5884\n",
      "KO for k=51: 0.5104\n"
     ]
    },
    {
     "name": "stderr",
     "output_type": "stream",
     "text": [
      "\n",
      " 60%|██████    | 3/5 [04:23<02:55, 87.91s/it]\u001b[A"
     ]
    },
    {
     "name": "stdout",
     "output_type": "stream",
     "text": [
      "KO for k=3: 0.6330\n",
      "KO for k=15: 0.5896\n",
      "KO for k=51: 0.5149\n"
     ]
    },
    {
     "name": "stderr",
     "output_type": "stream",
     "text": [
      "\n",
      " 80%|████████  | 4/5 [05:52<01:28, 88.32s/it]\u001b[A"
     ]
    },
    {
     "name": "stdout",
     "output_type": "stream",
     "text": [
      "KO for k=3: 0.6257\n",
      "KO for k=15: 0.5817\n",
      "KO for k=51: 0.5073\n"
     ]
    },
    {
     "name": "stderr",
     "output_type": "stream",
     "text": [
      "\n",
      "100%|██████████| 5/5 [07:19<00:00, 87.90s/it]\u001b[A\n",
      "\n",
      "  0%|          | 0/5 [00:00<?, ?it/s]\u001b[A"
     ]
    },
    {
     "name": "stdout",
     "output_type": "stream",
     "text": [
      "KO for k=3: 0.6306\n",
      "KO for k=15: 0.5872\n",
      "KO for k=51: 0.5142\n"
     ]
    },
    {
     "name": "stderr",
     "output_type": "stream",
     "text": [
      "\n",
      " 20%|██        | 1/5 [01:28<05:53, 88.47s/it]\u001b[A"
     ]
    },
    {
     "name": "stdout",
     "output_type": "stream",
     "text": [
      "KO for k=3: 0.6339\n",
      "KO for k=15: 0.5929\n",
      "KO for k=51: 0.5150\n"
     ]
    },
    {
     "name": "stderr",
     "output_type": "stream",
     "text": [
      "\n",
      " 40%|████      | 2/5 [02:56<04:24, 88.20s/it]\u001b[A"
     ]
    },
    {
     "name": "stdout",
     "output_type": "stream",
     "text": [
      "KO for k=3: 0.6305\n",
      "KO for k=15: 0.5838\n",
      "KO for k=51: 0.5081\n"
     ]
    },
    {
     "name": "stderr",
     "output_type": "stream",
     "text": [
      "\n",
      " 60%|██████    | 3/5 [04:24<02:55, 87.93s/it]\u001b[A"
     ]
    },
    {
     "name": "stdout",
     "output_type": "stream",
     "text": [
      "KO for k=3: 0.6285\n",
      "KO for k=15: 0.5841\n",
      "KO for k=51: 0.5074\n"
     ]
    },
    {
     "name": "stderr",
     "output_type": "stream",
     "text": [
      "\n",
      " 80%|████████  | 4/5 [05:52<01:28, 88.27s/it]\u001b[A"
     ]
    },
    {
     "name": "stdout",
     "output_type": "stream",
     "text": [
      "KO for k=3: 0.6317\n",
      "KO for k=15: 0.5842\n",
      "KO for k=51: 0.5089\n"
     ]
    },
    {
     "name": "stderr",
     "output_type": "stream",
     "text": [
      "\n",
      "100%|██████████| 5/5 [07:20<00:00, 88.14s/it]\u001b[A\n",
      " 67%|██████▋   | 8/12 [12:26:59<5:21:56, 4829.20s/it]"
     ]
    },
    {
     "name": "stdout",
     "output_type": "stream",
     "text": [
      "GO\n"
     ]
    },
    {
     "name": "stderr",
     "output_type": "stream",
     "text": [
      "\n",
      "  0%|          | 0/5 [00:00<?, ?it/s]\u001b[A"
     ]
    },
    {
     "name": "stdout",
     "output_type": "stream",
     "text": [
      "GO for k=3: 0.6323\n",
      "GO for k=15: 0.5863\n",
      "GO for k=51: 0.4956\n"
     ]
    },
    {
     "name": "stderr",
     "output_type": "stream",
     "text": [
      "\n",
      " 20%|██        | 1/5 [01:42<06:50, 102.72s/it]\u001b[A"
     ]
    },
    {
     "name": "stdout",
     "output_type": "stream",
     "text": [
      "GO for k=3: 0.6305\n",
      "GO for k=15: 0.5806\n",
      "GO for k=51: 0.4895\n"
     ]
    },
    {
     "name": "stderr",
     "output_type": "stream",
     "text": [
      "\n",
      " 40%|████      | 2/5 [03:24<05:06, 102.04s/it]\u001b[A"
     ]
    },
    {
     "name": "stdout",
     "output_type": "stream",
     "text": [
      "GO for k=3: 0.6279\n",
      "GO for k=15: 0.5782\n",
      "GO for k=51: 0.4887\n"
     ]
    },
    {
     "name": "stderr",
     "output_type": "stream",
     "text": [
      "\n",
      " 60%|██████    | 3/5 [05:06<03:24, 102.21s/it]\u001b[A"
     ]
    },
    {
     "name": "stdout",
     "output_type": "stream",
     "text": [
      "GO for k=3: 0.6329\n",
      "GO for k=15: 0.5832\n",
      "GO for k=51: 0.4919\n"
     ]
    },
    {
     "name": "stderr",
     "output_type": "stream",
     "text": [
      "\n",
      " 80%|████████  | 4/5 [06:51<01:43, 103.31s/it]\u001b[A"
     ]
    },
    {
     "name": "stdout",
     "output_type": "stream",
     "text": [
      "GO for k=3: 0.6276\n",
      "GO for k=15: 0.5804\n",
      "GO for k=51: 0.4903\n"
     ]
    },
    {
     "name": "stderr",
     "output_type": "stream",
     "text": [
      "\n",
      "100%|██████████| 5/5 [08:36<00:00, 103.22s/it]\u001b[A\n",
      "\n",
      "  0%|          | 0/5 [00:00<?, ?it/s]\u001b[A"
     ]
    },
    {
     "name": "stdout",
     "output_type": "stream",
     "text": [
      "GO for k=3: 0.6309\n",
      "GO for k=15: 0.5839\n",
      "GO for k=51: 0.4936\n"
     ]
    },
    {
     "name": "stderr",
     "output_type": "stream",
     "text": [
      "\n",
      " 20%|██        | 1/5 [01:43<06:53, 103.28s/it]\u001b[A"
     ]
    },
    {
     "name": "stdout",
     "output_type": "stream",
     "text": [
      "GO for k=3: 0.6327\n",
      "GO for k=15: 0.5826\n",
      "GO for k=51: 0.4945\n"
     ]
    },
    {
     "name": "stderr",
     "output_type": "stream",
     "text": [
      "\n",
      " 40%|████      | 2/5 [03:26<05:10, 103.43s/it]\u001b[A"
     ]
    },
    {
     "name": "stdout",
     "output_type": "stream",
     "text": [
      "GO for k=3: 0.6292\n",
      "GO for k=15: 0.5789\n",
      "GO for k=51: 0.4897\n"
     ]
    },
    {
     "name": "stderr",
     "output_type": "stream",
     "text": [
      "\n",
      " 60%|██████    | 3/5 [05:08<03:25, 102.75s/it]\u001b[A"
     ]
    },
    {
     "name": "stdout",
     "output_type": "stream",
     "text": [
      "GO for k=3: 0.6277\n",
      "GO for k=15: 0.5801\n",
      "GO for k=51: 0.4895\n"
     ]
    },
    {
     "name": "stderr",
     "output_type": "stream",
     "text": [
      "\n",
      " 80%|████████  | 4/5 [06:52<01:42, 102.96s/it]\u001b[A"
     ]
    },
    {
     "name": "stdout",
     "output_type": "stream",
     "text": [
      "GO for k=3: 0.6299\n",
      "GO for k=15: 0.5827\n",
      "GO for k=51: 0.4915\n"
     ]
    },
    {
     "name": "stderr",
     "output_type": "stream",
     "text": [
      "\n",
      "100%|██████████| 5/5 [08:36<00:00, 103.22s/it]\u001b[A\n",
      "\n",
      "  0%|          | 0/5 [00:00<?, ?it/s]\u001b[A"
     ]
    },
    {
     "name": "stdout",
     "output_type": "stream",
     "text": [
      "GO for k=3: 0.6277\n",
      "GO for k=15: 0.5797\n",
      "GO for k=51: 0.4879\n"
     ]
    },
    {
     "name": "stderr",
     "output_type": "stream",
     "text": [
      "\n",
      " 20%|██        | 1/5 [01:43<06:54, 103.63s/it]\u001b[A"
     ]
    },
    {
     "name": "stdout",
     "output_type": "stream",
     "text": [
      "GO for k=3: 0.6311\n",
      "GO for k=15: 0.5822\n",
      "GO for k=51: 0.4930\n"
     ]
    },
    {
     "name": "stderr",
     "output_type": "stream",
     "text": [
      "\n",
      " 40%|████      | 2/5 [03:26<05:10, 103.35s/it]\u001b[A"
     ]
    },
    {
     "name": "stdout",
     "output_type": "stream",
     "text": [
      "GO for k=3: 0.6310\n",
      "GO for k=15: 0.5797\n",
      "GO for k=51: 0.4900\n"
     ]
    },
    {
     "name": "stderr",
     "output_type": "stream",
     "text": [
      "\n",
      " 60%|██████    | 3/5 [05:08<03:25, 102.78s/it]\u001b[A"
     ]
    },
    {
     "name": "stdout",
     "output_type": "stream",
     "text": [
      "GO for k=3: 0.6302\n",
      "GO for k=15: 0.5807\n",
      "GO for k=51: 0.4901\n"
     ]
    },
    {
     "name": "stderr",
     "output_type": "stream",
     "text": [
      "\n",
      " 80%|████████  | 4/5 [06:51<01:42, 102.88s/it]\u001b[A"
     ]
    },
    {
     "name": "stdout",
     "output_type": "stream",
     "text": [
      "GO for k=3: 0.6313\n",
      "GO for k=15: 0.5843\n",
      "GO for k=51: 0.4950\n"
     ]
    },
    {
     "name": "stderr",
     "output_type": "stream",
     "text": [
      "\n",
      "100%|██████████| 5/5 [08:36<00:00, 103.21s/it]\u001b[A\n",
      "\n",
      "  0%|          | 0/5 [00:00<?, ?it/s]\u001b[A"
     ]
    },
    {
     "name": "stdout",
     "output_type": "stream",
     "text": [
      "GO for k=3: 0.6310\n",
      "GO for k=15: 0.5826\n",
      "GO for k=51: 0.4916\n"
     ]
    },
    {
     "name": "stderr",
     "output_type": "stream",
     "text": [
      "\n",
      " 20%|██        | 1/5 [01:42<06:49, 102.44s/it]\u001b[A"
     ]
    },
    {
     "name": "stdout",
     "output_type": "stream",
     "text": [
      "GO for k=3: 0.6253\n",
      "GO for k=15: 0.5777\n",
      "GO for k=51: 0.4882\n"
     ]
    },
    {
     "name": "stderr",
     "output_type": "stream",
     "text": [
      "\n",
      " 40%|████      | 2/5 [03:27<05:11, 103.75s/it]\u001b[A"
     ]
    },
    {
     "name": "stdout",
     "output_type": "stream",
     "text": [
      "GO for k=3: 0.6348\n",
      "GO for k=15: 0.5850\n",
      "GO for k=51: 0.4935\n"
     ]
    },
    {
     "name": "stderr",
     "output_type": "stream",
     "text": [
      "\n",
      " 60%|██████    | 3/5 [05:10<03:27, 103.78s/it]\u001b[A"
     ]
    },
    {
     "name": "stdout",
     "output_type": "stream",
     "text": [
      "GO for k=3: 0.6290\n",
      "GO for k=15: 0.5817\n",
      "GO for k=51: 0.4921\n"
     ]
    },
    {
     "name": "stderr",
     "output_type": "stream",
     "text": [
      "\n",
      " 80%|████████  | 4/5 [06:53<01:43, 103.48s/it]\u001b[A"
     ]
    },
    {
     "name": "stdout",
     "output_type": "stream",
     "text": [
      "GO for k=3: 0.6298\n",
      "GO for k=15: 0.5787\n",
      "GO for k=51: 0.4906\n"
     ]
    },
    {
     "name": "stderr",
     "output_type": "stream",
     "text": [
      "\n",
      "100%|██████████| 5/5 [08:37<00:00, 103.49s/it]\u001b[A\n",
      "\n",
      "  0%|          | 0/5 [00:00<?, ?it/s]\u001b[A"
     ]
    },
    {
     "name": "stdout",
     "output_type": "stream",
     "text": [
      "GO for k=3: 0.6325\n",
      "GO for k=15: 0.5829\n",
      "GO for k=51: 0.4929\n"
     ]
    },
    {
     "name": "stderr",
     "output_type": "stream",
     "text": [
      "\n",
      " 20%|██        | 1/5 [01:42<06:50, 102.53s/it]\u001b[A"
     ]
    },
    {
     "name": "stdout",
     "output_type": "stream",
     "text": [
      "GO for k=3: 0.6271\n",
      "GO for k=15: 0.5793\n",
      "GO for k=51: 0.4884\n"
     ]
    },
    {
     "name": "stderr",
     "output_type": "stream",
     "text": [
      "\n",
      " 40%|████      | 2/5 [03:25<05:07, 102.65s/it]\u001b[A"
     ]
    },
    {
     "name": "stdout",
     "output_type": "stream",
     "text": [
      "GO for k=3: 0.6347\n",
      "GO for k=15: 0.5838\n",
      "GO for k=51: 0.4923\n"
     ]
    },
    {
     "name": "stderr",
     "output_type": "stream",
     "text": [
      "\n",
      " 60%|██████    | 3/5 [05:09<03:26, 103.28s/it]\u001b[A"
     ]
    },
    {
     "name": "stdout",
     "output_type": "stream",
     "text": [
      "GO for k=3: 0.6298\n",
      "GO for k=15: 0.5804\n",
      "GO for k=51: 0.4898\n"
     ]
    },
    {
     "name": "stderr",
     "output_type": "stream",
     "text": [
      "\n",
      " 80%|████████  | 4/5 [06:52<01:43, 103.41s/it]\u001b[A"
     ]
    },
    {
     "name": "stdout",
     "output_type": "stream",
     "text": [
      "GO for k=3: 0.6295\n",
      "GO for k=15: 0.5805\n",
      "GO for k=51: 0.4911\n"
     ]
    },
    {
     "name": "stderr",
     "output_type": "stream",
     "text": [
      "\n",
      "100%|██████████| 5/5 [08:36<00:00, 103.33s/it]\u001b[A\n",
      "\n",
      "  0%|          | 0/5 [00:00<?, ?it/s]\u001b[A"
     ]
    },
    {
     "name": "stdout",
     "output_type": "stream",
     "text": [
      "GO for k=3: 0.6297\n",
      "GO for k=15: 0.5814\n",
      "GO for k=51: 0.4912\n"
     ]
    },
    {
     "name": "stderr",
     "output_type": "stream",
     "text": [
      "\n",
      " 20%|██        | 1/5 [01:41<06:47, 101.97s/it]\u001b[A"
     ]
    },
    {
     "name": "stdout",
     "output_type": "stream",
     "text": [
      "GO for k=3: 0.6315\n",
      "GO for k=15: 0.5823\n",
      "GO for k=51: 0.4934\n"
     ]
    },
    {
     "name": "stderr",
     "output_type": "stream",
     "text": [
      "\n",
      " 40%|████      | 2/5 [03:26<05:09, 103.22s/it]\u001b[A"
     ]
    },
    {
     "name": "stdout",
     "output_type": "stream",
     "text": [
      "GO for k=3: 0.6300\n",
      "GO for k=15: 0.5809\n",
      "GO for k=51: 0.4897\n"
     ]
    },
    {
     "name": "stderr",
     "output_type": "stream",
     "text": [
      "\n",
      " 60%|██████    | 3/5 [05:08<03:25, 102.99s/it]\u001b[A"
     ]
    },
    {
     "name": "stdout",
     "output_type": "stream",
     "text": [
      "GO for k=3: 0.6283\n",
      "GO for k=15: 0.5792\n",
      "GO for k=51: 0.4893\n"
     ]
    },
    {
     "name": "stderr",
     "output_type": "stream",
     "text": [
      "\n",
      " 80%|████████  | 4/5 [06:52<01:43, 103.29s/it]\u001b[A"
     ]
    },
    {
     "name": "stdout",
     "output_type": "stream",
     "text": [
      "GO for k=3: 0.6341\n",
      "GO for k=15: 0.5836\n",
      "GO for k=51: 0.4920\n"
     ]
    },
    {
     "name": "stderr",
     "output_type": "stream",
     "text": [
      "\n",
      "100%|██████████| 5/5 [08:36<00:00, 103.22s/it]\u001b[A\n",
      "\n",
      "  0%|          | 0/5 [00:00<?, ?it/s]\u001b[A"
     ]
    },
    {
     "name": "stdout",
     "output_type": "stream",
     "text": [
      "GO for k=3: 0.6267\n",
      "GO for k=15: 0.5777\n",
      "GO for k=51: 0.4882\n"
     ]
    },
    {
     "name": "stderr",
     "output_type": "stream",
     "text": [
      "\n",
      " 20%|██        | 1/5 [01:44<06:57, 104.43s/it]\u001b[A"
     ]
    },
    {
     "name": "stdout",
     "output_type": "stream",
     "text": [
      "GO for k=3: 0.6317\n",
      "GO for k=15: 0.5835\n",
      "GO for k=51: 0.4945\n"
     ]
    },
    {
     "name": "stderr",
     "output_type": "stream",
     "text": [
      "\n",
      " 40%|████      | 2/5 [03:27<05:11, 103.92s/it]\u001b[A"
     ]
    },
    {
     "name": "stdout",
     "output_type": "stream",
     "text": [
      "GO for k=3: 0.6285\n",
      "GO for k=15: 0.5808\n",
      "GO for k=51: 0.4875\n"
     ]
    },
    {
     "name": "stderr",
     "output_type": "stream",
     "text": [
      "\n",
      " 60%|██████    | 3/5 [05:09<03:25, 102.72s/it]\u001b[A"
     ]
    },
    {
     "name": "stdout",
     "output_type": "stream",
     "text": [
      "GO for k=3: 0.6306\n",
      "GO for k=15: 0.5817\n",
      "GO for k=51: 0.4942\n"
     ]
    },
    {
     "name": "stderr",
     "output_type": "stream",
     "text": [
      "\n",
      " 80%|████████  | 4/5 [06:52<01:42, 102.90s/it]\u001b[A"
     ]
    },
    {
     "name": "stdout",
     "output_type": "stream",
     "text": [
      "GO for k=3: 0.6327\n",
      "GO for k=15: 0.5812\n",
      "GO for k=51: 0.4912\n"
     ]
    },
    {
     "name": "stderr",
     "output_type": "stream",
     "text": [
      "\n",
      "100%|██████████| 5/5 [08:37<00:00, 103.48s/it]\u001b[A\n",
      "\n",
      "  0%|          | 0/5 [00:00<?, ?it/s]\u001b[A"
     ]
    },
    {
     "name": "stdout",
     "output_type": "stream",
     "text": [
      "GO for k=3: 0.6307\n",
      "GO for k=15: 0.5810\n",
      "GO for k=51: 0.4904\n"
     ]
    },
    {
     "name": "stderr",
     "output_type": "stream",
     "text": [
      "\n",
      " 20%|██        | 1/5 [01:43<06:53, 103.48s/it]\u001b[A"
     ]
    },
    {
     "name": "stdout",
     "output_type": "stream",
     "text": [
      "GO for k=3: 0.6315\n",
      "GO for k=15: 0.5825\n",
      "GO for k=51: 0.4908\n"
     ]
    },
    {
     "name": "stderr",
     "output_type": "stream",
     "text": [
      "\n",
      " 40%|████      | 2/5 [03:25<05:07, 102.65s/it]\u001b[A"
     ]
    },
    {
     "name": "stdout",
     "output_type": "stream",
     "text": [
      "GO for k=3: 0.6273\n",
      "GO for k=15: 0.5796\n",
      "GO for k=51: 0.4905\n"
     ]
    },
    {
     "name": "stderr",
     "output_type": "stream",
     "text": [
      "\n",
      " 60%|██████    | 3/5 [05:10<03:26, 103.50s/it]\u001b[A"
     ]
    },
    {
     "name": "stdout",
     "output_type": "stream",
     "text": [
      "GO for k=3: 0.6286\n",
      "GO for k=15: 0.5793\n",
      "GO for k=51: 0.4908\n"
     ]
    },
    {
     "name": "stderr",
     "output_type": "stream",
     "text": [
      "\n",
      " 80%|████████  | 4/5 [06:54<01:43, 103.96s/it]\u001b[A"
     ]
    },
    {
     "name": "stdout",
     "output_type": "stream",
     "text": [
      "GO for k=3: 0.6331\n",
      "GO for k=15: 0.5837\n",
      "GO for k=51: 0.4933\n"
     ]
    },
    {
     "name": "stderr",
     "output_type": "stream",
     "text": [
      "\n",
      "100%|██████████| 5/5 [08:36<00:00, 103.37s/it]\u001b[A\n",
      "\n",
      "  0%|          | 0/5 [00:00<?, ?it/s]\u001b[A"
     ]
    },
    {
     "name": "stdout",
     "output_type": "stream",
     "text": [
      "GO for k=3: 0.6285\n",
      "GO for k=15: 0.5803\n",
      "GO for k=51: 0.4917\n"
     ]
    },
    {
     "name": "stderr",
     "output_type": "stream",
     "text": [
      "\n",
      " 20%|██        | 1/5 [01:43<06:52, 103.07s/it]\u001b[A"
     ]
    },
    {
     "name": "stdout",
     "output_type": "stream",
     "text": [
      "GO for k=3: 0.6302\n",
      "GO for k=15: 0.5811\n",
      "GO for k=51: 0.4908\n"
     ]
    },
    {
     "name": "stderr",
     "output_type": "stream",
     "text": [
      "\n",
      " 40%|████      | 2/5 [03:25<05:08, 102.93s/it]\u001b[A"
     ]
    },
    {
     "name": "stdout",
     "output_type": "stream",
     "text": [
      "GO for k=3: 0.6298\n",
      "GO for k=15: 0.5820\n",
      "GO for k=51: 0.4921\n"
     ]
    },
    {
     "name": "stderr",
     "output_type": "stream",
     "text": [
      "\n",
      " 60%|██████    | 3/5 [05:08<03:25, 102.80s/it]\u001b[A"
     ]
    },
    {
     "name": "stdout",
     "output_type": "stream",
     "text": [
      "GO for k=3: 0.6309\n",
      "GO for k=15: 0.5839\n",
      "GO for k=51: 0.4925\n"
     ]
    },
    {
     "name": "stderr",
     "output_type": "stream",
     "text": [
      "\n",
      " 80%|████████  | 4/5 [06:51<01:42, 102.96s/it]\u001b[A"
     ]
    },
    {
     "name": "stdout",
     "output_type": "stream",
     "text": [
      "GO for k=3: 0.6315\n",
      "GO for k=15: 0.5824\n",
      "GO for k=51: 0.4911\n"
     ]
    },
    {
     "name": "stderr",
     "output_type": "stream",
     "text": [
      "\n",
      "100%|██████████| 5/5 [08:35<00:00, 103.07s/it]\u001b[A\n",
      "\n",
      "  0%|          | 0/5 [00:00<?, ?it/s]\u001b[A"
     ]
    },
    {
     "name": "stdout",
     "output_type": "stream",
     "text": [
      "GO for k=3: 0.6311\n",
      "GO for k=15: 0.5821\n",
      "GO for k=51: 0.4937\n"
     ]
    },
    {
     "name": "stderr",
     "output_type": "stream",
     "text": [
      "\n",
      " 20%|██        | 1/5 [01:43<06:53, 103.38s/it]\u001b[A"
     ]
    },
    {
     "name": "stdout",
     "output_type": "stream",
     "text": [
      "GO for k=3: 0.6305\n",
      "GO for k=15: 0.5817\n",
      "GO for k=51: 0.4935\n"
     ]
    },
    {
     "name": "stderr",
     "output_type": "stream",
     "text": [
      "\n",
      " 40%|████      | 2/5 [03:26<05:10, 103.44s/it]\u001b[A"
     ]
    },
    {
     "name": "stdout",
     "output_type": "stream",
     "text": [
      "GO for k=3: 0.6299\n",
      "GO for k=15: 0.5796\n",
      "GO for k=51: 0.4899\n"
     ]
    },
    {
     "name": "stderr",
     "output_type": "stream",
     "text": [
      "\n",
      " 60%|██████    | 3/5 [05:09<03:25, 102.94s/it]\u001b[A"
     ]
    },
    {
     "name": "stdout",
     "output_type": "stream",
     "text": [
      "GO for k=3: 0.6305\n",
      "GO for k=15: 0.5805\n",
      "GO for k=51: 0.4878\n"
     ]
    },
    {
     "name": "stderr",
     "output_type": "stream",
     "text": [
      "\n",
      " 80%|████████  | 4/5 [06:52<01:43, 103.12s/it]\u001b[A"
     ]
    },
    {
     "name": "stdout",
     "output_type": "stream",
     "text": [
      "GO for k=3: 0.6319\n",
      "GO for k=15: 0.5839\n",
      "GO for k=51: 0.4935\n"
     ]
    },
    {
     "name": "stderr",
     "output_type": "stream",
     "text": [
      "\n",
      "100%|██████████| 5/5 [08:35<00:00, 103.07s/it]\u001b[A\n",
      " 75%|███████▌  | 9/12 [13:53:02<4:06:41, 4933.75s/it]"
     ]
    },
    {
     "name": "stdout",
     "output_type": "stream",
     "text": [
      "eggNOG\n"
     ]
    },
    {
     "name": "stderr",
     "output_type": "stream",
     "text": [
      "\n",
      "  0%|          | 0/5 [00:00<?, ?it/s]\u001b[A"
     ]
    },
    {
     "name": "stdout",
     "output_type": "stream",
     "text": [
      "eggNOG for k=3: 0.5774\n",
      "eggNOG for k=15: 0.5413\n",
      "eggNOG for k=51: 0.4694\n"
     ]
    },
    {
     "name": "stderr",
     "output_type": "stream",
     "text": [
      "\n",
      " 20%|██        | 1/5 [01:23<05:35, 83.94s/it]\u001b[A"
     ]
    },
    {
     "name": "stdout",
     "output_type": "stream",
     "text": [
      "eggNOG for k=3: 0.5734\n",
      "eggNOG for k=15: 0.5361\n",
      "eggNOG for k=51: 0.4648\n"
     ]
    },
    {
     "name": "stderr",
     "output_type": "stream",
     "text": [
      "\n",
      " 40%|████      | 2/5 [02:47<04:10, 83.56s/it]\u001b[A"
     ]
    },
    {
     "name": "stdout",
     "output_type": "stream",
     "text": [
      "eggNOG for k=3: 0.5780\n",
      "eggNOG for k=15: 0.5387\n",
      "eggNOG for k=51: 0.4692\n"
     ]
    },
    {
     "name": "stderr",
     "output_type": "stream",
     "text": [
      "\n",
      " 60%|██████    | 3/5 [04:14<02:50, 85.25s/it]\u001b[A"
     ]
    },
    {
     "name": "stdout",
     "output_type": "stream",
     "text": [
      "eggNOG for k=3: 0.5779\n",
      "eggNOG for k=15: 0.5410\n",
      "eggNOG for k=51: 0.4711\n"
     ]
    },
    {
     "name": "stderr",
     "output_type": "stream",
     "text": [
      "\n",
      " 80%|████████  | 4/5 [05:38<01:24, 84.94s/it]\u001b[A"
     ]
    },
    {
     "name": "stdout",
     "output_type": "stream",
     "text": [
      "eggNOG for k=3: 0.5717\n",
      "eggNOG for k=15: 0.5356\n",
      "eggNOG for k=51: 0.4647\n"
     ]
    },
    {
     "name": "stderr",
     "output_type": "stream",
     "text": [
      "\n",
      "100%|██████████| 5/5 [07:03<00:00, 84.76s/it]\u001b[A\n",
      "\n",
      "  0%|          | 0/5 [00:00<?, ?it/s]\u001b[A"
     ]
    },
    {
     "name": "stdout",
     "output_type": "stream",
     "text": [
      "eggNOG for k=3: 0.5742\n",
      "eggNOG for k=15: 0.5377\n",
      "eggNOG for k=51: 0.4651\n"
     ]
    },
    {
     "name": "stderr",
     "output_type": "stream",
     "text": [
      "\n",
      " 20%|██        | 1/5 [01:25<05:41, 85.29s/it]\u001b[A"
     ]
    },
    {
     "name": "stdout",
     "output_type": "stream",
     "text": [
      "eggNOG for k=3: 0.5759\n",
      "eggNOG for k=15: 0.5386\n",
      "eggNOG for k=51: 0.4672\n"
     ]
    },
    {
     "name": "stderr",
     "output_type": "stream",
     "text": [
      "\n",
      " 40%|████      | 2/5 [02:49<04:14, 84.74s/it]\u001b[A"
     ]
    },
    {
     "name": "stdout",
     "output_type": "stream",
     "text": [
      "eggNOG for k=3: 0.5743\n",
      "eggNOG for k=15: 0.5401\n",
      "eggNOG for k=51: 0.4685\n"
     ]
    },
    {
     "name": "stderr",
     "output_type": "stream",
     "text": [
      "\n",
      " 60%|██████    | 3/5 [04:14<02:49, 84.60s/it]\u001b[A"
     ]
    },
    {
     "name": "stdout",
     "output_type": "stream",
     "text": [
      "eggNOG for k=3: 0.5721\n",
      "eggNOG for k=15: 0.5389\n",
      "eggNOG for k=51: 0.4668\n"
     ]
    },
    {
     "name": "stderr",
     "output_type": "stream",
     "text": [
      "\n",
      " 80%|████████  | 4/5 [05:39<01:24, 84.87s/it]\u001b[A"
     ]
    },
    {
     "name": "stdout",
     "output_type": "stream",
     "text": [
      "eggNOG for k=3: 0.5785\n",
      "eggNOG for k=15: 0.5414\n",
      "eggNOG for k=51: 0.4689\n"
     ]
    },
    {
     "name": "stderr",
     "output_type": "stream",
     "text": [
      "\n",
      "100%|██████████| 5/5 [07:02<00:00, 84.57s/it]\u001b[A\n",
      "\n",
      "  0%|          | 0/5 [00:00<?, ?it/s]\u001b[A"
     ]
    },
    {
     "name": "stdout",
     "output_type": "stream",
     "text": [
      "eggNOG for k=3: 0.5761\n",
      "eggNOG for k=15: 0.5393\n",
      "eggNOG for k=51: 0.4694\n"
     ]
    },
    {
     "name": "stderr",
     "output_type": "stream",
     "text": [
      "\n",
      " 20%|██        | 1/5 [01:26<05:44, 86.06s/it]\u001b[A"
     ]
    },
    {
     "name": "stdout",
     "output_type": "stream",
     "text": [
      "eggNOG for k=3: 0.5765\n",
      "eggNOG for k=15: 0.5407\n",
      "eggNOG for k=51: 0.4688\n"
     ]
    },
    {
     "name": "stderr",
     "output_type": "stream",
     "text": [
      "\n",
      " 40%|████      | 2/5 [02:50<04:14, 84.83s/it]\u001b[A"
     ]
    },
    {
     "name": "stdout",
     "output_type": "stream",
     "text": [
      "eggNOG for k=3: 0.5751\n",
      "eggNOG for k=15: 0.5380\n",
      "eggNOG for k=51: 0.4680\n"
     ]
    },
    {
     "name": "stderr",
     "output_type": "stream",
     "text": [
      "\n",
      " 60%|██████    | 3/5 [04:14<02:49, 84.89s/it]\u001b[A"
     ]
    },
    {
     "name": "stdout",
     "output_type": "stream",
     "text": [
      "eggNOG for k=3: 0.5745\n",
      "eggNOG for k=15: 0.5390\n",
      "eggNOG for k=51: 0.4655\n"
     ]
    },
    {
     "name": "stderr",
     "output_type": "stream",
     "text": [
      "\n",
      " 80%|████████  | 4/5 [05:38<01:24, 84.46s/it]\u001b[A"
     ]
    },
    {
     "name": "stdout",
     "output_type": "stream",
     "text": [
      "eggNOG for k=3: 0.5736\n",
      "eggNOG for k=15: 0.5369\n",
      "eggNOG for k=51: 0.4678\n"
     ]
    },
    {
     "name": "stderr",
     "output_type": "stream",
     "text": [
      "\n",
      "100%|██████████| 5/5 [07:02<00:00, 84.54s/it]\u001b[A\n",
      "\n",
      "  0%|          | 0/5 [00:00<?, ?it/s]\u001b[A"
     ]
    },
    {
     "name": "stdout",
     "output_type": "stream",
     "text": [
      "eggNOG for k=3: 0.5730\n",
      "eggNOG for k=15: 0.5377\n",
      "eggNOG for k=51: 0.4658\n"
     ]
    },
    {
     "name": "stderr",
     "output_type": "stream",
     "text": [
      "\n",
      " 20%|██        | 1/5 [01:23<05:34, 83.72s/it]\u001b[A"
     ]
    },
    {
     "name": "stdout",
     "output_type": "stream",
     "text": [
      "eggNOG for k=3: 0.5746\n",
      "eggNOG for k=15: 0.5370\n",
      "eggNOG for k=51: 0.4676\n"
     ]
    },
    {
     "name": "stderr",
     "output_type": "stream",
     "text": [
      "\n",
      " 40%|████      | 2/5 [02:47<04:11, 83.92s/it]\u001b[A"
     ]
    },
    {
     "name": "stdout",
     "output_type": "stream",
     "text": [
      "eggNOG for k=3: 0.5732\n",
      "eggNOG for k=15: 0.5362\n",
      "eggNOG for k=51: 0.4652\n"
     ]
    },
    {
     "name": "stderr",
     "output_type": "stream",
     "text": [
      "\n",
      " 60%|██████    | 3/5 [04:12<02:48, 84.24s/it]\u001b[A"
     ]
    },
    {
     "name": "stdout",
     "output_type": "stream",
     "text": [
      "eggNOG for k=3: 0.5779\n",
      "eggNOG for k=15: 0.5413\n",
      "eggNOG for k=51: 0.4729\n"
     ]
    },
    {
     "name": "stderr",
     "output_type": "stream",
     "text": [
      "\n",
      " 80%|████████  | 4/5 [05:36<01:23, 83.99s/it]\u001b[A"
     ]
    },
    {
     "name": "stdout",
     "output_type": "stream",
     "text": [
      "eggNOG for k=3: 0.5757\n",
      "eggNOG for k=15: 0.5429\n",
      "eggNOG for k=51: 0.4695\n"
     ]
    },
    {
     "name": "stderr",
     "output_type": "stream",
     "text": [
      "\n",
      "100%|██████████| 5/5 [07:00<00:00, 84.04s/it]\u001b[A\n",
      "\n",
      "  0%|          | 0/5 [00:00<?, ?it/s]\u001b[A"
     ]
    },
    {
     "name": "stdout",
     "output_type": "stream",
     "text": [
      "eggNOG for k=3: 0.5752\n",
      "eggNOG for k=15: 0.5399\n",
      "eggNOG for k=51: 0.4682\n"
     ]
    },
    {
     "name": "stderr",
     "output_type": "stream",
     "text": [
      "\n",
      " 20%|██        | 1/5 [01:22<05:29, 82.35s/it]\u001b[A"
     ]
    },
    {
     "name": "stdout",
     "output_type": "stream",
     "text": [
      "eggNOG for k=3: 0.5735\n",
      "eggNOG for k=15: 0.5363\n",
      "eggNOG for k=51: 0.4639\n"
     ]
    },
    {
     "name": "stderr",
     "output_type": "stream",
     "text": [
      "\n",
      " 40%|████      | 2/5 [02:46<04:09, 83.13s/it]\u001b[A"
     ]
    },
    {
     "name": "stdout",
     "output_type": "stream",
     "text": [
      "eggNOG for k=3: 0.5785\n",
      "eggNOG for k=15: 0.5418\n",
      "eggNOG for k=51: 0.4666\n"
     ]
    },
    {
     "name": "stderr",
     "output_type": "stream",
     "text": [
      "\n",
      " 60%|██████    | 3/5 [04:10<02:47, 83.58s/it]\u001b[A"
     ]
    },
    {
     "name": "stdout",
     "output_type": "stream",
     "text": [
      "eggNOG for k=3: 0.5743\n",
      "eggNOG for k=15: 0.5376\n",
      "eggNOG for k=51: 0.4667\n"
     ]
    },
    {
     "name": "stderr",
     "output_type": "stream",
     "text": [
      "\n",
      " 80%|████████  | 4/5 [05:34<01:23, 83.84s/it]\u001b[A"
     ]
    },
    {
     "name": "stdout",
     "output_type": "stream",
     "text": [
      "eggNOG for k=3: 0.5787\n",
      "eggNOG for k=15: 0.5391\n",
      "eggNOG for k=51: 0.4687\n"
     ]
    },
    {
     "name": "stderr",
     "output_type": "stream",
     "text": [
      "\n",
      "100%|██████████| 5/5 [06:59<00:00, 83.81s/it]\u001b[A\n",
      "\n",
      "  0%|          | 0/5 [00:00<?, ?it/s]\u001b[A"
     ]
    },
    {
     "name": "stdout",
     "output_type": "stream",
     "text": [
      "eggNOG for k=3: 0.5758\n",
      "eggNOG for k=15: 0.5393\n",
      "eggNOG for k=51: 0.4641\n"
     ]
    },
    {
     "name": "stderr",
     "output_type": "stream",
     "text": [
      "\n",
      " 20%|██        | 1/5 [01:23<05:32, 83.05s/it]\u001b[A"
     ]
    },
    {
     "name": "stdout",
     "output_type": "stream",
     "text": [
      "eggNOG for k=3: 0.5763\n",
      "eggNOG for k=15: 0.5407\n",
      "eggNOG for k=51: 0.4705\n"
     ]
    },
    {
     "name": "stderr",
     "output_type": "stream",
     "text": [
      "\n",
      " 40%|████      | 2/5 [02:47<04:10, 83.62s/it]\u001b[A"
     ]
    },
    {
     "name": "stdout",
     "output_type": "stream",
     "text": [
      "eggNOG for k=3: 0.5708\n",
      "eggNOG for k=15: 0.5360\n",
      "eggNOG for k=51: 0.4655\n"
     ]
    },
    {
     "name": "stderr",
     "output_type": "stream",
     "text": [
      "\n",
      " 60%|██████    | 3/5 [04:11<02:47, 83.86s/it]\u001b[A"
     ]
    },
    {
     "name": "stdout",
     "output_type": "stream",
     "text": [
      "eggNOG for k=3: 0.5785\n",
      "eggNOG for k=15: 0.5435\n",
      "eggNOG for k=51: 0.4736\n"
     ]
    },
    {
     "name": "stderr",
     "output_type": "stream",
     "text": [
      "\n",
      " 80%|████████  | 4/5 [05:33<01:23, 83.21s/it]\u001b[A"
     ]
    },
    {
     "name": "stdout",
     "output_type": "stream",
     "text": [
      "eggNOG for k=3: 0.5740\n",
      "eggNOG for k=15: 0.5389\n",
      "eggNOG for k=51: 0.4674\n"
     ]
    },
    {
     "name": "stderr",
     "output_type": "stream",
     "text": [
      "\n",
      "100%|██████████| 5/5 [06:58<00:00, 83.65s/it]\u001b[A\n",
      "\n",
      "  0%|          | 0/5 [00:00<?, ?it/s]\u001b[A"
     ]
    },
    {
     "name": "stdout",
     "output_type": "stream",
     "text": [
      "eggNOG for k=3: 0.5752\n",
      "eggNOG for k=15: 0.5389\n",
      "eggNOG for k=51: 0.4679\n"
     ]
    },
    {
     "name": "stderr",
     "output_type": "stream",
     "text": [
      "\n",
      " 20%|██        | 1/5 [01:24<05:37, 84.28s/it]\u001b[A"
     ]
    },
    {
     "name": "stdout",
     "output_type": "stream",
     "text": [
      "eggNOG for k=3: 0.5786\n",
      "eggNOG for k=15: 0.5415\n",
      "eggNOG for k=51: 0.4681\n"
     ]
    },
    {
     "name": "stderr",
     "output_type": "stream",
     "text": [
      "\n",
      " 40%|████      | 2/5 [02:49<04:14, 84.82s/it]\u001b[A"
     ]
    },
    {
     "name": "stdout",
     "output_type": "stream",
     "text": [
      "eggNOG for k=3: 0.5733\n",
      "eggNOG for k=15: 0.5385\n",
      "eggNOG for k=51: 0.4667\n"
     ]
    },
    {
     "name": "stderr",
     "output_type": "stream",
     "text": [
      "\n",
      " 60%|██████    | 3/5 [04:12<02:48, 84.15s/it]\u001b[A"
     ]
    },
    {
     "name": "stdout",
     "output_type": "stream",
     "text": [
      "eggNOG for k=3: 0.5736\n",
      "eggNOG for k=15: 0.5369\n",
      "eggNOG for k=51: 0.4678\n"
     ]
    },
    {
     "name": "stderr",
     "output_type": "stream",
     "text": [
      "\n",
      " 80%|████████  | 4/5 [05:36<01:24, 84.15s/it]\u001b[A"
     ]
    },
    {
     "name": "stdout",
     "output_type": "stream",
     "text": [
      "eggNOG for k=3: 0.5749\n",
      "eggNOG for k=15: 0.5407\n",
      "eggNOG for k=51: 0.4663\n"
     ]
    },
    {
     "name": "stderr",
     "output_type": "stream",
     "text": [
      "\n",
      "100%|██████████| 5/5 [07:00<00:00, 84.15s/it]\u001b[A\n",
      "\n",
      "  0%|          | 0/5 [00:00<?, ?it/s]\u001b[A"
     ]
    },
    {
     "name": "stdout",
     "output_type": "stream",
     "text": [
      "eggNOG for k=3: 0.5763\n",
      "eggNOG for k=15: 0.5408\n",
      "eggNOG for k=51: 0.4682\n"
     ]
    },
    {
     "name": "stderr",
     "output_type": "stream",
     "text": [
      "\n",
      " 20%|██        | 1/5 [01:24<05:36, 84.14s/it]\u001b[A"
     ]
    },
    {
     "name": "stdout",
     "output_type": "stream",
     "text": [
      "eggNOG for k=3: 0.5749\n",
      "eggNOG for k=15: 0.5374\n",
      "eggNOG for k=51: 0.4639\n"
     ]
    },
    {
     "name": "stderr",
     "output_type": "stream",
     "text": [
      "\n",
      " 40%|████      | 2/5 [02:48<04:13, 84.46s/it]\u001b[A"
     ]
    },
    {
     "name": "stdout",
     "output_type": "stream",
     "text": [
      "eggNOG for k=3: 0.5758\n",
      "eggNOG for k=15: 0.5393\n",
      "eggNOG for k=51: 0.4677\n"
     ]
    },
    {
     "name": "stderr",
     "output_type": "stream",
     "text": [
      "\n",
      " 60%|██████    | 3/5 [04:12<02:47, 83.94s/it]\u001b[A"
     ]
    },
    {
     "name": "stdout",
     "output_type": "stream",
     "text": [
      "eggNOG for k=3: 0.5740\n",
      "eggNOG for k=15: 0.5377\n",
      "eggNOG for k=51: 0.4680\n"
     ]
    },
    {
     "name": "stderr",
     "output_type": "stream",
     "text": [
      "\n",
      " 80%|████████  | 4/5 [05:35<01:23, 83.57s/it]\u001b[A"
     ]
    },
    {
     "name": "stdout",
     "output_type": "stream",
     "text": [
      "eggNOG for k=3: 0.5765\n",
      "eggNOG for k=15: 0.5423\n",
      "eggNOG for k=51: 0.4719\n"
     ]
    },
    {
     "name": "stderr",
     "output_type": "stream",
     "text": [
      "\n",
      "100%|██████████| 5/5 [06:59<00:00, 83.96s/it]\u001b[A\n",
      "\n",
      "  0%|          | 0/5 [00:00<?, ?it/s]\u001b[A"
     ]
    },
    {
     "name": "stdout",
     "output_type": "stream",
     "text": [
      "eggNOG for k=3: 0.5746\n",
      "eggNOG for k=15: 0.5403\n",
      "eggNOG for k=51: 0.4685\n"
     ]
    },
    {
     "name": "stderr",
     "output_type": "stream",
     "text": [
      "\n",
      " 20%|██        | 1/5 [01:23<05:33, 83.33s/it]\u001b[A"
     ]
    },
    {
     "name": "stdout",
     "output_type": "stream",
     "text": [
      "eggNOG for k=3: 0.5706\n",
      "eggNOG for k=15: 0.5324\n",
      "eggNOG for k=51: 0.4631\n"
     ]
    },
    {
     "name": "stderr",
     "output_type": "stream",
     "text": [
      "\n",
      " 40%|████      | 2/5 [02:45<04:08, 82.71s/it]\u001b[A"
     ]
    },
    {
     "name": "stdout",
     "output_type": "stream",
     "text": [
      "eggNOG for k=3: 0.5746\n",
      "eggNOG for k=15: 0.5356\n",
      "eggNOG for k=51: 0.4653\n"
     ]
    },
    {
     "name": "stderr",
     "output_type": "stream",
     "text": [
      "\n",
      " 60%|██████    | 3/5 [04:09<02:46, 83.25s/it]\u001b[A"
     ]
    },
    {
     "name": "stdout",
     "output_type": "stream",
     "text": [
      "eggNOG for k=3: 0.5780\n",
      "eggNOG for k=15: 0.5417\n",
      "eggNOG for k=51: 0.4695\n"
     ]
    },
    {
     "name": "stderr",
     "output_type": "stream",
     "text": [
      "\n",
      " 80%|████████  | 4/5 [05:33<01:23, 83.74s/it]\u001b[A"
     ]
    },
    {
     "name": "stdout",
     "output_type": "stream",
     "text": [
      "eggNOG for k=3: 0.5779\n",
      "eggNOG for k=15: 0.5408\n",
      "eggNOG for k=51: 0.4717\n"
     ]
    },
    {
     "name": "stderr",
     "output_type": "stream",
     "text": [
      "\n",
      "100%|██████████| 5/5 [06:58<00:00, 83.62s/it]\u001b[A\n",
      "\n",
      "  0%|          | 0/5 [00:00<?, ?it/s]\u001b[A"
     ]
    },
    {
     "name": "stdout",
     "output_type": "stream",
     "text": [
      "eggNOG for k=3: 0.5773\n",
      "eggNOG for k=15: 0.5424\n",
      "eggNOG for k=51: 0.4708\n"
     ]
    },
    {
     "name": "stderr",
     "output_type": "stream",
     "text": [
      "\n",
      " 20%|██        | 1/5 [01:25<05:43, 85.90s/it]\u001b[A"
     ]
    },
    {
     "name": "stdout",
     "output_type": "stream",
     "text": [
      "eggNOG for k=3: 0.5760\n",
      "eggNOG for k=15: 0.5389\n",
      "eggNOG for k=51: 0.4680\n"
     ]
    },
    {
     "name": "stderr",
     "output_type": "stream",
     "text": [
      "\n",
      " 40%|████      | 2/5 [02:50<04:14, 84.92s/it]\u001b[A"
     ]
    },
    {
     "name": "stdout",
     "output_type": "stream",
     "text": [
      "eggNOG for k=3: 0.5719\n",
      "eggNOG for k=15: 0.5342\n",
      "eggNOG for k=51: 0.4670\n"
     ]
    },
    {
     "name": "stderr",
     "output_type": "stream",
     "text": [
      "\n",
      " 60%|██████    | 3/5 [04:15<02:50, 85.11s/it]\u001b[A"
     ]
    },
    {
     "name": "stdout",
     "output_type": "stream",
     "text": [
      "eggNOG for k=3: 0.5757\n",
      "eggNOG for k=15: 0.5417\n",
      "eggNOG for k=51: 0.4694\n"
     ]
    },
    {
     "name": "stderr",
     "output_type": "stream",
     "text": [
      "\n",
      " 80%|████████  | 4/5 [05:38<01:24, 84.46s/it]\u001b[A"
     ]
    },
    {
     "name": "stdout",
     "output_type": "stream",
     "text": [
      "eggNOG for k=3: 0.5755\n",
      "eggNOG for k=15: 0.5372\n",
      "eggNOG for k=51: 0.4646\n"
     ]
    },
    {
     "name": "stderr",
     "output_type": "stream",
     "text": [
      "\n",
      "100%|██████████| 5/5 [07:02<00:00, 84.55s/it]\u001b[A\n",
      " 83%|████████▎ | 10/12 [15:03:11<2:36:59, 4709.88s/it]"
     ]
    },
    {
     "name": "stdout",
     "output_type": "stream",
     "text": [
      "Pfam\n"
     ]
    },
    {
     "name": "stderr",
     "output_type": "stream",
     "text": [
      "\n",
      "  0%|          | 0/5 [00:00<?, ?it/s]\u001b[A"
     ]
    },
    {
     "name": "stdout",
     "output_type": "stream",
     "text": [
      "Pfam for k=3: 0.6112\n",
      "Pfam for k=15: 0.5700\n",
      "Pfam for k=51: 0.4924\n"
     ]
    },
    {
     "name": "stderr",
     "output_type": "stream",
     "text": [
      "\n",
      " 20%|██        | 1/5 [01:38<06:34, 98.71s/it]\u001b[A"
     ]
    },
    {
     "name": "stdout",
     "output_type": "stream",
     "text": [
      "Pfam for k=3: 0.6079\n",
      "Pfam for k=15: 0.5664\n",
      "Pfam for k=51: 0.4923\n"
     ]
    },
    {
     "name": "stderr",
     "output_type": "stream",
     "text": [
      "\n",
      " 40%|████      | 2/5 [03:16<04:54, 98.03s/it]\u001b[A"
     ]
    },
    {
     "name": "stdout",
     "output_type": "stream",
     "text": [
      "Pfam for k=3: 0.6152\n",
      "Pfam for k=15: 0.5745\n",
      "Pfam for k=51: 0.4985\n"
     ]
    },
    {
     "name": "stderr",
     "output_type": "stream",
     "text": [
      "\n",
      " 60%|██████    | 3/5 [04:53<03:15, 97.78s/it]\u001b[A"
     ]
    },
    {
     "name": "stdout",
     "output_type": "stream",
     "text": [
      "Pfam for k=3: 0.6144\n",
      "Pfam for k=15: 0.5726\n",
      "Pfam for k=51: 0.4978\n"
     ]
    },
    {
     "name": "stderr",
     "output_type": "stream",
     "text": [
      "\n",
      " 80%|████████  | 4/5 [06:31<01:37, 97.72s/it]\u001b[A"
     ]
    },
    {
     "name": "stdout",
     "output_type": "stream",
     "text": [
      "Pfam for k=3: 0.6115\n",
      "Pfam for k=15: 0.5719\n",
      "Pfam for k=51: 0.4951\n"
     ]
    },
    {
     "name": "stderr",
     "output_type": "stream",
     "text": [
      "\n",
      "100%|██████████| 5/5 [08:09<00:00, 97.83s/it]\u001b[A\n",
      "\n",
      "  0%|          | 0/5 [00:00<?, ?it/s]\u001b[A"
     ]
    },
    {
     "name": "stdout",
     "output_type": "stream",
     "text": [
      "Pfam for k=3: 0.6145\n",
      "Pfam for k=15: 0.5727\n",
      "Pfam for k=51: 0.4957\n"
     ]
    },
    {
     "name": "stderr",
     "output_type": "stream",
     "text": [
      "\n",
      " 20%|██        | 1/5 [01:37<06:29, 97.30s/it]\u001b[A"
     ]
    },
    {
     "name": "stdout",
     "output_type": "stream",
     "text": [
      "Pfam for k=3: 0.6137\n",
      "Pfam for k=15: 0.5727\n",
      "Pfam for k=51: 0.4973\n"
     ]
    },
    {
     "name": "stderr",
     "output_type": "stream",
     "text": [
      "\n",
      " 40%|████      | 2/5 [03:15<04:53, 97.75s/it]\u001b[A"
     ]
    },
    {
     "name": "stdout",
     "output_type": "stream",
     "text": [
      "Pfam for k=3: 0.6107\n",
      "Pfam for k=15: 0.5689\n",
      "Pfam for k=51: 0.4912\n"
     ]
    },
    {
     "name": "stderr",
     "output_type": "stream",
     "text": [
      "\n",
      " 60%|██████    | 3/5 [04:54<03:16, 98.24s/it]\u001b[A"
     ]
    },
    {
     "name": "stdout",
     "output_type": "stream",
     "text": [
      "Pfam for k=3: 0.6154\n",
      "Pfam for k=15: 0.5746\n",
      "Pfam for k=51: 0.4971\n"
     ]
    },
    {
     "name": "stderr",
     "output_type": "stream",
     "text": [
      "\n",
      " 80%|████████  | 4/5 [06:32<01:38, 98.22s/it]\u001b[A"
     ]
    },
    {
     "name": "stdout",
     "output_type": "stream",
     "text": [
      "Pfam for k=3: 0.6149\n",
      "Pfam for k=15: 0.5726\n",
      "Pfam for k=51: 0.4966\n"
     ]
    },
    {
     "name": "stderr",
     "output_type": "stream",
     "text": [
      "\n",
      "100%|██████████| 5/5 [08:11<00:00, 98.36s/it]\u001b[A\n",
      "\n",
      "  0%|          | 0/5 [00:00<?, ?it/s]\u001b[A"
     ]
    },
    {
     "name": "stdout",
     "output_type": "stream",
     "text": [
      "Pfam for k=3: 0.6115\n",
      "Pfam for k=15: 0.5717\n",
      "Pfam for k=51: 0.4947\n"
     ]
    },
    {
     "name": "stderr",
     "output_type": "stream",
     "text": [
      "\n",
      " 20%|██        | 1/5 [01:41<06:44, 101.21s/it]\u001b[A"
     ]
    },
    {
     "name": "stdout",
     "output_type": "stream",
     "text": [
      "Pfam for k=3: 0.6148\n",
      "Pfam for k=15: 0.5748\n",
      "Pfam for k=51: 0.4999\n"
     ]
    },
    {
     "name": "stderr",
     "output_type": "stream",
     "text": [
      "\n",
      " 40%|████      | 2/5 [03:21<05:01, 100.60s/it]\u001b[A"
     ]
    },
    {
     "name": "stdout",
     "output_type": "stream",
     "text": [
      "Pfam for k=3: 0.6099\n",
      "Pfam for k=15: 0.5669\n",
      "Pfam for k=51: 0.4927\n"
     ]
    },
    {
     "name": "stderr",
     "output_type": "stream",
     "text": [
      "\n",
      " 60%|██████    | 3/5 [05:03<03:22, 101.24s/it]\u001b[A"
     ]
    },
    {
     "name": "stdout",
     "output_type": "stream",
     "text": [
      "Pfam for k=3: 0.6120\n",
      "Pfam for k=15: 0.5715\n",
      "Pfam for k=51: 0.4974\n"
     ]
    },
    {
     "name": "stderr",
     "output_type": "stream",
     "text": [
      "\n",
      " 80%|████████  | 4/5 [06:44<01:41, 101.38s/it]\u001b[A"
     ]
    },
    {
     "name": "stdout",
     "output_type": "stream",
     "text": [
      "Pfam for k=3: 0.6152\n",
      "Pfam for k=15: 0.5739\n",
      "Pfam for k=51: 0.4960\n"
     ]
    },
    {
     "name": "stderr",
     "output_type": "stream",
     "text": [
      "\n",
      "100%|██████████| 5/5 [08:22<00:00, 100.49s/it]\u001b[A\n",
      "\n",
      "  0%|          | 0/5 [00:00<?, ?it/s]\u001b[A"
     ]
    },
    {
     "name": "stdout",
     "output_type": "stream",
     "text": [
      "Pfam for k=3: 0.6098\n",
      "Pfam for k=15: 0.5695\n",
      "Pfam for k=51: 0.4965\n"
     ]
    },
    {
     "name": "stderr",
     "output_type": "stream",
     "text": [
      "\n",
      " 20%|██        | 1/5 [01:39<06:36, 99.24s/it]\u001b[A"
     ]
    },
    {
     "name": "stdout",
     "output_type": "stream",
     "text": [
      "Pfam for k=3: 0.6115\n",
      "Pfam for k=15: 0.5709\n",
      "Pfam for k=51: 0.4936\n"
     ]
    },
    {
     "name": "stderr",
     "output_type": "stream",
     "text": [
      "\n",
      " 40%|████      | 2/5 [03:18<04:57, 99.05s/it]\u001b[A"
     ]
    },
    {
     "name": "stdout",
     "output_type": "stream",
     "text": [
      "Pfam for k=3: 0.6103\n",
      "Pfam for k=15: 0.5694\n",
      "Pfam for k=51: 0.4935\n"
     ]
    },
    {
     "name": "stderr",
     "output_type": "stream",
     "text": [
      "\n",
      " 60%|██████    | 3/5 [04:56<03:17, 98.95s/it]\u001b[A"
     ]
    },
    {
     "name": "stdout",
     "output_type": "stream",
     "text": [
      "Pfam for k=3: 0.6120\n",
      "Pfam for k=15: 0.5726\n",
      "Pfam for k=51: 0.4967\n"
     ]
    },
    {
     "name": "stderr",
     "output_type": "stream",
     "text": [
      "\n",
      " 80%|████████  | 4/5 [06:36<01:39, 99.17s/it]\u001b[A"
     ]
    },
    {
     "name": "stdout",
     "output_type": "stream",
     "text": [
      "Pfam for k=3: 0.6193\n",
      "Pfam for k=15: 0.5754\n",
      "Pfam for k=51: 0.4967\n"
     ]
    },
    {
     "name": "stderr",
     "output_type": "stream",
     "text": [
      "\n",
      "100%|██████████| 5/5 [08:14<00:00, 98.95s/it]\u001b[A\n",
      "\n",
      "  0%|          | 0/5 [00:00<?, ?it/s]\u001b[A"
     ]
    },
    {
     "name": "stdout",
     "output_type": "stream",
     "text": [
      "Pfam for k=3: 0.6129\n",
      "Pfam for k=15: 0.5716\n",
      "Pfam for k=51: 0.4962\n"
     ]
    },
    {
     "name": "stderr",
     "output_type": "stream",
     "text": [
      "\n",
      " 20%|██        | 1/5 [01:38<06:32, 98.20s/it]\u001b[A"
     ]
    },
    {
     "name": "stdout",
     "output_type": "stream",
     "text": [
      "Pfam for k=3: 0.6080\n",
      "Pfam for k=15: 0.5647\n",
      "Pfam for k=51: 0.4907\n"
     ]
    },
    {
     "name": "stderr",
     "output_type": "stream",
     "text": [
      "\n",
      " 40%|████      | 2/5 [03:17<04:56, 98.92s/it]\u001b[A"
     ]
    },
    {
     "name": "stdout",
     "output_type": "stream",
     "text": [
      "Pfam for k=3: 0.6122\n",
      "Pfam for k=15: 0.5710\n",
      "Pfam for k=51: 0.4960\n"
     ]
    },
    {
     "name": "stderr",
     "output_type": "stream",
     "text": [
      "\n",
      " 60%|██████    | 3/5 [04:55<03:16, 98.48s/it]\u001b[A"
     ]
    },
    {
     "name": "stdout",
     "output_type": "stream",
     "text": [
      "Pfam for k=3: 0.6158\n",
      "Pfam for k=15: 0.5740\n",
      "Pfam for k=51: 0.4971\n"
     ]
    },
    {
     "name": "stderr",
     "output_type": "stream",
     "text": [
      "\n",
      " 80%|████████  | 4/5 [06:33<01:38, 98.12s/it]\u001b[A"
     ]
    },
    {
     "name": "stdout",
     "output_type": "stream",
     "text": [
      "Pfam for k=3: 0.6157\n",
      "Pfam for k=15: 0.5737\n",
      "Pfam for k=51: 0.4947\n"
     ]
    },
    {
     "name": "stderr",
     "output_type": "stream",
     "text": [
      "\n",
      "100%|██████████| 5/5 [08:11<00:00, 98.27s/it]\u001b[A\n",
      "\n",
      "  0%|          | 0/5 [00:00<?, ?it/s]\u001b[A"
     ]
    },
    {
     "name": "stdout",
     "output_type": "stream",
     "text": [
      "Pfam for k=3: 0.6127\n",
      "Pfam for k=15: 0.5723\n",
      "Pfam for k=51: 0.4949\n"
     ]
    },
    {
     "name": "stderr",
     "output_type": "stream",
     "text": [
      "\n",
      " 20%|██        | 1/5 [01:39<06:39, 99.80s/it]\u001b[A"
     ]
    },
    {
     "name": "stdout",
     "output_type": "stream",
     "text": [
      "Pfam for k=3: 0.6144\n",
      "Pfam for k=15: 0.5714\n",
      "Pfam for k=51: 0.4959\n"
     ]
    },
    {
     "name": "stderr",
     "output_type": "stream",
     "text": [
      "\n",
      " 40%|████      | 2/5 [03:21<05:02, 100.77s/it]\u001b[A"
     ]
    },
    {
     "name": "stdout",
     "output_type": "stream",
     "text": [
      "Pfam for k=3: 0.6120\n",
      "Pfam for k=15: 0.5699\n",
      "Pfam for k=51: 0.4930\n"
     ]
    },
    {
     "name": "stderr",
     "output_type": "stream",
     "text": [
      "\n",
      " 60%|██████    | 3/5 [05:00<03:19, 99.91s/it] \u001b[A"
     ]
    },
    {
     "name": "stdout",
     "output_type": "stream",
     "text": [
      "Pfam for k=3: 0.6173\n",
      "Pfam for k=15: 0.5759\n",
      "Pfam for k=51: 0.4981\n"
     ]
    },
    {
     "name": "stderr",
     "output_type": "stream",
     "text": [
      "\n",
      " 80%|████████  | 4/5 [06:39<01:39, 99.51s/it]\u001b[A"
     ]
    },
    {
     "name": "stdout",
     "output_type": "stream",
     "text": [
      "Pfam for k=3: 0.6144\n",
      "Pfam for k=15: 0.5715\n",
      "Pfam for k=51: 0.4964\n"
     ]
    },
    {
     "name": "stderr",
     "output_type": "stream",
     "text": [
      "\n",
      "100%|██████████| 5/5 [08:17<00:00, 99.48s/it]\u001b[A\n",
      "\n",
      "  0%|          | 0/5 [00:00<?, ?it/s]\u001b[A"
     ]
    },
    {
     "name": "stdout",
     "output_type": "stream",
     "text": [
      "Pfam for k=3: 0.6165\n",
      "Pfam for k=15: 0.5781\n",
      "Pfam for k=51: 0.4998\n"
     ]
    },
    {
     "name": "stderr",
     "output_type": "stream",
     "text": [
      "\n",
      " 20%|██        | 1/5 [01:40<06:41, 100.34s/it]\u001b[A"
     ]
    },
    {
     "name": "stdout",
     "output_type": "stream",
     "text": [
      "Pfam for k=3: 0.6132\n",
      "Pfam for k=15: 0.5726\n",
      "Pfam for k=51: 0.4963\n"
     ]
    },
    {
     "name": "stderr",
     "output_type": "stream",
     "text": [
      "\n",
      " 40%|████      | 2/5 [03:24<05:06, 102.30s/it]\u001b[A"
     ]
    },
    {
     "name": "stdout",
     "output_type": "stream",
     "text": [
      "Pfam for k=3: 0.6131\n",
      "Pfam for k=15: 0.5731\n",
      "Pfam for k=51: 0.4972\n"
     ]
    },
    {
     "name": "stderr",
     "output_type": "stream",
     "text": [
      "\n",
      " 60%|██████    | 3/5 [05:04<03:23, 101.61s/it]\u001b[A"
     ]
    },
    {
     "name": "stdout",
     "output_type": "stream",
     "text": [
      "Pfam for k=3: 0.6123\n",
      "Pfam for k=15: 0.5702\n",
      "Pfam for k=51: 0.4961\n"
     ]
    },
    {
     "name": "stderr",
     "output_type": "stream",
     "text": [
      "\n",
      " 80%|████████  | 4/5 [06:44<01:40, 100.69s/it]\u001b[A"
     ]
    },
    {
     "name": "stdout",
     "output_type": "stream",
     "text": [
      "Pfam for k=3: 0.6111\n",
      "Pfam for k=15: 0.5678\n",
      "Pfam for k=51: 0.4907\n"
     ]
    },
    {
     "name": "stderr",
     "output_type": "stream",
     "text": [
      "\n",
      "100%|██████████| 5/5 [08:22<00:00, 100.50s/it]\u001b[A\n",
      "\n",
      "  0%|          | 0/5 [00:00<?, ?it/s]\u001b[A"
     ]
    },
    {
     "name": "stdout",
     "output_type": "stream",
     "text": [
      "Pfam for k=3: 0.6157\n",
      "Pfam for k=15: 0.5733\n",
      "Pfam for k=51: 0.4942\n"
     ]
    },
    {
     "name": "stderr",
     "output_type": "stream",
     "text": [
      "\n",
      " 20%|██        | 1/5 [01:38<06:35, 98.90s/it]\u001b[A"
     ]
    },
    {
     "name": "stdout",
     "output_type": "stream",
     "text": [
      "Pfam for k=3: 0.6143\n",
      "Pfam for k=15: 0.5713\n",
      "Pfam for k=51: 0.4967\n"
     ]
    },
    {
     "name": "stderr",
     "output_type": "stream",
     "text": [
      "\n",
      " 40%|████      | 2/5 [03:16<04:53, 97.94s/it]\u001b[A"
     ]
    },
    {
     "name": "stdout",
     "output_type": "stream",
     "text": [
      "Pfam for k=3: 0.6124\n",
      "Pfam for k=15: 0.5720\n",
      "Pfam for k=51: 0.4945\n"
     ]
    },
    {
     "name": "stderr",
     "output_type": "stream",
     "text": [
      "\n",
      " 60%|██████    | 3/5 [04:53<03:15, 97.61s/it]\u001b[A"
     ]
    },
    {
     "name": "stdout",
     "output_type": "stream",
     "text": [
      "Pfam for k=3: 0.6129\n",
      "Pfam for k=15: 0.5718\n",
      "Pfam for k=51: 0.4976\n"
     ]
    },
    {
     "name": "stderr",
     "output_type": "stream",
     "text": [
      "\n",
      " 80%|████████  | 4/5 [06:34<01:38, 98.84s/it]\u001b[A"
     ]
    },
    {
     "name": "stdout",
     "output_type": "stream",
     "text": [
      "Pfam for k=3: 0.6118\n",
      "Pfam for k=15: 0.5710\n",
      "Pfam for k=51: 0.4950\n"
     ]
    },
    {
     "name": "stderr",
     "output_type": "stream",
     "text": [
      "\n",
      "100%|██████████| 5/5 [08:13<00:00, 98.79s/it]\u001b[A\n",
      "\n",
      "  0%|          | 0/5 [00:00<?, ?it/s]\u001b[A"
     ]
    },
    {
     "name": "stdout",
     "output_type": "stream",
     "text": [
      "Pfam for k=3: 0.6141\n",
      "Pfam for k=15: 0.5721\n",
      "Pfam for k=51: 0.4940\n"
     ]
    },
    {
     "name": "stderr",
     "output_type": "stream",
     "text": [
      "\n",
      " 20%|██        | 1/5 [01:40<06:43, 100.98s/it]\u001b[A"
     ]
    },
    {
     "name": "stdout",
     "output_type": "stream",
     "text": [
      "Pfam for k=3: 0.6124\n",
      "Pfam for k=15: 0.5742\n",
      "Pfam for k=51: 0.4978\n"
     ]
    },
    {
     "name": "stderr",
     "output_type": "stream",
     "text": [
      "\n",
      " 40%|████      | 2/5 [03:19<04:58, 99.35s/it] \u001b[A"
     ]
    },
    {
     "name": "stdout",
     "output_type": "stream",
     "text": [
      "Pfam for k=3: 0.6114\n",
      "Pfam for k=15: 0.5703\n",
      "Pfam for k=51: 0.4941\n"
     ]
    },
    {
     "name": "stderr",
     "output_type": "stream",
     "text": [
      "\n",
      " 60%|██████    | 3/5 [05:00<03:20, 100.05s/it]\u001b[A"
     ]
    },
    {
     "name": "stdout",
     "output_type": "stream",
     "text": [
      "Pfam for k=3: 0.6087\n",
      "Pfam for k=15: 0.5688\n",
      "Pfam for k=51: 0.4924\n"
     ]
    },
    {
     "name": "stderr",
     "output_type": "stream",
     "text": [
      "\n",
      " 80%|████████  | 4/5 [06:42<01:40, 100.92s/it]\u001b[A"
     ]
    },
    {
     "name": "stdout",
     "output_type": "stream",
     "text": [
      "Pfam for k=3: 0.6152\n",
      "Pfam for k=15: 0.5740\n",
      "Pfam for k=51: 0.5005\n"
     ]
    },
    {
     "name": "stderr",
     "output_type": "stream",
     "text": [
      "\n",
      "100%|██████████| 5/5 [08:21<00:00, 100.31s/it]\u001b[A\n",
      "\n",
      "  0%|          | 0/5 [00:00<?, ?it/s]\u001b[A"
     ]
    },
    {
     "name": "stdout",
     "output_type": "stream",
     "text": [
      "Pfam for k=3: 0.6111\n",
      "Pfam for k=15: 0.5718\n",
      "Pfam for k=51: 0.4968\n"
     ]
    },
    {
     "name": "stderr",
     "output_type": "stream",
     "text": [
      "\n",
      " 20%|██        | 1/5 [01:40<06:41, 100.43s/it]\u001b[A"
     ]
    },
    {
     "name": "stdout",
     "output_type": "stream",
     "text": [
      "Pfam for k=3: 0.6130\n",
      "Pfam for k=15: 0.5717\n",
      "Pfam for k=51: 0.4946\n"
     ]
    },
    {
     "name": "stderr",
     "output_type": "stream",
     "text": [
      "\n",
      " 40%|████      | 2/5 [03:22<05:03, 101.21s/it]\u001b[A"
     ]
    },
    {
     "name": "stdout",
     "output_type": "stream",
     "text": [
      "Pfam for k=3: 0.6127\n",
      "Pfam for k=15: 0.5722\n",
      "Pfam for k=51: 0.4954\n"
     ]
    },
    {
     "name": "stderr",
     "output_type": "stream",
     "text": [
      "\n",
      " 60%|██████    | 3/5 [05:02<03:21, 100.78s/it]\u001b[A"
     ]
    },
    {
     "name": "stdout",
     "output_type": "stream",
     "text": [
      "Pfam for k=3: 0.6133\n",
      "Pfam for k=15: 0.5711\n",
      "Pfam for k=51: 0.4969\n"
     ]
    },
    {
     "name": "stderr",
     "output_type": "stream",
     "text": [
      "\n",
      " 80%|████████  | 4/5 [06:41<01:40, 100.25s/it]\u001b[A"
     ]
    },
    {
     "name": "stdout",
     "output_type": "stream",
     "text": [
      "Pfam for k=3: 0.6159\n",
      "Pfam for k=15: 0.5737\n",
      "Pfam for k=51: 0.4985\n"
     ]
    },
    {
     "name": "stderr",
     "output_type": "stream",
     "text": [
      "\n",
      "100%|██████████| 5/5 [08:21<00:00, 100.37s/it]\u001b[A\n",
      " 92%|█████████▏| 11/12 [16:25:58<1:19:48, 4788.61s/it]"
     ]
    },
    {
     "name": "stdout",
     "output_type": "stream",
     "text": [
      "EC number\n"
     ]
    },
    {
     "name": "stderr",
     "output_type": "stream",
     "text": [
      "\n",
      "  0%|          | 0/5 [00:00<?, ?it/s]\u001b[A"
     ]
    },
    {
     "name": "stdout",
     "output_type": "stream",
     "text": [
      "EC number for k=3: 0.5902\n",
      "EC number for k=15: 0.5452\n",
      "EC number for k=51: 0.4716\n"
     ]
    },
    {
     "name": "stderr",
     "output_type": "stream",
     "text": [
      "\n",
      " 20%|██        | 1/5 [01:01<04:07, 61.78s/it]\u001b[A"
     ]
    },
    {
     "name": "stdout",
     "output_type": "stream",
     "text": [
      "EC number for k=3: 0.5956\n",
      "EC number for k=15: 0.5515\n"
     ]
    },
    {
     "name": "stderr",
     "output_type": "stream",
     "text": [
      "\n",
      " 40%|████      | 2/5 [02:02<03:04, 61.44s/it]\u001b[A"
     ]
    },
    {
     "name": "stdout",
     "output_type": "stream",
     "text": [
      "EC number for k=51: 0.4799\n",
      "EC number for k=3: 0.5893\n",
      "EC number for k=15: 0.5511\n",
      "EC number for k=51: 0.4748\n"
     ]
    },
    {
     "name": "stderr",
     "output_type": "stream",
     "text": [
      "\n",
      " 60%|██████    | 3/5 [03:04<02:02, 61.41s/it]\u001b[A"
     ]
    },
    {
     "name": "stdout",
     "output_type": "stream",
     "text": [
      "EC number for k=3: 0.5880\n",
      "EC number for k=15: 0.5468\n",
      "EC number for k=51: 0.4775\n"
     ]
    },
    {
     "name": "stderr",
     "output_type": "stream",
     "text": [
      "\n",
      " 80%|████████  | 4/5 [04:05<01:01, 61.48s/it]\u001b[A"
     ]
    },
    {
     "name": "stdout",
     "output_type": "stream",
     "text": [
      "EC number for k=3: 0.5942\n",
      "EC number for k=15: 0.5513\n",
      "EC number for k=51: 0.4776\n"
     ]
    },
    {
     "name": "stderr",
     "output_type": "stream",
     "text": [
      "\n",
      "100%|██████████| 5/5 [05:07<00:00, 61.51s/it]\u001b[A\n",
      "\n",
      "  0%|          | 0/5 [00:00<?, ?it/s]\u001b[A"
     ]
    },
    {
     "name": "stdout",
     "output_type": "stream",
     "text": [
      "EC number for k=3: 0.5875\n",
      "EC number for k=15: 0.5462\n",
      "EC number for k=51: 0.4723\n"
     ]
    },
    {
     "name": "stderr",
     "output_type": "stream",
     "text": [
      "\n",
      " 20%|██        | 1/5 [01:01<04:04, 61.06s/it]\u001b[A"
     ]
    },
    {
     "name": "stdout",
     "output_type": "stream",
     "text": [
      "EC number for k=3: 0.5949\n",
      "EC number for k=15: 0.5526\n",
      "EC number for k=51: 0.4771\n"
     ]
    },
    {
     "name": "stderr",
     "output_type": "stream",
     "text": [
      "\n",
      " 40%|████      | 2/5 [02:03<03:06, 62.06s/it]\u001b[A"
     ]
    },
    {
     "name": "stdout",
     "output_type": "stream",
     "text": [
      "EC number for k=3: 0.5931\n",
      "EC number for k=15: 0.5507\n",
      "EC number for k=51: 0.4748\n"
     ]
    },
    {
     "name": "stderr",
     "output_type": "stream",
     "text": [
      "\n",
      " 60%|██████    | 3/5 [03:06<02:04, 62.28s/it]\u001b[A"
     ]
    },
    {
     "name": "stdout",
     "output_type": "stream",
     "text": [
      "EC number for k=3: 0.5905\n",
      "EC number for k=15: 0.5498\n",
      "EC number for k=51: 0.4772\n"
     ]
    },
    {
     "name": "stderr",
     "output_type": "stream",
     "text": [
      "\n",
      " 80%|████████  | 4/5 [04:08<01:02, 62.07s/it]\u001b[A"
     ]
    },
    {
     "name": "stdout",
     "output_type": "stream",
     "text": [
      "EC number for k=3: 0.5883\n",
      "EC number for k=15: 0.5490\n",
      "EC number for k=51: 0.4718\n"
     ]
    },
    {
     "name": "stderr",
     "output_type": "stream",
     "text": [
      "\n",
      "100%|██████████| 5/5 [05:10<00:00, 62.09s/it]\u001b[A\n",
      "\n",
      "  0%|          | 0/5 [00:00<?, ?it/s]\u001b[A"
     ]
    },
    {
     "name": "stdout",
     "output_type": "stream",
     "text": [
      "EC number for k=3: 0.5968\n",
      "EC number for k=15: 0.5546\n",
      "EC number for k=51: 0.4783\n"
     ]
    },
    {
     "name": "stderr",
     "output_type": "stream",
     "text": [
      "\n",
      " 20%|██        | 1/5 [01:01<04:06, 61.50s/it]\u001b[A"
     ]
    },
    {
     "name": "stdout",
     "output_type": "stream",
     "text": [
      "EC number for k=3: 0.5888\n",
      "EC number for k=15: 0.5442\n",
      "EC number for k=51: 0.4705\n"
     ]
    },
    {
     "name": "stderr",
     "output_type": "stream",
     "text": [
      "\n",
      " 40%|████      | 2/5 [02:02<03:03, 61.24s/it]\u001b[A"
     ]
    },
    {
     "name": "stdout",
     "output_type": "stream",
     "text": [
      "EC number for k=3: 0.5913\n",
      "EC number for k=15: 0.5492\n",
      "EC number for k=51: 0.4777\n"
     ]
    },
    {
     "name": "stderr",
     "output_type": "stream",
     "text": [
      "\n",
      " 60%|██████    | 3/5 [03:07<02:05, 62.96s/it]\u001b[A"
     ]
    },
    {
     "name": "stdout",
     "output_type": "stream",
     "text": [
      "EC number for k=3: 0.5884\n",
      "EC number for k=15: 0.5478\n",
      "EC number for k=51: 0.4740\n"
     ]
    },
    {
     "name": "stderr",
     "output_type": "stream",
     "text": [
      "\n",
      " 80%|████████  | 4/5 [04:10<01:03, 63.10s/it]\u001b[A"
     ]
    },
    {
     "name": "stdout",
     "output_type": "stream",
     "text": [
      "EC number for k=3: 0.5916\n",
      "EC number for k=15: 0.5511\n",
      "EC number for k=51: 0.4782\n"
     ]
    },
    {
     "name": "stderr",
     "output_type": "stream",
     "text": [
      "\n",
      "100%|██████████| 5/5 [05:15<00:00, 63.01s/it]\u001b[A\n",
      "\n",
      "  0%|          | 0/5 [00:00<?, ?it/s]\u001b[A"
     ]
    },
    {
     "name": "stdout",
     "output_type": "stream",
     "text": [
      "EC number for k=3: 0.5877\n",
      "EC number for k=15: 0.5444\n",
      "EC number for k=51: 0.4765\n"
     ]
    },
    {
     "name": "stderr",
     "output_type": "stream",
     "text": [
      "\n",
      " 20%|██        | 1/5 [01:04<04:18, 64.65s/it]\u001b[A"
     ]
    },
    {
     "name": "stdout",
     "output_type": "stream",
     "text": [
      "EC number for k=3: 0.5918\n",
      "EC number for k=15: 0.5535\n",
      "EC number for k=51: 0.4766\n"
     ]
    },
    {
     "name": "stderr",
     "output_type": "stream",
     "text": [
      "\n",
      " 40%|████      | 2/5 [02:09<03:15, 65.04s/it]\u001b[A"
     ]
    },
    {
     "name": "stdout",
     "output_type": "stream",
     "text": [
      "EC number for k=3: 0.5941\n",
      "EC number for k=15: 0.5550\n",
      "EC number for k=51: 0.4776\n"
     ]
    },
    {
     "name": "stderr",
     "output_type": "stream",
     "text": [
      "\n",
      " 60%|██████    | 3/5 [03:13<02:08, 64.21s/it]\u001b[A"
     ]
    },
    {
     "name": "stdout",
     "output_type": "stream",
     "text": [
      "EC number for k=3: 0.5917\n",
      "EC number for k=15: 0.5466\n",
      "EC number for k=51: 0.4776\n"
     ]
    },
    {
     "name": "stderr",
     "output_type": "stream",
     "text": [
      "\n",
      " 80%|████████  | 4/5 [04:18<01:04, 64.71s/it]\u001b[A"
     ]
    },
    {
     "name": "stdout",
     "output_type": "stream",
     "text": [
      "EC number for k=3: 0.5899\n",
      "EC number for k=15: 0.5478\n",
      "EC number for k=51: 0.4728\n"
     ]
    },
    {
     "name": "stderr",
     "output_type": "stream",
     "text": [
      "\n",
      "100%|██████████| 5/5 [05:22<00:00, 64.47s/it]\u001b[A\n",
      "\n",
      "  0%|          | 0/5 [00:00<?, ?it/s]\u001b[A"
     ]
    },
    {
     "name": "stdout",
     "output_type": "stream",
     "text": [
      "EC number for k=3: 0.5894\n",
      "EC number for k=15: 0.5457\n",
      "EC number for k=51: 0.4720\n"
     ]
    },
    {
     "name": "stderr",
     "output_type": "stream",
     "text": [
      "\n",
      " 20%|██        | 1/5 [01:04<04:17, 64.50s/it]\u001b[A"
     ]
    },
    {
     "name": "stdout",
     "output_type": "stream",
     "text": [
      "EC number for k=3: 0.5970\n",
      "EC number for k=15: 0.5548\n",
      "EC number for k=51: 0.4811\n"
     ]
    },
    {
     "name": "stderr",
     "output_type": "stream",
     "text": [
      "\n",
      " 40%|████      | 2/5 [02:08<03:12, 64.33s/it]\u001b[A"
     ]
    },
    {
     "name": "stdout",
     "output_type": "stream",
     "text": [
      "EC number for k=3: 0.5903\n",
      "EC number for k=15: 0.5486\n",
      "EC number for k=51: 0.4747\n"
     ]
    },
    {
     "name": "stderr",
     "output_type": "stream",
     "text": [
      "\n",
      " 60%|██████    | 3/5 [03:14<02:09, 64.95s/it]\u001b[A"
     ]
    },
    {
     "name": "stdout",
     "output_type": "stream",
     "text": [
      "EC number for k=3: 0.5919\n",
      "EC number for k=15: 0.5486\n",
      "EC number for k=51: 0.4754\n"
     ]
    },
    {
     "name": "stderr",
     "output_type": "stream",
     "text": [
      "\n",
      " 80%|████████  | 4/5 [04:18<01:04, 64.59s/it]\u001b[A"
     ]
    },
    {
     "name": "stdout",
     "output_type": "stream",
     "text": [
      "EC number for k=3: 0.5947\n",
      "EC number for k=15: 0.5523\n",
      "EC number for k=51: 0.4798\n"
     ]
    },
    {
     "name": "stderr",
     "output_type": "stream",
     "text": [
      "\n",
      "100%|██████████| 5/5 [05:24<00:00, 64.82s/it]\u001b[A\n",
      "\n",
      "  0%|          | 0/5 [00:00<?, ?it/s]\u001b[A"
     ]
    },
    {
     "name": "stdout",
     "output_type": "stream",
     "text": [
      "EC number for k=3: 0.5938\n",
      "EC number for k=15: 0.5526\n",
      "EC number for k=51: 0.4771\n"
     ]
    },
    {
     "name": "stderr",
     "output_type": "stream",
     "text": [
      "\n",
      " 20%|██        | 1/5 [01:04<04:17, 64.32s/it]\u001b[A"
     ]
    },
    {
     "name": "stdout",
     "output_type": "stream",
     "text": [
      "EC number for k=3: 0.5885\n",
      "EC number for k=15: 0.5482\n",
      "EC number for k=51: 0.4778\n"
     ]
    },
    {
     "name": "stderr",
     "output_type": "stream",
     "text": [
      "\n",
      " 40%|████      | 2/5 [02:08<03:13, 64.42s/it]\u001b[A"
     ]
    },
    {
     "name": "stdout",
     "output_type": "stream",
     "text": [
      "EC number for k=3: 0.5913\n",
      "EC number for k=15: 0.5513\n",
      "EC number for k=51: 0.4793\n"
     ]
    },
    {
     "name": "stderr",
     "output_type": "stream",
     "text": [
      "\n",
      " 60%|██████    | 3/5 [03:13<02:09, 64.51s/it]\u001b[A"
     ]
    },
    {
     "name": "stdout",
     "output_type": "stream",
     "text": [
      "EC number for k=3: 0.5930\n",
      "EC number for k=15: 0.5484\n",
      "EC number for k=51: 0.4734\n"
     ]
    },
    {
     "name": "stderr",
     "output_type": "stream",
     "text": [
      "\n",
      " 80%|████████  | 4/5 [04:18<01:04, 64.57s/it]\u001b[A"
     ]
    },
    {
     "name": "stdout",
     "output_type": "stream",
     "text": [
      "EC number for k=3: 0.5896\n",
      "EC number for k=15: 0.5487\n",
      "EC number for k=51: 0.4734\n"
     ]
    },
    {
     "name": "stderr",
     "output_type": "stream",
     "text": [
      "\n",
      "100%|██████████| 5/5 [05:22<00:00, 64.49s/it]\u001b[A\n",
      "\n",
      "  0%|          | 0/5 [00:00<?, ?it/s]\u001b[A"
     ]
    },
    {
     "name": "stdout",
     "output_type": "stream",
     "text": [
      "EC number for k=3: 0.5862\n",
      "EC number for k=15: 0.5468\n",
      "EC number for k=51: 0.4715\n"
     ]
    },
    {
     "name": "stderr",
     "output_type": "stream",
     "text": [
      "\n",
      " 20%|██        | 1/5 [01:05<04:22, 65.74s/it]\u001b[A"
     ]
    },
    {
     "name": "stdout",
     "output_type": "stream",
     "text": [
      "EC number for k=3: 0.5910\n",
      "EC number for k=15: 0.5497\n",
      "EC number for k=51: 0.4771\n"
     ]
    },
    {
     "name": "stderr",
     "output_type": "stream",
     "text": [
      "\n",
      " 40%|████      | 2/5 [02:09<03:14, 64.68s/it]\u001b[A"
     ]
    },
    {
     "name": "stdout",
     "output_type": "stream",
     "text": [
      "EC number for k=3: 0.5954\n",
      "EC number for k=15: 0.5501\n",
      "EC number for k=51: 0.4771\n"
     ]
    },
    {
     "name": "stderr",
     "output_type": "stream",
     "text": [
      "\n",
      " 60%|██████    | 3/5 [03:12<02:08, 64.04s/it]\u001b[A"
     ]
    },
    {
     "name": "stdout",
     "output_type": "stream",
     "text": [
      "EC number for k=3: 0.5974\n",
      "EC number for k=15: 0.5545\n",
      "EC number for k=51: 0.4823\n"
     ]
    },
    {
     "name": "stderr",
     "output_type": "stream",
     "text": [
      "\n",
      " 80%|████████  | 4/5 [04:16<01:04, 64.03s/it]\u001b[A"
     ]
    },
    {
     "name": "stdout",
     "output_type": "stream",
     "text": [
      "EC number for k=3: 0.5880\n",
      "EC number for k=15: 0.5479\n",
      "EC number for k=51: 0.4748\n"
     ]
    },
    {
     "name": "stderr",
     "output_type": "stream",
     "text": [
      "\n",
      "100%|██████████| 5/5 [05:21<00:00, 64.39s/it]\u001b[A\n",
      "\n",
      "  0%|          | 0/5 [00:00<?, ?it/s]\u001b[A"
     ]
    },
    {
     "name": "stdout",
     "output_type": "stream",
     "text": [
      "EC number for k=3: 0.5901\n",
      "EC number for k=15: 0.5478\n",
      "EC number for k=51: 0.4738\n"
     ]
    },
    {
     "name": "stderr",
     "output_type": "stream",
     "text": [
      "\n",
      " 20%|██        | 1/5 [01:04<04:17, 64.42s/it]\u001b[A"
     ]
    },
    {
     "name": "stdout",
     "output_type": "stream",
     "text": [
      "EC number for k=3: 0.5894\n",
      "EC number for k=15: 0.5472\n",
      "EC number for k=51: 0.4737\n"
     ]
    },
    {
     "name": "stderr",
     "output_type": "stream",
     "text": [
      "\n",
      " 40%|████      | 2/5 [02:08<03:12, 64.17s/it]\u001b[A"
     ]
    },
    {
     "name": "stdout",
     "output_type": "stream",
     "text": [
      "EC number for k=3: 0.5977\n",
      "EC number for k=15: 0.5553\n",
      "EC number for k=51: 0.4779\n"
     ]
    },
    {
     "name": "stderr",
     "output_type": "stream",
     "text": [
      "\n",
      " 60%|██████    | 3/5 [03:13<02:09, 64.52s/it]\u001b[A"
     ]
    },
    {
     "name": "stdout",
     "output_type": "stream",
     "text": [
      "EC number for k=3: 0.5902\n",
      "EC number for k=15: 0.5483\n",
      "EC number for k=51: 0.4754\n"
     ]
    },
    {
     "name": "stderr",
     "output_type": "stream",
     "text": [
      "\n",
      " 80%|████████  | 4/5 [04:17<01:04, 64.32s/it]\u001b[A"
     ]
    },
    {
     "name": "stdout",
     "output_type": "stream",
     "text": [
      "EC number for k=3: 0.5933\n",
      "EC number for k=15: 0.5508\n",
      "EC number for k=51: 0.4818\n"
     ]
    },
    {
     "name": "stderr",
     "output_type": "stream",
     "text": [
      "\n",
      "100%|██████████| 5/5 [05:21<00:00, 64.35s/it]\u001b[A\n",
      "\n",
      "  0%|          | 0/5 [00:00<?, ?it/s]\u001b[A"
     ]
    },
    {
     "name": "stdout",
     "output_type": "stream",
     "text": [
      "EC number for k=3: 0.5887\n",
      "EC number for k=15: 0.5449\n",
      "EC number for k=51: 0.4728\n"
     ]
    },
    {
     "name": "stderr",
     "output_type": "stream",
     "text": [
      "\n",
      " 20%|██        | 1/5 [01:04<04:17, 64.44s/it]\u001b[A"
     ]
    },
    {
     "name": "stdout",
     "output_type": "stream",
     "text": [
      "EC number for k=3: 0.5925\n",
      "EC number for k=15: 0.5528\n",
      "EC number for k=51: 0.4775\n"
     ]
    },
    {
     "name": "stderr",
     "output_type": "stream",
     "text": [
      "\n",
      " 40%|████      | 2/5 [02:09<03:14, 64.74s/it]\u001b[A"
     ]
    },
    {
     "name": "stdout",
     "output_type": "stream",
     "text": [
      "EC number for k=3: 0.5971\n",
      "EC number for k=15: 0.5522\n",
      "EC number for k=51: 0.4776\n"
     ]
    },
    {
     "name": "stderr",
     "output_type": "stream",
     "text": [
      "\n",
      " 60%|██████    | 3/5 [03:12<02:08, 64.07s/it]\u001b[A"
     ]
    },
    {
     "name": "stdout",
     "output_type": "stream",
     "text": [
      "EC number for k=3: 0.5883\n",
      "EC number for k=15: 0.5466\n",
      "EC number for k=51: 0.4734\n"
     ]
    },
    {
     "name": "stderr",
     "output_type": "stream",
     "text": [
      "\n",
      " 80%|████████  | 4/5 [04:15<01:03, 63.39s/it]\u001b[A"
     ]
    },
    {
     "name": "stdout",
     "output_type": "stream",
     "text": [
      "EC number for k=3: 0.5956\n",
      "EC number for k=15: 0.5538\n",
      "EC number for k=51: 0.4799\n"
     ]
    },
    {
     "name": "stderr",
     "output_type": "stream",
     "text": [
      "\n",
      "100%|██████████| 5/5 [05:19<00:00, 63.89s/it]\u001b[A\n",
      "\n",
      "  0%|          | 0/5 [00:00<?, ?it/s]\u001b[A"
     ]
    },
    {
     "name": "stdout",
     "output_type": "stream",
     "text": [
      "EC number for k=3: 0.5906\n",
      "EC number for k=15: 0.5484\n",
      "EC number for k=51: 0.4754\n"
     ]
    },
    {
     "name": "stderr",
     "output_type": "stream",
     "text": [
      "\n",
      " 20%|██        | 1/5 [01:02<04:11, 62.76s/it]\u001b[A"
     ]
    },
    {
     "name": "stdout",
     "output_type": "stream",
     "text": [
      "EC number for k=3: 0.5905\n",
      "EC number for k=15: 0.5468\n",
      "EC number for k=51: 0.4748\n"
     ]
    },
    {
     "name": "stderr",
     "output_type": "stream",
     "text": [
      "\n",
      " 40%|████      | 2/5 [02:07<03:11, 63.96s/it]\u001b[A"
     ]
    },
    {
     "name": "stdout",
     "output_type": "stream",
     "text": [
      "EC number for k=3: 0.5902\n",
      "EC number for k=15: 0.5513\n",
      "EC number for k=51: 0.4768\n"
     ]
    },
    {
     "name": "stderr",
     "output_type": "stream",
     "text": [
      "\n",
      " 60%|██████    | 3/5 [03:12<02:08, 64.36s/it]\u001b[A"
     ]
    },
    {
     "name": "stdout",
     "output_type": "stream",
     "text": [
      "EC number for k=3: 0.5894\n",
      "EC number for k=15: 0.5485\n",
      "EC number for k=51: 0.4754\n"
     ]
    },
    {
     "name": "stderr",
     "output_type": "stream",
     "text": [
      "\n",
      " 80%|████████  | 4/5 [04:17<01:04, 64.58s/it]\u001b[A"
     ]
    },
    {
     "name": "stdout",
     "output_type": "stream",
     "text": [
      "EC number for k=3: 0.5936\n",
      "EC number for k=15: 0.5514\n",
      "EC number for k=51: 0.4776\n"
     ]
    },
    {
     "name": "stderr",
     "output_type": "stream",
     "text": [
      "\n",
      "100%|██████████| 5/5 [05:22<00:00, 64.47s/it]\u001b[A\n",
      "100%|██████████| 12/12 [17:19:06<00:00, 5195.53s/it]  \n"
     ]
    }
   ],
   "source": [
    "for annotation in tqdm(annotations): \n",
    "    print(annotation)\n",
    "    random_state = np.random.RandomState(random_state_seed)\n",
    "\n",
    "    # Not null annotation column and embedding columns\n",
    "    annot_df = swiss_df[\n",
    "        swiss_df[annotation].notnull() & swiss_df[embedding_columns].notnull().all(axis=1)\n",
    "    ]#.sample(1000) # For testing\n",
    "   \n",
    "    metrics_df = pd.DataFrame(\n",
    "        data=np.nan,\n",
    "        index=annot_df.index,\n",
    "        columns=[f'k={k}' for k in ks]\n",
    "    )\n",
    "    \n",
    "    for repeat in range(n_repeats):\n",
    "        kfold = KFold(n_splits=n_folds, random_state=random_state, shuffle=True)\n",
    "        for train_ids, test_ids in tqdm(kfold.split(annot_df), total=kfold.n_splits):\n",
    "\n",
    "            # Train-test split\n",
    "            train_X = annot_df.iloc[train_ids][embedding_columns]\n",
    "            test_X = annot_df.iloc[test_ids][embedding_columns]\n",
    "            train_y = annot_df.iloc[train_ids][annotation]\n",
    "            test_y = annot_df.iloc[test_ids][annotation]\n",
    "\n",
    "            # Expand labels to lists\n",
    "            train_y, test_y = train_y.str.split(pat=r'\\|\\|'), test_y.str.split(pat=r'\\|\\|')\n",
    "\n",
    "            # Build & query NN graph\n",
    "            nn_graph = NNDescent(train_X, n_neighbors=max(ks), n_jobs=16)\n",
    "\n",
    "            neighbors, distances = nn_graph.query(test_X, k=max(ks))\n",
    "\n",
    "            for k in ks:\n",
    "                k_nearest_neighbors = neighbors[:, :k]\n",
    "                metric_values = calculate_metric(k_nearest_neighbors, train_y, test_y, calculate_iou)\n",
    "\n",
    "                metrics_df.loc[metric_values.index, f'k={k}'] = metric_values.values            \n",
    "                print(f'{annotation} for k={k}: {metric_values.mean():.4f}')\n",
    "            \n",
    "            results_path = Path(results_path_pattern.format(repeat, annotation))\n",
    "            results_path.parent.mkdir(parents=True, exist_ok=True)\n",
    "            metrics_df.to_csv(str(results_path))"
   ]
  }
 ],
 "metadata": {
  "kernelspec": {
   "display_name": "Python 3 (ipykernel)",
   "language": "python",
   "name": "python3"
  },
  "language_info": {
   "codemirror_mode": {
    "name": "ipython",
    "version": 3
   },
   "file_extension": ".py",
   "mimetype": "text/x-python",
   "name": "python",
   "nbconvert_exporter": "python",
   "pygments_lexer": "ipython3",
   "version": "3.7.11"
  }
 },
 "nbformat": 4,
 "nbformat_minor": 4
}
