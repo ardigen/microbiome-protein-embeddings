{
 "cells": [
  {
   "cell_type": "code",
   "execution_count": 1,
   "metadata": {},
   "outputs": [],
   "source": [
    "from pathlib import Path\n",
    "\n",
    "from tqdm import tqdm\n",
    "\n",
    "import pandas as pd\n",
    "import numpy as np\n",
    "\n",
    "from sklearn.model_selection import RepeatedKFold\n",
    "from pynndescent import NNDescent"
   ]
  },
  {
   "cell_type": "markdown",
   "metadata": {},
   "source": [
    "## Prepare path for the results"
   ]
  },
  {
   "cell_type": "code",
   "execution_count": 2,
   "metadata": {},
   "outputs": [],
   "source": [
    "results_path_pattern = 'results_ArdiMiPE/{}.csv'\n",
    "# results_path_pattern = 'results_3mers/{}.csv'"
   ]
  },
  {
   "cell_type": "code",
   "execution_count": 3,
   "metadata": {},
   "outputs": [],
   "source": [
    "Path(results_path_pattern).parent.mkdir(exist_ok=True)"
   ]
  },
  {
   "cell_type": "markdown",
   "metadata": {},
   "source": [
    "## Load data"
   ]
  },
  {
   "cell_type": "code",
   "execution_count": 4,
   "metadata": {},
   "outputs": [
    {
     "data": {
      "text/html": [
       "<div>\n",
       "<style scoped>\n",
       "    .dataframe tbody tr th:only-of-type {\n",
       "        vertical-align: middle;\n",
       "    }\n",
       "\n",
       "    .dataframe tbody tr th {\n",
       "        vertical-align: top;\n",
       "    }\n",
       "\n",
       "    .dataframe thead th {\n",
       "        text-align: right;\n",
       "    }\n",
       "</style>\n",
       "<table border=\"1\" class=\"dataframe\">\n",
       "  <thead>\n",
       "    <tr style=\"text-align: right;\">\n",
       "      <th></th>\n",
       "      <th>accessions</th>\n",
       "      <th>sequence_length</th>\n",
       "      <th>sequence</th>\n",
       "      <th>description</th>\n",
       "      <th>InterPro</th>\n",
       "      <th>GO</th>\n",
       "      <th>KO</th>\n",
       "      <th>Gene3D</th>\n",
       "      <th>Pfam</th>\n",
       "      <th>KEGG</th>\n",
       "      <th>...</th>\n",
       "      <th>EC number</th>\n",
       "      <th>Superkingdom</th>\n",
       "      <th>Kingdom</th>\n",
       "      <th>Phylum</th>\n",
       "      <th>Class</th>\n",
       "      <th>Order</th>\n",
       "      <th>Family</th>\n",
       "      <th>Subfamily</th>\n",
       "      <th>Genus</th>\n",
       "      <th>Species</th>\n",
       "    </tr>\n",
       "    <tr>\n",
       "      <th>entry_name</th>\n",
       "      <th></th>\n",
       "      <th></th>\n",
       "      <th></th>\n",
       "      <th></th>\n",
       "      <th></th>\n",
       "      <th></th>\n",
       "      <th></th>\n",
       "      <th></th>\n",
       "      <th></th>\n",
       "      <th></th>\n",
       "      <th></th>\n",
       "      <th></th>\n",
       "      <th></th>\n",
       "      <th></th>\n",
       "      <th></th>\n",
       "      <th></th>\n",
       "      <th></th>\n",
       "      <th></th>\n",
       "      <th></th>\n",
       "      <th></th>\n",
       "      <th></th>\n",
       "    </tr>\n",
       "  </thead>\n",
       "  <tbody>\n",
       "    <tr>\n",
       "      <th>12AH_CLOS4</th>\n",
       "      <td>P21215</td>\n",
       "      <td>29.0</td>\n",
       "      <td>MIFDGKVAIITGGGKAKSIGYGIAVAYAK</td>\n",
       "      <td>RecName: Full=12-alpha-hydroxysteroid dehydrog...</td>\n",
       "      <td>IPR036291</td>\n",
       "      <td>GO:0047013||GO:0030573||GO:0016042</td>\n",
       "      <td>NaN</td>\n",
       "      <td>NaN</td>\n",
       "      <td>NaN</td>\n",
       "      <td>NaN</td>\n",
       "      <td>...</td>\n",
       "      <td>1.1.1.176</td>\n",
       "      <td>Bacteria</td>\n",
       "      <td>NaN</td>\n",
       "      <td>Firmicutes</td>\n",
       "      <td>Clostridia</td>\n",
       "      <td>Clostridiales</td>\n",
       "      <td>Clostridiaceae</td>\n",
       "      <td>NaN</td>\n",
       "      <td>Clostridium</td>\n",
       "      <td>NaN</td>\n",
       "    </tr>\n",
       "    <tr>\n",
       "      <th>12KD_MYCSM</th>\n",
       "      <td>P80438</td>\n",
       "      <td>24.0</td>\n",
       "      <td>MFHVLTLTYLCPLDVVXQTRPAHV</td>\n",
       "      <td>RecName: Full=12 kDa protein; Flags: Fragment;</td>\n",
       "      <td>NaN</td>\n",
       "      <td>NaN</td>\n",
       "      <td>NaN</td>\n",
       "      <td>NaN</td>\n",
       "      <td>NaN</td>\n",
       "      <td>NaN</td>\n",
       "      <td>...</td>\n",
       "      <td>NaN</td>\n",
       "      <td>Bacteria</td>\n",
       "      <td>NaN</td>\n",
       "      <td>Actinobacteria</td>\n",
       "      <td>Actinobacteria</td>\n",
       "      <td>Corynebacteriales</td>\n",
       "      <td>Mycobacteriaceae</td>\n",
       "      <td>NaN</td>\n",
       "      <td>Mycolicibacterium</td>\n",
       "      <td>NaN</td>\n",
       "    </tr>\n",
       "    <tr>\n",
       "      <th>12OLP_LISIN</th>\n",
       "      <td>Q92AT0</td>\n",
       "      <td>1086.0</td>\n",
       "      <td>MTMLKEIKKADLSAAFYPSGELAWLKLKDIMLNQVIQNPLENRLSQ...</td>\n",
       "      <td>RecName: Full=1,2-beta-oligoglucan phosphoryla...</td>\n",
       "      <td>IPR008928||IPR012341||IPR033432</td>\n",
       "      <td>GO:0016740</td>\n",
       "      <td>K21298</td>\n",
       "      <td>1.50.10.10</td>\n",
       "      <td>PF17167</td>\n",
       "      <td>lin:lin1839</td>\n",
       "      <td>...</td>\n",
       "      <td>2.4.1.333</td>\n",
       "      <td>Bacteria</td>\n",
       "      <td>NaN</td>\n",
       "      <td>Firmicutes</td>\n",
       "      <td>Bacilli</td>\n",
       "      <td>Bacillales</td>\n",
       "      <td>Listeriaceae</td>\n",
       "      <td>NaN</td>\n",
       "      <td>Listeria</td>\n",
       "      <td>NaN</td>\n",
       "    </tr>\n",
       "    <tr>\n",
       "      <th>12S_PROFR</th>\n",
       "      <td>Q8GBW6||Q05617</td>\n",
       "      <td>611.0</td>\n",
       "      <td>MAENNNLKLASTMEGRVEQLAEQRQVIEAGGGERRVEKQHSQGKQT...</td>\n",
       "      <td>RecName: Full=Methylmalonyl-CoA carboxyltransf...</td>\n",
       "      <td>IPR034733||IPR000438||IPR029045||IPR011763||IP...</td>\n",
       "      <td>GO:0009317||GO:0003989||GO:0047154||GO:0006633</td>\n",
       "      <td>NaN</td>\n",
       "      <td>NaN</td>\n",
       "      <td>PF01039</td>\n",
       "      <td>NaN</td>\n",
       "      <td>...</td>\n",
       "      <td>2.1.3.1</td>\n",
       "      <td>Bacteria</td>\n",
       "      <td>NaN</td>\n",
       "      <td>Actinobacteria</td>\n",
       "      <td>Actinobacteria</td>\n",
       "      <td>Propionibacteriales</td>\n",
       "      <td>Propionibacteriaceae</td>\n",
       "      <td>NaN</td>\n",
       "      <td>Propionibacterium</td>\n",
       "      <td>NaN</td>\n",
       "    </tr>\n",
       "    <tr>\n",
       "      <th>14KD_MYCBO</th>\n",
       "      <td>P0A5B8||A0A1R3Y251||P30223||X2BJK6</td>\n",
       "      <td>144.0</td>\n",
       "      <td>MATTLPVQRHPRSLFPEFSELFAAFPSFAGLRPTFDTRLMRLEDEM...</td>\n",
       "      <td>RecName: Full=14 kDa antigen; AltName: Full=16...</td>\n",
       "      <td>IPR002068||IPR008978</td>\n",
       "      <td>GO:0005618||GO:0005576</td>\n",
       "      <td>NaN</td>\n",
       "      <td>2.60.40.790</td>\n",
       "      <td>PF00011</td>\n",
       "      <td>NaN</td>\n",
       "      <td>...</td>\n",
       "      <td>NaN</td>\n",
       "      <td>Bacteria</td>\n",
       "      <td>NaN</td>\n",
       "      <td>Actinobacteria</td>\n",
       "      <td>Actinobacteria</td>\n",
       "      <td>Corynebacteriales</td>\n",
       "      <td>Mycobacteriaceae</td>\n",
       "      <td>NaN</td>\n",
       "      <td>Mycobacterium</td>\n",
       "      <td>NaN</td>\n",
       "    </tr>\n",
       "  </tbody>\n",
       "</table>\n",
       "<p>5 rows × 22 columns</p>\n",
       "</div>"
      ],
      "text/plain": [
       "                                     accessions  sequence_length  \\\n",
       "entry_name                                                         \n",
       "12AH_CLOS4                               P21215             29.0   \n",
       "12KD_MYCSM                               P80438             24.0   \n",
       "12OLP_LISIN                              Q92AT0           1086.0   \n",
       "12S_PROFR                        Q8GBW6||Q05617            611.0   \n",
       "14KD_MYCBO   P0A5B8||A0A1R3Y251||P30223||X2BJK6            144.0   \n",
       "\n",
       "                                                      sequence  \\\n",
       "entry_name                                                       \n",
       "12AH_CLOS4                       MIFDGKVAIITGGGKAKSIGYGIAVAYAK   \n",
       "12KD_MYCSM                            MFHVLTLTYLCPLDVVXQTRPAHV   \n",
       "12OLP_LISIN  MTMLKEIKKADLSAAFYPSGELAWLKLKDIMLNQVIQNPLENRLSQ...   \n",
       "12S_PROFR    MAENNNLKLASTMEGRVEQLAEQRQVIEAGGGERRVEKQHSQGKQT...   \n",
       "14KD_MYCBO   MATTLPVQRHPRSLFPEFSELFAAFPSFAGLRPTFDTRLMRLEDEM...   \n",
       "\n",
       "                                                   description  \\\n",
       "entry_name                                                       \n",
       "12AH_CLOS4   RecName: Full=12-alpha-hydroxysteroid dehydrog...   \n",
       "12KD_MYCSM      RecName: Full=12 kDa protein; Flags: Fragment;   \n",
       "12OLP_LISIN  RecName: Full=1,2-beta-oligoglucan phosphoryla...   \n",
       "12S_PROFR    RecName: Full=Methylmalonyl-CoA carboxyltransf...   \n",
       "14KD_MYCBO   RecName: Full=14 kDa antigen; AltName: Full=16...   \n",
       "\n",
       "                                                      InterPro  \\\n",
       "entry_name                                                       \n",
       "12AH_CLOS4                                           IPR036291   \n",
       "12KD_MYCSM                                                 NaN   \n",
       "12OLP_LISIN                    IPR008928||IPR012341||IPR033432   \n",
       "12S_PROFR    IPR034733||IPR000438||IPR029045||IPR011763||IP...   \n",
       "14KD_MYCBO                                IPR002068||IPR008978   \n",
       "\n",
       "                                                         GO      KO  \\\n",
       "entry_name                                                            \n",
       "12AH_CLOS4               GO:0047013||GO:0030573||GO:0016042     NaN   \n",
       "12KD_MYCSM                                              NaN     NaN   \n",
       "12OLP_LISIN                                      GO:0016740  K21298   \n",
       "12S_PROFR    GO:0009317||GO:0003989||GO:0047154||GO:0006633     NaN   \n",
       "14KD_MYCBO                           GO:0005618||GO:0005576     NaN   \n",
       "\n",
       "                  Gene3D     Pfam         KEGG  ...  EC number Superkingdom  \\\n",
       "entry_name                                      ...                           \n",
       "12AH_CLOS4           NaN      NaN          NaN  ...  1.1.1.176     Bacteria   \n",
       "12KD_MYCSM           NaN      NaN          NaN  ...        NaN     Bacteria   \n",
       "12OLP_LISIN   1.50.10.10  PF17167  lin:lin1839  ...  2.4.1.333     Bacteria   \n",
       "12S_PROFR            NaN  PF01039          NaN  ...    2.1.3.1     Bacteria   \n",
       "14KD_MYCBO   2.60.40.790  PF00011          NaN  ...        NaN     Bacteria   \n",
       "\n",
       "            Kingdom          Phylum           Class                Order  \\\n",
       "entry_name                                                                 \n",
       "12AH_CLOS4      NaN      Firmicutes      Clostridia        Clostridiales   \n",
       "12KD_MYCSM      NaN  Actinobacteria  Actinobacteria    Corynebacteriales   \n",
       "12OLP_LISIN     NaN      Firmicutes         Bacilli           Bacillales   \n",
       "12S_PROFR       NaN  Actinobacteria  Actinobacteria  Propionibacteriales   \n",
       "14KD_MYCBO      NaN  Actinobacteria  Actinobacteria    Corynebacteriales   \n",
       "\n",
       "                           Family Subfamily              Genus Species  \n",
       "entry_name                                                              \n",
       "12AH_CLOS4         Clostridiaceae       NaN        Clostridium     NaN  \n",
       "12KD_MYCSM       Mycobacteriaceae       NaN  Mycolicibacterium     NaN  \n",
       "12OLP_LISIN          Listeriaceae       NaN           Listeria     NaN  \n",
       "12S_PROFR    Propionibacteriaceae       NaN  Propionibacterium     NaN  \n",
       "14KD_MYCBO       Mycobacteriaceae       NaN      Mycobacterium     NaN  \n",
       "\n",
       "[5 rows x 22 columns]"
      ]
     },
     "execution_count": 4,
     "metadata": {},
     "output_type": "execute_result"
    }
   ],
   "source": [
    "swiss_df = pd.read_hdf('../data/bacterial_swissprot.h5')\n",
    "swiss_df.head()"
   ]
  },
  {
   "cell_type": "code",
   "execution_count": 5,
   "metadata": {},
   "outputs": [
    {
     "data": {
      "text/html": [
       "<div>\n",
       "<style scoped>\n",
       "    .dataframe tbody tr th:only-of-type {\n",
       "        vertical-align: middle;\n",
       "    }\n",
       "\n",
       "    .dataframe tbody tr th {\n",
       "        vertical-align: top;\n",
       "    }\n",
       "\n",
       "    .dataframe thead th {\n",
       "        text-align: right;\n",
       "    }\n",
       "</style>\n",
       "<table border=\"1\" class=\"dataframe\">\n",
       "  <thead>\n",
       "    <tr style=\"text-align: right;\">\n",
       "      <th></th>\n",
       "      <th>pca_0</th>\n",
       "      <th>pca_1</th>\n",
       "      <th>pca_2</th>\n",
       "      <th>pca_3</th>\n",
       "      <th>pca_4</th>\n",
       "      <th>pca_5</th>\n",
       "      <th>pca_6</th>\n",
       "      <th>pca_7</th>\n",
       "      <th>pca_8</th>\n",
       "      <th>pca_9</th>\n",
       "      <th>...</th>\n",
       "      <th>pca_40</th>\n",
       "      <th>pca_41</th>\n",
       "      <th>pca_42</th>\n",
       "      <th>pca_43</th>\n",
       "      <th>pca_44</th>\n",
       "      <th>pca_45</th>\n",
       "      <th>pca_46</th>\n",
       "      <th>pca_47</th>\n",
       "      <th>pca_48</th>\n",
       "      <th>pca_49</th>\n",
       "    </tr>\n",
       "    <tr>\n",
       "      <th>entry_name</th>\n",
       "      <th></th>\n",
       "      <th></th>\n",
       "      <th></th>\n",
       "      <th></th>\n",
       "      <th></th>\n",
       "      <th></th>\n",
       "      <th></th>\n",
       "      <th></th>\n",
       "      <th></th>\n",
       "      <th></th>\n",
       "      <th></th>\n",
       "      <th></th>\n",
       "      <th></th>\n",
       "      <th></th>\n",
       "      <th></th>\n",
       "      <th></th>\n",
       "      <th></th>\n",
       "      <th></th>\n",
       "      <th></th>\n",
       "      <th></th>\n",
       "      <th></th>\n",
       "    </tr>\n",
       "  </thead>\n",
       "  <tbody>\n",
       "    <tr>\n",
       "      <th>12AH_CLOS4</th>\n",
       "      <td>-1.423302</td>\n",
       "      <td>-0.736753</td>\n",
       "      <td>-0.874685</td>\n",
       "      <td>-0.819151</td>\n",
       "      <td>-0.142118</td>\n",
       "      <td>-0.816148</td>\n",
       "      <td>0.386158</td>\n",
       "      <td>0.061937</td>\n",
       "      <td>0.687497</td>\n",
       "      <td>-0.297038</td>\n",
       "      <td>...</td>\n",
       "      <td>0.118606</td>\n",
       "      <td>-0.178684</td>\n",
       "      <td>0.080721</td>\n",
       "      <td>0.000936</td>\n",
       "      <td>-0.040333</td>\n",
       "      <td>0.036337</td>\n",
       "      <td>-0.045772</td>\n",
       "      <td>0.040853</td>\n",
       "      <td>-0.182722</td>\n",
       "      <td>0.036003</td>\n",
       "    </tr>\n",
       "    <tr>\n",
       "      <th>12KD_MYCSM</th>\n",
       "      <td>-2.985445</td>\n",
       "      <td>0.512436</td>\n",
       "      <td>-0.804671</td>\n",
       "      <td>-0.881089</td>\n",
       "      <td>0.023167</td>\n",
       "      <td>-0.840529</td>\n",
       "      <td>0.681208</td>\n",
       "      <td>-0.202686</td>\n",
       "      <td>0.343030</td>\n",
       "      <td>0.302511</td>\n",
       "      <td>...</td>\n",
       "      <td>0.063164</td>\n",
       "      <td>0.068167</td>\n",
       "      <td>-0.055077</td>\n",
       "      <td>0.054813</td>\n",
       "      <td>0.115826</td>\n",
       "      <td>-0.138364</td>\n",
       "      <td>-0.137902</td>\n",
       "      <td>-0.151101</td>\n",
       "      <td>-0.352669</td>\n",
       "      <td>-0.107964</td>\n",
       "    </tr>\n",
       "    <tr>\n",
       "      <th>12OLP_LISIN</th>\n",
       "      <td>-3.489646</td>\n",
       "      <td>0.009758</td>\n",
       "      <td>0.592749</td>\n",
       "      <td>-0.249326</td>\n",
       "      <td>-0.399583</td>\n",
       "      <td>0.004498</td>\n",
       "      <td>-0.739661</td>\n",
       "      <td>0.568125</td>\n",
       "      <td>-0.138422</td>\n",
       "      <td>-0.558067</td>\n",
       "      <td>...</td>\n",
       "      <td>0.078285</td>\n",
       "      <td>-0.139291</td>\n",
       "      <td>0.163776</td>\n",
       "      <td>-0.086977</td>\n",
       "      <td>0.097379</td>\n",
       "      <td>-0.009465</td>\n",
       "      <td>-0.043559</td>\n",
       "      <td>-0.039196</td>\n",
       "      <td>-0.102595</td>\n",
       "      <td>-0.001293</td>\n",
       "    </tr>\n",
       "    <tr>\n",
       "      <th>12S_PROFR</th>\n",
       "      <td>0.622390</td>\n",
       "      <td>-0.471249</td>\n",
       "      <td>0.868454</td>\n",
       "      <td>0.555548</td>\n",
       "      <td>-0.403828</td>\n",
       "      <td>-0.031662</td>\n",
       "      <td>-0.045285</td>\n",
       "      <td>-0.540816</td>\n",
       "      <td>0.314709</td>\n",
       "      <td>-0.140730</td>\n",
       "      <td>...</td>\n",
       "      <td>-0.212403</td>\n",
       "      <td>0.026798</td>\n",
       "      <td>-0.185727</td>\n",
       "      <td>-0.201333</td>\n",
       "      <td>-0.117253</td>\n",
       "      <td>-0.084229</td>\n",
       "      <td>-0.140449</td>\n",
       "      <td>-0.099275</td>\n",
       "      <td>0.174085</td>\n",
       "      <td>0.006138</td>\n",
       "    </tr>\n",
       "    <tr>\n",
       "      <th>14KD_MYCBO</th>\n",
       "      <td>-0.739342</td>\n",
       "      <td>0.083417</td>\n",
       "      <td>-0.164653</td>\n",
       "      <td>-0.817445</td>\n",
       "      <td>-0.376513</td>\n",
       "      <td>-0.484122</td>\n",
       "      <td>-0.727681</td>\n",
       "      <td>0.142234</td>\n",
       "      <td>0.060500</td>\n",
       "      <td>0.264555</td>\n",
       "      <td>...</td>\n",
       "      <td>-0.006761</td>\n",
       "      <td>-0.284457</td>\n",
       "      <td>0.022018</td>\n",
       "      <td>0.025971</td>\n",
       "      <td>0.017194</td>\n",
       "      <td>-0.175638</td>\n",
       "      <td>0.002390</td>\n",
       "      <td>-0.232771</td>\n",
       "      <td>-0.178814</td>\n",
       "      <td>0.032900</td>\n",
       "    </tr>\n",
       "  </tbody>\n",
       "</table>\n",
       "<p>5 rows × 50 columns</p>\n",
       "</div>"
      ],
      "text/plain": [
       "                pca_0     pca_1     pca_2     pca_3     pca_4     pca_5  \\\n",
       "entry_name                                                                \n",
       "12AH_CLOS4  -1.423302 -0.736753 -0.874685 -0.819151 -0.142118 -0.816148   \n",
       "12KD_MYCSM  -2.985445  0.512436 -0.804671 -0.881089  0.023167 -0.840529   \n",
       "12OLP_LISIN -3.489646  0.009758  0.592749 -0.249326 -0.399583  0.004498   \n",
       "12S_PROFR    0.622390 -0.471249  0.868454  0.555548 -0.403828 -0.031662   \n",
       "14KD_MYCBO  -0.739342  0.083417 -0.164653 -0.817445 -0.376513 -0.484122   \n",
       "\n",
       "                pca_6     pca_7     pca_8     pca_9  ...    pca_40    pca_41  \\\n",
       "entry_name                                           ...                       \n",
       "12AH_CLOS4   0.386158  0.061937  0.687497 -0.297038  ...  0.118606 -0.178684   \n",
       "12KD_MYCSM   0.681208 -0.202686  0.343030  0.302511  ...  0.063164  0.068167   \n",
       "12OLP_LISIN -0.739661  0.568125 -0.138422 -0.558067  ...  0.078285 -0.139291   \n",
       "12S_PROFR   -0.045285 -0.540816  0.314709 -0.140730  ... -0.212403  0.026798   \n",
       "14KD_MYCBO  -0.727681  0.142234  0.060500  0.264555  ... -0.006761 -0.284457   \n",
       "\n",
       "               pca_42    pca_43    pca_44    pca_45    pca_46    pca_47  \\\n",
       "entry_name                                                                \n",
       "12AH_CLOS4   0.080721  0.000936 -0.040333  0.036337 -0.045772  0.040853   \n",
       "12KD_MYCSM  -0.055077  0.054813  0.115826 -0.138364 -0.137902 -0.151101   \n",
       "12OLP_LISIN  0.163776 -0.086977  0.097379 -0.009465 -0.043559 -0.039196   \n",
       "12S_PROFR   -0.185727 -0.201333 -0.117253 -0.084229 -0.140449 -0.099275   \n",
       "14KD_MYCBO   0.022018  0.025971  0.017194 -0.175638  0.002390 -0.232771   \n",
       "\n",
       "               pca_48    pca_49  \n",
       "entry_name                       \n",
       "12AH_CLOS4  -0.182722  0.036003  \n",
       "12KD_MYCSM  -0.352669 -0.107964  \n",
       "12OLP_LISIN -0.102595 -0.001293  \n",
       "12S_PROFR    0.174085  0.006138  \n",
       "14KD_MYCBO  -0.178814  0.032900  \n",
       "\n",
       "[5 rows x 50 columns]"
      ]
     },
     "execution_count": 5,
     "metadata": {},
     "output_type": "execute_result"
    }
   ],
   "source": [
    "embed_df = pd.read_hdf('../data/reduced_deep_embeddings.h5')\n",
    "# embed_df = pd.read_hdf('../data/reduced_3mers_embeddings.h5')\n",
    "embedding_columns = embed_df.columns\n",
    "\n",
    "embed_df.head()"
   ]
  },
  {
   "cell_type": "code",
   "execution_count": 6,
   "metadata": {},
   "outputs": [],
   "source": [
    "swiss_df = swiss_df.join(embed_df)"
   ]
  },
  {
   "cell_type": "markdown",
   "metadata": {},
   "source": [
    "## Helpers"
   ]
  },
  {
   "cell_type": "code",
   "execution_count": 7,
   "metadata": {
    "ExecuteTime": {
     "end_time": "2020-03-13T12:16:35.716553Z",
     "start_time": "2020-03-13T12:16:35.710813Z"
    }
   },
   "outputs": [],
   "source": [
    "def calculate_iou(ground_truth, predictions):\n",
    "    predictions_counts = pd.Series(predictions).value_counts()\n",
    "    len_ground_truth = len(ground_truth)\n",
    "    \n",
    "    # take all values that are equally popular as the last value - we break ties in this manner\n",
    "    most_popular_values = predictions_counts.loc[\n",
    "        predictions_counts >= predictions_counts.iloc[\n",
    "            min(len_ground_truth-1, len(predictions_counts)-1)\n",
    "        ]\n",
    "    ].index\n",
    "    \n",
    "    intersection = set(most_popular_values).intersection(set(ground_truth))\n",
    "    union = set(most_popular_values).union(set(ground_truth))\n",
    "    return len(intersection) / len(union)\n",
    "\n",
    "def calculate_metric(neighbors, train_y, test_y, metric_function):\n",
    "    neighbor_labels = train_y.values[neighbors]\n",
    "\n",
    "    labels_df = (\n",
    "        pd.DataFrame(neighbor_labels, index=test_y.index)\n",
    "            .sum(axis=1)\n",
    "            .rename('neighbors_labels')\n",
    "            .to_frame()\n",
    "    )\n",
    "    \n",
    "    labels_df = labels_df.merge(test_y, left_index=True, right_index=True)\n",
    "    \n",
    "    return labels_df.apply(lambda x: metric_function(x[1], x[0]), axis=1)"
   ]
  },
  {
   "cell_type": "markdown",
   "metadata": {},
   "source": [
    "## Cross-validation for all annotations "
   ]
  },
  {
   "cell_type": "code",
   "execution_count": 8,
   "metadata": {},
   "outputs": [
    {
     "data": {
      "text/html": [
       "<div>\n",
       "<style scoped>\n",
       "    .dataframe tbody tr th:only-of-type {\n",
       "        vertical-align: middle;\n",
       "    }\n",
       "\n",
       "    .dataframe tbody tr th {\n",
       "        vertical-align: top;\n",
       "    }\n",
       "\n",
       "    .dataframe thead th {\n",
       "        text-align: right;\n",
       "    }\n",
       "</style>\n",
       "<table border=\"1\" class=\"dataframe\">\n",
       "  <thead>\n",
       "    <tr style=\"text-align: right;\">\n",
       "      <th></th>\n",
       "      <th>Phylum</th>\n",
       "      <th>Order</th>\n",
       "      <th>Family</th>\n",
       "      <th>Genus</th>\n",
       "      <th>SUPFAM</th>\n",
       "      <th>Gene3D</th>\n",
       "      <th>InterPro</th>\n",
       "      <th>KO</th>\n",
       "      <th>GO</th>\n",
       "      <th>eggNOG</th>\n",
       "      <th>Pfam</th>\n",
       "      <th>EC number</th>\n",
       "    </tr>\n",
       "    <tr>\n",
       "      <th>entry_name</th>\n",
       "      <th></th>\n",
       "      <th></th>\n",
       "      <th></th>\n",
       "      <th></th>\n",
       "      <th></th>\n",
       "      <th></th>\n",
       "      <th></th>\n",
       "      <th></th>\n",
       "      <th></th>\n",
       "      <th></th>\n",
       "      <th></th>\n",
       "      <th></th>\n",
       "    </tr>\n",
       "  </thead>\n",
       "  <tbody>\n",
       "    <tr>\n",
       "      <th>12AH_CLOS4</th>\n",
       "      <td>Firmicutes</td>\n",
       "      <td>Clostridiales</td>\n",
       "      <td>Clostridiaceae</td>\n",
       "      <td>Clostridium</td>\n",
       "      <td>SSF51735</td>\n",
       "      <td>NaN</td>\n",
       "      <td>IPR036291</td>\n",
       "      <td>NaN</td>\n",
       "      <td>GO:0047013||GO:0030573||GO:0016042</td>\n",
       "      <td>NaN</td>\n",
       "      <td>NaN</td>\n",
       "      <td>1.1.1.176</td>\n",
       "    </tr>\n",
       "    <tr>\n",
       "      <th>12KD_MYCSM</th>\n",
       "      <td>Actinobacteria</td>\n",
       "      <td>Corynebacteriales</td>\n",
       "      <td>Mycobacteriaceae</td>\n",
       "      <td>Mycolicibacterium</td>\n",
       "      <td>NaN</td>\n",
       "      <td>NaN</td>\n",
       "      <td>NaN</td>\n",
       "      <td>NaN</td>\n",
       "      <td>NaN</td>\n",
       "      <td>NaN</td>\n",
       "      <td>NaN</td>\n",
       "      <td>NaN</td>\n",
       "    </tr>\n",
       "    <tr>\n",
       "      <th>12OLP_LISIN</th>\n",
       "      <td>Firmicutes</td>\n",
       "      <td>Bacillales</td>\n",
       "      <td>Listeriaceae</td>\n",
       "      <td>Listeria</td>\n",
       "      <td>SSF48208</td>\n",
       "      <td>1.50.10.10</td>\n",
       "      <td>IPR008928||IPR012341||IPR033432</td>\n",
       "      <td>K21298</td>\n",
       "      <td>GO:0016740</td>\n",
       "      <td>ENOG4107T40||COG3459</td>\n",
       "      <td>PF17167</td>\n",
       "      <td>2.4.1.333</td>\n",
       "    </tr>\n",
       "    <tr>\n",
       "      <th>12S_PROFR</th>\n",
       "      <td>Actinobacteria</td>\n",
       "      <td>Propionibacteriales</td>\n",
       "      <td>Propionibacteriaceae</td>\n",
       "      <td>Propionibacterium</td>\n",
       "      <td>SSF52096</td>\n",
       "      <td>NaN</td>\n",
       "      <td>IPR034733||IPR000438||IPR029045||IPR011763||IP...</td>\n",
       "      <td>NaN</td>\n",
       "      <td>GO:0009317||GO:0003989||GO:0047154||GO:0006633</td>\n",
       "      <td>ENOG4107QX3||COG4799</td>\n",
       "      <td>PF01039</td>\n",
       "      <td>2.1.3.1</td>\n",
       "    </tr>\n",
       "    <tr>\n",
       "      <th>14KD_MYCBO</th>\n",
       "      <td>Actinobacteria</td>\n",
       "      <td>Corynebacteriales</td>\n",
       "      <td>Mycobacteriaceae</td>\n",
       "      <td>Mycobacterium</td>\n",
       "      <td>SSF49764</td>\n",
       "      <td>2.60.40.790</td>\n",
       "      <td>IPR002068||IPR008978</td>\n",
       "      <td>NaN</td>\n",
       "      <td>GO:0005618||GO:0005576</td>\n",
       "      <td>NaN</td>\n",
       "      <td>PF00011</td>\n",
       "      <td>NaN</td>\n",
       "    </tr>\n",
       "  </tbody>\n",
       "</table>\n",
       "</div>"
      ],
      "text/plain": [
       "                     Phylum                Order                Family  \\\n",
       "entry_name                                                               \n",
       "12AH_CLOS4       Firmicutes        Clostridiales        Clostridiaceae   \n",
       "12KD_MYCSM   Actinobacteria    Corynebacteriales      Mycobacteriaceae   \n",
       "12OLP_LISIN      Firmicutes           Bacillales          Listeriaceae   \n",
       "12S_PROFR    Actinobacteria  Propionibacteriales  Propionibacteriaceae   \n",
       "14KD_MYCBO   Actinobacteria    Corynebacteriales      Mycobacteriaceae   \n",
       "\n",
       "                         Genus    SUPFAM       Gene3D  \\\n",
       "entry_name                                              \n",
       "12AH_CLOS4         Clostridium  SSF51735          NaN   \n",
       "12KD_MYCSM   Mycolicibacterium       NaN          NaN   \n",
       "12OLP_LISIN           Listeria  SSF48208   1.50.10.10   \n",
       "12S_PROFR    Propionibacterium  SSF52096          NaN   \n",
       "14KD_MYCBO       Mycobacterium  SSF49764  2.60.40.790   \n",
       "\n",
       "                                                      InterPro      KO  \\\n",
       "entry_name                                                               \n",
       "12AH_CLOS4                                           IPR036291     NaN   \n",
       "12KD_MYCSM                                                 NaN     NaN   \n",
       "12OLP_LISIN                    IPR008928||IPR012341||IPR033432  K21298   \n",
       "12S_PROFR    IPR034733||IPR000438||IPR029045||IPR011763||IP...     NaN   \n",
       "14KD_MYCBO                                IPR002068||IPR008978     NaN   \n",
       "\n",
       "                                                         GO  \\\n",
       "entry_name                                                    \n",
       "12AH_CLOS4               GO:0047013||GO:0030573||GO:0016042   \n",
       "12KD_MYCSM                                              NaN   \n",
       "12OLP_LISIN                                      GO:0016740   \n",
       "12S_PROFR    GO:0009317||GO:0003989||GO:0047154||GO:0006633   \n",
       "14KD_MYCBO                           GO:0005618||GO:0005576   \n",
       "\n",
       "                           eggNOG     Pfam  EC number  \n",
       "entry_name                                             \n",
       "12AH_CLOS4                    NaN      NaN  1.1.1.176  \n",
       "12KD_MYCSM                    NaN      NaN        NaN  \n",
       "12OLP_LISIN  ENOG4107T40||COG3459  PF17167  2.4.1.333  \n",
       "12S_PROFR    ENOG4107QX3||COG4799  PF01039    2.1.3.1  \n",
       "14KD_MYCBO                    NaN  PF00011        NaN  "
      ]
     },
     "execution_count": 8,
     "metadata": {},
     "output_type": "execute_result"
    }
   ],
   "source": [
    "ks = [3, 15, 51]\n",
    "n_repeats = 10\n",
    "n_folds = 5\n",
    "random_state=0\n",
    "\n",
    "annotations = [\n",
    "    'Phylum',\n",
    "    'Order',\n",
    "    'Family',\n",
    "    'Genus',\n",
    "    'SUPFAM',\n",
    "    'Gene3D',\n",
    "    'InterPro',\n",
    "    'KO',\n",
    "    'GO',\n",
    "    'eggNOG',\n",
    "    'Pfam',\n",
    "    'EC number'\n",
    "]\n",
    "swiss_df[annotations].head()"
   ]
  },
  {
   "cell_type": "code",
   "execution_count": null,
   "metadata": {},
   "outputs": [
    {
     "name": "stderr",
     "output_type": "stream",
     "text": [
      "  0%|          | 0/12 [00:00<?, ?it/s]\n",
      "  0%|          | 0/50 [00:00<?, ?it/s]\u001b[A"
     ]
    },
    {
     "name": "stdout",
     "output_type": "stream",
     "text": [
      "Phylum\n",
      "Phylum for k=3: 0.8215\n",
      "Phylum for k=15: 0.7574\n",
      "Phylum for k=51: 0.6823\n"
     ]
    },
    {
     "name": "stderr",
     "output_type": "stream",
     "text": [
      "\n",
      "  2%|▏         | 1/50 [02:40<2:10:55, 160.31s/it]\u001b[A"
     ]
    },
    {
     "name": "stdout",
     "output_type": "stream",
     "text": [
      "Phylum for k=3: 0.8210\n",
      "Phylum for k=15: 0.7562\n",
      "Phylum for k=51: 0.6807\n"
     ]
    },
    {
     "name": "stderr",
     "output_type": "stream",
     "text": [
      "\n",
      "  4%|▍         | 2/50 [05:05<2:04:42, 155.88s/it]\u001b[A"
     ]
    },
    {
     "name": "stdout",
     "output_type": "stream",
     "text": [
      "Phylum for k=3: 0.8211\n",
      "Phylum for k=15: 0.7574\n",
      "Phylum for k=51: 0.6783\n"
     ]
    },
    {
     "name": "stderr",
     "output_type": "stream",
     "text": [
      "\n",
      "  6%|▌         | 3/50 [07:30<1:59:23, 152.42s/it]\u001b[A"
     ]
    },
    {
     "name": "stdout",
     "output_type": "stream",
     "text": [
      "Phylum for k=3: 0.8197\n",
      "Phylum for k=15: 0.7564\n",
      "Phylum for k=51: 0.6798\n"
     ]
    },
    {
     "name": "stderr",
     "output_type": "stream",
     "text": [
      "\n",
      "  8%|▊         | 4/50 [09:51<1:54:22, 149.18s/it]\u001b[A"
     ]
    },
    {
     "name": "stdout",
     "output_type": "stream",
     "text": [
      "Phylum for k=3: 0.8231\n",
      "Phylum for k=15: 0.7574\n",
      "Phylum for k=51: 0.6789\n"
     ]
    },
    {
     "name": "stderr",
     "output_type": "stream",
     "text": [
      "\n",
      " 10%|█         | 5/50 [12:16<1:50:48, 147.74s/it]\u001b[A"
     ]
    },
    {
     "name": "stdout",
     "output_type": "stream",
     "text": [
      "Phylum for k=3: 0.8209\n",
      "Phylum for k=15: 0.7588\n",
      "Phylum for k=51: 0.6821\n"
     ]
    },
    {
     "name": "stderr",
     "output_type": "stream",
     "text": [
      "\n",
      " 12%|█▏        | 6/50 [14:43<1:48:09, 147.49s/it]\u001b[A"
     ]
    },
    {
     "name": "stdout",
     "output_type": "stream",
     "text": [
      "Phylum for k=3: 0.8225\n",
      "Phylum for k=15: 0.7539\n",
      "Phylum for k=51: 0.6770\n"
     ]
    },
    {
     "name": "stderr",
     "output_type": "stream",
     "text": [
      "\n",
      " 14%|█▍        | 7/50 [17:07<1:45:05, 146.64s/it]\u001b[A"
     ]
    },
    {
     "name": "stdout",
     "output_type": "stream",
     "text": [
      "Phylum for k=3: 0.8197\n",
      "Phylum for k=15: 0.7558\n",
      "Phylum for k=51: 0.6810\n"
     ]
    },
    {
     "name": "stderr",
     "output_type": "stream",
     "text": [
      "\n",
      " 16%|█▌        | 8/50 [19:28<1:41:28, 144.97s/it]\u001b[A"
     ]
    },
    {
     "name": "stdout",
     "output_type": "stream",
     "text": [
      "Phylum for k=3: 0.8231\n",
      "Phylum for k=15: 0.7585\n",
      "Phylum for k=51: 0.6802\n"
     ]
    },
    {
     "name": "stderr",
     "output_type": "stream",
     "text": [
      "\n",
      " 18%|█▊        | 9/50 [21:51<1:38:36, 144.29s/it]\u001b[A"
     ]
    },
    {
     "name": "stdout",
     "output_type": "stream",
     "text": [
      "Phylum for k=3: 0.8197\n",
      "Phylum for k=15: 0.7581\n",
      "Phylum for k=51: 0.6789\n"
     ]
    },
    {
     "name": "stderr",
     "output_type": "stream",
     "text": [
      "\n",
      " 20%|██        | 10/50 [24:16<1:36:17, 144.43s/it]\u001b[A"
     ]
    },
    {
     "name": "stdout",
     "output_type": "stream",
     "text": [
      "Phylum for k=3: 0.8187\n",
      "Phylum for k=15: 0.7537\n",
      "Phylum for k=51: 0.6756\n"
     ]
    },
    {
     "name": "stderr",
     "output_type": "stream",
     "text": [
      "\n",
      " 22%|██▏       | 11/50 [26:41<1:33:59, 144.61s/it]\u001b[A"
     ]
    },
    {
     "name": "stdout",
     "output_type": "stream",
     "text": [
      "Phylum for k=3: 0.8224\n",
      "Phylum for k=15: 0.7557\n",
      "Phylum for k=51: 0.6814\n"
     ]
    },
    {
     "name": "stderr",
     "output_type": "stream",
     "text": [
      "\n",
      " 24%|██▍       | 12/50 [29:03<1:31:03, 143.77s/it]\u001b[A"
     ]
    },
    {
     "name": "stdout",
     "output_type": "stream",
     "text": [
      "Phylum for k=3: 0.8210\n",
      "Phylum for k=15: 0.7594\n",
      "Phylum for k=51: 0.6825\n"
     ]
    },
    {
     "name": "stderr",
     "output_type": "stream",
     "text": [
      "\n",
      " 26%|██▌       | 13/50 [31:24<1:28:08, 142.92s/it]\u001b[A"
     ]
    },
    {
     "name": "stdout",
     "output_type": "stream",
     "text": [
      "Phylum for k=3: 0.8203\n",
      "Phylum for k=15: 0.7569\n",
      "Phylum for k=51: 0.6794\n"
     ]
    },
    {
     "name": "stderr",
     "output_type": "stream",
     "text": [
      "\n",
      " 28%|██▊       | 14/50 [33:47<1:25:47, 143.00s/it]\u001b[A"
     ]
    },
    {
     "name": "stdout",
     "output_type": "stream",
     "text": [
      "Phylum for k=3: 0.8232\n",
      "Phylum for k=15: 0.7584\n",
      "Phylum for k=51: 0.6809\n"
     ]
    },
    {
     "name": "stderr",
     "output_type": "stream",
     "text": [
      "\n",
      " 30%|███       | 15/50 [36:09<1:23:14, 142.71s/it]\u001b[A"
     ]
    },
    {
     "name": "stdout",
     "output_type": "stream",
     "text": [
      "Phylum for k=3: 0.8226\n",
      "Phylum for k=15: 0.7588\n",
      "Phylum for k=51: 0.6816\n"
     ]
    },
    {
     "name": "stderr",
     "output_type": "stream",
     "text": [
      "\n",
      " 32%|███▏      | 16/50 [38:31<1:20:48, 142.60s/it]\u001b[A"
     ]
    },
    {
     "name": "stdout",
     "output_type": "stream",
     "text": [
      "Phylum for k=3: 0.8205\n",
      "Phylum for k=15: 0.7570\n",
      "Phylum for k=51: 0.6803\n"
     ]
    },
    {
     "name": "stderr",
     "output_type": "stream",
     "text": [
      "\n",
      " 34%|███▍      | 17/50 [40:55<1:18:36, 142.94s/it]\u001b[A"
     ]
    },
    {
     "name": "stdout",
     "output_type": "stream",
     "text": [
      "Phylum for k=3: 0.8210\n",
      "Phylum for k=15: 0.7582\n",
      "Phylum for k=51: 0.6802\n"
     ]
    },
    {
     "name": "stderr",
     "output_type": "stream",
     "text": [
      "\n",
      " 36%|███▌      | 18/50 [43:16<1:15:55, 142.36s/it]\u001b[A"
     ]
    },
    {
     "name": "stdout",
     "output_type": "stream",
     "text": [
      "Phylum for k=3: 0.8187\n",
      "Phylum for k=15: 0.7546\n",
      "Phylum for k=51: 0.6781\n"
     ]
    },
    {
     "name": "stderr",
     "output_type": "stream",
     "text": [
      "\n",
      " 38%|███▊      | 19/50 [45:38<1:13:34, 142.41s/it]\u001b[A"
     ]
    },
    {
     "name": "stdout",
     "output_type": "stream",
     "text": [
      "Phylum for k=3: 0.8214\n",
      "Phylum for k=15: 0.7563\n",
      "Phylum for k=51: 0.6799\n"
     ]
    },
    {
     "name": "stderr",
     "output_type": "stream",
     "text": [
      "\n",
      " 40%|████      | 20/50 [48:01<1:11:15, 142.53s/it]\u001b[A"
     ]
    },
    {
     "name": "stdout",
     "output_type": "stream",
     "text": [
      "Phylum for k=3: 0.8201\n",
      "Phylum for k=15: 0.7589\n",
      "Phylum for k=51: 0.6839\n"
     ]
    },
    {
     "name": "stderr",
     "output_type": "stream",
     "text": [
      "\n",
      " 42%|████▏     | 21/50 [50:24<1:08:59, 142.74s/it]\u001b[A"
     ]
    },
    {
     "name": "stdout",
     "output_type": "stream",
     "text": [
      "Phylum for k=3: 0.8224\n",
      "Phylum for k=15: 0.7575\n",
      "Phylum for k=51: 0.6787\n"
     ]
    },
    {
     "name": "stderr",
     "output_type": "stream",
     "text": [
      "\n",
      " 44%|████▍     | 22/50 [52:44<1:06:08, 141.72s/it]\u001b[A"
     ]
    },
    {
     "name": "stdout",
     "output_type": "stream",
     "text": [
      "Phylum for k=3: 0.8258\n",
      "Phylum for k=15: 0.7606\n",
      "Phylum for k=51: 0.6826\n"
     ]
    },
    {
     "name": "stderr",
     "output_type": "stream",
     "text": [
      "\n",
      " 46%|████▌     | 23/50 [55:02<1:03:21, 140.79s/it]\u001b[A"
     ]
    },
    {
     "name": "stdout",
     "output_type": "stream",
     "text": [
      "Phylum for k=3: 0.8209\n",
      "Phylum for k=15: 0.7569\n",
      "Phylum for k=51: 0.6804\n"
     ]
    },
    {
     "name": "stderr",
     "output_type": "stream",
     "text": [
      "\n",
      " 48%|████▊     | 24/50 [57:22<1:00:50, 140.39s/it]\u001b[A"
     ]
    },
    {
     "name": "stdout",
     "output_type": "stream",
     "text": [
      "Phylum for k=3: 0.8191\n",
      "Phylum for k=15: 0.7528\n",
      "Phylum for k=51: 0.6732\n"
     ]
    },
    {
     "name": "stderr",
     "output_type": "stream",
     "text": [
      "\n",
      " 50%|█████     | 25/50 [59:40<58:14, 139.79s/it]  \u001b[A"
     ]
    },
    {
     "name": "stdout",
     "output_type": "stream",
     "text": [
      "Phylum for k=3: 0.8204\n",
      "Phylum for k=15: 0.7568\n",
      "Phylum for k=51: 0.6800\n"
     ]
    },
    {
     "name": "stderr",
     "output_type": "stream",
     "text": [
      "\n",
      " 52%|█████▏    | 26/50 [1:02:00<55:54, 139.76s/it]\u001b[A"
     ]
    },
    {
     "name": "stdout",
     "output_type": "stream",
     "text": [
      "Phylum for k=3: 0.8200\n",
      "Phylum for k=15: 0.7551\n",
      "Phylum for k=51: 0.6777\n"
     ]
    },
    {
     "name": "stderr",
     "output_type": "stream",
     "text": [
      "\n",
      " 54%|█████▍    | 27/50 [1:04:17<53:18, 139.08s/it]\u001b[A"
     ]
    },
    {
     "name": "stdout",
     "output_type": "stream",
     "text": [
      "Phylum for k=3: 0.8239\n",
      "Phylum for k=15: 0.7604\n",
      "Phylum for k=51: 0.6838\n"
     ]
    },
    {
     "name": "stderr",
     "output_type": "stream",
     "text": [
      "\n",
      " 56%|█████▌    | 28/50 [1:06:36<50:55, 138.89s/it]\u001b[A"
     ]
    },
    {
     "name": "stdout",
     "output_type": "stream",
     "text": [
      "Phylum for k=3: 0.8191\n",
      "Phylum for k=15: 0.7593\n",
      "Phylum for k=51: 0.6795\n"
     ]
    },
    {
     "name": "stderr",
     "output_type": "stream",
     "text": [
      "\n",
      " 58%|█████▊    | 29/50 [1:08:55<48:37, 138.94s/it]\u001b[A"
     ]
    },
    {
     "name": "stdout",
     "output_type": "stream",
     "text": [
      "Phylum for k=3: 0.8193\n",
      "Phylum for k=15: 0.7541\n",
      "Phylum for k=51: 0.6776\n"
     ]
    },
    {
     "name": "stderr",
     "output_type": "stream",
     "text": [
      "\n",
      " 60%|██████    | 30/50 [1:11:14<46:20, 139.02s/it]\u001b[A"
     ]
    },
    {
     "name": "stdout",
     "output_type": "stream",
     "text": [
      "Phylum for k=3: 0.8234\n",
      "Phylum for k=15: 0.7581\n",
      "Phylum for k=51: 0.6811\n"
     ]
    },
    {
     "name": "stderr",
     "output_type": "stream",
     "text": [
      "\n",
      " 62%|██████▏   | 31/50 [1:13:31<43:50, 138.45s/it]\u001b[A"
     ]
    },
    {
     "name": "stdout",
     "output_type": "stream",
     "text": [
      "Phylum for k=3: 0.8217\n",
      "Phylum for k=15: 0.7592\n",
      "Phylum for k=51: 0.6800\n"
     ]
    },
    {
     "name": "stderr",
     "output_type": "stream",
     "text": [
      "\n",
      " 64%|██████▍   | 32/50 [1:15:50<41:31, 138.43s/it]\u001b[A"
     ]
    },
    {
     "name": "stdout",
     "output_type": "stream",
     "text": [
      "Phylum for k=3: 0.8186\n",
      "Phylum for k=15: 0.7549\n",
      "Phylum for k=51: 0.6766\n"
     ]
    },
    {
     "name": "stderr",
     "output_type": "stream",
     "text": [
      "\n",
      " 66%|██████▌   | 33/50 [1:18:09<39:19, 138.77s/it]\u001b[A"
     ]
    },
    {
     "name": "stdout",
     "output_type": "stream",
     "text": [
      "Phylum for k=3: 0.8213\n",
      "Phylum for k=15: 0.7582\n",
      "Phylum for k=51: 0.6824\n"
     ]
    },
    {
     "name": "stderr",
     "output_type": "stream",
     "text": [
      "\n",
      " 68%|██████▊   | 34/50 [1:20:30<37:09, 139.35s/it]\u001b[A"
     ]
    },
    {
     "name": "stdout",
     "output_type": "stream",
     "text": [
      "Phylum for k=3: 0.8212\n",
      "Phylum for k=15: 0.7554\n",
      "Phylum for k=51: 0.6791\n"
     ]
    },
    {
     "name": "stderr",
     "output_type": "stream",
     "text": [
      "\n",
      " 70%|███████   | 35/50 [1:22:50<34:52, 139.49s/it]\u001b[A"
     ]
    },
    {
     "name": "stdout",
     "output_type": "stream",
     "text": [
      "Phylum for k=3: 0.8209\n",
      "Phylum for k=15: 0.7547\n",
      "Phylum for k=51: 0.6772\n"
     ]
    },
    {
     "name": "stderr",
     "output_type": "stream",
     "text": [
      "\n",
      " 72%|███████▏  | 36/50 [1:25:09<32:32, 139.45s/it]\u001b[A"
     ]
    },
    {
     "name": "stdout",
     "output_type": "stream",
     "text": [
      "Phylum for k=3: 0.8197\n",
      "Phylum for k=15: 0.7541\n",
      "Phylum for k=51: 0.6765\n"
     ]
    },
    {
     "name": "stderr",
     "output_type": "stream",
     "text": [
      "\n",
      " 74%|███████▍  | 37/50 [1:27:29<30:16, 139.70s/it]\u001b[A"
     ]
    },
    {
     "name": "stdout",
     "output_type": "stream",
     "text": [
      "Phylum for k=3: 0.8207\n",
      "Phylum for k=15: 0.7590\n",
      "Phylum for k=51: 0.6813\n"
     ]
    },
    {
     "name": "stderr",
     "output_type": "stream",
     "text": [
      "\n",
      " 76%|███████▌  | 38/50 [1:29:52<28:07, 140.66s/it]\u001b[A"
     ]
    },
    {
     "name": "stdout",
     "output_type": "stream",
     "text": [
      "Phylum for k=3: 0.8208\n",
      "Phylum for k=15: 0.7580\n",
      "Phylum for k=51: 0.6810\n"
     ]
    },
    {
     "name": "stderr",
     "output_type": "stream",
     "text": [
      "\n",
      " 78%|███████▊  | 39/50 [1:32:15<25:52, 141.13s/it]\u001b[A"
     ]
    },
    {
     "name": "stdout",
     "output_type": "stream",
     "text": [
      "Phylum for k=3: 0.8226\n",
      "Phylum for k=15: 0.7603\n",
      "Phylum for k=51: 0.6814\n"
     ]
    },
    {
     "name": "stderr",
     "output_type": "stream",
     "text": [
      "\n",
      " 80%|████████  | 40/50 [1:34:37<23:36, 141.66s/it]\u001b[A"
     ]
    },
    {
     "name": "stdout",
     "output_type": "stream",
     "text": [
      "Phylum for k=3: 0.8182\n",
      "Phylum for k=15: 0.7572\n",
      "Phylum for k=51: 0.6837\n"
     ]
    },
    {
     "name": "stderr",
     "output_type": "stream",
     "text": [
      "\n",
      " 82%|████████▏ | 41/50 [1:37:06<21:33, 143.69s/it]\u001b[A"
     ]
    },
    {
     "name": "stdout",
     "output_type": "stream",
     "text": [
      "Phylum for k=3: 0.8226\n",
      "Phylum for k=15: 0.7578\n",
      "Phylum for k=51: 0.6797\n"
     ]
    },
    {
     "name": "stderr",
     "output_type": "stream",
     "text": [
      "\n",
      " 84%|████████▍ | 42/50 [1:39:24<18:55, 141.91s/it]\u001b[A"
     ]
    },
    {
     "name": "stdout",
     "output_type": "stream",
     "text": [
      "Phylum for k=3: 0.8188\n",
      "Phylum for k=15: 0.7558\n",
      "Phylum for k=51: 0.6759\n"
     ]
    },
    {
     "name": "stderr",
     "output_type": "stream",
     "text": [
      "\n",
      " 86%|████████▌ | 43/50 [1:41:42<16:26, 140.96s/it]\u001b[A"
     ]
    },
    {
     "name": "stdout",
     "output_type": "stream",
     "text": [
      "Phylum for k=3: 0.8195\n",
      "Phylum for k=15: 0.7537\n",
      "Phylum for k=51: 0.6773\n"
     ]
    },
    {
     "name": "stderr",
     "output_type": "stream",
     "text": [
      "\n",
      " 88%|████████▊ | 44/50 [1:44:03<14:04, 140.74s/it]\u001b[A"
     ]
    },
    {
     "name": "stdout",
     "output_type": "stream",
     "text": [
      "Phylum for k=3: 0.8225\n",
      "Phylum for k=15: 0.7609\n",
      "Phylum for k=51: 0.6806\n"
     ]
    },
    {
     "name": "stderr",
     "output_type": "stream",
     "text": [
      "\n",
      " 90%|█████████ | 45/50 [1:46:22<11:41, 140.34s/it]\u001b[A"
     ]
    },
    {
     "name": "stdout",
     "output_type": "stream",
     "text": [
      "Phylum for k=3: 0.8210\n",
      "Phylum for k=15: 0.7573\n",
      "Phylum for k=51: 0.6807\n"
     ]
    },
    {
     "name": "stderr",
     "output_type": "stream",
     "text": [
      "\n",
      " 92%|█████████▏| 46/50 [1:48:41<09:20, 140.02s/it]\u001b[A"
     ]
    },
    {
     "name": "stdout",
     "output_type": "stream",
     "text": [
      "Phylum for k=3: 0.8219\n",
      "Phylum for k=15: 0.7546\n",
      "Phylum for k=51: 0.6805\n"
     ]
    },
    {
     "name": "stderr",
     "output_type": "stream",
     "text": [
      "\n",
      " 94%|█████████▍| 47/50 [1:51:00<06:58, 139.55s/it]\u001b[A"
     ]
    },
    {
     "name": "stdout",
     "output_type": "stream",
     "text": [
      "Phylum for k=3: 0.8209\n",
      "Phylum for k=15: 0.7568\n",
      "Phylum for k=51: 0.6801\n"
     ]
    },
    {
     "name": "stderr",
     "output_type": "stream",
     "text": [
      "\n",
      " 96%|█████████▌| 48/50 [1:53:18<04:38, 139.17s/it]\u001b[A"
     ]
    },
    {
     "name": "stdout",
     "output_type": "stream",
     "text": [
      "Phylum for k=3: 0.8215\n",
      "Phylum for k=15: 0.7590\n",
      "Phylum for k=51: 0.6800\n"
     ]
    },
    {
     "name": "stderr",
     "output_type": "stream",
     "text": [
      "\n",
      " 98%|█████████▊| 49/50 [1:55:37<02:18, 138.99s/it]\u001b[A"
     ]
    },
    {
     "name": "stdout",
     "output_type": "stream",
     "text": [
      "Phylum for k=3: 0.8195\n",
      "Phylum for k=15: 0.7557\n",
      "Phylum for k=51: 0.6788\n"
     ]
    },
    {
     "name": "stderr",
     "output_type": "stream",
     "text": [
      "\n",
      "100%|██████████| 50/50 [1:57:53<00:00, 141.47s/it]\u001b[A\n",
      "  8%|▊         | 1/12 [1:57:53<21:36:51, 7073.74s/it]"
     ]
    },
    {
     "name": "stdout",
     "output_type": "stream",
     "text": [
      "Order\n"
     ]
    },
    {
     "name": "stderr",
     "output_type": "stream",
     "text": [
      "\n",
      "  0%|          | 0/50 [00:00<?, ?it/s]\u001b[A"
     ]
    },
    {
     "name": "stdout",
     "output_type": "stream",
     "text": [
      "Order for k=3: 0.5626\n",
      "Order for k=15: 0.4469\n",
      "Order for k=51: 0.3131\n"
     ]
    },
    {
     "name": "stderr",
     "output_type": "stream",
     "text": [
      "\n",
      "  2%|▏         | 1/50 [02:17<1:52:11, 137.38s/it]\u001b[A"
     ]
    },
    {
     "name": "stdout",
     "output_type": "stream",
     "text": [
      "Order for k=3: 0.5624\n",
      "Order for k=15: 0.4455\n",
      "Order for k=51: 0.3091\n"
     ]
    },
    {
     "name": "stderr",
     "output_type": "stream",
     "text": [
      "\n",
      "  4%|▍         | 2/50 [04:36<1:50:26, 138.05s/it]\u001b[A"
     ]
    },
    {
     "name": "stdout",
     "output_type": "stream",
     "text": [
      "Order for k=3: 0.5658\n",
      "Order for k=15: 0.4460\n",
      "Order for k=51: 0.3100\n"
     ]
    },
    {
     "name": "stderr",
     "output_type": "stream",
     "text": [
      "\n",
      "  6%|▌         | 3/50 [06:55<1:48:11, 138.11s/it]\u001b[A"
     ]
    },
    {
     "name": "stdout",
     "output_type": "stream",
     "text": [
      "Order for k=3: 0.5640\n",
      "Order for k=15: 0.4468\n",
      "Order for k=51: 0.3118\n"
     ]
    },
    {
     "name": "stderr",
     "output_type": "stream",
     "text": [
      "\n",
      "  8%|▊         | 4/50 [09:14<1:46:11, 138.51s/it]\u001b[A"
     ]
    },
    {
     "name": "stdout",
     "output_type": "stream",
     "text": [
      "Order for k=3: 0.5642\n",
      "Order for k=15: 0.4467\n",
      "Order for k=51: 0.3142\n"
     ]
    },
    {
     "name": "stderr",
     "output_type": "stream",
     "text": [
      "\n",
      " 10%|█         | 5/50 [11:38<1:45:00, 140.02s/it]\u001b[A"
     ]
    },
    {
     "name": "stdout",
     "output_type": "stream",
     "text": [
      "Order for k=3: 0.5611\n",
      "Order for k=15: 0.4429\n",
      "Order for k=51: 0.3129\n"
     ]
    },
    {
     "name": "stderr",
     "output_type": "stream",
     "text": [
      "\n",
      " 12%|█▏        | 6/50 [13:57<1:42:29, 139.77s/it]\u001b[A"
     ]
    },
    {
     "name": "stdout",
     "output_type": "stream",
     "text": [
      "Order for k=3: 0.5690\n"
     ]
    }
   ],
   "source": [
    "for annotation in tqdm(annotations): \n",
    "    print(annotation)\n",
    "\n",
    "    # Not null annotation column and embedding columns\n",
    "    annot_df = swiss_df[\n",
    "        swiss_df[annotation].notnull() & swiss_df[embedding_columns].notnull().all(axis=1)\n",
    "    ]#.sample(1000) # For testing\n",
    "   \n",
    "    metrics_df = pd.DataFrame(\n",
    "        data=np.nan,\n",
    "        index=annot_df.index,\n",
    "        columns=[f'k={k}' for k in ks]\n",
    "    )\n",
    "    \n",
    "    kfold = RepeatedKFold(n_splits=n_folds, random_state=random_state, n_repeats=n_repeats)\n",
    "    for train_ids, test_ids in tqdm(kfold.split(annot_df), total=kfold.get_n_splits()):\n",
    "        \n",
    "        # Train-test split\n",
    "        train_X = annot_df.iloc[train_ids][embedding_columns]\n",
    "        test_X = annot_df.iloc[test_ids][embedding_columns]\n",
    "        train_y = annot_df.iloc[train_ids][annotation]\n",
    "        test_y = annot_df.iloc[test_ids][annotation]\n",
    "        \n",
    "        # Expand labels to lists\n",
    "        train_y, test_y = train_y.str.split(pat=r'\\|\\|'), test_y.str.split(pat=r'\\|\\|')\n",
    "\n",
    "        # Build & query NN graph\n",
    "        nn_graph = NNDescent(train_X, n_neighbors=max(ks), n_jobs=8)\n",
    "        \n",
    "        neighbors, distances = nn_graph.query(test_X, k=max(ks))\n",
    "\n",
    "        for k in ks:\n",
    "            k_nearest_neighbors = neighbors[:, :k]\n",
    "            metric_values = calculate_metric(k_nearest_neighbors, train_y, test_y, calculate_iou)\n",
    "            \n",
    "            metrics_df.loc[metric_values.index, f'k={k}'] = metric_values.values            \n",
    "            print(f'{annotation} for k={k}: {metric_values.mean():.4f}')\n",
    "\n",
    "        metrics_df.to_csv(results_path_pattern.format(annotation))"
   ]
  }
 ],
 "metadata": {
  "kernelspec": {
   "display_name": "Python 3",
   "language": "python",
   "name": "python3"
  },
  "language_info": {
   "codemirror_mode": {
    "name": "ipython",
    "version": 3
   },
   "file_extension": ".py",
   "mimetype": "text/x-python",
   "name": "python",
   "nbconvert_exporter": "python",
   "pygments_lexer": "ipython3",
   "version": "3.7.7"
  }
 },
 "nbformat": 4,
 "nbformat_minor": 4
}
