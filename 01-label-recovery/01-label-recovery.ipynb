{
 "cells": [
  {
   "cell_type": "code",
   "execution_count": 1,
   "metadata": {},
   "outputs": [],
   "source": [
    "from pathlib import Path\n",
    "\n",
    "from tqdm import tqdm\n",
    "\n",
    "import pandas as pd\n",
    "import numpy as np\n",
    "\n",
    "from sklearn.model_selection import KFold\n",
    "from pynndescent import NNDescent"
   ]
  },
  {
   "cell_type": "markdown",
   "metadata": {},
   "source": [
    "## Prepare path for the results"
   ]
  },
  {
   "cell_type": "code",
   "execution_count": 2,
   "metadata": {},
   "outputs": [],
   "source": [
    "results_path_pattern = 'results_ArdiMiPE/repeat_{}/{}.csv'\n",
    "# results_path_pattern = 'results_3mers/repeat_{}/{}.csv'"
   ]
  },
  {
   "cell_type": "markdown",
   "metadata": {},
   "source": [
    "## Load data"
   ]
  },
  {
   "cell_type": "code",
   "execution_count": 3,
   "metadata": {},
   "outputs": [
    {
     "data": {
      "text/html": [
       "<div>\n",
       "<style scoped>\n",
       "    .dataframe tbody tr th:only-of-type {\n",
       "        vertical-align: middle;\n",
       "    }\n",
       "\n",
       "    .dataframe tbody tr th {\n",
       "        vertical-align: top;\n",
       "    }\n",
       "\n",
       "    .dataframe thead th {\n",
       "        text-align: right;\n",
       "    }\n",
       "</style>\n",
       "<table border=\"1\" class=\"dataframe\">\n",
       "  <thead>\n",
       "    <tr style=\"text-align: right;\">\n",
       "      <th></th>\n",
       "      <th>accessions</th>\n",
       "      <th>sequence_length</th>\n",
       "      <th>sequence</th>\n",
       "      <th>description</th>\n",
       "      <th>InterPro</th>\n",
       "      <th>GO</th>\n",
       "      <th>KO</th>\n",
       "      <th>Gene3D</th>\n",
       "      <th>Pfam</th>\n",
       "      <th>KEGG</th>\n",
       "      <th>...</th>\n",
       "      <th>Superkingdom</th>\n",
       "      <th>Kingdom</th>\n",
       "      <th>Phylum</th>\n",
       "      <th>Class</th>\n",
       "      <th>Order</th>\n",
       "      <th>Family</th>\n",
       "      <th>Subfamily</th>\n",
       "      <th>Genus</th>\n",
       "      <th>Species</th>\n",
       "      <th>Transmembrane</th>\n",
       "    </tr>\n",
       "    <tr>\n",
       "      <th>entry_name</th>\n",
       "      <th></th>\n",
       "      <th></th>\n",
       "      <th></th>\n",
       "      <th></th>\n",
       "      <th></th>\n",
       "      <th></th>\n",
       "      <th></th>\n",
       "      <th></th>\n",
       "      <th></th>\n",
       "      <th></th>\n",
       "      <th></th>\n",
       "      <th></th>\n",
       "      <th></th>\n",
       "      <th></th>\n",
       "      <th></th>\n",
       "      <th></th>\n",
       "      <th></th>\n",
       "      <th></th>\n",
       "      <th></th>\n",
       "      <th></th>\n",
       "      <th></th>\n",
       "    </tr>\n",
       "  </thead>\n",
       "  <tbody>\n",
       "    <tr>\n",
       "      <th>12AH_CLOS4</th>\n",
       "      <td>P21215</td>\n",
       "      <td>29.0</td>\n",
       "      <td>MIFDGKVAIITGGGKAKSIGYGIAVAYAK</td>\n",
       "      <td>RecName: Full=12-alpha-hydroxysteroid dehydrog...</td>\n",
       "      <td>IPR036291</td>\n",
       "      <td>GO:0047013||GO:0030573||GO:0016042</td>\n",
       "      <td>NaN</td>\n",
       "      <td>NaN</td>\n",
       "      <td>NaN</td>\n",
       "      <td>NaN</td>\n",
       "      <td>...</td>\n",
       "      <td>Bacteria</td>\n",
       "      <td>NaN</td>\n",
       "      <td>Firmicutes</td>\n",
       "      <td>Clostridia</td>\n",
       "      <td>Clostridiales</td>\n",
       "      <td>Clostridiaceae</td>\n",
       "      <td>NaN</td>\n",
       "      <td>Clostridium</td>\n",
       "      <td>NaN</td>\n",
       "      <td>0.0</td>\n",
       "    </tr>\n",
       "    <tr>\n",
       "      <th>12KD_MYCSM</th>\n",
       "      <td>P80438</td>\n",
       "      <td>24.0</td>\n",
       "      <td>MFHVLTLTYLCPLDVVXQTRPAHV</td>\n",
       "      <td>RecName: Full=12 kDa protein; Flags: Fragment;</td>\n",
       "      <td>NaN</td>\n",
       "      <td>NaN</td>\n",
       "      <td>NaN</td>\n",
       "      <td>NaN</td>\n",
       "      <td>NaN</td>\n",
       "      <td>NaN</td>\n",
       "      <td>...</td>\n",
       "      <td>Bacteria</td>\n",
       "      <td>NaN</td>\n",
       "      <td>Actinobacteria</td>\n",
       "      <td>Actinobacteria</td>\n",
       "      <td>Corynebacteriales</td>\n",
       "      <td>Mycobacteriaceae</td>\n",
       "      <td>NaN</td>\n",
       "      <td>Mycolicibacterium</td>\n",
       "      <td>NaN</td>\n",
       "      <td>0.0</td>\n",
       "    </tr>\n",
       "    <tr>\n",
       "      <th>12OLP_LISIN</th>\n",
       "      <td>Q92AT0</td>\n",
       "      <td>1086.0</td>\n",
       "      <td>MTMLKEIKKADLSAAFYPSGELAWLKLKDIMLNQVIQNPLENRLSQ...</td>\n",
       "      <td>RecName: Full=1,2-beta-oligoglucan phosphoryla...</td>\n",
       "      <td>IPR008928||IPR012341||IPR033432</td>\n",
       "      <td>GO:0016740</td>\n",
       "      <td>K21298</td>\n",
       "      <td>1.50.10.10</td>\n",
       "      <td>PF17167</td>\n",
       "      <td>lin:lin1839</td>\n",
       "      <td>...</td>\n",
       "      <td>Bacteria</td>\n",
       "      <td>NaN</td>\n",
       "      <td>Firmicutes</td>\n",
       "      <td>Bacilli</td>\n",
       "      <td>Bacillales</td>\n",
       "      <td>Listeriaceae</td>\n",
       "      <td>NaN</td>\n",
       "      <td>Listeria</td>\n",
       "      <td>NaN</td>\n",
       "      <td>NaN</td>\n",
       "    </tr>\n",
       "    <tr>\n",
       "      <th>12S_PROFR</th>\n",
       "      <td>Q8GBW6||Q05617</td>\n",
       "      <td>611.0</td>\n",
       "      <td>MAENNNLKLASTMEGRVEQLAEQRQVIEAGGGERRVEKQHSQGKQT...</td>\n",
       "      <td>RecName: Full=Methylmalonyl-CoA carboxyltransf...</td>\n",
       "      <td>IPR034733||IPR000438||IPR029045||IPR011763||IP...</td>\n",
       "      <td>GO:0009317||GO:0003989||GO:0047154||GO:0006633</td>\n",
       "      <td>NaN</td>\n",
       "      <td>NaN</td>\n",
       "      <td>PF01039</td>\n",
       "      <td>NaN</td>\n",
       "      <td>...</td>\n",
       "      <td>Bacteria</td>\n",
       "      <td>NaN</td>\n",
       "      <td>Actinobacteria</td>\n",
       "      <td>Actinobacteria</td>\n",
       "      <td>Propionibacteriales</td>\n",
       "      <td>Propionibacteriaceae</td>\n",
       "      <td>NaN</td>\n",
       "      <td>Propionibacterium</td>\n",
       "      <td>NaN</td>\n",
       "      <td>0.0</td>\n",
       "    </tr>\n",
       "    <tr>\n",
       "      <th>14KD_MYCBO</th>\n",
       "      <td>P0A5B8||A0A1R3Y251||P30223||X2BJK6</td>\n",
       "      <td>144.0</td>\n",
       "      <td>MATTLPVQRHPRSLFPEFSELFAAFPSFAGLRPTFDTRLMRLEDEM...</td>\n",
       "      <td>RecName: Full=14 kDa antigen; AltName: Full=16...</td>\n",
       "      <td>IPR002068||IPR008978</td>\n",
       "      <td>GO:0005618||GO:0005576</td>\n",
       "      <td>NaN</td>\n",
       "      <td>2.60.40.790</td>\n",
       "      <td>PF00011</td>\n",
       "      <td>NaN</td>\n",
       "      <td>...</td>\n",
       "      <td>Bacteria</td>\n",
       "      <td>NaN</td>\n",
       "      <td>Actinobacteria</td>\n",
       "      <td>Actinobacteria</td>\n",
       "      <td>Corynebacteriales</td>\n",
       "      <td>Mycobacteriaceae</td>\n",
       "      <td>NaN</td>\n",
       "      <td>Mycobacterium</td>\n",
       "      <td>NaN</td>\n",
       "      <td>0.0</td>\n",
       "    </tr>\n",
       "  </tbody>\n",
       "</table>\n",
       "<p>5 rows × 23 columns</p>\n",
       "</div>"
      ],
      "text/plain": [
       "                                     accessions  sequence_length  \\\n",
       "entry_name                                                         \n",
       "12AH_CLOS4                               P21215             29.0   \n",
       "12KD_MYCSM                               P80438             24.0   \n",
       "12OLP_LISIN                              Q92AT0           1086.0   \n",
       "12S_PROFR                        Q8GBW6||Q05617            611.0   \n",
       "14KD_MYCBO   P0A5B8||A0A1R3Y251||P30223||X2BJK6            144.0   \n",
       "\n",
       "                                                      sequence  \\\n",
       "entry_name                                                       \n",
       "12AH_CLOS4                       MIFDGKVAIITGGGKAKSIGYGIAVAYAK   \n",
       "12KD_MYCSM                            MFHVLTLTYLCPLDVVXQTRPAHV   \n",
       "12OLP_LISIN  MTMLKEIKKADLSAAFYPSGELAWLKLKDIMLNQVIQNPLENRLSQ...   \n",
       "12S_PROFR    MAENNNLKLASTMEGRVEQLAEQRQVIEAGGGERRVEKQHSQGKQT...   \n",
       "14KD_MYCBO   MATTLPVQRHPRSLFPEFSELFAAFPSFAGLRPTFDTRLMRLEDEM...   \n",
       "\n",
       "                                                   description  \\\n",
       "entry_name                                                       \n",
       "12AH_CLOS4   RecName: Full=12-alpha-hydroxysteroid dehydrog...   \n",
       "12KD_MYCSM      RecName: Full=12 kDa protein; Flags: Fragment;   \n",
       "12OLP_LISIN  RecName: Full=1,2-beta-oligoglucan phosphoryla...   \n",
       "12S_PROFR    RecName: Full=Methylmalonyl-CoA carboxyltransf...   \n",
       "14KD_MYCBO   RecName: Full=14 kDa antigen; AltName: Full=16...   \n",
       "\n",
       "                                                      InterPro  \\\n",
       "entry_name                                                       \n",
       "12AH_CLOS4                                           IPR036291   \n",
       "12KD_MYCSM                                                 NaN   \n",
       "12OLP_LISIN                    IPR008928||IPR012341||IPR033432   \n",
       "12S_PROFR    IPR034733||IPR000438||IPR029045||IPR011763||IP...   \n",
       "14KD_MYCBO                                IPR002068||IPR008978   \n",
       "\n",
       "                                                         GO      KO  \\\n",
       "entry_name                                                            \n",
       "12AH_CLOS4               GO:0047013||GO:0030573||GO:0016042     NaN   \n",
       "12KD_MYCSM                                              NaN     NaN   \n",
       "12OLP_LISIN                                      GO:0016740  K21298   \n",
       "12S_PROFR    GO:0009317||GO:0003989||GO:0047154||GO:0006633     NaN   \n",
       "14KD_MYCBO                           GO:0005618||GO:0005576     NaN   \n",
       "\n",
       "                  Gene3D     Pfam         KEGG  ... Superkingdom Kingdom  \\\n",
       "entry_name                                      ...                        \n",
       "12AH_CLOS4           NaN      NaN          NaN  ...     Bacteria     NaN   \n",
       "12KD_MYCSM           NaN      NaN          NaN  ...     Bacteria     NaN   \n",
       "12OLP_LISIN   1.50.10.10  PF17167  lin:lin1839  ...     Bacteria     NaN   \n",
       "12S_PROFR            NaN  PF01039          NaN  ...     Bacteria     NaN   \n",
       "14KD_MYCBO   2.60.40.790  PF00011          NaN  ...     Bacteria     NaN   \n",
       "\n",
       "                     Phylum           Class                Order  \\\n",
       "entry_name                                                         \n",
       "12AH_CLOS4       Firmicutes      Clostridia        Clostridiales   \n",
       "12KD_MYCSM   Actinobacteria  Actinobacteria    Corynebacteriales   \n",
       "12OLP_LISIN      Firmicutes         Bacilli           Bacillales   \n",
       "12S_PROFR    Actinobacteria  Actinobacteria  Propionibacteriales   \n",
       "14KD_MYCBO   Actinobacteria  Actinobacteria    Corynebacteriales   \n",
       "\n",
       "                           Family Subfamily              Genus Species  \\\n",
       "entry_name                                                               \n",
       "12AH_CLOS4         Clostridiaceae       NaN        Clostridium     NaN   \n",
       "12KD_MYCSM       Mycobacteriaceae       NaN  Mycolicibacterium     NaN   \n",
       "12OLP_LISIN          Listeriaceae       NaN           Listeria     NaN   \n",
       "12S_PROFR    Propionibacteriaceae       NaN  Propionibacterium     NaN   \n",
       "14KD_MYCBO       Mycobacteriaceae       NaN      Mycobacterium     NaN   \n",
       "\n",
       "            Transmembrane  \n",
       "entry_name                 \n",
       "12AH_CLOS4            0.0  \n",
       "12KD_MYCSM            0.0  \n",
       "12OLP_LISIN           NaN  \n",
       "12S_PROFR             0.0  \n",
       "14KD_MYCBO            0.0  \n",
       "\n",
       "[5 rows x 23 columns]"
      ]
     },
     "execution_count": 3,
     "metadata": {},
     "output_type": "execute_result"
    }
   ],
   "source": [
    "swiss_df = pd.read_hdf('../data/bacterial_swissprot.h5')\n",
    "swiss_df.head()"
   ]
  },
  {
   "cell_type": "code",
   "execution_count": 4,
   "metadata": {},
   "outputs": [
    {
     "data": {
      "text/html": [
       "<div>\n",
       "<style scoped>\n",
       "    .dataframe tbody tr th:only-of-type {\n",
       "        vertical-align: middle;\n",
       "    }\n",
       "\n",
       "    .dataframe tbody tr th {\n",
       "        vertical-align: top;\n",
       "    }\n",
       "\n",
       "    .dataframe thead th {\n",
       "        text-align: right;\n",
       "    }\n",
       "</style>\n",
       "<table border=\"1\" class=\"dataframe\">\n",
       "  <thead>\n",
       "    <tr style=\"text-align: right;\">\n",
       "      <th></th>\n",
       "      <th>pca_0</th>\n",
       "      <th>pca_1</th>\n",
       "      <th>pca_2</th>\n",
       "      <th>pca_3</th>\n",
       "      <th>pca_4</th>\n",
       "      <th>pca_5</th>\n",
       "      <th>pca_6</th>\n",
       "      <th>pca_7</th>\n",
       "      <th>pca_8</th>\n",
       "      <th>pca_9</th>\n",
       "      <th>...</th>\n",
       "      <th>pca_40</th>\n",
       "      <th>pca_41</th>\n",
       "      <th>pca_42</th>\n",
       "      <th>pca_43</th>\n",
       "      <th>pca_44</th>\n",
       "      <th>pca_45</th>\n",
       "      <th>pca_46</th>\n",
       "      <th>pca_47</th>\n",
       "      <th>pca_48</th>\n",
       "      <th>pca_49</th>\n",
       "    </tr>\n",
       "    <tr>\n",
       "      <th>entry_name</th>\n",
       "      <th></th>\n",
       "      <th></th>\n",
       "      <th></th>\n",
       "      <th></th>\n",
       "      <th></th>\n",
       "      <th></th>\n",
       "      <th></th>\n",
       "      <th></th>\n",
       "      <th></th>\n",
       "      <th></th>\n",
       "      <th></th>\n",
       "      <th></th>\n",
       "      <th></th>\n",
       "      <th></th>\n",
       "      <th></th>\n",
       "      <th></th>\n",
       "      <th></th>\n",
       "      <th></th>\n",
       "      <th></th>\n",
       "      <th></th>\n",
       "      <th></th>\n",
       "    </tr>\n",
       "  </thead>\n",
       "  <tbody>\n",
       "    <tr>\n",
       "      <th>12AH_CLOS4</th>\n",
       "      <td>-1.423302</td>\n",
       "      <td>-0.736753</td>\n",
       "      <td>-0.874685</td>\n",
       "      <td>-0.819151</td>\n",
       "      <td>-0.142118</td>\n",
       "      <td>-0.816148</td>\n",
       "      <td>0.386158</td>\n",
       "      <td>0.061937</td>\n",
       "      <td>0.687497</td>\n",
       "      <td>-0.297038</td>\n",
       "      <td>...</td>\n",
       "      <td>0.118606</td>\n",
       "      <td>-0.178684</td>\n",
       "      <td>0.080721</td>\n",
       "      <td>0.000936</td>\n",
       "      <td>-0.040333</td>\n",
       "      <td>0.036337</td>\n",
       "      <td>-0.045772</td>\n",
       "      <td>0.040853</td>\n",
       "      <td>-0.182722</td>\n",
       "      <td>0.036003</td>\n",
       "    </tr>\n",
       "    <tr>\n",
       "      <th>12KD_MYCSM</th>\n",
       "      <td>-2.985445</td>\n",
       "      <td>0.512436</td>\n",
       "      <td>-0.804671</td>\n",
       "      <td>-0.881089</td>\n",
       "      <td>0.023167</td>\n",
       "      <td>-0.840529</td>\n",
       "      <td>0.681208</td>\n",
       "      <td>-0.202686</td>\n",
       "      <td>0.343030</td>\n",
       "      <td>0.302511</td>\n",
       "      <td>...</td>\n",
       "      <td>0.063164</td>\n",
       "      <td>0.068167</td>\n",
       "      <td>-0.055077</td>\n",
       "      <td>0.054813</td>\n",
       "      <td>0.115826</td>\n",
       "      <td>-0.138364</td>\n",
       "      <td>-0.137902</td>\n",
       "      <td>-0.151101</td>\n",
       "      <td>-0.352669</td>\n",
       "      <td>-0.107964</td>\n",
       "    </tr>\n",
       "    <tr>\n",
       "      <th>12OLP_LISIN</th>\n",
       "      <td>-3.489646</td>\n",
       "      <td>0.009758</td>\n",
       "      <td>0.592749</td>\n",
       "      <td>-0.249326</td>\n",
       "      <td>-0.399583</td>\n",
       "      <td>0.004498</td>\n",
       "      <td>-0.739661</td>\n",
       "      <td>0.568125</td>\n",
       "      <td>-0.138422</td>\n",
       "      <td>-0.558067</td>\n",
       "      <td>...</td>\n",
       "      <td>0.078285</td>\n",
       "      <td>-0.139291</td>\n",
       "      <td>0.163776</td>\n",
       "      <td>-0.086977</td>\n",
       "      <td>0.097379</td>\n",
       "      <td>-0.009465</td>\n",
       "      <td>-0.043559</td>\n",
       "      <td>-0.039196</td>\n",
       "      <td>-0.102595</td>\n",
       "      <td>-0.001293</td>\n",
       "    </tr>\n",
       "    <tr>\n",
       "      <th>12S_PROFR</th>\n",
       "      <td>0.622390</td>\n",
       "      <td>-0.471249</td>\n",
       "      <td>0.868454</td>\n",
       "      <td>0.555548</td>\n",
       "      <td>-0.403828</td>\n",
       "      <td>-0.031662</td>\n",
       "      <td>-0.045285</td>\n",
       "      <td>-0.540816</td>\n",
       "      <td>0.314709</td>\n",
       "      <td>-0.140730</td>\n",
       "      <td>...</td>\n",
       "      <td>-0.212403</td>\n",
       "      <td>0.026798</td>\n",
       "      <td>-0.185727</td>\n",
       "      <td>-0.201333</td>\n",
       "      <td>-0.117253</td>\n",
       "      <td>-0.084229</td>\n",
       "      <td>-0.140449</td>\n",
       "      <td>-0.099275</td>\n",
       "      <td>0.174085</td>\n",
       "      <td>0.006138</td>\n",
       "    </tr>\n",
       "    <tr>\n",
       "      <th>14KD_MYCBO</th>\n",
       "      <td>-0.739342</td>\n",
       "      <td>0.083417</td>\n",
       "      <td>-0.164653</td>\n",
       "      <td>-0.817445</td>\n",
       "      <td>-0.376513</td>\n",
       "      <td>-0.484122</td>\n",
       "      <td>-0.727681</td>\n",
       "      <td>0.142234</td>\n",
       "      <td>0.060500</td>\n",
       "      <td>0.264555</td>\n",
       "      <td>...</td>\n",
       "      <td>-0.006761</td>\n",
       "      <td>-0.284457</td>\n",
       "      <td>0.022018</td>\n",
       "      <td>0.025971</td>\n",
       "      <td>0.017194</td>\n",
       "      <td>-0.175638</td>\n",
       "      <td>0.002390</td>\n",
       "      <td>-0.232771</td>\n",
       "      <td>-0.178814</td>\n",
       "      <td>0.032900</td>\n",
       "    </tr>\n",
       "  </tbody>\n",
       "</table>\n",
       "<p>5 rows × 50 columns</p>\n",
       "</div>"
      ],
      "text/plain": [
       "                pca_0     pca_1     pca_2     pca_3     pca_4     pca_5  \\\n",
       "entry_name                                                                \n",
       "12AH_CLOS4  -1.423302 -0.736753 -0.874685 -0.819151 -0.142118 -0.816148   \n",
       "12KD_MYCSM  -2.985445  0.512436 -0.804671 -0.881089  0.023167 -0.840529   \n",
       "12OLP_LISIN -3.489646  0.009758  0.592749 -0.249326 -0.399583  0.004498   \n",
       "12S_PROFR    0.622390 -0.471249  0.868454  0.555548 -0.403828 -0.031662   \n",
       "14KD_MYCBO  -0.739342  0.083417 -0.164653 -0.817445 -0.376513 -0.484122   \n",
       "\n",
       "                pca_6     pca_7     pca_8     pca_9  ...    pca_40    pca_41  \\\n",
       "entry_name                                           ...                       \n",
       "12AH_CLOS4   0.386158  0.061937  0.687497 -0.297038  ...  0.118606 -0.178684   \n",
       "12KD_MYCSM   0.681208 -0.202686  0.343030  0.302511  ...  0.063164  0.068167   \n",
       "12OLP_LISIN -0.739661  0.568125 -0.138422 -0.558067  ...  0.078285 -0.139291   \n",
       "12S_PROFR   -0.045285 -0.540816  0.314709 -0.140730  ... -0.212403  0.026798   \n",
       "14KD_MYCBO  -0.727681  0.142234  0.060500  0.264555  ... -0.006761 -0.284457   \n",
       "\n",
       "               pca_42    pca_43    pca_44    pca_45    pca_46    pca_47  \\\n",
       "entry_name                                                                \n",
       "12AH_CLOS4   0.080721  0.000936 -0.040333  0.036337 -0.045772  0.040853   \n",
       "12KD_MYCSM  -0.055077  0.054813  0.115826 -0.138364 -0.137902 -0.151101   \n",
       "12OLP_LISIN  0.163776 -0.086977  0.097379 -0.009465 -0.043559 -0.039196   \n",
       "12S_PROFR   -0.185727 -0.201333 -0.117253 -0.084229 -0.140449 -0.099275   \n",
       "14KD_MYCBO   0.022018  0.025971  0.017194 -0.175638  0.002390 -0.232771   \n",
       "\n",
       "               pca_48    pca_49  \n",
       "entry_name                       \n",
       "12AH_CLOS4  -0.182722  0.036003  \n",
       "12KD_MYCSM  -0.352669 -0.107964  \n",
       "12OLP_LISIN -0.102595 -0.001293  \n",
       "12S_PROFR    0.174085  0.006138  \n",
       "14KD_MYCBO  -0.178814  0.032900  \n",
       "\n",
       "[5 rows x 50 columns]"
      ]
     },
     "execution_count": 4,
     "metadata": {},
     "output_type": "execute_result"
    }
   ],
   "source": [
    "embed_df = pd.read_hdf('../data/reduced_deep_embeddings.h5')\n",
    "# embed_df = pd.read_hdf('../data/reduced_3mers_embeddings.h5')\n",
    "embedding_columns = embed_df.columns\n",
    "\n",
    "embed_df.head()"
   ]
  },
  {
   "cell_type": "code",
   "execution_count": 5,
   "metadata": {},
   "outputs": [],
   "source": [
    "swiss_df = swiss_df.join(embed_df)"
   ]
  },
  {
   "cell_type": "markdown",
   "metadata": {},
   "source": [
    "## Helpers"
   ]
  },
  {
   "cell_type": "code",
   "execution_count": 6,
   "metadata": {
    "ExecuteTime": {
     "end_time": "2020-03-13T12:16:35.716553Z",
     "start_time": "2020-03-13T12:16:35.710813Z"
    }
   },
   "outputs": [],
   "source": [
    "def calculate_iou(ground_truth, predictions):\n",
    "    predictions_counts = pd.Series(predictions).value_counts()\n",
    "    len_ground_truth = len(ground_truth)\n",
    "    \n",
    "    # take all values that are equally popular as the last value - we break ties in this manner\n",
    "    most_popular_values = predictions_counts.loc[\n",
    "        predictions_counts >= predictions_counts.iloc[\n",
    "            min(len_ground_truth-1, len(predictions_counts)-1)\n",
    "        ]\n",
    "    ].index\n",
    "    \n",
    "    intersection = set(most_popular_values).intersection(set(ground_truth))\n",
    "    union = set(most_popular_values).union(set(ground_truth))\n",
    "    return len(intersection) / len(union)\n",
    "\n",
    "def calculate_metric(neighbors, train_y, test_y, metric_function):\n",
    "    neighbor_labels = train_y.values[neighbors]\n",
    "\n",
    "    labels_df = (\n",
    "        pd.DataFrame(neighbor_labels, index=test_y.index)\n",
    "            .sum(axis=1)\n",
    "            .rename('neighbors_labels')\n",
    "            .to_frame()\n",
    "    )\n",
    "    \n",
    "    labels_df = labels_df.merge(test_y, left_index=True, right_index=True)\n",
    "    \n",
    "    return labels_df.apply(lambda x: metric_function(x[1], x[0]), axis=1)"
   ]
  },
  {
   "cell_type": "markdown",
   "metadata": {},
   "source": [
    "## Cross-validation for all annotations "
   ]
  },
  {
   "cell_type": "code",
   "execution_count": 7,
   "metadata": {},
   "outputs": [
    {
     "data": {
      "text/html": [
       "<div>\n",
       "<style scoped>\n",
       "    .dataframe tbody tr th:only-of-type {\n",
       "        vertical-align: middle;\n",
       "    }\n",
       "\n",
       "    .dataframe tbody tr th {\n",
       "        vertical-align: top;\n",
       "    }\n",
       "\n",
       "    .dataframe thead th {\n",
       "        text-align: right;\n",
       "    }\n",
       "</style>\n",
       "<table border=\"1\" class=\"dataframe\">\n",
       "  <thead>\n",
       "    <tr style=\"text-align: right;\">\n",
       "      <th></th>\n",
       "      <th>Order</th>\n",
       "      <th>Family</th>\n",
       "      <th>Genus</th>\n",
       "      <th>SUPFAM</th>\n",
       "      <th>Gene3D</th>\n",
       "      <th>InterPro</th>\n",
       "      <th>KO</th>\n",
       "      <th>GO</th>\n",
       "      <th>eggNOG</th>\n",
       "      <th>Pfam</th>\n",
       "      <th>EC number</th>\n",
       "    </tr>\n",
       "    <tr>\n",
       "      <th>entry_name</th>\n",
       "      <th></th>\n",
       "      <th></th>\n",
       "      <th></th>\n",
       "      <th></th>\n",
       "      <th></th>\n",
       "      <th></th>\n",
       "      <th></th>\n",
       "      <th></th>\n",
       "      <th></th>\n",
       "      <th></th>\n",
       "      <th></th>\n",
       "    </tr>\n",
       "  </thead>\n",
       "  <tbody>\n",
       "    <tr>\n",
       "      <th>12AH_CLOS4</th>\n",
       "      <td>Clostridiales</td>\n",
       "      <td>Clostridiaceae</td>\n",
       "      <td>Clostridium</td>\n",
       "      <td>SSF51735</td>\n",
       "      <td>NaN</td>\n",
       "      <td>IPR036291</td>\n",
       "      <td>NaN</td>\n",
       "      <td>GO:0047013||GO:0030573||GO:0016042</td>\n",
       "      <td>NaN</td>\n",
       "      <td>NaN</td>\n",
       "      <td>1.1.1.176</td>\n",
       "    </tr>\n",
       "    <tr>\n",
       "      <th>12KD_MYCSM</th>\n",
       "      <td>Corynebacteriales</td>\n",
       "      <td>Mycobacteriaceae</td>\n",
       "      <td>Mycolicibacterium</td>\n",
       "      <td>NaN</td>\n",
       "      <td>NaN</td>\n",
       "      <td>NaN</td>\n",
       "      <td>NaN</td>\n",
       "      <td>NaN</td>\n",
       "      <td>NaN</td>\n",
       "      <td>NaN</td>\n",
       "      <td>NaN</td>\n",
       "    </tr>\n",
       "    <tr>\n",
       "      <th>12OLP_LISIN</th>\n",
       "      <td>Bacillales</td>\n",
       "      <td>Listeriaceae</td>\n",
       "      <td>Listeria</td>\n",
       "      <td>SSF48208</td>\n",
       "      <td>1.50.10.10</td>\n",
       "      <td>IPR008928||IPR012341||IPR033432</td>\n",
       "      <td>K21298</td>\n",
       "      <td>GO:0016740</td>\n",
       "      <td>ENOG4107T40||COG3459</td>\n",
       "      <td>PF17167</td>\n",
       "      <td>2.4.1.333</td>\n",
       "    </tr>\n",
       "    <tr>\n",
       "      <th>12S_PROFR</th>\n",
       "      <td>Propionibacteriales</td>\n",
       "      <td>Propionibacteriaceae</td>\n",
       "      <td>Propionibacterium</td>\n",
       "      <td>SSF52096</td>\n",
       "      <td>NaN</td>\n",
       "      <td>IPR034733||IPR000438||IPR029045||IPR011763||IP...</td>\n",
       "      <td>NaN</td>\n",
       "      <td>GO:0009317||GO:0003989||GO:0047154||GO:0006633</td>\n",
       "      <td>ENOG4107QX3||COG4799</td>\n",
       "      <td>PF01039</td>\n",
       "      <td>2.1.3.1</td>\n",
       "    </tr>\n",
       "    <tr>\n",
       "      <th>14KD_MYCBO</th>\n",
       "      <td>Corynebacteriales</td>\n",
       "      <td>Mycobacteriaceae</td>\n",
       "      <td>Mycobacterium</td>\n",
       "      <td>SSF49764</td>\n",
       "      <td>2.60.40.790</td>\n",
       "      <td>IPR002068||IPR008978</td>\n",
       "      <td>NaN</td>\n",
       "      <td>GO:0005618||GO:0005576</td>\n",
       "      <td>NaN</td>\n",
       "      <td>PF00011</td>\n",
       "      <td>NaN</td>\n",
       "    </tr>\n",
       "  </tbody>\n",
       "</table>\n",
       "</div>"
      ],
      "text/plain": [
       "                           Order                Family              Genus  \\\n",
       "entry_name                                                                  \n",
       "12AH_CLOS4         Clostridiales        Clostridiaceae        Clostridium   \n",
       "12KD_MYCSM     Corynebacteriales      Mycobacteriaceae  Mycolicibacterium   \n",
       "12OLP_LISIN           Bacillales          Listeriaceae           Listeria   \n",
       "12S_PROFR    Propionibacteriales  Propionibacteriaceae  Propionibacterium   \n",
       "14KD_MYCBO     Corynebacteriales      Mycobacteriaceae      Mycobacterium   \n",
       "\n",
       "               SUPFAM       Gene3D  \\\n",
       "entry_name                           \n",
       "12AH_CLOS4   SSF51735          NaN   \n",
       "12KD_MYCSM        NaN          NaN   \n",
       "12OLP_LISIN  SSF48208   1.50.10.10   \n",
       "12S_PROFR    SSF52096          NaN   \n",
       "14KD_MYCBO   SSF49764  2.60.40.790   \n",
       "\n",
       "                                                      InterPro      KO  \\\n",
       "entry_name                                                               \n",
       "12AH_CLOS4                                           IPR036291     NaN   \n",
       "12KD_MYCSM                                                 NaN     NaN   \n",
       "12OLP_LISIN                    IPR008928||IPR012341||IPR033432  K21298   \n",
       "12S_PROFR    IPR034733||IPR000438||IPR029045||IPR011763||IP...     NaN   \n",
       "14KD_MYCBO                                IPR002068||IPR008978     NaN   \n",
       "\n",
       "                                                         GO  \\\n",
       "entry_name                                                    \n",
       "12AH_CLOS4               GO:0047013||GO:0030573||GO:0016042   \n",
       "12KD_MYCSM                                              NaN   \n",
       "12OLP_LISIN                                      GO:0016740   \n",
       "12S_PROFR    GO:0009317||GO:0003989||GO:0047154||GO:0006633   \n",
       "14KD_MYCBO                           GO:0005618||GO:0005576   \n",
       "\n",
       "                           eggNOG     Pfam  EC number  \n",
       "entry_name                                             \n",
       "12AH_CLOS4                    NaN      NaN  1.1.1.176  \n",
       "12KD_MYCSM                    NaN      NaN        NaN  \n",
       "12OLP_LISIN  ENOG4107T40||COG3459  PF17167  2.4.1.333  \n",
       "12S_PROFR    ENOG4107QX3||COG4799  PF01039    2.1.3.1  \n",
       "14KD_MYCBO                    NaN  PF00011        NaN  "
      ]
     },
     "execution_count": 7,
     "metadata": {},
     "output_type": "execute_result"
    }
   ],
   "source": [
    "ks = [3, 15, 51]\n",
    "n_repeats = 10\n",
    "n_folds = 5\n",
    "random_state_seed=0\n",
    "\n",
    "annotations = [\n",
    "#     'Phylum',\n",
    "    'Order',\n",
    "    'Family',\n",
    "    'Genus',\n",
    "    'SUPFAM',\n",
    "    'Gene3D',\n",
    "    'InterPro',\n",
    "    'KO',\n",
    "    'GO',\n",
    "    'eggNOG',\n",
    "    'Pfam',\n",
    "    'EC number'\n",
    "]\n",
    "swiss_df[annotations].head()"
   ]
  },
  {
   "cell_type": "code",
   "execution_count": null,
   "metadata": {},
   "outputs": [
    {
     "name": "stderr",
     "output_type": "stream",
     "text": [
      "  0%|          | 0/11 [00:00<?, ?it/s]\n",
      "  0%|          | 0/5 [00:00<?, ?it/s]\u001b[A"
     ]
    },
    {
     "name": "stdout",
     "output_type": "stream",
     "text": [
      "Order\n",
      "Order for k=3: 0.5627\n",
      "Order for k=15: 0.4470\n",
      "Order for k=51: 0.3131\n"
     ]
    },
    {
     "name": "stderr",
     "output_type": "stream",
     "text": [
      "\n",
      " 20%|██        | 1/5 [02:50<11:23, 170.86s/it]\u001b[A"
     ]
    },
    {
     "name": "stdout",
     "output_type": "stream",
     "text": [
      "Order for k=3: 0.5623\n",
      "Order for k=15: 0.4456\n",
      "Order for k=51: 0.3092\n"
     ]
    },
    {
     "name": "stderr",
     "output_type": "stream",
     "text": [
      "\n",
      " 40%|████      | 2/5 [05:22<08:15, 165.19s/it]\u001b[A"
     ]
    },
    {
     "name": "stdout",
     "output_type": "stream",
     "text": [
      "Order for k=3: 0.5660\n",
      "Order for k=15: 0.4462\n",
      "Order for k=51: 0.3100\n"
     ]
    },
    {
     "name": "stderr",
     "output_type": "stream",
     "text": [
      "\n",
      " 60%|██████    | 3/5 [07:56<05:23, 161.62s/it]\u001b[A"
     ]
    },
    {
     "name": "stdout",
     "output_type": "stream",
     "text": [
      "Order for k=3: 0.5641\n",
      "Order for k=15: 0.4466\n",
      "Order for k=51: 0.3116\n"
     ]
    },
    {
     "name": "stderr",
     "output_type": "stream",
     "text": [
      "\n",
      " 80%|████████  | 4/5 [10:23<02:37, 157.37s/it]\u001b[A"
     ]
    },
    {
     "name": "stdout",
     "output_type": "stream",
     "text": [
      "Order for k=3: 0.5645\n",
      "Order for k=15: 0.4469\n",
      "Order for k=51: 0.3142\n"
     ]
    },
    {
     "name": "stderr",
     "output_type": "stream",
     "text": [
      "\n",
      "100%|██████████| 5/5 [12:55<00:00, 155.19s/it]\u001b[A\n",
      "\n",
      "  0%|          | 0/5 [00:00<?, ?it/s]\u001b[A"
     ]
    },
    {
     "name": "stdout",
     "output_type": "stream",
     "text": [
      "Order for k=3: 0.5609\n",
      "Order for k=15: 0.4426\n",
      "Order for k=51: 0.3129\n"
     ]
    },
    {
     "name": "stderr",
     "output_type": "stream",
     "text": [
      "\n",
      " 20%|██        | 1/5 [02:31<10:07, 151.76s/it]\u001b[A"
     ]
    },
    {
     "name": "stdout",
     "output_type": "stream",
     "text": [
      "Order for k=3: 0.5690\n",
      "Order for k=15: 0.4486\n",
      "Order for k=51: 0.3165\n"
     ]
    },
    {
     "name": "stderr",
     "output_type": "stream",
     "text": [
      "\n",
      " 40%|████      | 2/5 [05:02<07:34, 151.57s/it]\u001b[A"
     ]
    },
    {
     "name": "stdout",
     "output_type": "stream",
     "text": [
      "Order for k=3: 0.5630\n",
      "Order for k=15: 0.4454\n",
      "Order for k=51: 0.3095\n"
     ]
    },
    {
     "name": "stderr",
     "output_type": "stream",
     "text": [
      "\n",
      " 60%|██████    | 3/5 [07:33<05:02, 151.14s/it]\u001b[A"
     ]
    },
    {
     "name": "stdout",
     "output_type": "stream",
     "text": [
      "Order for k=3: 0.5577\n",
      "Order for k=15: 0.4430\n",
      "Order for k=51: 0.3104\n"
     ]
    },
    {
     "name": "stderr",
     "output_type": "stream",
     "text": [
      "\n",
      " 80%|████████  | 4/5 [10:01<02:30, 150.21s/it]\u001b[A"
     ]
    },
    {
     "name": "stdout",
     "output_type": "stream",
     "text": [
      "Order for k=3: 0.5687\n",
      "Order for k=15: 0.4492\n",
      "Order for k=51: 0.3121\n"
     ]
    },
    {
     "name": "stderr",
     "output_type": "stream",
     "text": [
      "\n",
      "100%|██████████| 5/5 [12:27<00:00, 149.55s/it]\u001b[A\n",
      "\n",
      "  0%|          | 0/5 [00:00<?, ?it/s]\u001b[A"
     ]
    },
    {
     "name": "stdout",
     "output_type": "stream",
     "text": [
      "Order for k=3: 0.5607\n",
      "Order for k=15: 0.4465\n",
      "Order for k=51: 0.3128\n"
     ]
    },
    {
     "name": "stderr",
     "output_type": "stream",
     "text": [
      "\n",
      " 20%|██        | 1/5 [02:28<09:52, 148.10s/it]\u001b[A"
     ]
    },
    {
     "name": "stdout",
     "output_type": "stream",
     "text": [
      "Order for k=3: 0.5634\n",
      "Order for k=15: 0.4463\n",
      "Order for k=51: 0.3080\n"
     ]
    },
    {
     "name": "stderr",
     "output_type": "stream",
     "text": [
      "\n",
      " 40%|████      | 2/5 [04:54<07:22, 147.59s/it]\u001b[A"
     ]
    },
    {
     "name": "stdout",
     "output_type": "stream",
     "text": [
      "Order for k=3: 0.5625\n",
      "Order for k=15: 0.4460\n",
      "Order for k=51: 0.3110\n"
     ]
    },
    {
     "name": "stderr",
     "output_type": "stream",
     "text": [
      "\n",
      " 60%|██████    | 3/5 [07:23<04:55, 147.87s/it]\u001b[A"
     ]
    },
    {
     "name": "stdout",
     "output_type": "stream",
     "text": [
      "Order for k=3: 0.5645\n",
      "Order for k=15: 0.4464\n",
      "Order for k=51: 0.3124\n"
     ]
    },
    {
     "name": "stderr",
     "output_type": "stream",
     "text": [
      "\n",
      " 80%|████████  | 4/5 [09:54<02:28, 148.86s/it]\u001b[A"
     ]
    },
    {
     "name": "stdout",
     "output_type": "stream",
     "text": [
      "Order for k=3: 0.5689\n",
      "Order for k=15: 0.4459\n",
      "Order for k=51: 0.3136\n"
     ]
    },
    {
     "name": "stderr",
     "output_type": "stream",
     "text": [
      "\n",
      "100%|██████████| 5/5 [12:25<00:00, 149.01s/it]\u001b[A\n",
      "\n",
      "  0%|          | 0/5 [00:00<?, ?it/s]\u001b[A"
     ]
    },
    {
     "name": "stdout",
     "output_type": "stream",
     "text": [
      "Order for k=3: 0.5629\n",
      "Order for k=15: 0.4435\n",
      "Order for k=51: 0.3115\n"
     ]
    },
    {
     "name": "stderr",
     "output_type": "stream",
     "text": [
      "\n",
      " 20%|██        | 1/5 [02:27<09:49, 147.34s/it]\u001b[A"
     ]
    },
    {
     "name": "stdout",
     "output_type": "stream",
     "text": [
      "Order for k=3: 0.5629\n",
      "Order for k=15: 0.4447\n",
      "Order for k=51: 0.3124\n"
     ]
    },
    {
     "name": "stderr",
     "output_type": "stream",
     "text": [
      "\n",
      " 40%|████      | 2/5 [04:56<07:23, 147.87s/it]\u001b[A"
     ]
    },
    {
     "name": "stdout",
     "output_type": "stream",
     "text": [
      "Order for k=3: 0.5663\n",
      "Order for k=15: 0.4454\n",
      "Order for k=51: 0.3148\n"
     ]
    },
    {
     "name": "stderr",
     "output_type": "stream",
     "text": [
      "\n",
      " 60%|██████    | 3/5 [07:23<04:55, 147.58s/it]\u001b[A"
     ]
    },
    {
     "name": "stdout",
     "output_type": "stream",
     "text": [
      "Order for k=3: 0.5656\n",
      "Order for k=15: 0.4479\n",
      "Order for k=51: 0.3123\n"
     ]
    },
    {
     "name": "stderr",
     "output_type": "stream",
     "text": [
      "\n",
      " 80%|████████  | 4/5 [09:47<02:26, 146.66s/it]\u001b[A"
     ]
    },
    {
     "name": "stdout",
     "output_type": "stream",
     "text": [
      "Order for k=3: 0.5634\n",
      "Order for k=15: 0.4461\n",
      "Order for k=51: 0.3119\n"
     ]
    },
    {
     "name": "stderr",
     "output_type": "stream",
     "text": [
      "\n",
      "100%|██████████| 5/5 [12:14<00:00, 146.85s/it]\u001b[A\n",
      "\n",
      "  0%|          | 0/5 [00:00<?, ?it/s]\u001b[A"
     ]
    },
    {
     "name": "stdout",
     "output_type": "stream",
     "text": [
      "Order for k=3: 0.5611\n",
      "Order for k=15: 0.4419\n",
      "Order for k=51: 0.3088\n"
     ]
    },
    {
     "name": "stderr",
     "output_type": "stream",
     "text": [
      "\n",
      " 20%|██        | 1/5 [02:31<10:04, 151.00s/it]\u001b[A"
     ]
    },
    {
     "name": "stdout",
     "output_type": "stream",
     "text": [
      "Order for k=3: 0.5673\n",
      "Order for k=15: 0.4479\n",
      "Order for k=51: 0.3116\n"
     ]
    },
    {
     "name": "stderr",
     "output_type": "stream",
     "text": [
      "\n",
      " 40%|████      | 2/5 [05:00<07:31, 150.42s/it]\u001b[A"
     ]
    },
    {
     "name": "stdout",
     "output_type": "stream",
     "text": [
      "Order for k=3: 0.5621\n",
      "Order for k=15: 0.4468\n",
      "Order for k=51: 0.3115\n"
     ]
    },
    {
     "name": "stderr",
     "output_type": "stream",
     "text": [
      "\n",
      " 60%|██████    | 3/5 [07:30<05:00, 150.45s/it]\u001b[A"
     ]
    },
    {
     "name": "stdout",
     "output_type": "stream",
     "text": [
      "Order for k=3: 0.5638\n",
      "Order for k=15: 0.4431\n",
      "Order for k=51: 0.3090\n"
     ]
    },
    {
     "name": "stderr",
     "output_type": "stream",
     "text": [
      "\n",
      " 80%|████████  | 4/5 [10:01<02:30, 150.72s/it]\u001b[A"
     ]
    },
    {
     "name": "stdout",
     "output_type": "stream",
     "text": [
      "Order for k=3: 0.5684\n",
      "Order for k=15: 0.4497\n",
      "Order for k=51: 0.3168\n"
     ]
    },
    {
     "name": "stderr",
     "output_type": "stream",
     "text": [
      "\n",
      "100%|██████████| 5/5 [12:26<00:00, 149.20s/it]\u001b[A\n",
      "\n",
      "  0%|          | 0/5 [00:00<?, ?it/s]\u001b[A"
     ]
    },
    {
     "name": "stdout",
     "output_type": "stream",
     "text": [
      "Order for k=3: 0.5684\n",
      "Order for k=15: 0.4478\n",
      "Order for k=51: 0.3138\n"
     ]
    },
    {
     "name": "stderr",
     "output_type": "stream",
     "text": [
      "\n",
      " 20%|██        | 1/5 [02:25<09:43, 145.88s/it]\u001b[A"
     ]
    },
    {
     "name": "stdout",
     "output_type": "stream",
     "text": [
      "Order for k=3: 0.5644\n",
      "Order for k=15: 0.4436\n",
      "Order for k=51: 0.3134\n"
     ]
    },
    {
     "name": "stderr",
     "output_type": "stream",
     "text": [
      "\n",
      " 40%|████      | 2/5 [04:50<07:16, 145.55s/it]\u001b[A"
     ]
    },
    {
     "name": "stdout",
     "output_type": "stream",
     "text": [
      "Order for k=3: 0.5626\n",
      "Order for k=15: 0.4461\n",
      "Order for k=51: 0.3119\n"
     ]
    },
    {
     "name": "stderr",
     "output_type": "stream",
     "text": [
      "\n",
      " 60%|██████    | 3/5 [07:15<04:50, 145.19s/it]\u001b[A"
     ]
    },
    {
     "name": "stdout",
     "output_type": "stream",
     "text": [
      "Order for k=3: 0.5649\n",
      "Order for k=15: 0.4436\n",
      "Order for k=51: 0.3121\n"
     ]
    },
    {
     "name": "stderr",
     "output_type": "stream",
     "text": [
      "\n",
      " 80%|████████  | 4/5 [09:40<02:25, 145.37s/it]\u001b[A"
     ]
    },
    {
     "name": "stdout",
     "output_type": "stream",
     "text": [
      "Order for k=3: 0.5627\n",
      "Order for k=15: 0.4444\n",
      "Order for k=51: 0.3117\n"
     ]
    },
    {
     "name": "stderr",
     "output_type": "stream",
     "text": [
      "\n",
      "100%|██████████| 5/5 [12:05<00:00, 145.05s/it]\u001b[A\n",
      "\n",
      "  0%|          | 0/5 [00:00<?, ?it/s]\u001b[A"
     ]
    },
    {
     "name": "stdout",
     "output_type": "stream",
     "text": [
      "Order for k=3: 0.5611\n",
      "Order for k=15: 0.4428\n",
      "Order for k=51: 0.3072\n"
     ]
    },
    {
     "name": "stderr",
     "output_type": "stream",
     "text": [
      "\n",
      " 20%|██        | 1/5 [02:25<09:42, 145.65s/it]\u001b[A"
     ]
    },
    {
     "name": "stdout",
     "output_type": "stream",
     "text": [
      "Order for k=3: 0.5656\n",
      "Order for k=15: 0.4438\n",
      "Order for k=51: 0.3113\n"
     ]
    },
    {
     "name": "stderr",
     "output_type": "stream",
     "text": [
      "\n",
      " 40%|████      | 2/5 [04:51<07:17, 145.69s/it]\u001b[A"
     ]
    },
    {
     "name": "stdout",
     "output_type": "stream",
     "text": [
      "Order for k=3: 0.5658\n",
      "Order for k=15: 0.4472\n",
      "Order for k=51: 0.3152\n"
     ]
    },
    {
     "name": "stderr",
     "output_type": "stream",
     "text": [
      "\n",
      " 60%|██████    | 3/5 [07:16<04:51, 145.51s/it]\u001b[A"
     ]
    },
    {
     "name": "stdout",
     "output_type": "stream",
     "text": [
      "Order for k=3: 0.5628\n",
      "Order for k=15: 0.4432\n",
      "Order for k=51: 0.3087\n"
     ]
    },
    {
     "name": "stderr",
     "output_type": "stream",
     "text": [
      "\n",
      " 80%|████████  | 4/5 [09:42<02:25, 145.56s/it]\u001b[A"
     ]
    },
    {
     "name": "stdout",
     "output_type": "stream",
     "text": [
      "Order for k=3: 0.5654\n",
      "Order for k=15: 0.4478\n",
      "Order for k=51: 0.3117\n"
     ]
    },
    {
     "name": "stderr",
     "output_type": "stream",
     "text": [
      "\n",
      "100%|██████████| 5/5 [12:06<00:00, 145.32s/it]\u001b[A\n",
      "\n",
      "  0%|          | 0/5 [00:00<?, ?it/s]\u001b[A"
     ]
    },
    {
     "name": "stdout",
     "output_type": "stream",
     "text": [
      "Order for k=3: 0.5620\n",
      "Order for k=15: 0.4443\n",
      "Order for k=51: 0.3121\n"
     ]
    },
    {
     "name": "stderr",
     "output_type": "stream",
     "text": [
      "\n",
      " 20%|██        | 1/5 [02:24<09:36, 144.18s/it]\u001b[A"
     ]
    },
    {
     "name": "stdout",
     "output_type": "stream",
     "text": [
      "Order for k=3: 0.5661\n",
      "Order for k=15: 0.4447\n",
      "Order for k=51: 0.3090\n"
     ]
    },
    {
     "name": "stderr",
     "output_type": "stream",
     "text": [
      "\n",
      " 40%|████      | 2/5 [04:49<07:13, 144.39s/it]\u001b[A"
     ]
    },
    {
     "name": "stdout",
     "output_type": "stream",
     "text": [
      "Order for k=3: 0.5663\n",
      "Order for k=15: 0.4448\n",
      "Order for k=51: 0.3130\n"
     ]
    },
    {
     "name": "stderr",
     "output_type": "stream",
     "text": [
      "\n",
      " 60%|██████    | 3/5 [07:16<04:50, 145.23s/it]\u001b[A"
     ]
    },
    {
     "name": "stdout",
     "output_type": "stream",
     "text": [
      "Order for k=3: 0.5588\n",
      "Order for k=15: 0.4416\n",
      "Order for k=51: 0.3130\n"
     ]
    },
    {
     "name": "stderr",
     "output_type": "stream",
     "text": [
      "\n",
      " 80%|████████  | 4/5 [09:38<02:24, 144.35s/it]\u001b[A"
     ]
    },
    {
     "name": "stdout",
     "output_type": "stream",
     "text": [
      "Order for k=3: 0.5660\n",
      "Order for k=15: 0.4470\n",
      "Order for k=51: 0.3110\n"
     ]
    },
    {
     "name": "stderr",
     "output_type": "stream",
     "text": [
      "\n",
      "100%|██████████| 5/5 [12:03<00:00, 144.63s/it]\u001b[A\n",
      "\n",
      "  0%|          | 0/5 [00:00<?, ?it/s]\u001b[A"
     ]
    },
    {
     "name": "stdout",
     "output_type": "stream",
     "text": [
      "Order for k=3: 0.5654\n",
      "Order for k=15: 0.4458\n",
      "Order for k=51: 0.3130\n"
     ]
    },
    {
     "name": "stderr",
     "output_type": "stream",
     "text": [
      "\n",
      " 20%|██        | 1/5 [02:30<10:01, 150.36s/it]\u001b[A"
     ]
    },
    {
     "name": "stdout",
     "output_type": "stream",
     "text": [
      "Order for k=3: 0.5680\n",
      "Order for k=15: 0.4478\n",
      "Order for k=51: 0.3131\n"
     ]
    },
    {
     "name": "stderr",
     "output_type": "stream",
     "text": [
      "\n",
      " 40%|████      | 2/5 [04:54<07:25, 148.44s/it]\u001b[A"
     ]
    },
    {
     "name": "stdout",
     "output_type": "stream",
     "text": [
      "Order for k=3: 0.5653\n",
      "Order for k=15: 0.4467\n",
      "Order for k=51: 0.3167\n"
     ]
    },
    {
     "name": "stderr",
     "output_type": "stream",
     "text": [
      "\n",
      " 60%|██████    | 3/5 [07:22<04:56, 148.34s/it]\u001b[A"
     ]
    },
    {
     "name": "stdout",
     "output_type": "stream",
     "text": [
      "Order for k=3: 0.5651\n",
      "Order for k=15: 0.4472\n",
      "Order for k=51: 0.3114\n"
     ]
    },
    {
     "name": "stderr",
     "output_type": "stream",
     "text": [
      "\n",
      " 80%|████████  | 4/5 [09:47<02:27, 147.21s/it]\u001b[A"
     ]
    },
    {
     "name": "stdout",
     "output_type": "stream",
     "text": [
      "Order for k=3: 0.5609\n",
      "Order for k=15: 0.4454\n",
      "Order for k=51: 0.3107\n"
     ]
    },
    {
     "name": "stderr",
     "output_type": "stream",
     "text": [
      "\n",
      "100%|██████████| 5/5 [12:14<00:00, 146.96s/it]\u001b[A\n",
      "\n",
      "  0%|          | 0/5 [00:00<?, ?it/s]\u001b[A"
     ]
    },
    {
     "name": "stdout",
     "output_type": "stream",
     "text": [
      "Order for k=3: 0.5610\n",
      "Order for k=15: 0.4427\n",
      "Order for k=51: 0.3069\n"
     ]
    },
    {
     "name": "stderr",
     "output_type": "stream",
     "text": [
      "\n",
      " 20%|██        | 1/5 [02:27<09:48, 147.11s/it]\u001b[A"
     ]
    },
    {
     "name": "stdout",
     "output_type": "stream",
     "text": [
      "Order for k=3: 0.5643\n",
      "Order for k=15: 0.4431\n",
      "Order for k=51: 0.3131\n"
     ]
    },
    {
     "name": "stderr",
     "output_type": "stream",
     "text": [
      "\n",
      " 40%|████      | 2/5 [04:57<07:24, 148.05s/it]\u001b[A"
     ]
    },
    {
     "name": "stdout",
     "output_type": "stream",
     "text": [
      "Order for k=3: 0.5665\n",
      "Order for k=15: 0.4494\n",
      "Order for k=51: 0.3135\n"
     ]
    },
    {
     "name": "stderr",
     "output_type": "stream",
     "text": [
      "\n",
      " 60%|██████    | 3/5 [07:27<04:57, 148.76s/it]\u001b[A"
     ]
    },
    {
     "name": "stdout",
     "output_type": "stream",
     "text": [
      "Order for k=3: 0.5634\n",
      "Order for k=15: 0.4422\n",
      "Order for k=51: 0.3088\n"
     ]
    },
    {
     "name": "stderr",
     "output_type": "stream",
     "text": [
      "\n",
      " 80%|████████  | 4/5 [09:57<02:29, 149.12s/it]\u001b[A"
     ]
    },
    {
     "name": "stdout",
     "output_type": "stream",
     "text": [
      "Order for k=3: 0.5661\n",
      "Order for k=15: 0.4507\n",
      "Order for k=51: 0.3133\n"
     ]
    },
    {
     "name": "stderr",
     "output_type": "stream",
     "text": [
      "\n",
      "100%|██████████| 5/5 [12:27<00:00, 149.56s/it]\u001b[A\n",
      "  9%|▉         | 1/11 [2:03:26<20:34:28, 7406.81s/it]"
     ]
    },
    {
     "name": "stdout",
     "output_type": "stream",
     "text": [
      "Family\n"
     ]
    },
    {
     "name": "stderr",
     "output_type": "stream",
     "text": [
      "\n",
      "  0%|          | 0/5 [00:00<?, ?it/s]\u001b[A"
     ]
    },
    {
     "name": "stdout",
     "output_type": "stream",
     "text": [
      "Family for k=3: 0.4496\n",
      "Family for k=15: 0.3237\n",
      "Family for k=51: 0.1934\n"
     ]
    },
    {
     "name": "stderr",
     "output_type": "stream",
     "text": [
      "\n",
      " 20%|██        | 1/5 [02:31<10:04, 151.07s/it]\u001b[A"
     ]
    },
    {
     "name": "stdout",
     "output_type": "stream",
     "text": [
      "Family for k=3: 0.4482\n",
      "Family for k=15: 0.3207\n",
      "Family for k=51: 0.1941\n"
     ]
    },
    {
     "name": "stderr",
     "output_type": "stream",
     "text": [
      "\n",
      " 40%|████      | 2/5 [04:59<07:31, 150.41s/it]\u001b[A"
     ]
    },
    {
     "name": "stdout",
     "output_type": "stream",
     "text": [
      "Family for k=3: 0.4481\n",
      "Family for k=15: 0.3214\n",
      "Family for k=51: 0.1932\n"
     ]
    },
    {
     "name": "stderr",
     "output_type": "stream",
     "text": [
      "\n",
      " 60%|██████    | 3/5 [07:27<04:59, 149.66s/it]\u001b[A"
     ]
    },
    {
     "name": "stdout",
     "output_type": "stream",
     "text": [
      "Family for k=3: 0.4471\n",
      "Family for k=15: 0.3168\n",
      "Family for k=51: 0.1937\n"
     ]
    },
    {
     "name": "stderr",
     "output_type": "stream",
     "text": [
      "\n",
      " 80%|████████  | 4/5 [09:54<02:28, 148.82s/it]\u001b[A"
     ]
    },
    {
     "name": "stdout",
     "output_type": "stream",
     "text": [
      "Family for k=3: 0.4496\n",
      "Family for k=15: 0.3214\n",
      "Family for k=51: 0.1943\n"
     ]
    },
    {
     "name": "stderr",
     "output_type": "stream",
     "text": [
      "\n",
      "100%|██████████| 5/5 [12:21<00:00, 148.37s/it]\u001b[A\n",
      "\n",
      "  0%|          | 0/5 [00:00<?, ?it/s]\u001b[A"
     ]
    },
    {
     "name": "stdout",
     "output_type": "stream",
     "text": [
      "Family for k=3: 0.4466\n",
      "Family for k=15: 0.3170\n",
      "Family for k=51: 0.1900\n"
     ]
    },
    {
     "name": "stderr",
     "output_type": "stream",
     "text": [
      "\n",
      " 20%|██        | 1/5 [02:27<09:48, 147.19s/it]\u001b[A"
     ]
    },
    {
     "name": "stdout",
     "output_type": "stream",
     "text": [
      "Family for k=3: 0.4472\n",
      "Family for k=15: 0.3208\n",
      "Family for k=51: 0.1956\n"
     ]
    },
    {
     "name": "stderr",
     "output_type": "stream",
     "text": [
      "\n",
      " 40%|████      | 2/5 [04:58<07:25, 148.36s/it]\u001b[A"
     ]
    },
    {
     "name": "stdout",
     "output_type": "stream",
     "text": [
      "Family for k=3: 0.4509\n",
      "Family for k=15: 0.3220\n",
      "Family for k=51: 0.1936\n"
     ]
    },
    {
     "name": "stderr",
     "output_type": "stream",
     "text": [
      "\n",
      " 60%|██████    | 3/5 [07:25<04:56, 148.02s/it]\u001b[A"
     ]
    },
    {
     "name": "stdout",
     "output_type": "stream",
     "text": [
      "Family for k=3: 0.4510\n",
      "Family for k=15: 0.3220\n",
      "Family for k=51: 0.1951\n"
     ]
    },
    {
     "name": "stderr",
     "output_type": "stream",
     "text": [
      "\n",
      " 80%|████████  | 4/5 [09:54<02:28, 148.41s/it]\u001b[A"
     ]
    },
    {
     "name": "stdout",
     "output_type": "stream",
     "text": [
      "Family for k=3: 0.4483\n",
      "Family for k=15: 0.3209\n",
      "Family for k=51: 0.1934\n"
     ]
    },
    {
     "name": "stderr",
     "output_type": "stream",
     "text": [
      "\n",
      "100%|██████████| 5/5 [12:24<00:00, 148.87s/it]\u001b[A\n",
      "\n",
      "  0%|          | 0/5 [00:00<?, ?it/s]\u001b[A"
     ]
    },
    {
     "name": "stdout",
     "output_type": "stream",
     "text": [
      "Family for k=3: 0.4519\n",
      "Family for k=15: 0.3235\n",
      "Family for k=51: 0.1949\n"
     ]
    },
    {
     "name": "stderr",
     "output_type": "stream",
     "text": [
      "\n",
      " 20%|██        | 1/5 [02:27<09:48, 147.17s/it]\u001b[A"
     ]
    },
    {
     "name": "stdout",
     "output_type": "stream",
     "text": [
      "Family for k=3: 0.4520\n",
      "Family for k=15: 0.3226\n",
      "Family for k=51: 0.1926\n"
     ]
    },
    {
     "name": "stderr",
     "output_type": "stream",
     "text": [
      "\n",
      " 40%|████      | 2/5 [04:53<07:20, 146.93s/it]\u001b[A"
     ]
    },
    {
     "name": "stdout",
     "output_type": "stream",
     "text": [
      "Family for k=3: 0.4463\n",
      "Family for k=15: 0.3209\n",
      "Family for k=51: 0.1931\n"
     ]
    },
    {
     "name": "stderr",
     "output_type": "stream",
     "text": [
      "\n",
      " 60%|██████    | 3/5 [07:20<04:53, 146.95s/it]\u001b[A"
     ]
    },
    {
     "name": "stdout",
     "output_type": "stream",
     "text": [
      "Family for k=3: 0.4508\n",
      "Family for k=15: 0.3241\n",
      "Family for k=51: 0.1949\n"
     ]
    },
    {
     "name": "stderr",
     "output_type": "stream",
     "text": [
      "\n",
      " 80%|████████  | 4/5 [09:49<02:27, 147.41s/it]\u001b[A"
     ]
    },
    {
     "name": "stdout",
     "output_type": "stream",
     "text": [
      "Family for k=3: 0.4505\n",
      "Family for k=15: 0.3225\n",
      "Family for k=51: 0.1932\n"
     ]
    },
    {
     "name": "stderr",
     "output_type": "stream",
     "text": [
      "\n",
      "100%|██████████| 5/5 [12:16<00:00, 147.33s/it]\u001b[A\n",
      "\n",
      "  0%|          | 0/5 [00:00<?, ?it/s]\u001b[A"
     ]
    },
    {
     "name": "stdout",
     "output_type": "stream",
     "text": [
      "Family for k=3: 0.4495\n",
      "Family for k=15: 0.3210\n",
      "Family for k=51: 0.1935\n"
     ]
    },
    {
     "name": "stderr",
     "output_type": "stream",
     "text": [
      "\n",
      " 20%|██        | 1/5 [02:26<09:46, 146.67s/it]\u001b[A"
     ]
    },
    {
     "name": "stdout",
     "output_type": "stream",
     "text": [
      "Family for k=3: 0.4473\n",
      "Family for k=15: 0.3202\n",
      "Family for k=51: 0.1929\n"
     ]
    },
    {
     "name": "stderr",
     "output_type": "stream",
     "text": [
      "\n",
      " 40%|████      | 2/5 [04:55<07:21, 147.20s/it]\u001b[A"
     ]
    },
    {
     "name": "stdout",
     "output_type": "stream",
     "text": [
      "Family for k=3: 0.4518\n",
      "Family for k=15: 0.3239\n",
      "Family for k=51: 0.1918\n"
     ]
    },
    {
     "name": "stderr",
     "output_type": "stream",
     "text": [
      "\n",
      " 60%|██████    | 3/5 [07:20<04:53, 146.79s/it]\u001b[A"
     ]
    },
    {
     "name": "stdout",
     "output_type": "stream",
     "text": [
      "Family for k=3: 0.4513\n",
      "Family for k=15: 0.3227\n",
      "Family for k=51: 0.1946\n"
     ]
    },
    {
     "name": "stderr",
     "output_type": "stream",
     "text": [
      "\n",
      " 80%|████████  | 4/5 [09:49<02:27, 147.35s/it]\u001b[A"
     ]
    },
    {
     "name": "stdout",
     "output_type": "stream",
     "text": [
      "Family for k=3: 0.4499\n",
      "Family for k=15: 0.3208\n",
      "Family for k=51: 0.1924\n"
     ]
    },
    {
     "name": "stderr",
     "output_type": "stream",
     "text": [
      "\n",
      "100%|██████████| 5/5 [12:18<00:00, 147.64s/it]\u001b[A\n",
      "\n",
      "  0%|          | 0/5 [00:00<?, ?it/s]\u001b[A"
     ]
    },
    {
     "name": "stdout",
     "output_type": "stream",
     "text": [
      "Family for k=3: 0.4526\n",
      "Family for k=15: 0.3231\n",
      "Family for k=51: 0.1949\n"
     ]
    },
    {
     "name": "stderr",
     "output_type": "stream",
     "text": [
      "\n",
      " 20%|██        | 1/5 [02:29<09:59, 149.78s/it]\u001b[A"
     ]
    },
    {
     "name": "stdout",
     "output_type": "stream",
     "text": [
      "Family for k=3: 0.4479\n",
      "Family for k=15: 0.3198\n",
      "Family for k=51: 0.1950\n"
     ]
    },
    {
     "name": "stderr",
     "output_type": "stream",
     "text": [
      "\n",
      " 40%|████      | 2/5 [04:54<07:24, 148.32s/it]\u001b[A"
     ]
    },
    {
     "name": "stdout",
     "output_type": "stream",
     "text": [
      "Family for k=3: 0.4476\n",
      "Family for k=15: 0.3210\n",
      "Family for k=51: 0.1950\n"
     ]
    },
    {
     "name": "stderr",
     "output_type": "stream",
     "text": [
      "\n",
      " 60%|██████    | 3/5 [07:24<04:57, 148.71s/it]\u001b[A"
     ]
    },
    {
     "name": "stdout",
     "output_type": "stream",
     "text": [
      "Family for k=3: 0.4501\n",
      "Family for k=15: 0.3196\n",
      "Family for k=51: 0.1892\n"
     ]
    },
    {
     "name": "stderr",
     "output_type": "stream",
     "text": [
      "\n",
      " 80%|████████  | 4/5 [09:53<02:28, 148.71s/it]\u001b[A"
     ]
    },
    {
     "name": "stdout",
     "output_type": "stream",
     "text": [
      "Family for k=3: 0.4510\n",
      "Family for k=15: 0.3238\n",
      "Family for k=51: 0.1961\n"
     ]
    },
    {
     "name": "stderr",
     "output_type": "stream",
     "text": [
      "\n",
      "100%|██████████| 5/5 [12:22<00:00, 148.56s/it]\u001b[A\n",
      "\n",
      "  0%|          | 0/5 [00:00<?, ?it/s]\u001b[A"
     ]
    },
    {
     "name": "stdout",
     "output_type": "stream",
     "text": [
      "Family for k=3: 0.4499\n",
      "Family for k=15: 0.3221\n",
      "Family for k=51: 0.1923\n"
     ]
    },
    {
     "name": "stderr",
     "output_type": "stream",
     "text": [
      "\n",
      " 20%|██        | 1/5 [02:31<10:07, 151.83s/it]\u001b[A"
     ]
    },
    {
     "name": "stdout",
     "output_type": "stream",
     "text": [
      "Family for k=3: 0.4508\n",
      "Family for k=15: 0.3247\n",
      "Family for k=51: 0.1950\n"
     ]
    },
    {
     "name": "stderr",
     "output_type": "stream",
     "text": [
      "\n",
      " 40%|████      | 2/5 [05:01<07:33, 151.20s/it]\u001b[A"
     ]
    },
    {
     "name": "stdout",
     "output_type": "stream",
     "text": [
      "Family for k=3: 0.4493\n",
      "Family for k=15: 0.3212\n",
      "Family for k=51: 0.1948\n"
     ]
    },
    {
     "name": "stderr",
     "output_type": "stream",
     "text": [
      "\n",
      " 60%|██████    | 3/5 [07:30<05:00, 150.45s/it]\u001b[A"
     ]
    },
    {
     "name": "stdout",
     "output_type": "stream",
     "text": [
      "Family for k=3: 0.4524\n",
      "Family for k=15: 0.3224\n",
      "Family for k=51: 0.1949\n"
     ]
    },
    {
     "name": "stderr",
     "output_type": "stream",
     "text": [
      "\n",
      " 80%|████████  | 4/5 [09:58<02:29, 149.83s/it]\u001b[A"
     ]
    },
    {
     "name": "stdout",
     "output_type": "stream",
     "text": [
      "Family for k=3: 0.4506\n",
      "Family for k=15: 0.3228\n",
      "Family for k=51: 0.1952\n"
     ]
    },
    {
     "name": "stderr",
     "output_type": "stream",
     "text": [
      "\n",
      "100%|██████████| 5/5 [12:28<00:00, 149.61s/it]\u001b[A\n",
      "\n",
      "  0%|          | 0/5 [00:00<?, ?it/s]\u001b[A"
     ]
    },
    {
     "name": "stdout",
     "output_type": "stream",
     "text": [
      "Family for k=3: 0.4509\n",
      "Family for k=15: 0.3209\n",
      "Family for k=51: 0.1942\n"
     ]
    },
    {
     "name": "stderr",
     "output_type": "stream",
     "text": [
      "\n",
      " 20%|██        | 1/5 [02:26<09:47, 146.85s/it]\u001b[A"
     ]
    },
    {
     "name": "stdout",
     "output_type": "stream",
     "text": [
      "Family for k=3: 0.4481\n",
      "Family for k=15: 0.3237\n",
      "Family for k=51: 0.1969\n"
     ]
    },
    {
     "name": "stderr",
     "output_type": "stream",
     "text": [
      "\n",
      " 40%|████      | 2/5 [04:53<07:20, 146.90s/it]\u001b[A"
     ]
    },
    {
     "name": "stdout",
     "output_type": "stream",
     "text": [
      "Family for k=3: 0.4491\n",
      "Family for k=15: 0.3202\n",
      "Family for k=51: 0.1934\n"
     ]
    },
    {
     "name": "stderr",
     "output_type": "stream",
     "text": [
      "\n",
      " 60%|██████    | 3/5 [07:22<04:55, 147.53s/it]\u001b[A"
     ]
    },
    {
     "name": "stdout",
     "output_type": "stream",
     "text": [
      "Family for k=3: 0.4499\n",
      "Family for k=15: 0.3208\n",
      "Family for k=51: 0.1928\n"
     ]
    },
    {
     "name": "stderr",
     "output_type": "stream",
     "text": [
      "\n",
      " 80%|████████  | 4/5 [09:52<02:28, 148.08s/it]\u001b[A"
     ]
    },
    {
     "name": "stdout",
     "output_type": "stream",
     "text": [
      "Family for k=3: 0.4494\n",
      "Family for k=15: 0.3219\n",
      "Family for k=51: 0.1941\n"
     ]
    },
    {
     "name": "stderr",
     "output_type": "stream",
     "text": [
      "\n",
      "100%|██████████| 5/5 [12:20<00:00, 148.13s/it]\u001b[A\n",
      "\n",
      "  0%|          | 0/5 [00:00<?, ?it/s]\u001b[A"
     ]
    },
    {
     "name": "stdout",
     "output_type": "stream",
     "text": [
      "Family for k=3: 0.4482\n",
      "Family for k=15: 0.3228\n",
      "Family for k=51: 0.1938\n"
     ]
    },
    {
     "name": "stderr",
     "output_type": "stream",
     "text": [
      "\n",
      " 20%|██        | 1/5 [02:25<09:42, 145.67s/it]\u001b[A"
     ]
    },
    {
     "name": "stdout",
     "output_type": "stream",
     "text": [
      "Family for k=3: 0.4477\n",
      "Family for k=15: 0.3207\n",
      "Family for k=51: 0.1959\n"
     ]
    },
    {
     "name": "stderr",
     "output_type": "stream",
     "text": [
      "\n",
      " 40%|████      | 2/5 [04:53<07:19, 146.34s/it]\u001b[A"
     ]
    },
    {
     "name": "stdout",
     "output_type": "stream",
     "text": [
      "Family for k=3: 0.4485\n",
      "Family for k=15: 0.3195\n",
      "Family for k=51: 0.1923\n"
     ]
    },
    {
     "name": "stderr",
     "output_type": "stream",
     "text": [
      "\n",
      " 60%|██████    | 3/5 [07:21<04:53, 146.73s/it]\u001b[A"
     ]
    },
    {
     "name": "stdout",
     "output_type": "stream",
     "text": [
      "Family for k=3: 0.4528\n",
      "Family for k=15: 0.3249\n",
      "Family for k=51: 0.1946\n"
     ]
    },
    {
     "name": "stderr",
     "output_type": "stream",
     "text": [
      "\n",
      " 80%|████████  | 4/5 [09:51<02:27, 147.90s/it]\u001b[A"
     ]
    },
    {
     "name": "stdout",
     "output_type": "stream",
     "text": [
      "Family for k=3: 0.4499\n",
      "Family for k=15: 0.3217\n",
      "Family for k=51: 0.1931\n"
     ]
    },
    {
     "name": "stderr",
     "output_type": "stream",
     "text": [
      "\n",
      "100%|██████████| 5/5 [12:24<00:00, 148.95s/it]\u001b[A\n",
      "\n",
      "  0%|          | 0/5 [00:00<?, ?it/s]\u001b[A"
     ]
    },
    {
     "name": "stdout",
     "output_type": "stream",
     "text": [
      "Family for k=3: 0.4486\n",
      "Family for k=15: 0.3210\n",
      "Family for k=51: 0.1929\n"
     ]
    },
    {
     "name": "stderr",
     "output_type": "stream",
     "text": [
      "\n",
      " 20%|██        | 1/5 [02:27<09:50, 147.66s/it]\u001b[A"
     ]
    },
    {
     "name": "stdout",
     "output_type": "stream",
     "text": [
      "Family for k=3: 0.4513\n",
      "Family for k=15: 0.3214\n",
      "Family for k=51: 0.1951\n"
     ]
    },
    {
     "name": "stderr",
     "output_type": "stream",
     "text": [
      "\n",
      " 40%|████      | 2/5 [04:56<07:24, 148.13s/it]\u001b[A"
     ]
    },
    {
     "name": "stdout",
     "output_type": "stream",
     "text": [
      "Family for k=3: 0.4462\n",
      "Family for k=15: 0.3172\n",
      "Family for k=51: 0.1944\n"
     ]
    },
    {
     "name": "stderr",
     "output_type": "stream",
     "text": [
      "\n",
      " 60%|██████    | 3/5 [07:22<04:54, 147.33s/it]\u001b[A"
     ]
    },
    {
     "name": "stdout",
     "output_type": "stream",
     "text": [
      "Family for k=3: 0.4481\n",
      "Family for k=15: 0.3208\n",
      "Family for k=51: 0.1946\n"
     ]
    },
    {
     "name": "stderr",
     "output_type": "stream",
     "text": [
      "\n",
      " 80%|████████  | 4/5 [09:48<02:27, 147.06s/it]\u001b[A"
     ]
    },
    {
     "name": "stdout",
     "output_type": "stream",
     "text": [
      "Family for k=3: 0.4491\n",
      "Family for k=15: 0.3198\n",
      "Family for k=51: 0.1940\n"
     ]
    },
    {
     "name": "stderr",
     "output_type": "stream",
     "text": [
      "\n",
      "100%|██████████| 5/5 [12:17<00:00, 147.51s/it]\u001b[A\n",
      "\n",
      "  0%|          | 0/5 [00:00<?, ?it/s]\u001b[A"
     ]
    },
    {
     "name": "stdout",
     "output_type": "stream",
     "text": [
      "Family for k=3: 0.4473\n",
      "Family for k=15: 0.3201\n",
      "Family for k=51: 0.1952\n"
     ]
    },
    {
     "name": "stderr",
     "output_type": "stream",
     "text": [
      "\n",
      " 20%|██        | 1/5 [02:27<09:50, 147.50s/it]\u001b[A"
     ]
    },
    {
     "name": "stdout",
     "output_type": "stream",
     "text": [
      "Family for k=3: 0.4490\n",
      "Family for k=15: 0.3199\n",
      "Family for k=51: 0.1951\n"
     ]
    },
    {
     "name": "stderr",
     "output_type": "stream",
     "text": [
      "\n",
      " 40%|████      | 2/5 [04:56<07:23, 147.84s/it]\u001b[A"
     ]
    },
    {
     "name": "stdout",
     "output_type": "stream",
     "text": [
      "Family for k=3: 0.4499\n",
      "Family for k=15: 0.3251\n",
      "Family for k=51: 0.1953\n"
     ]
    },
    {
     "name": "stderr",
     "output_type": "stream",
     "text": [
      "\n",
      " 60%|██████    | 3/5 [07:22<04:54, 147.31s/it]\u001b[A"
     ]
    },
    {
     "name": "stdout",
     "output_type": "stream",
     "text": [
      "Family for k=3: 0.4490\n",
      "Family for k=15: 0.3217\n",
      "Family for k=51: 0.1923\n"
     ]
    },
    {
     "name": "stderr",
     "output_type": "stream",
     "text": [
      "\n",
      " 80%|████████  | 4/5 [09:52<02:28, 148.28s/it]\u001b[A"
     ]
    },
    {
     "name": "stdout",
     "output_type": "stream",
     "text": [
      "Family for k=3: 0.4481\n",
      "Family for k=15: 0.3216\n",
      "Family for k=51: 0.1918\n"
     ]
    },
    {
     "name": "stderr",
     "output_type": "stream",
     "text": [
      "\n",
      "100%|██████████| 5/5 [12:23<00:00, 148.72s/it]\u001b[A\n",
      " 18%|█▊        | 2/11 [4:07:05<18:31:33, 7410.38s/it]"
     ]
    },
    {
     "name": "stdout",
     "output_type": "stream",
     "text": [
      "Genus\n"
     ]
    },
    {
     "name": "stderr",
     "output_type": "stream",
     "text": [
      "\n",
      "  0%|          | 0/5 [00:00<?, ?it/s]\u001b[A"
     ]
    },
    {
     "name": "stdout",
     "output_type": "stream",
     "text": [
      "Genus for k=3: 0.3013\n",
      "Genus for k=15: 0.2188\n",
      "Genus for k=51: 0.1447\n"
     ]
    },
    {
     "name": "stderr",
     "output_type": "stream",
     "text": [
      "\n",
      " 20%|██        | 1/5 [02:29<09:56, 149.23s/it]\u001b[A"
     ]
    },
    {
     "name": "stdout",
     "output_type": "stream",
     "text": [
      "Genus for k=3: 0.3035\n",
      "Genus for k=15: 0.2194\n",
      "Genus for k=51: 0.1425\n"
     ]
    },
    {
     "name": "stderr",
     "output_type": "stream",
     "text": [
      "\n",
      " 40%|████      | 2/5 [05:01<07:30, 150.21s/it]\u001b[A"
     ]
    },
    {
     "name": "stdout",
     "output_type": "stream",
     "text": [
      "Genus for k=3: 0.3017\n",
      "Genus for k=15: 0.2193\n",
      "Genus for k=51: 0.1431\n"
     ]
    },
    {
     "name": "stderr",
     "output_type": "stream",
     "text": [
      "\n",
      " 60%|██████    | 3/5 [07:35<05:02, 151.42s/it]\u001b[A"
     ]
    },
    {
     "name": "stdout",
     "output_type": "stream",
     "text": [
      "Genus for k=3: 0.3032\n",
      "Genus for k=15: 0.2169\n",
      "Genus for k=51: 0.1430\n"
     ]
    },
    {
     "name": "stderr",
     "output_type": "stream",
     "text": [
      "\n",
      " 80%|████████  | 4/5 [10:05<02:30, 150.83s/it]\u001b[A"
     ]
    },
    {
     "name": "stdout",
     "output_type": "stream",
     "text": [
      "Genus for k=3: 0.3031\n",
      "Genus for k=15: 0.2205\n",
      "Genus for k=51: 0.1469\n"
     ]
    },
    {
     "name": "stderr",
     "output_type": "stream",
     "text": [
      "\n",
      "100%|██████████| 5/5 [12:33<00:00, 150.68s/it]\u001b[A\n",
      "\n",
      "  0%|          | 0/5 [00:00<?, ?it/s]\u001b[A"
     ]
    },
    {
     "name": "stdout",
     "output_type": "stream",
     "text": [
      "Genus for k=3: 0.3076\n",
      "Genus for k=15: 0.2221\n",
      "Genus for k=51: 0.1465\n"
     ]
    },
    {
     "name": "stderr",
     "output_type": "stream",
     "text": [
      "\n",
      " 20%|██        | 1/5 [02:32<10:08, 152.12s/it]\u001b[A"
     ]
    },
    {
     "name": "stdout",
     "output_type": "stream",
     "text": [
      "Genus for k=3: 0.2988\n",
      "Genus for k=15: 0.2172\n",
      "Genus for k=51: 0.1411\n"
     ]
    },
    {
     "name": "stderr",
     "output_type": "stream",
     "text": [
      "\n",
      " 40%|████      | 2/5 [05:01<07:34, 151.39s/it]\u001b[A"
     ]
    },
    {
     "name": "stdout",
     "output_type": "stream",
     "text": [
      "Genus for k=3: 0.3029\n",
      "Genus for k=15: 0.2179\n",
      "Genus for k=51: 0.1430\n"
     ]
    },
    {
     "name": "stderr",
     "output_type": "stream",
     "text": [
      "\n",
      " 60%|██████    | 3/5 [07:32<05:02, 151.15s/it]\u001b[A"
     ]
    },
    {
     "name": "stdout",
     "output_type": "stream",
     "text": [
      "Genus for k=3: 0.3039\n",
      "Genus for k=15: 0.2203\n",
      "Genus for k=51: 0.1444\n"
     ]
    },
    {
     "name": "stderr",
     "output_type": "stream",
     "text": [
      "\n",
      " 80%|████████  | 4/5 [09:59<02:29, 149.97s/it]\u001b[A"
     ]
    },
    {
     "name": "stdout",
     "output_type": "stream",
     "text": [
      "Genus for k=3: 0.3025\n",
      "Genus for k=15: 0.2182\n",
      "Genus for k=51: 0.1423\n"
     ]
    },
    {
     "name": "stderr",
     "output_type": "stream",
     "text": [
      "\n",
      "100%|██████████| 5/5 [12:30<00:00, 150.17s/it]\u001b[A\n",
      "\n",
      "  0%|          | 0/5 [00:00<?, ?it/s]\u001b[A"
     ]
    },
    {
     "name": "stdout",
     "output_type": "stream",
     "text": [
      "Genus for k=3: 0.3032\n",
      "Genus for k=15: 0.2204\n",
      "Genus for k=51: 0.1456\n"
     ]
    },
    {
     "name": "stderr",
     "output_type": "stream",
     "text": [
      "\n",
      " 20%|██        | 1/5 [02:30<10:00, 150.23s/it]\u001b[A"
     ]
    },
    {
     "name": "stdout",
     "output_type": "stream",
     "text": [
      "Genus for k=3: 0.3042\n",
      "Genus for k=15: 0.2193\n",
      "Genus for k=51: 0.1429\n"
     ]
    },
    {
     "name": "stderr",
     "output_type": "stream",
     "text": [
      "\n",
      " 40%|████      | 2/5 [04:59<07:29, 149.95s/it]\u001b[A"
     ]
    },
    {
     "name": "stdout",
     "output_type": "stream",
     "text": [
      "Genus for k=3: 0.2988\n",
      "Genus for k=15: 0.2175\n",
      "Genus for k=51: 0.1443\n"
     ]
    },
    {
     "name": "stderr",
     "output_type": "stream",
     "text": [
      "\n",
      " 60%|██████    | 3/5 [07:32<05:01, 150.73s/it]\u001b[A"
     ]
    },
    {
     "name": "stdout",
     "output_type": "stream",
     "text": [
      "Genus for k=3: 0.3012\n",
      "Genus for k=15: 0.2171\n",
      "Genus for k=51: 0.1426\n"
     ]
    },
    {
     "name": "stderr",
     "output_type": "stream",
     "text": [
      "\n",
      " 80%|████████  | 4/5 [10:02<02:30, 150.58s/it]\u001b[A"
     ]
    },
    {
     "name": "stdout",
     "output_type": "stream",
     "text": [
      "Genus for k=3: 0.3030\n",
      "Genus for k=15: 0.2192\n",
      "Genus for k=51: 0.1426\n"
     ]
    },
    {
     "name": "stderr",
     "output_type": "stream",
     "text": [
      "\n",
      "100%|██████████| 5/5 [12:32<00:00, 150.44s/it]\u001b[A\n",
      "\n",
      "  0%|          | 0/5 [00:00<?, ?it/s]\u001b[A"
     ]
    },
    {
     "name": "stdout",
     "output_type": "stream",
     "text": [
      "Genus for k=3: 0.3026\n",
      "Genus for k=15: 0.2183\n",
      "Genus for k=51: 0.1444\n"
     ]
    },
    {
     "name": "stderr",
     "output_type": "stream",
     "text": [
      "\n",
      " 20%|██        | 1/5 [02:33<10:13, 153.30s/it]\u001b[A"
     ]
    },
    {
     "name": "stdout",
     "output_type": "stream",
     "text": [
      "Genus for k=3: 0.3040\n",
      "Genus for k=15: 0.2189\n",
      "Genus for k=51: 0.1434\n"
     ]
    },
    {
     "name": "stderr",
     "output_type": "stream",
     "text": [
      "\n",
      " 40%|████      | 2/5 [05:04<07:38, 152.79s/it]\u001b[A"
     ]
    },
    {
     "name": "stdout",
     "output_type": "stream",
     "text": [
      "Genus for k=3: 0.3026\n",
      "Genus for k=15: 0.2194\n",
      "Genus for k=51: 0.1419\n"
     ]
    },
    {
     "name": "stderr",
     "output_type": "stream",
     "text": [
      "\n",
      " 60%|██████    | 3/5 [07:35<05:04, 152.24s/it]\u001b[A"
     ]
    },
    {
     "name": "stdout",
     "output_type": "stream",
     "text": [
      "Genus for k=3: 0.3025\n",
      "Genus for k=15: 0.2194\n",
      "Genus for k=51: 0.1424\n"
     ]
    },
    {
     "name": "stderr",
     "output_type": "stream",
     "text": [
      "\n",
      " 80%|████████  | 4/5 [10:04<02:31, 151.16s/it]\u001b[A"
     ]
    },
    {
     "name": "stdout",
     "output_type": "stream",
     "text": [
      "Genus for k=3: 0.3047\n",
      "Genus for k=15: 0.2224\n",
      "Genus for k=51: 0.1455\n"
     ]
    },
    {
     "name": "stderr",
     "output_type": "stream",
     "text": [
      "\n",
      "100%|██████████| 5/5 [12:33<00:00, 150.63s/it]\u001b[A\n",
      "\n",
      "  0%|          | 0/5 [00:00<?, ?it/s]\u001b[A"
     ]
    },
    {
     "name": "stdout",
     "output_type": "stream",
     "text": [
      "Genus for k=3: 0.3061\n",
      "Genus for k=15: 0.2229\n",
      "Genus for k=51: 0.1476\n"
     ]
    },
    {
     "name": "stderr",
     "output_type": "stream",
     "text": [
      "\n",
      " 20%|██        | 1/5 [02:31<10:04, 151.19s/it]\u001b[A"
     ]
    },
    {
     "name": "stdout",
     "output_type": "stream",
     "text": [
      "Genus for k=3: 0.3023\n",
      "Genus for k=15: 0.2177\n",
      "Genus for k=51: 0.1406\n"
     ]
    },
    {
     "name": "stderr",
     "output_type": "stream",
     "text": [
      "\n",
      " 40%|████      | 2/5 [05:04<07:35, 151.90s/it]\u001b[A"
     ]
    },
    {
     "name": "stdout",
     "output_type": "stream",
     "text": [
      "Genus for k=3: 0.3037\n",
      "Genus for k=15: 0.2194\n",
      "Genus for k=51: 0.1455\n"
     ]
    },
    {
     "name": "stderr",
     "output_type": "stream",
     "text": [
      "\n",
      " 60%|██████    | 3/5 [07:36<05:03, 151.92s/it]\u001b[A"
     ]
    },
    {
     "name": "stdout",
     "output_type": "stream",
     "text": [
      "Genus for k=3: 0.2988\n",
      "Genus for k=15: 0.2145\n",
      "Genus for k=51: 0.1421\n"
     ]
    },
    {
     "name": "stderr",
     "output_type": "stream",
     "text": [
      "\n",
      " 80%|████████  | 4/5 [10:09<02:32, 152.13s/it]\u001b[A"
     ]
    },
    {
     "name": "stdout",
     "output_type": "stream",
     "text": [
      "Genus for k=3: 0.3023\n",
      "Genus for k=15: 0.2191\n",
      "Genus for k=51: 0.1458\n"
     ]
    },
    {
     "name": "stderr",
     "output_type": "stream",
     "text": [
      "\n",
      "100%|██████████| 5/5 [12:39<00:00, 151.84s/it]\u001b[A\n",
      "\n",
      "  0%|          | 0/5 [00:00<?, ?it/s]\u001b[A"
     ]
    },
    {
     "name": "stdout",
     "output_type": "stream",
     "text": [
      "Genus for k=3: 0.3007\n",
      "Genus for k=15: 0.2182\n",
      "Genus for k=51: 0.1443\n"
     ]
    },
    {
     "name": "stderr",
     "output_type": "stream",
     "text": [
      "\n",
      " 20%|██        | 1/5 [02:31<10:06, 151.69s/it]\u001b[A"
     ]
    },
    {
     "name": "stdout",
     "output_type": "stream",
     "text": [
      "Genus for k=3: 0.3070\n",
      "Genus for k=15: 0.2200\n",
      "Genus for k=51: 0.1484\n"
     ]
    },
    {
     "name": "stderr",
     "output_type": "stream",
     "text": [
      "\n",
      " 40%|████      | 2/5 [05:02<07:34, 151.38s/it]\u001b[A"
     ]
    },
    {
     "name": "stdout",
     "output_type": "stream",
     "text": [
      "Genus for k=3: 0.3026\n",
      "Genus for k=15: 0.2174\n",
      "Genus for k=51: 0.1414\n"
     ]
    },
    {
     "name": "stderr",
     "output_type": "stream",
     "text": [
      "\n",
      " 60%|██████    | 3/5 [07:33<05:02, 151.41s/it]\u001b[A"
     ]
    },
    {
     "name": "stdout",
     "output_type": "stream",
     "text": [
      "Genus for k=3: 0.3026\n",
      "Genus for k=15: 0.2201\n",
      "Genus for k=51: 0.1443\n"
     ]
    },
    {
     "name": "stderr",
     "output_type": "stream",
     "text": [
      "\n",
      " 80%|████████  | 4/5 [10:05<02:31, 151.59s/it]\u001b[A"
     ]
    },
    {
     "name": "stdout",
     "output_type": "stream",
     "text": [
      "Genus for k=3: 0.3021\n",
      "Genus for k=15: 0.2186\n",
      "Genus for k=51: 0.1439\n"
     ]
    },
    {
     "name": "stderr",
     "output_type": "stream",
     "text": [
      "\n",
      "100%|██████████| 5/5 [12:36<00:00, 151.38s/it]\u001b[A\n",
      "\n",
      "  0%|          | 0/5 [00:00<?, ?it/s]\u001b[A"
     ]
    },
    {
     "name": "stdout",
     "output_type": "stream",
     "text": [
      "Genus for k=3: 0.3006\n",
      "Genus for k=15: 0.2176\n",
      "Genus for k=51: 0.1437\n"
     ]
    },
    {
     "name": "stderr",
     "output_type": "stream",
     "text": [
      "\n",
      " 20%|██        | 1/5 [02:29<09:59, 149.77s/it]\u001b[A"
     ]
    },
    {
     "name": "stdout",
     "output_type": "stream",
     "text": [
      "Genus for k=3: 0.3023\n",
      "Genus for k=15: 0.2162\n",
      "Genus for k=51: 0.1421\n"
     ]
    },
    {
     "name": "stderr",
     "output_type": "stream",
     "text": [
      "\n",
      " 40%|████      | 2/5 [04:58<07:28, 149.61s/it]\u001b[A"
     ]
    },
    {
     "name": "stdout",
     "output_type": "stream",
     "text": [
      "Genus for k=3: 0.3030\n",
      "Genus for k=15: 0.2224\n",
      "Genus for k=51: 0.1463\n"
     ]
    },
    {
     "name": "stderr",
     "output_type": "stream",
     "text": [
      "\n",
      " 60%|██████    | 3/5 [07:31<05:01, 150.60s/it]\u001b[A"
     ]
    },
    {
     "name": "stdout",
     "output_type": "stream",
     "text": [
      "Genus for k=3: 0.3042\n",
      "Genus for k=15: 0.2211\n",
      "Genus for k=51: 0.1437\n"
     ]
    },
    {
     "name": "stderr",
     "output_type": "stream",
     "text": [
      "\n",
      " 80%|████████  | 4/5 [10:01<02:30, 150.34s/it]\u001b[A"
     ]
    },
    {
     "name": "stdout",
     "output_type": "stream",
     "text": [
      "Genus for k=3: 0.3009\n",
      "Genus for k=15: 0.2159\n",
      "Genus for k=51: 0.1409\n"
     ]
    },
    {
     "name": "stderr",
     "output_type": "stream",
     "text": [
      "\n",
      "100%|██████████| 5/5 [12:33<00:00, 150.79s/it]\u001b[A\n",
      "\n",
      "  0%|          | 0/5 [00:00<?, ?it/s]\u001b[A"
     ]
    },
    {
     "name": "stdout",
     "output_type": "stream",
     "text": [
      "Genus for k=3: 0.3043\n",
      "Genus for k=15: 0.2203\n",
      "Genus for k=51: 0.1424\n"
     ]
    },
    {
     "name": "stderr",
     "output_type": "stream",
     "text": [
      "\n",
      " 20%|██        | 1/5 [02:31<10:07, 151.94s/it]\u001b[A"
     ]
    },
    {
     "name": "stdout",
     "output_type": "stream",
     "text": [
      "Genus for k=3: 0.3028\n",
      "Genus for k=15: 0.2194\n",
      "Genus for k=51: 0.1455\n"
     ]
    },
    {
     "name": "stderr",
     "output_type": "stream",
     "text": [
      "\n",
      " 40%|████      | 2/5 [05:01<07:33, 151.18s/it]\u001b[A"
     ]
    },
    {
     "name": "stdout",
     "output_type": "stream",
     "text": [
      "Genus for k=3: 0.3015\n",
      "Genus for k=15: 0.2193\n",
      "Genus for k=51: 0.1431\n"
     ]
    },
    {
     "name": "stderr",
     "output_type": "stream",
     "text": [
      "\n",
      " 60%|██████    | 3/5 [07:34<05:03, 151.72s/it]\u001b[A"
     ]
    },
    {
     "name": "stdout",
     "output_type": "stream",
     "text": [
      "Genus for k=3: 0.3008\n",
      "Genus for k=15: 0.2158\n",
      "Genus for k=51: 0.1404\n"
     ]
    },
    {
     "name": "stderr",
     "output_type": "stream",
     "text": [
      "\n",
      " 80%|████████  | 4/5 [10:03<02:31, 151.07s/it]\u001b[A"
     ]
    },
    {
     "name": "stdout",
     "output_type": "stream",
     "text": [
      "Genus for k=3: 0.3036\n",
      "Genus for k=15: 0.2202\n",
      "Genus for k=51: 0.1460\n"
     ]
    },
    {
     "name": "stderr",
     "output_type": "stream",
     "text": [
      "\n",
      "100%|██████████| 5/5 [12:32<00:00, 150.52s/it]\u001b[A\n",
      "\n",
      "  0%|          | 0/5 [00:00<?, ?it/s]\u001b[A"
     ]
    },
    {
     "name": "stdout",
     "output_type": "stream",
     "text": [
      "Genus for k=3: 0.3031\n",
      "Genus for k=15: 0.2193\n",
      "Genus for k=51: 0.1431\n"
     ]
    },
    {
     "name": "stderr",
     "output_type": "stream",
     "text": [
      "\n",
      " 20%|██        | 1/5 [02:33<10:13, 153.42s/it]\u001b[A"
     ]
    },
    {
     "name": "stdout",
     "output_type": "stream",
     "text": [
      "Genus for k=3: 0.3013\n",
      "Genus for k=15: 0.2181\n",
      "Genus for k=51: 0.1439\n"
     ]
    },
    {
     "name": "stderr",
     "output_type": "stream",
     "text": [
      "\n",
      " 40%|████      | 2/5 [05:04<07:38, 152.67s/it]\u001b[A"
     ]
    },
    {
     "name": "stdout",
     "output_type": "stream",
     "text": [
      "Genus for k=3: 0.3030\n",
      "Genus for k=15: 0.2199\n",
      "Genus for k=51: 0.1449\n"
     ]
    },
    {
     "name": "stderr",
     "output_type": "stream",
     "text": [
      "\n",
      " 60%|██████    | 3/5 [07:35<05:04, 152.34s/it]\u001b[A"
     ]
    },
    {
     "name": "stdout",
     "output_type": "stream",
     "text": [
      "Genus for k=3: 0.3012\n",
      "Genus for k=15: 0.2157\n",
      "Genus for k=51: 0.1419\n"
     ]
    },
    {
     "name": "stderr",
     "output_type": "stream",
     "text": [
      "\n",
      " 80%|████████  | 4/5 [10:09<02:32, 152.76s/it]\u001b[A"
     ]
    },
    {
     "name": "stdout",
     "output_type": "stream",
     "text": [
      "Genus for k=3: 0.3018\n",
      "Genus for k=15: 0.2196\n",
      "Genus for k=51: 0.1444\n"
     ]
    },
    {
     "name": "stderr",
     "output_type": "stream",
     "text": [
      "\n",
      "100%|██████████| 5/5 [12:37<00:00, 151.51s/it]\u001b[A\n",
      "\n",
      "  0%|          | 0/5 [00:00<?, ?it/s]\u001b[A"
     ]
    },
    {
     "name": "stdout",
     "output_type": "stream",
     "text": [
      "Genus for k=3: 0.3052\n",
      "Genus for k=15: 0.2202\n",
      "Genus for k=51: 0.1456\n"
     ]
    },
    {
     "name": "stderr",
     "output_type": "stream",
     "text": [
      "\n",
      " 20%|██        | 1/5 [02:27<09:51, 147.75s/it]\u001b[A"
     ]
    },
    {
     "name": "stdout",
     "output_type": "stream",
     "text": [
      "Genus for k=3: 0.2988\n",
      "Genus for k=15: 0.2176\n",
      "Genus for k=51: 0.1401\n"
     ]
    },
    {
     "name": "stderr",
     "output_type": "stream",
     "text": [
      "\n",
      " 40%|████      | 2/5 [04:57<07:24, 148.27s/it]\u001b[A"
     ]
    },
    {
     "name": "stdout",
     "output_type": "stream",
     "text": [
      "Genus for k=3: 0.3026\n",
      "Genus for k=15: 0.2173\n",
      "Genus for k=51: 0.1444\n"
     ]
    },
    {
     "name": "stderr",
     "output_type": "stream",
     "text": [
      "\n",
      " 60%|██████    | 3/5 [07:27<04:57, 149.00s/it]\u001b[A"
     ]
    },
    {
     "name": "stdout",
     "output_type": "stream",
     "text": [
      "Genus for k=3: 0.3017\n",
      "Genus for k=15: 0.2186\n",
      "Genus for k=51: 0.1431\n"
     ]
    },
    {
     "name": "stderr",
     "output_type": "stream",
     "text": [
      "\n",
      " 80%|████████  | 4/5 [09:56<02:29, 149.00s/it]\u001b[A"
     ]
    },
    {
     "name": "stdout",
     "output_type": "stream",
     "text": [
      "Genus for k=3: 0.3023\n",
      "Genus for k=15: 0.2182\n",
      "Genus for k=51: 0.1444\n"
     ]
    },
    {
     "name": "stderr",
     "output_type": "stream",
     "text": [
      "\n",
      "100%|██████████| 5/5 [12:29<00:00, 149.95s/it]\u001b[A\n",
      " 27%|██▋       | 3/11 [6:12:45<16:33:13, 7449.21s/it]"
     ]
    },
    {
     "name": "stdout",
     "output_type": "stream",
     "text": [
      "SUPFAM\n"
     ]
    },
    {
     "name": "stderr",
     "output_type": "stream",
     "text": [
      "\n",
      "  0%|          | 0/5 [00:00<?, ?it/s]\u001b[A"
     ]
    },
    {
     "name": "stdout",
     "output_type": "stream",
     "text": [
      "SUPFAM for k=3: 0.9460\n",
      "SUPFAM for k=15: 0.9261\n",
      "SUPFAM for k=51: 0.8905\n"
     ]
    },
    {
     "name": "stderr",
     "output_type": "stream",
     "text": [
      "\n",
      " 20%|██        | 1/5 [01:48<07:15, 108.95s/it]\u001b[A"
     ]
    },
    {
     "name": "stdout",
     "output_type": "stream",
     "text": [
      "SUPFAM for k=3: 0.9476\n",
      "SUPFAM for k=15: 0.9275\n",
      "SUPFAM for k=51: 0.8912\n"
     ]
    },
    {
     "name": "stderr",
     "output_type": "stream",
     "text": [
      "\n",
      " 40%|████      | 2/5 [03:38<05:27, 109.06s/it]\u001b[A"
     ]
    },
    {
     "name": "stdout",
     "output_type": "stream",
     "text": [
      "SUPFAM for k=3: 0.9465\n",
      "SUPFAM for k=15: 0.9266\n",
      "SUPFAM for k=51: 0.8901\n"
     ]
    },
    {
     "name": "stderr",
     "output_type": "stream",
     "text": [
      "\n",
      " 60%|██████    | 3/5 [05:28<03:39, 109.50s/it]\u001b[A"
     ]
    },
    {
     "name": "stdout",
     "output_type": "stream",
     "text": [
      "SUPFAM for k=3: 0.9487\n",
      "SUPFAM for k=15: 0.9295\n",
      "SUPFAM for k=51: 0.8939\n"
     ]
    },
    {
     "name": "stderr",
     "output_type": "stream",
     "text": [
      "\n",
      " 80%|████████  | 4/5 [07:18<01:49, 109.42s/it]\u001b[A"
     ]
    },
    {
     "name": "stdout",
     "output_type": "stream",
     "text": [
      "SUPFAM for k=3: 0.9473\n",
      "SUPFAM for k=15: 0.9274\n",
      "SUPFAM for k=51: 0.8899\n"
     ]
    },
    {
     "name": "stderr",
     "output_type": "stream",
     "text": [
      "\n",
      "100%|██████████| 5/5 [09:08<00:00, 109.60s/it]\u001b[A\n",
      "\n",
      "  0%|          | 0/5 [00:00<?, ?it/s]\u001b[A"
     ]
    },
    {
     "name": "stdout",
     "output_type": "stream",
     "text": [
      "SUPFAM for k=3: 0.9473\n",
      "SUPFAM for k=15: 0.9283\n",
      "SUPFAM for k=51: 0.8931\n"
     ]
    },
    {
     "name": "stderr",
     "output_type": "stream",
     "text": [
      "\n",
      " 20%|██        | 1/5 [01:51<07:25, 111.39s/it]\u001b[A"
     ]
    },
    {
     "name": "stdout",
     "output_type": "stream",
     "text": [
      "SUPFAM for k=3: 0.9471\n",
      "SUPFAM for k=15: 0.9268\n",
      "SUPFAM for k=51: 0.8915\n"
     ]
    },
    {
     "name": "stderr",
     "output_type": "stream",
     "text": [
      "\n",
      " 40%|████      | 2/5 [03:43<05:34, 111.56s/it]\u001b[A"
     ]
    },
    {
     "name": "stdout",
     "output_type": "stream",
     "text": [
      "SUPFAM for k=3: 0.9477\n",
      "SUPFAM for k=15: 0.9277\n",
      "SUPFAM for k=51: 0.8891\n"
     ]
    },
    {
     "name": "stderr",
     "output_type": "stream",
     "text": [
      "\n",
      " 60%|██████    | 3/5 [05:32<03:41, 110.92s/it]\u001b[A"
     ]
    },
    {
     "name": "stdout",
     "output_type": "stream",
     "text": [
      "SUPFAM for k=3: 0.9476\n",
      "SUPFAM for k=15: 0.9284\n",
      "SUPFAM for k=51: 0.8945\n"
     ]
    },
    {
     "name": "stderr",
     "output_type": "stream",
     "text": [
      "\n",
      " 80%|████████  | 4/5 [07:23<01:50, 110.95s/it]\u001b[A"
     ]
    },
    {
     "name": "stdout",
     "output_type": "stream",
     "text": [
      "SUPFAM for k=3: 0.9446\n",
      "SUPFAM for k=15: 0.9242\n",
      "SUPFAM for k=51: 0.8869\n"
     ]
    },
    {
     "name": "stderr",
     "output_type": "stream",
     "text": [
      "\n",
      "100%|██████████| 5/5 [09:13<00:00, 110.69s/it]\u001b[A\n",
      "\n",
      "  0%|          | 0/5 [00:00<?, ?it/s]\u001b[A"
     ]
    },
    {
     "name": "stdout",
     "output_type": "stream",
     "text": [
      "SUPFAM for k=3: 0.9454\n",
      "SUPFAM for k=15: 0.9253\n",
      "SUPFAM for k=51: 0.8895\n"
     ]
    },
    {
     "name": "stderr",
     "output_type": "stream",
     "text": [
      "\n",
      " 20%|██        | 1/5 [01:54<07:36, 114.12s/it]\u001b[A"
     ]
    },
    {
     "name": "stdout",
     "output_type": "stream",
     "text": [
      "SUPFAM for k=3: 0.9460\n",
      "SUPFAM for k=15: 0.9261\n",
      "SUPFAM for k=51: 0.8901\n"
     ]
    },
    {
     "name": "stderr",
     "output_type": "stream",
     "text": [
      "\n",
      " 40%|████      | 2/5 [03:43<05:38, 112.78s/it]\u001b[A"
     ]
    },
    {
     "name": "stdout",
     "output_type": "stream",
     "text": [
      "SUPFAM for k=3: 0.9480\n",
      "SUPFAM for k=15: 0.9292\n",
      "SUPFAM for k=51: 0.8930\n"
     ]
    },
    {
     "name": "stderr",
     "output_type": "stream",
     "text": [
      "\n",
      " 60%|██████    | 3/5 [05:34<03:44, 112.13s/it]\u001b[A"
     ]
    },
    {
     "name": "stdout",
     "output_type": "stream",
     "text": [
      "SUPFAM for k=3: 0.9488\n",
      "SUPFAM for k=15: 0.9282\n",
      "SUPFAM for k=51: 0.8930\n"
     ]
    },
    {
     "name": "stderr",
     "output_type": "stream",
     "text": [
      "\n",
      " 80%|████████  | 4/5 [07:25<01:51, 111.95s/it]\u001b[A"
     ]
    },
    {
     "name": "stdout",
     "output_type": "stream",
     "text": [
      "SUPFAM for k=3: 0.9485\n",
      "SUPFAM for k=15: 0.9285\n",
      "SUPFAM for k=51: 0.8894\n"
     ]
    },
    {
     "name": "stderr",
     "output_type": "stream",
     "text": [
      "\n",
      "100%|██████████| 5/5 [09:17<00:00, 111.52s/it]\u001b[A\n",
      "\n",
      "  0%|          | 0/5 [00:00<?, ?it/s]\u001b[A"
     ]
    },
    {
     "name": "stdout",
     "output_type": "stream",
     "text": [
      "SUPFAM for k=3: 0.9472\n",
      "SUPFAM for k=15: 0.9278\n",
      "SUPFAM for k=51: 0.8909\n"
     ]
    },
    {
     "name": "stderr",
     "output_type": "stream",
     "text": [
      "\n",
      " 20%|██        | 1/5 [01:49<07:17, 109.32s/it]\u001b[A"
     ]
    },
    {
     "name": "stdout",
     "output_type": "stream",
     "text": [
      "SUPFAM for k=3: 0.9479\n",
      "SUPFAM for k=15: 0.9282\n",
      "SUPFAM for k=51: 0.8917\n"
     ]
    },
    {
     "name": "stderr",
     "output_type": "stream",
     "text": [
      "\n",
      " 40%|████      | 2/5 [03:39<05:28, 109.57s/it]\u001b[A"
     ]
    },
    {
     "name": "stdout",
     "output_type": "stream",
     "text": [
      "SUPFAM for k=3: 0.9458\n",
      "SUPFAM for k=15: 0.9268\n",
      "SUPFAM for k=51: 0.8924\n"
     ]
    },
    {
     "name": "stderr",
     "output_type": "stream",
     "text": [
      "\n",
      " 60%|██████    | 3/5 [05:30<03:39, 109.86s/it]\u001b[A"
     ]
    },
    {
     "name": "stdout",
     "output_type": "stream",
     "text": [
      "SUPFAM for k=3: 0.9462\n",
      "SUPFAM for k=15: 0.9267\n",
      "SUPFAM for k=51: 0.8919\n"
     ]
    },
    {
     "name": "stderr",
     "output_type": "stream",
     "text": [
      "\n",
      " 80%|████████  | 4/5 [07:20<01:50, 110.17s/it]\u001b[A"
     ]
    },
    {
     "name": "stdout",
     "output_type": "stream",
     "text": [
      "SUPFAM for k=3: 0.9475\n",
      "SUPFAM for k=15: 0.9273\n",
      "SUPFAM for k=51: 0.8901\n"
     ]
    },
    {
     "name": "stderr",
     "output_type": "stream",
     "text": [
      "\n",
      "100%|██████████| 5/5 [09:10<00:00, 110.07s/it]\u001b[A\n",
      "\n",
      "  0%|          | 0/5 [00:00<?, ?it/s]\u001b[A"
     ]
    },
    {
     "name": "stdout",
     "output_type": "stream",
     "text": [
      "SUPFAM for k=3: 0.9464\n",
      "SUPFAM for k=15: 0.9268\n",
      "SUPFAM for k=51: 0.8912\n"
     ]
    },
    {
     "name": "stderr",
     "output_type": "stream",
     "text": [
      "\n",
      " 20%|██        | 1/5 [01:49<07:19, 109.89s/it]\u001b[A"
     ]
    },
    {
     "name": "stdout",
     "output_type": "stream",
     "text": [
      "SUPFAM for k=3: 0.9483\n",
      "SUPFAM for k=15: 0.9289\n",
      "SUPFAM for k=51: 0.8944\n"
     ]
    },
    {
     "name": "stderr",
     "output_type": "stream",
     "text": [
      "\n",
      " 40%|████      | 2/5 [03:40<05:29, 110.00s/it]\u001b[A"
     ]
    },
    {
     "name": "stdout",
     "output_type": "stream",
     "text": [
      "SUPFAM for k=3: 0.9465\n",
      "SUPFAM for k=15: 0.9262\n",
      "SUPFAM for k=51: 0.8897\n"
     ]
    },
    {
     "name": "stderr",
     "output_type": "stream",
     "text": [
      "\n",
      " 60%|██████    | 3/5 [05:29<03:39, 109.84s/it]\u001b[A"
     ]
    },
    {
     "name": "stdout",
     "output_type": "stream",
     "text": [
      "SUPFAM for k=3: 0.9457\n",
      "SUPFAM for k=15: 0.9270\n",
      "SUPFAM for k=51: 0.8898\n"
     ]
    },
    {
     "name": "stderr",
     "output_type": "stream",
     "text": [
      "\n",
      " 80%|████████  | 4/5 [07:21<01:50, 110.31s/it]\u001b[A"
     ]
    },
    {
     "name": "stdout",
     "output_type": "stream",
     "text": [
      "SUPFAM for k=3: 0.9464\n",
      "SUPFAM for k=15: 0.9266\n",
      "SUPFAM for k=51: 0.8912\n"
     ]
    },
    {
     "name": "stderr",
     "output_type": "stream",
     "text": [
      "\n",
      "100%|██████████| 5/5 [09:10<00:00, 110.20s/it]\u001b[A\n",
      "\n",
      "  0%|          | 0/5 [00:00<?, ?it/s]\u001b[A"
     ]
    },
    {
     "name": "stdout",
     "output_type": "stream",
     "text": [
      "SUPFAM for k=3: 0.9455\n",
      "SUPFAM for k=15: 0.9267\n",
      "SUPFAM for k=51: 0.8903\n"
     ]
    },
    {
     "name": "stderr",
     "output_type": "stream",
     "text": [
      "\n",
      " 20%|██        | 1/5 [01:50<07:20, 110.19s/it]\u001b[A"
     ]
    },
    {
     "name": "stdout",
     "output_type": "stream",
     "text": [
      "SUPFAM for k=3: 0.9469\n",
      "SUPFAM for k=15: 0.9266\n",
      "SUPFAM for k=51: 0.8901\n"
     ]
    },
    {
     "name": "stderr",
     "output_type": "stream",
     "text": [
      "\n",
      " 40%|████      | 2/5 [03:39<05:29, 109.91s/it]\u001b[A"
     ]
    },
    {
     "name": "stdout",
     "output_type": "stream",
     "text": [
      "SUPFAM for k=3: 0.9472\n",
      "SUPFAM for k=15: 0.9292\n",
      "SUPFAM for k=51: 0.8938\n"
     ]
    },
    {
     "name": "stderr",
     "output_type": "stream",
     "text": [
      "\n",
      " 60%|██████    | 3/5 [05:30<03:40, 110.16s/it]\u001b[A"
     ]
    },
    {
     "name": "stdout",
     "output_type": "stream",
     "text": [
      "SUPFAM for k=3: 0.9487\n",
      "SUPFAM for k=15: 0.9271\n",
      "SUPFAM for k=51: 0.8932\n"
     ]
    },
    {
     "name": "stderr",
     "output_type": "stream",
     "text": [
      "\n",
      " 80%|████████  | 4/5 [07:21<01:50, 110.39s/it]\u001b[A"
     ]
    },
    {
     "name": "stdout",
     "output_type": "stream",
     "text": [
      "SUPFAM for k=3: 0.9464\n",
      "SUPFAM for k=15: 0.9252\n",
      "SUPFAM for k=51: 0.8892\n"
     ]
    },
    {
     "name": "stderr",
     "output_type": "stream",
     "text": [
      "\n",
      "100%|██████████| 5/5 [09:14<00:00, 110.81s/it]\u001b[A\n",
      "\n",
      "  0%|          | 0/5 [00:00<?, ?it/s]\u001b[A"
     ]
    },
    {
     "name": "stdout",
     "output_type": "stream",
     "text": [
      "SUPFAM for k=3: 0.9485\n",
      "SUPFAM for k=15: 0.9286\n",
      "SUPFAM for k=51: 0.8932\n"
     ]
    },
    {
     "name": "stderr",
     "output_type": "stream",
     "text": [
      "\n",
      " 20%|██        | 1/5 [01:54<07:37, 114.31s/it]\u001b[A"
     ]
    },
    {
     "name": "stdout",
     "output_type": "stream",
     "text": [
      "SUPFAM for k=3: 0.9460\n",
      "SUPFAM for k=15: 0.9251\n",
      "SUPFAM for k=51: 0.8894\n"
     ]
    },
    {
     "name": "stderr",
     "output_type": "stream",
     "text": [
      "\n",
      " 40%|████      | 2/5 [03:45<05:39, 113.32s/it]\u001b[A"
     ]
    },
    {
     "name": "stdout",
     "output_type": "stream",
     "text": [
      "SUPFAM for k=3: 0.9474\n",
      "SUPFAM for k=15: 0.9269\n",
      "SUPFAM for k=51: 0.8893\n"
     ]
    },
    {
     "name": "stderr",
     "output_type": "stream",
     "text": [
      "\n",
      " 60%|██████    | 3/5 [05:35<03:44, 112.45s/it]\u001b[A"
     ]
    },
    {
     "name": "stdout",
     "output_type": "stream",
     "text": [
      "SUPFAM for k=3: 0.9470\n",
      "SUPFAM for k=15: 0.9281\n",
      "SUPFAM for k=51: 0.8919\n"
     ]
    },
    {
     "name": "stderr",
     "output_type": "stream",
     "text": [
      "\n",
      " 80%|████████  | 4/5 [07:27<01:52, 112.20s/it]\u001b[A"
     ]
    },
    {
     "name": "stdout",
     "output_type": "stream",
     "text": [
      "SUPFAM for k=3: 0.9463\n",
      "SUPFAM for k=15: 0.9275\n",
      "SUPFAM for k=51: 0.8930\n"
     ]
    },
    {
     "name": "stderr",
     "output_type": "stream",
     "text": [
      "\n",
      "100%|██████████| 5/5 [09:18<00:00, 111.62s/it]\u001b[A\n",
      "\n",
      "  0%|          | 0/5 [00:00<?, ?it/s]\u001b[A"
     ]
    },
    {
     "name": "stdout",
     "output_type": "stream",
     "text": [
      "SUPFAM for k=3: 0.9473\n",
      "SUPFAM for k=15: 0.9283\n",
      "SUPFAM for k=51: 0.8914\n"
     ]
    },
    {
     "name": "stderr",
     "output_type": "stream",
     "text": [
      "\n",
      " 20%|██        | 1/5 [01:54<07:36, 114.24s/it]\u001b[A"
     ]
    },
    {
     "name": "stdout",
     "output_type": "stream",
     "text": [
      "SUPFAM for k=3: 0.9459\n",
      "SUPFAM for k=15: 0.9277\n",
      "SUPFAM for k=51: 0.8901\n"
     ]
    },
    {
     "name": "stderr",
     "output_type": "stream",
     "text": [
      "\n",
      " 40%|████      | 2/5 [03:45<05:40, 113.48s/it]\u001b[A"
     ]
    },
    {
     "name": "stdout",
     "output_type": "stream",
     "text": [
      "SUPFAM for k=3: 0.9451\n",
      "SUPFAM for k=15: 0.9261\n",
      "SUPFAM for k=51: 0.8895\n"
     ]
    },
    {
     "name": "stderr",
     "output_type": "stream",
     "text": [
      "\n",
      " 60%|██████    | 3/5 [05:38<03:46, 113.33s/it]\u001b[A"
     ]
    },
    {
     "name": "stdout",
     "output_type": "stream",
     "text": [
      "SUPFAM for k=3: 0.9478\n",
      "SUPFAM for k=15: 0.9282\n",
      "SUPFAM for k=51: 0.8924\n"
     ]
    },
    {
     "name": "stderr",
     "output_type": "stream",
     "text": [
      "\n",
      " 80%|████████  | 4/5 [07:30<01:52, 112.83s/it]\u001b[A"
     ]
    },
    {
     "name": "stdout",
     "output_type": "stream",
     "text": [
      "SUPFAM for k=3: 0.9494\n",
      "SUPFAM for k=15: 0.9288\n",
      "SUPFAM for k=51: 0.8935\n"
     ]
    },
    {
     "name": "stderr",
     "output_type": "stream",
     "text": [
      "\n",
      "100%|██████████| 5/5 [09:20<00:00, 112.10s/it]\u001b[A\n",
      "\n",
      "  0%|          | 0/5 [00:00<?, ?it/s]\u001b[A"
     ]
    },
    {
     "name": "stdout",
     "output_type": "stream",
     "text": [
      "SUPFAM for k=3: 0.9472\n",
      "SUPFAM for k=15: 0.9268\n",
      "SUPFAM for k=51: 0.8899\n"
     ]
    },
    {
     "name": "stderr",
     "output_type": "stream",
     "text": [
      "\n",
      " 20%|██        | 1/5 [01:52<07:31, 112.90s/it]\u001b[A"
     ]
    },
    {
     "name": "stdout",
     "output_type": "stream",
     "text": [
      "SUPFAM for k=3: 0.9473\n",
      "SUPFAM for k=15: 0.9280\n",
      "SUPFAM for k=51: 0.8944\n"
     ]
    },
    {
     "name": "stderr",
     "output_type": "stream",
     "text": [
      "\n",
      " 40%|████      | 2/5 [03:44<05:37, 112.45s/it]\u001b[A"
     ]
    },
    {
     "name": "stdout",
     "output_type": "stream",
     "text": [
      "SUPFAM for k=3: 0.9473\n",
      "SUPFAM for k=15: 0.9293\n",
      "SUPFAM for k=51: 0.8934\n"
     ]
    },
    {
     "name": "stderr",
     "output_type": "stream",
     "text": [
      "\n",
      " 60%|██████    | 3/5 [05:37<03:45, 112.56s/it]\u001b[A"
     ]
    },
    {
     "name": "stdout",
     "output_type": "stream",
     "text": [
      "SUPFAM for k=3: 0.9451\n",
      "SUPFAM for k=15: 0.9251\n",
      "SUPFAM for k=51: 0.8881\n"
     ]
    },
    {
     "name": "stderr",
     "output_type": "stream",
     "text": [
      "\n",
      " 80%|████████  | 4/5 [07:27<01:51, 111.94s/it]\u001b[A"
     ]
    },
    {
     "name": "stdout",
     "output_type": "stream",
     "text": [
      "SUPFAM for k=3: 0.9477\n",
      "SUPFAM for k=15: 0.9261\n",
      "SUPFAM for k=51: 0.8900\n"
     ]
    },
    {
     "name": "stderr",
     "output_type": "stream",
     "text": [
      "\n",
      "100%|██████████| 5/5 [09:18<00:00, 111.67s/it]\u001b[A\n",
      "\n",
      "  0%|          | 0/5 [00:00<?, ?it/s]\u001b[A"
     ]
    },
    {
     "name": "stdout",
     "output_type": "stream",
     "text": [
      "SUPFAM for k=3: 0.9482\n",
      "SUPFAM for k=15: 0.9285\n",
      "SUPFAM for k=51: 0.8939\n"
     ]
    },
    {
     "name": "stderr",
     "output_type": "stream",
     "text": [
      "\n",
      " 20%|██        | 1/5 [01:53<07:35, 113.99s/it]\u001b[A"
     ]
    },
    {
     "name": "stdout",
     "output_type": "stream",
     "text": [
      "SUPFAM for k=3: 0.9461\n",
      "SUPFAM for k=15: 0.9270\n",
      "SUPFAM for k=51: 0.8906\n"
     ]
    },
    {
     "name": "stderr",
     "output_type": "stream",
     "text": [
      "\n",
      " 40%|████      | 2/5 [03:45<05:39, 113.14s/it]\u001b[A"
     ]
    },
    {
     "name": "stdout",
     "output_type": "stream",
     "text": [
      "SUPFAM for k=3: 0.9485\n",
      "SUPFAM for k=15: 0.9290\n",
      "SUPFAM for k=51: 0.8949\n"
     ]
    },
    {
     "name": "stderr",
     "output_type": "stream",
     "text": [
      "\n",
      " 60%|██████    | 3/5 [05:38<03:46, 113.29s/it]\u001b[A"
     ]
    },
    {
     "name": "stdout",
     "output_type": "stream",
     "text": [
      "SUPFAM for k=3: 0.9451\n",
      "SUPFAM for k=15: 0.9264\n",
      "SUPFAM for k=51: 0.8904\n"
     ]
    },
    {
     "name": "stderr",
     "output_type": "stream",
     "text": [
      "\n",
      " 80%|████████  | 4/5 [07:29<01:52, 112.55s/it]\u001b[A"
     ]
    },
    {
     "name": "stdout",
     "output_type": "stream",
     "text": [
      "SUPFAM for k=3: 0.9465\n",
      "SUPFAM for k=15: 0.9249\n",
      "SUPFAM for k=51: 0.8888\n"
     ]
    },
    {
     "name": "stderr",
     "output_type": "stream",
     "text": [
      "\n",
      "100%|██████████| 5/5 [09:19<00:00, 111.95s/it]\u001b[A\n",
      " 36%|███▋      | 4/11 [7:45:16<13:22:39, 6879.88s/it]\n",
      "  0%|          | 0/5 [00:00<?, ?it/s]\u001b[A"
     ]
    },
    {
     "name": "stdout",
     "output_type": "stream",
     "text": [
      "Gene3D\n",
      "Gene3D for k=3: 0.9481\n",
      "Gene3D for k=15: 0.9286\n",
      "Gene3D for k=51: 0.8873\n"
     ]
    },
    {
     "name": "stderr",
     "output_type": "stream",
     "text": [
      "\n",
      " 20%|██        | 1/5 [01:27<05:51, 87.86s/it]\u001b[A"
     ]
    },
    {
     "name": "stdout",
     "output_type": "stream",
     "text": [
      "Gene3D for k=3: 0.9488\n",
      "Gene3D for k=15: 0.9294\n",
      "Gene3D for k=51: 0.8901\n"
     ]
    },
    {
     "name": "stderr",
     "output_type": "stream",
     "text": [
      "\n",
      " 40%|████      | 2/5 [02:58<04:26, 88.71s/it]\u001b[A"
     ]
    },
    {
     "name": "stdout",
     "output_type": "stream",
     "text": [
      "Gene3D for k=3: 0.9498\n",
      "Gene3D for k=15: 0.9278\n",
      "Gene3D for k=51: 0.8901\n"
     ]
    },
    {
     "name": "stderr",
     "output_type": "stream",
     "text": [
      "\n",
      " 60%|██████    | 3/5 [04:26<02:57, 88.61s/it]\u001b[A"
     ]
    },
    {
     "name": "stdout",
     "output_type": "stream",
     "text": [
      "Gene3D for k=3: 0.9497\n",
      "Gene3D for k=15: 0.9303\n",
      "Gene3D for k=51: 0.8932\n"
     ]
    },
    {
     "name": "stderr",
     "output_type": "stream",
     "text": [
      "\n",
      " 80%|████████  | 4/5 [05:57<01:29, 89.05s/it]\u001b[A"
     ]
    },
    {
     "name": "stdout",
     "output_type": "stream",
     "text": [
      "Gene3D for k=3: 0.9482\n",
      "Gene3D for k=15: 0.9264\n",
      "Gene3D for k=51: 0.8897\n"
     ]
    },
    {
     "name": "stderr",
     "output_type": "stream",
     "text": [
      "\n",
      "100%|██████████| 5/5 [07:24<00:00, 88.90s/it]\u001b[A\n",
      "\n",
      "  0%|          | 0/5 [00:00<?, ?it/s]\u001b[A"
     ]
    },
    {
     "name": "stdout",
     "output_type": "stream",
     "text": [
      "Gene3D for k=3: 0.9500\n",
      "Gene3D for k=15: 0.9304\n",
      "Gene3D for k=51: 0.8914\n"
     ]
    },
    {
     "name": "stderr",
     "output_type": "stream",
     "text": [
      "\n",
      " 20%|██        | 1/5 [01:27<05:49, 87.44s/it]\u001b[A"
     ]
    },
    {
     "name": "stdout",
     "output_type": "stream",
     "text": [
      "Gene3D for k=3: 0.9495\n",
      "Gene3D for k=15: 0.9290\n",
      "Gene3D for k=51: 0.8922\n"
     ]
    },
    {
     "name": "stderr",
     "output_type": "stream",
     "text": [
      "\n",
      " 40%|████      | 2/5 [02:55<04:23, 87.70s/it]\u001b[A"
     ]
    },
    {
     "name": "stdout",
     "output_type": "stream",
     "text": [
      "Gene3D for k=3: 0.9484\n",
      "Gene3D for k=15: 0.9293\n",
      "Gene3D for k=51: 0.8915\n"
     ]
    },
    {
     "name": "stderr",
     "output_type": "stream",
     "text": [
      "\n",
      " 60%|██████    | 3/5 [04:22<02:54, 87.46s/it]\u001b[A"
     ]
    },
    {
     "name": "stdout",
     "output_type": "stream",
     "text": [
      "Gene3D for k=3: 0.9500\n",
      "Gene3D for k=15: 0.9299\n",
      "Gene3D for k=51: 0.8903\n"
     ]
    },
    {
     "name": "stderr",
     "output_type": "stream",
     "text": [
      "\n",
      " 80%|████████  | 4/5 [05:50<01:27, 87.70s/it]\u001b[A"
     ]
    },
    {
     "name": "stdout",
     "output_type": "stream",
     "text": [
      "Gene3D for k=3: 0.9470\n",
      "Gene3D for k=15: 0.9260\n",
      "Gene3D for k=51: 0.8859\n"
     ]
    },
    {
     "name": "stderr",
     "output_type": "stream",
     "text": [
      "\n",
      "100%|██████████| 5/5 [07:18<00:00, 87.65s/it]\u001b[A\n",
      "\n",
      "  0%|          | 0/5 [00:00<?, ?it/s]\u001b[A"
     ]
    },
    {
     "name": "stdout",
     "output_type": "stream",
     "text": [
      "Gene3D for k=3: 0.9480\n",
      "Gene3D for k=15: 0.9274\n",
      "Gene3D for k=51: 0.8891\n"
     ]
    },
    {
     "name": "stderr",
     "output_type": "stream",
     "text": [
      "\n",
      " 20%|██        | 1/5 [01:28<05:52, 88.12s/it]\u001b[A"
     ]
    },
    {
     "name": "stdout",
     "output_type": "stream",
     "text": [
      "Gene3D for k=3: 0.9493\n",
      "Gene3D for k=15: 0.9278\n",
      "Gene3D for k=51: 0.8891\n"
     ]
    },
    {
     "name": "stderr",
     "output_type": "stream",
     "text": [
      "\n",
      " 40%|████      | 2/5 [02:56<04:24, 88.29s/it]\u001b[A"
     ]
    },
    {
     "name": "stdout",
     "output_type": "stream",
     "text": [
      "Gene3D for k=3: 0.9494\n",
      "Gene3D for k=15: 0.9281\n",
      "Gene3D for k=51: 0.8895\n"
     ]
    },
    {
     "name": "stderr",
     "output_type": "stream",
     "text": [
      "\n",
      " 60%|██████    | 3/5 [04:27<02:58, 89.16s/it]\u001b[A"
     ]
    },
    {
     "name": "stdout",
     "output_type": "stream",
     "text": [
      "Gene3D for k=3: 0.9490\n",
      "Gene3D for k=15: 0.9277\n",
      "Gene3D for k=51: 0.8914\n"
     ]
    },
    {
     "name": "stderr",
     "output_type": "stream",
     "text": [
      "\n",
      " 80%|████████  | 4/5 [05:58<01:29, 89.43s/it]\u001b[A"
     ]
    },
    {
     "name": "stdout",
     "output_type": "stream",
     "text": [
      "Gene3D for k=3: 0.9492\n",
      "Gene3D for k=15: 0.9310\n",
      "Gene3D for k=51: 0.8921\n"
     ]
    },
    {
     "name": "stderr",
     "output_type": "stream",
     "text": [
      "\n",
      "100%|██████████| 5/5 [07:26<00:00, 89.34s/it]\u001b[A\n",
      "\n",
      "  0%|          | 0/5 [00:00<?, ?it/s]\u001b[A"
     ]
    },
    {
     "name": "stdout",
     "output_type": "stream",
     "text": [
      "Gene3D for k=3: 0.9501\n",
      "Gene3D for k=15: 0.9290\n",
      "Gene3D for k=51: 0.8911\n"
     ]
    },
    {
     "name": "stderr",
     "output_type": "stream",
     "text": [
      "\n",
      " 20%|██        | 1/5 [01:28<05:55, 88.85s/it]\u001b[A"
     ]
    },
    {
     "name": "stdout",
     "output_type": "stream",
     "text": [
      "Gene3D for k=3: 0.9481\n",
      "Gene3D for k=15: 0.9270\n",
      "Gene3D for k=51: 0.8899\n"
     ]
    },
    {
     "name": "stderr",
     "output_type": "stream",
     "text": [
      "\n",
      " 40%|████      | 2/5 [02:57<04:26, 88.81s/it]\u001b[A"
     ]
    },
    {
     "name": "stdout",
     "output_type": "stream",
     "text": [
      "Gene3D for k=3: 0.9473\n",
      "Gene3D for k=15: 0.9277\n",
      "Gene3D for k=51: 0.8876\n"
     ]
    },
    {
     "name": "stderr",
     "output_type": "stream",
     "text": [
      "\n",
      " 60%|██████    | 3/5 [04:26<02:57, 88.90s/it]\u001b[A"
     ]
    },
    {
     "name": "stdout",
     "output_type": "stream",
     "text": [
      "Gene3D for k=3: 0.9494\n",
      "Gene3D for k=15: 0.9290\n",
      "Gene3D for k=51: 0.8917\n"
     ]
    },
    {
     "name": "stderr",
     "output_type": "stream",
     "text": [
      "\n",
      " 80%|████████  | 4/5 [05:57<01:29, 89.56s/it]\u001b[A"
     ]
    },
    {
     "name": "stdout",
     "output_type": "stream",
     "text": [
      "Gene3D for k=3: 0.9498\n",
      "Gene3D for k=15: 0.9283\n",
      "Gene3D for k=51: 0.8896\n"
     ]
    },
    {
     "name": "stderr",
     "output_type": "stream",
     "text": [
      "\n",
      "100%|██████████| 5/5 [07:28<00:00, 89.72s/it]\u001b[A\n",
      "\n",
      "  0%|          | 0/5 [00:00<?, ?it/s]\u001b[A"
     ]
    },
    {
     "name": "stdout",
     "output_type": "stream",
     "text": [
      "Gene3D for k=3: 0.9484\n",
      "Gene3D for k=15: 0.9258\n",
      "Gene3D for k=51: 0.8855\n"
     ]
    },
    {
     "name": "stderr",
     "output_type": "stream",
     "text": [
      "\n",
      " 20%|██        | 1/5 [01:27<05:48, 87.23s/it]\u001b[A"
     ]
    },
    {
     "name": "stdout",
     "output_type": "stream",
     "text": [
      "Gene3D for k=3: 0.9489\n",
      "Gene3D for k=15: 0.9294\n",
      "Gene3D for k=51: 0.8905\n"
     ]
    },
    {
     "name": "stderr",
     "output_type": "stream",
     "text": [
      "\n",
      " 40%|████      | 2/5 [02:57<04:24, 88.13s/it]\u001b[A"
     ]
    },
    {
     "name": "stdout",
     "output_type": "stream",
     "text": [
      "Gene3D for k=3: 0.9483\n",
      "Gene3D for k=15: 0.9258\n",
      "Gene3D for k=51: 0.8866\n"
     ]
    },
    {
     "name": "stderr",
     "output_type": "stream",
     "text": [
      "\n",
      " 60%|██████    | 3/5 [04:26<02:57, 88.53s/it]\u001b[A"
     ]
    },
    {
     "name": "stdout",
     "output_type": "stream",
     "text": [
      "Gene3D for k=3: 0.9495\n",
      "Gene3D for k=15: 0.9301\n",
      "Gene3D for k=51: 0.8933\n"
     ]
    },
    {
     "name": "stderr",
     "output_type": "stream",
     "text": [
      "\n",
      " 80%|████████  | 4/5 [05:58<01:29, 89.39s/it]\u001b[A"
     ]
    },
    {
     "name": "stdout",
     "output_type": "stream",
     "text": [
      "Gene3D for k=3: 0.9504\n",
      "Gene3D for k=15: 0.9313\n",
      "Gene3D for k=51: 0.8944\n"
     ]
    },
    {
     "name": "stderr",
     "output_type": "stream",
     "text": [
      "\n",
      "100%|██████████| 5/5 [07:29<00:00, 89.92s/it]\u001b[A\n",
      "\n",
      "  0%|          | 0/5 [00:00<?, ?it/s]\u001b[A"
     ]
    },
    {
     "name": "stdout",
     "output_type": "stream",
     "text": [
      "Gene3D for k=3: 0.9505\n",
      "Gene3D for k=15: 0.9296\n",
      "Gene3D for k=51: 0.8929\n"
     ]
    },
    {
     "name": "stderr",
     "output_type": "stream",
     "text": [
      "\n",
      " 20%|██        | 1/5 [01:29<05:59, 89.87s/it]\u001b[A"
     ]
    },
    {
     "name": "stdout",
     "output_type": "stream",
     "text": [
      "Gene3D for k=3: 0.9469\n",
      "Gene3D for k=15: 0.9271\n",
      "Gene3D for k=51: 0.8867\n"
     ]
    },
    {
     "name": "stderr",
     "output_type": "stream",
     "text": [
      "\n",
      " 40%|████      | 2/5 [02:58<04:28, 89.46s/it]\u001b[A"
     ]
    },
    {
     "name": "stdout",
     "output_type": "stream",
     "text": [
      "Gene3D for k=3: 0.9500\n",
      "Gene3D for k=15: 0.9297\n",
      "Gene3D for k=51: 0.8893\n"
     ]
    },
    {
     "name": "stderr",
     "output_type": "stream",
     "text": [
      "\n",
      " 60%|██████    | 3/5 [04:27<02:58, 89.23s/it]\u001b[A"
     ]
    },
    {
     "name": "stdout",
     "output_type": "stream",
     "text": [
      "Gene3D for k=3: 0.9491\n",
      "Gene3D for k=15: 0.9297\n",
      "Gene3D for k=51: 0.8912\n"
     ]
    },
    {
     "name": "stderr",
     "output_type": "stream",
     "text": [
      "\n",
      " 80%|████████  | 4/5 [05:53<01:28, 88.52s/it]\u001b[A"
     ]
    },
    {
     "name": "stdout",
     "output_type": "stream",
     "text": [
      "Gene3D for k=3: 0.9500\n",
      "Gene3D for k=15: 0.9288\n",
      "Gene3D for k=51: 0.8905\n"
     ]
    },
    {
     "name": "stderr",
     "output_type": "stream",
     "text": [
      "\n",
      "100%|██████████| 5/5 [07:21<00:00, 88.35s/it]\u001b[A\n",
      "\n",
      "  0%|          | 0/5 [00:00<?, ?it/s]\u001b[A"
     ]
    },
    {
     "name": "stdout",
     "output_type": "stream",
     "text": [
      "Gene3D for k=3: 0.9495\n",
      "Gene3D for k=15: 0.9303\n",
      "Gene3D for k=51: 0.8922\n"
     ]
    },
    {
     "name": "stderr",
     "output_type": "stream",
     "text": [
      "\n",
      " 20%|██        | 1/5 [01:29<05:56, 89.13s/it]\u001b[A"
     ]
    },
    {
     "name": "stdout",
     "output_type": "stream",
     "text": [
      "Gene3D for k=3: 0.9482\n",
      "Gene3D for k=15: 0.9284\n",
      "Gene3D for k=51: 0.8897\n"
     ]
    },
    {
     "name": "stderr",
     "output_type": "stream",
     "text": [
      "\n",
      " 40%|████      | 2/5 [02:57<04:26, 88.79s/it]\u001b[A"
     ]
    },
    {
     "name": "stdout",
     "output_type": "stream",
     "text": [
      "Gene3D for k=3: 0.9498\n",
      "Gene3D for k=15: 0.9291\n",
      "Gene3D for k=51: 0.8902\n"
     ]
    },
    {
     "name": "stderr",
     "output_type": "stream",
     "text": [
      "\n",
      " 60%|██████    | 3/5 [04:23<02:56, 88.18s/it]\u001b[A"
     ]
    },
    {
     "name": "stdout",
     "output_type": "stream",
     "text": [
      "Gene3D for k=3: 0.9477\n",
      "Gene3D for k=15: 0.9269\n",
      "Gene3D for k=51: 0.8877\n"
     ]
    },
    {
     "name": "stderr",
     "output_type": "stream",
     "text": [
      "\n",
      " 80%|████████  | 4/5 [05:52<01:28, 88.18s/it]\u001b[A"
     ]
    },
    {
     "name": "stdout",
     "output_type": "stream",
     "text": [
      "Gene3D for k=3: 0.9498\n",
      "Gene3D for k=15: 0.9300\n",
      "Gene3D for k=51: 0.8928\n"
     ]
    },
    {
     "name": "stderr",
     "output_type": "stream",
     "text": [
      "\n",
      "100%|██████████| 5/5 [07:20<00:00, 88.02s/it]\u001b[A\n",
      "\n",
      "  0%|          | 0/5 [00:00<?, ?it/s]\u001b[A"
     ]
    },
    {
     "name": "stdout",
     "output_type": "stream",
     "text": [
      "Gene3D for k=3: 0.9479\n",
      "Gene3D for k=15: 0.9270\n",
      "Gene3D for k=51: 0.8906\n"
     ]
    },
    {
     "name": "stderr",
     "output_type": "stream",
     "text": [
      "\n",
      " 20%|██        | 1/5 [01:27<05:51, 87.79s/it]\u001b[A"
     ]
    },
    {
     "name": "stdout",
     "output_type": "stream",
     "text": [
      "Gene3D for k=3: 0.9484\n",
      "Gene3D for k=15: 0.9294\n",
      "Gene3D for k=51: 0.8916\n"
     ]
    },
    {
     "name": "stderr",
     "output_type": "stream",
     "text": [
      "\n",
      " 40%|████      | 2/5 [02:54<04:22, 87.57s/it]\u001b[A"
     ]
    },
    {
     "name": "stdout",
     "output_type": "stream",
     "text": [
      "Gene3D for k=3: 0.9508\n",
      "Gene3D for k=15: 0.9305\n",
      "Gene3D for k=51: 0.8907\n"
     ]
    },
    {
     "name": "stderr",
     "output_type": "stream",
     "text": [
      "\n",
      " 60%|██████    | 3/5 [04:23<02:55, 87.79s/it]\u001b[A"
     ]
    },
    {
     "name": "stdout",
     "output_type": "stream",
     "text": [
      "Gene3D for k=3: 0.9494\n",
      "Gene3D for k=15: 0.9268\n",
      "Gene3D for k=51: 0.8876\n"
     ]
    },
    {
     "name": "stderr",
     "output_type": "stream",
     "text": [
      "\n",
      " 80%|████████  | 4/5 [05:51<01:27, 87.95s/it]\u001b[A"
     ]
    },
    {
     "name": "stdout",
     "output_type": "stream",
     "text": [
      "Gene3D for k=3: 0.9507\n",
      "Gene3D for k=15: 0.9300\n",
      "Gene3D for k=51: 0.8916\n"
     ]
    },
    {
     "name": "stderr",
     "output_type": "stream",
     "text": [
      "\n",
      "100%|██████████| 5/5 [07:17<00:00, 87.59s/it]\u001b[A\n",
      "\n",
      "  0%|          | 0/5 [00:00<?, ?it/s]\u001b[A"
     ]
    },
    {
     "name": "stdout",
     "output_type": "stream",
     "text": [
      "Gene3D for k=3: 0.9505\n",
      "Gene3D for k=15: 0.9307\n",
      "Gene3D for k=51: 0.8928\n"
     ]
    },
    {
     "name": "stderr",
     "output_type": "stream",
     "text": [
      "\n",
      " 20%|██        | 1/5 [01:27<05:50, 87.56s/it]\u001b[A"
     ]
    },
    {
     "name": "stdout",
     "output_type": "stream",
     "text": [
      "Gene3D for k=3: 0.9491\n",
      "Gene3D for k=15: 0.9320\n",
      "Gene3D for k=51: 0.8925\n"
     ]
    },
    {
     "name": "stderr",
     "output_type": "stream",
     "text": [
      "\n",
      " 40%|████      | 2/5 [02:55<04:23, 87.75s/it]\u001b[A"
     ]
    },
    {
     "name": "stdout",
     "output_type": "stream",
     "text": [
      "Gene3D for k=3: 0.9480\n",
      "Gene3D for k=15: 0.9288\n",
      "Gene3D for k=51: 0.8904\n"
     ]
    },
    {
     "name": "stderr",
     "output_type": "stream",
     "text": [
      "\n",
      " 60%|██████    | 3/5 [04:22<02:55, 87.56s/it]\u001b[A"
     ]
    },
    {
     "name": "stdout",
     "output_type": "stream",
     "text": [
      "Gene3D for k=3: 0.9477\n",
      "Gene3D for k=15: 0.9253\n",
      "Gene3D for k=51: 0.8870\n"
     ]
    },
    {
     "name": "stderr",
     "output_type": "stream",
     "text": [
      "\n",
      " 80%|████████  | 4/5 [05:52<01:28, 88.15s/it]\u001b[A"
     ]
    },
    {
     "name": "stdout",
     "output_type": "stream",
     "text": [
      "Gene3D for k=3: 0.9501\n",
      "Gene3D for k=15: 0.9276\n",
      "Gene3D for k=51: 0.8882\n"
     ]
    },
    {
     "name": "stderr",
     "output_type": "stream",
     "text": [
      "\n",
      "100%|██████████| 5/5 [07:21<00:00, 88.36s/it]\u001b[A\n",
      "\n",
      "  0%|          | 0/5 [00:00<?, ?it/s]\u001b[A"
     ]
    },
    {
     "name": "stdout",
     "output_type": "stream",
     "text": [
      "Gene3D for k=3: 0.9507\n",
      "Gene3D for k=15: 0.9272\n",
      "Gene3D for k=51: 0.8882\n"
     ]
    },
    {
     "name": "stderr",
     "output_type": "stream",
     "text": [
      "\n",
      " 20%|██        | 1/5 [01:27<05:49, 87.48s/it]\u001b[A"
     ]
    },
    {
     "name": "stdout",
     "output_type": "stream",
     "text": [
      "Gene3D for k=3: 0.9502\n",
      "Gene3D for k=15: 0.9273\n",
      "Gene3D for k=51: 0.8876\n"
     ]
    },
    {
     "name": "stderr",
     "output_type": "stream",
     "text": [
      "\n",
      " 40%|████      | 2/5 [02:56<04:23, 87.94s/it]\u001b[A"
     ]
    },
    {
     "name": "stdout",
     "output_type": "stream",
     "text": [
      "Gene3D for k=3: 0.9475\n",
      "Gene3D for k=15: 0.9277\n",
      "Gene3D for k=51: 0.8909\n"
     ]
    },
    {
     "name": "stderr",
     "output_type": "stream",
     "text": [
      "\n",
      " 60%|██████    | 3/5 [04:23<02:55, 87.75s/it]\u001b[A"
     ]
    },
    {
     "name": "stdout",
     "output_type": "stream",
     "text": [
      "Gene3D for k=3: 0.9479\n",
      "Gene3D for k=15: 0.9282\n",
      "Gene3D for k=51: 0.8913\n"
     ]
    },
    {
     "name": "stderr",
     "output_type": "stream",
     "text": [
      "\n",
      " 80%|████████  | 4/5 [05:51<01:27, 87.66s/it]\u001b[A"
     ]
    },
    {
     "name": "stdout",
     "output_type": "stream",
     "text": [
      "Gene3D for k=3: 0.9500\n",
      "Gene3D for k=15: 0.9316\n",
      "Gene3D for k=51: 0.8921\n"
     ]
    },
    {
     "name": "stderr",
     "output_type": "stream",
     "text": [
      "\n",
      "100%|██████████| 5/5 [07:19<00:00, 87.85s/it]\u001b[A\n",
      " 45%|████▌     | 5/11 [8:59:05<10:14:27, 6144.52s/it]"
     ]
    },
    {
     "name": "stdout",
     "output_type": "stream",
     "text": [
      "InterPro\n"
     ]
    },
    {
     "name": "stderr",
     "output_type": "stream",
     "text": [
      "\n",
      "  0%|          | 0/5 [00:00<?, ?it/s]\u001b[A"
     ]
    },
    {
     "name": "stdout",
     "output_type": "stream",
     "text": [
      "InterPro for k=3: 0.9057\n",
      "InterPro for k=15: 0.8765\n",
      "InterPro for k=51: 0.8223\n"
     ]
    },
    {
     "name": "stderr",
     "output_type": "stream",
     "text": [
      "\n",
      " 20%|██        | 1/5 [02:31<10:04, 151.24s/it]\u001b[A"
     ]
    },
    {
     "name": "stdout",
     "output_type": "stream",
     "text": [
      "InterPro for k=3: 0.9053\n",
      "InterPro for k=15: 0.8781\n",
      "InterPro for k=51: 0.8263\n"
     ]
    },
    {
     "name": "stderr",
     "output_type": "stream",
     "text": [
      "\n",
      " 40%|████      | 2/5 [05:02<07:33, 151.12s/it]\u001b[A"
     ]
    },
    {
     "name": "stdout",
     "output_type": "stream",
     "text": [
      "InterPro for k=3: 0.9053\n",
      "InterPro for k=15: 0.8773\n",
      "InterPro for k=51: 0.8259\n"
     ]
    },
    {
     "name": "stderr",
     "output_type": "stream",
     "text": [
      "\n",
      " 60%|██████    | 3/5 [07:35<05:03, 151.67s/it]\u001b[A"
     ]
    },
    {
     "name": "stdout",
     "output_type": "stream",
     "text": [
      "InterPro for k=3: 0.9042\n",
      "InterPro for k=15: 0.8768\n",
      "InterPro for k=51: 0.8241\n"
     ]
    },
    {
     "name": "stderr",
     "output_type": "stream",
     "text": [
      "\n",
      " 80%|████████  | 4/5 [10:10<02:32, 152.93s/it]\u001b[A"
     ]
    },
    {
     "name": "stdout",
     "output_type": "stream",
     "text": [
      "InterPro for k=3: 0.9074\n",
      "InterPro for k=15: 0.8778\n",
      "InterPro for k=51: 0.8240\n"
     ]
    },
    {
     "name": "stderr",
     "output_type": "stream",
     "text": [
      "\n",
      "100%|██████████| 5/5 [12:42<00:00, 152.50s/it]\u001b[A\n",
      "\n",
      "  0%|          | 0/5 [00:00<?, ?it/s]\u001b[A"
     ]
    },
    {
     "name": "stdout",
     "output_type": "stream",
     "text": [
      "InterPro for k=3: 0.9065\n",
      "InterPro for k=15: 0.8778\n",
      "InterPro for k=51: 0.8266\n"
     ]
    },
    {
     "name": "stderr",
     "output_type": "stream",
     "text": [
      "\n",
      " 20%|██        | 1/5 [02:35<10:22, 155.57s/it]\u001b[A"
     ]
    },
    {
     "name": "stdout",
     "output_type": "stream",
     "text": [
      "InterPro for k=3: 0.9038\n",
      "InterPro for k=15: 0.8759\n",
      "InterPro for k=51: 0.8206\n"
     ]
    },
    {
     "name": "stderr",
     "output_type": "stream",
     "text": [
      "\n",
      " 40%|████      | 2/5 [05:08<07:44, 154.81s/it]\u001b[A"
     ]
    },
    {
     "name": "stdout",
     "output_type": "stream",
     "text": [
      "InterPro for k=3: 0.9052\n",
      "InterPro for k=15: 0.8781\n",
      "InterPro for k=51: 0.8251\n"
     ]
    },
    {
     "name": "stderr",
     "output_type": "stream",
     "text": [
      "\n",
      " 60%|██████    | 3/5 [07:48<05:12, 156.29s/it]\u001b[A"
     ]
    },
    {
     "name": "stdout",
     "output_type": "stream",
     "text": [
      "InterPro for k=3: 0.9054\n",
      "InterPro for k=15: 0.8751\n",
      "InterPro for k=51: 0.8222\n"
     ]
    },
    {
     "name": "stderr",
     "output_type": "stream",
     "text": [
      "\n",
      " 80%|████████  | 4/5 [10:22<02:35, 155.64s/it]\u001b[A"
     ]
    },
    {
     "name": "stdout",
     "output_type": "stream",
     "text": [
      "InterPro for k=3: 0.9071\n",
      "InterPro for k=15: 0.8793\n",
      "InterPro for k=51: 0.8270\n"
     ]
    },
    {
     "name": "stderr",
     "output_type": "stream",
     "text": [
      "\n",
      "100%|██████████| 5/5 [12:54<00:00, 154.94s/it]\u001b[A\n",
      "\n",
      "  0%|          | 0/5 [00:00<?, ?it/s]\u001b[A"
     ]
    },
    {
     "name": "stdout",
     "output_type": "stream",
     "text": [
      "InterPro for k=3: 0.9032\n",
      "InterPro for k=15: 0.8741\n",
      "InterPro for k=51: 0.8235\n"
     ]
    },
    {
     "name": "stderr",
     "output_type": "stream",
     "text": [
      "\n",
      " 20%|██        | 1/5 [02:30<10:01, 150.34s/it]\u001b[A"
     ]
    },
    {
     "name": "stdout",
     "output_type": "stream",
     "text": [
      "InterPro for k=3: 0.9055\n",
      "InterPro for k=15: 0.8766\n",
      "InterPro for k=51: 0.8230\n"
     ]
    },
    {
     "name": "stderr",
     "output_type": "stream",
     "text": [
      "\n",
      " 40%|████      | 2/5 [05:00<07:30, 150.20s/it]\u001b[A"
     ]
    },
    {
     "name": "stdout",
     "output_type": "stream",
     "text": [
      "InterPro for k=3: 0.9079\n",
      "InterPro for k=15: 0.8802\n",
      "InterPro for k=51: 0.8279\n"
     ]
    },
    {
     "name": "stderr",
     "output_type": "stream",
     "text": [
      "\n",
      " 60%|██████    | 3/5 [07:35<05:03, 151.77s/it]\u001b[A"
     ]
    },
    {
     "name": "stdout",
     "output_type": "stream",
     "text": [
      "InterPro for k=3: 0.9086\n",
      "InterPro for k=15: 0.8800\n",
      "InterPro for k=51: 0.8263\n"
     ]
    },
    {
     "name": "stderr",
     "output_type": "stream",
     "text": [
      "\n",
      " 80%|████████  | 4/5 [10:07<02:31, 151.76s/it]\u001b[A"
     ]
    },
    {
     "name": "stdout",
     "output_type": "stream",
     "text": [
      "InterPro for k=3: 0.9055\n",
      "InterPro for k=15: 0.8776\n",
      "InterPro for k=51: 0.8241\n"
     ]
    },
    {
     "name": "stderr",
     "output_type": "stream",
     "text": [
      "\n",
      "100%|██████████| 5/5 [12:39<00:00, 151.85s/it]\u001b[A\n",
      "\n",
      "  0%|          | 0/5 [00:00<?, ?it/s]\u001b[A"
     ]
    },
    {
     "name": "stdout",
     "output_type": "stream",
     "text": [
      "InterPro for k=3: 0.9053\n",
      "InterPro for k=15: 0.8771\n",
      "InterPro for k=51: 0.8226\n"
     ]
    },
    {
     "name": "stderr",
     "output_type": "stream",
     "text": [
      "\n",
      " 20%|██        | 1/5 [02:34<10:19, 154.76s/it]\u001b[A"
     ]
    },
    {
     "name": "stdout",
     "output_type": "stream",
     "text": [
      "InterPro for k=3: 0.9045\n",
      "InterPro for k=15: 0.8764\n",
      "InterPro for k=51: 0.8243\n"
     ]
    },
    {
     "name": "stderr",
     "output_type": "stream",
     "text": [
      "\n",
      " 40%|████      | 2/5 [05:05<07:40, 153.50s/it]\u001b[A"
     ]
    },
    {
     "name": "stdout",
     "output_type": "stream",
     "text": [
      "InterPro for k=3: 0.9043\n",
      "InterPro for k=15: 0.8769\n",
      "InterPro for k=51: 0.8244\n"
     ]
    },
    {
     "name": "stderr",
     "output_type": "stream",
     "text": [
      "\n",
      " 60%|██████    | 3/5 [07:38<05:06, 153.46s/it]\u001b[A"
     ]
    },
    {
     "name": "stdout",
     "output_type": "stream",
     "text": [
      "InterPro for k=3: 0.9046\n",
      "InterPro for k=15: 0.8759\n",
      "InterPro for k=51: 0.8234\n"
     ]
    },
    {
     "name": "stderr",
     "output_type": "stream",
     "text": [
      "\n",
      " 80%|████████  | 4/5 [10:10<02:32, 152.88s/it]\u001b[A"
     ]
    },
    {
     "name": "stdout",
     "output_type": "stream",
     "text": [
      "InterPro for k=3: 0.9089\n",
      "InterPro for k=15: 0.8803\n",
      "InterPro for k=51: 0.8265\n"
     ]
    },
    {
     "name": "stderr",
     "output_type": "stream",
     "text": [
      "\n",
      "100%|██████████| 5/5 [12:44<00:00, 152.91s/it]\u001b[A\n",
      "\n",
      "  0%|          | 0/5 [00:00<?, ?it/s]\u001b[A"
     ]
    },
    {
     "name": "stdout",
     "output_type": "stream",
     "text": [
      "InterPro for k=3: 0.9076\n",
      "InterPro for k=15: 0.8793\n",
      "InterPro for k=51: 0.8267\n"
     ]
    },
    {
     "name": "stderr",
     "output_type": "stream",
     "text": [
      "\n",
      " 20%|██        | 1/5 [02:31<10:05, 151.47s/it]\u001b[A"
     ]
    },
    {
     "name": "stdout",
     "output_type": "stream",
     "text": [
      "InterPro for k=3: 0.9072\n",
      "InterPro for k=15: 0.8788\n",
      "InterPro for k=51: 0.8277\n"
     ]
    },
    {
     "name": "stderr",
     "output_type": "stream",
     "text": [
      "\n",
      " 40%|████      | 2/5 [05:02<07:33, 151.22s/it]\u001b[A"
     ]
    },
    {
     "name": "stdout",
     "output_type": "stream",
     "text": [
      "InterPro for k=3: 0.9063\n",
      "InterPro for k=15: 0.8758\n",
      "InterPro for k=51: 0.8225\n"
     ]
    },
    {
     "name": "stderr",
     "output_type": "stream",
     "text": [
      "\n",
      " 60%|██████    | 3/5 [07:34<05:03, 151.62s/it]\u001b[A"
     ]
    },
    {
     "name": "stdout",
     "output_type": "stream",
     "text": [
      "InterPro for k=3: 0.9040\n",
      "InterPro for k=15: 0.8763\n",
      "InterPro for k=51: 0.8224\n"
     ]
    },
    {
     "name": "stderr",
     "output_type": "stream",
     "text": [
      "\n",
      " 80%|████████  | 4/5 [10:07<02:31, 151.92s/it]\u001b[A"
     ]
    },
    {
     "name": "stdout",
     "output_type": "stream",
     "text": [
      "InterPro for k=3: 0.9066\n",
      "InterPro for k=15: 0.8783\n",
      "InterPro for k=51: 0.8242\n"
     ]
    },
    {
     "name": "stderr",
     "output_type": "stream",
     "text": [
      "\n",
      "100%|██████████| 5/5 [12:40<00:00, 152.01s/it]\u001b[A\n",
      "\n",
      "  0%|          | 0/5 [00:00<?, ?it/s]\u001b[A"
     ]
    },
    {
     "name": "stdout",
     "output_type": "stream",
     "text": [
      "InterPro for k=3: 0.9056\n",
      "InterPro for k=15: 0.8775\n",
      "InterPro for k=51: 0.8252\n"
     ]
    },
    {
     "name": "stderr",
     "output_type": "stream",
     "text": [
      "\n",
      " 20%|██        | 1/5 [02:32<10:11, 152.87s/it]\u001b[A"
     ]
    },
    {
     "name": "stdout",
     "output_type": "stream",
     "text": [
      "InterPro for k=3: 0.9073\n",
      "InterPro for k=15: 0.8790\n",
      "InterPro for k=51: 0.8260\n"
     ]
    },
    {
     "name": "stderr",
     "output_type": "stream",
     "text": [
      "\n",
      " 40%|████      | 2/5 [05:03<07:36, 152.06s/it]\u001b[A"
     ]
    },
    {
     "name": "stdout",
     "output_type": "stream",
     "text": [
      "InterPro for k=3: 0.9045\n",
      "InterPro for k=15: 0.8748\n",
      "InterPro for k=51: 0.8213\n"
     ]
    },
    {
     "name": "stderr",
     "output_type": "stream",
     "text": [
      "\n",
      " 60%|██████    | 3/5 [07:35<05:04, 152.14s/it]\u001b[A"
     ]
    },
    {
     "name": "stdout",
     "output_type": "stream",
     "text": [
      "InterPro for k=3: 0.9064\n",
      "InterPro for k=15: 0.8774\n",
      "InterPro for k=51: 0.8250\n"
     ]
    },
    {
     "name": "stderr",
     "output_type": "stream",
     "text": [
      "\n",
      " 80%|████████  | 4/5 [10:07<02:32, 152.23s/it]\u001b[A"
     ]
    },
    {
     "name": "stdout",
     "output_type": "stream",
     "text": [
      "InterPro for k=3: 0.9059\n",
      "InterPro for k=15: 0.8775\n",
      "InterPro for k=51: 0.8238\n"
     ]
    },
    {
     "name": "stderr",
     "output_type": "stream",
     "text": [
      "\n",
      "100%|██████████| 5/5 [12:40<00:00, 152.00s/it]\u001b[A\n",
      "\n",
      "  0%|          | 0/5 [00:00<?, ?it/s]\u001b[A"
     ]
    },
    {
     "name": "stdout",
     "output_type": "stream",
     "text": [
      "InterPro for k=3: 0.9073\n",
      "InterPro for k=15: 0.8789\n",
      "InterPro for k=51: 0.8243\n"
     ]
    },
    {
     "name": "stderr",
     "output_type": "stream",
     "text": [
      "\n",
      " 20%|██        | 1/5 [02:32<10:10, 152.67s/it]\u001b[A"
     ]
    },
    {
     "name": "stdout",
     "output_type": "stream",
     "text": [
      "InterPro for k=3: 0.9042\n",
      "InterPro for k=15: 0.8756\n",
      "InterPro for k=51: 0.8233\n"
     ]
    },
    {
     "name": "stderr",
     "output_type": "stream",
     "text": [
      "\n",
      " 40%|████      | 2/5 [05:06<07:38, 152.99s/it]\u001b[A"
     ]
    },
    {
     "name": "stdout",
     "output_type": "stream",
     "text": [
      "InterPro for k=3: 0.9071\n",
      "InterPro for k=15: 0.8782\n",
      "InterPro for k=51: 0.8254\n"
     ]
    },
    {
     "name": "stderr",
     "output_type": "stream",
     "text": [
      "\n",
      " 60%|██████    | 3/5 [07:36<05:04, 152.20s/it]\u001b[A"
     ]
    },
    {
     "name": "stdout",
     "output_type": "stream",
     "text": [
      "InterPro for k=3: 0.9060\n",
      "InterPro for k=15: 0.8779\n",
      "InterPro for k=51: 0.8245\n"
     ]
    },
    {
     "name": "stderr",
     "output_type": "stream",
     "text": [
      "\n",
      " 80%|████████  | 4/5 [10:08<02:31, 151.95s/it]\u001b[A"
     ]
    },
    {
     "name": "stdout",
     "output_type": "stream",
     "text": [
      "InterPro for k=3: 0.9056\n",
      "InterPro for k=15: 0.8770\n",
      "InterPro for k=51: 0.8238\n"
     ]
    },
    {
     "name": "stderr",
     "output_type": "stream",
     "text": [
      "\n",
      "100%|██████████| 5/5 [12:39<00:00, 151.92s/it]\u001b[A\n",
      "\n",
      "  0%|          | 0/5 [00:00<?, ?it/s]\u001b[A"
     ]
    },
    {
     "name": "stdout",
     "output_type": "stream",
     "text": [
      "InterPro for k=3: 0.9077\n",
      "InterPro for k=15: 0.8783\n",
      "InterPro for k=51: 0.8233\n"
     ]
    },
    {
     "name": "stderr",
     "output_type": "stream",
     "text": [
      "\n",
      " 20%|██        | 1/5 [02:31<10:06, 151.63s/it]\u001b[A"
     ]
    },
    {
     "name": "stdout",
     "output_type": "stream",
     "text": [
      "InterPro for k=3: 0.9047\n",
      "InterPro for k=15: 0.8764\n",
      "InterPro for k=51: 0.8226\n"
     ]
    },
    {
     "name": "stderr",
     "output_type": "stream",
     "text": [
      "\n",
      " 40%|████      | 2/5 [05:05<07:36, 152.30s/it]\u001b[A"
     ]
    },
    {
     "name": "stdout",
     "output_type": "stream",
     "text": [
      "InterPro for k=3: 0.9051\n",
      "InterPro for k=15: 0.8786\n",
      "InterPro for k=51: 0.8276\n"
     ]
    },
    {
     "name": "stderr",
     "output_type": "stream",
     "text": [
      "\n",
      " 60%|██████    | 3/5 [07:38<05:05, 152.58s/it]\u001b[A"
     ]
    },
    {
     "name": "stdout",
     "output_type": "stream",
     "text": [
      "InterPro for k=3: 0.9074\n",
      "InterPro for k=15: 0.8792\n",
      "InterPro for k=51: 0.8263\n"
     ]
    },
    {
     "name": "stderr",
     "output_type": "stream",
     "text": [
      "\n",
      " 80%|████████  | 4/5 [10:12<02:33, 153.01s/it]\u001b[A"
     ]
    },
    {
     "name": "stdout",
     "output_type": "stream",
     "text": [
      "InterPro for k=3: 0.9047\n",
      "InterPro for k=15: 0.8759\n",
      "InterPro for k=51: 0.8228\n"
     ]
    },
    {
     "name": "stderr",
     "output_type": "stream",
     "text": [
      "\n",
      "100%|██████████| 5/5 [12:43<00:00, 152.77s/it]\u001b[A\n",
      "\n",
      "  0%|          | 0/5 [00:00<?, ?it/s]\u001b[A"
     ]
    },
    {
     "name": "stdout",
     "output_type": "stream",
     "text": [
      "InterPro for k=3: 0.9072\n",
      "InterPro for k=15: 0.8807\n",
      "InterPro for k=51: 0.8270\n"
     ]
    },
    {
     "name": "stderr",
     "output_type": "stream",
     "text": [
      "\n",
      " 20%|██        | 1/5 [02:32<10:09, 152.40s/it]\u001b[A"
     ]
    },
    {
     "name": "stdout",
     "output_type": "stream",
     "text": [
      "InterPro for k=3: 0.9066\n",
      "InterPro for k=15: 0.8776\n",
      "InterPro for k=51: 0.8257\n"
     ]
    },
    {
     "name": "stderr",
     "output_type": "stream",
     "text": [
      "\n",
      " 40%|████      | 2/5 [05:02<07:35, 151.86s/it]\u001b[A"
     ]
    },
    {
     "name": "stdout",
     "output_type": "stream",
     "text": [
      "InterPro for k=3: 0.9056\n",
      "InterPro for k=15: 0.8773\n",
      "InterPro for k=51: 0.8248\n"
     ]
    },
    {
     "name": "stderr",
     "output_type": "stream",
     "text": [
      "\n",
      " 60%|██████    | 3/5 [07:34<05:03, 151.79s/it]\u001b[A"
     ]
    },
    {
     "name": "stdout",
     "output_type": "stream",
     "text": [
      "InterPro for k=3: 0.9061\n",
      "InterPro for k=15: 0.8752\n",
      "InterPro for k=51: 0.8215\n"
     ]
    },
    {
     "name": "stderr",
     "output_type": "stream",
     "text": [
      "\n",
      " 80%|████████  | 4/5 [10:09<02:32, 152.81s/it]\u001b[A"
     ]
    },
    {
     "name": "stdout",
     "output_type": "stream",
     "text": [
      "InterPro for k=3: 0.9063\n",
      "InterPro for k=15: 0.8781\n",
      "InterPro for k=51: 0.8251\n"
     ]
    },
    {
     "name": "stderr",
     "output_type": "stream",
     "text": [
      "\n",
      "100%|██████████| 5/5 [12:40<00:00, 152.00s/it]\u001b[A\n",
      "\n",
      "  0%|          | 0/5 [00:00<?, ?it/s]\u001b[A"
     ]
    },
    {
     "name": "stdout",
     "output_type": "stream",
     "text": [
      "InterPro for k=3: 0.9072\n",
      "InterPro for k=15: 0.8798\n",
      "InterPro for k=51: 0.8275\n"
     ]
    },
    {
     "name": "stderr",
     "output_type": "stream",
     "text": [
      "\n",
      " 20%|██        | 1/5 [02:30<10:03, 150.79s/it]\u001b[A"
     ]
    },
    {
     "name": "stdout",
     "output_type": "stream",
     "text": [
      "InterPro for k=3: 0.9057\n",
      "InterPro for k=15: 0.8774\n",
      "InterPro for k=51: 0.8248\n"
     ]
    },
    {
     "name": "stderr",
     "output_type": "stream",
     "text": [
      "\n",
      " 40%|████      | 2/5 [05:05<07:36, 152.03s/it]\u001b[A"
     ]
    },
    {
     "name": "stdout",
     "output_type": "stream",
     "text": [
      "InterPro for k=3: 0.9079\n",
      "InterPro for k=15: 0.8785\n",
      "InterPro for k=51: 0.8257\n"
     ]
    },
    {
     "name": "stderr",
     "output_type": "stream",
     "text": [
      "\n",
      " 60%|██████    | 3/5 [07:40<05:05, 152.97s/it]\u001b[A"
     ]
    },
    {
     "name": "stdout",
     "output_type": "stream",
     "text": [
      "InterPro for k=3: 0.9044\n",
      "InterPro for k=15: 0.8766\n",
      "InterPro for k=51: 0.8228\n"
     ]
    },
    {
     "name": "stderr",
     "output_type": "stream",
     "text": [
      "\n",
      " 80%|████████  | 4/5 [10:12<02:32, 152.46s/it]\u001b[A"
     ]
    },
    {
     "name": "stdout",
     "output_type": "stream",
     "text": [
      "InterPro for k=3: 0.9052\n",
      "InterPro for k=15: 0.8767\n",
      "InterPro for k=51: 0.8225\n"
     ]
    },
    {
     "name": "stderr",
     "output_type": "stream",
     "text": [
      "\n",
      "100%|██████████| 5/5 [12:43<00:00, 152.62s/it]\u001b[A\n",
      " 55%|█████▍    | 6/11 [11:06:13<9:09:07, 6589.54s/it]"
     ]
    },
    {
     "name": "stdout",
     "output_type": "stream",
     "text": [
      "KO\n"
     ]
    },
    {
     "name": "stderr",
     "output_type": "stream",
     "text": [
      "\n",
      "  0%|          | 0/5 [00:00<?, ?it/s]\u001b[A"
     ]
    },
    {
     "name": "stdout",
     "output_type": "stream",
     "text": [
      "KO for k=3: 0.9188\n",
      "KO for k=15: 0.8843\n",
      "KO for k=51: 0.8301\n"
     ]
    },
    {
     "name": "stderr",
     "output_type": "stream",
     "text": [
      "\n",
      " 20%|██        | 1/5 [02:10<08:40, 130.17s/it]\u001b[A"
     ]
    },
    {
     "name": "stdout",
     "output_type": "stream",
     "text": [
      "KO for k=3: 0.9218\n",
      "KO for k=15: 0.8885\n",
      "KO for k=51: 0.8366\n"
     ]
    },
    {
     "name": "stderr",
     "output_type": "stream",
     "text": [
      "\n",
      " 40%|████      | 2/5 [04:22<06:32, 130.89s/it]\u001b[A"
     ]
    },
    {
     "name": "stdout",
     "output_type": "stream",
     "text": [
      "KO for k=3: 0.9187\n",
      "KO for k=15: 0.8829\n",
      "KO for k=51: 0.8320\n"
     ]
    },
    {
     "name": "stderr",
     "output_type": "stream",
     "text": [
      "\n",
      " 60%|██████    | 3/5 [06:37<04:24, 132.08s/it]\u001b[A"
     ]
    },
    {
     "name": "stdout",
     "output_type": "stream",
     "text": [
      "KO for k=3: 0.9205\n",
      "KO for k=15: 0.8859\n",
      "KO for k=51: 0.8341\n"
     ]
    },
    {
     "name": "stderr",
     "output_type": "stream",
     "text": [
      "\n",
      " 80%|████████  | 4/5 [08:51<02:12, 132.72s/it]\u001b[A"
     ]
    },
    {
     "name": "stdout",
     "output_type": "stream",
     "text": [
      "KO for k=3: 0.9227\n",
      "KO for k=15: 0.8896\n",
      "KO for k=51: 0.8359\n"
     ]
    },
    {
     "name": "stderr",
     "output_type": "stream",
     "text": [
      "\n",
      "100%|██████████| 5/5 [11:06<00:00, 133.23s/it]\u001b[A\n",
      "\n",
      "  0%|          | 0/5 [00:00<?, ?it/s]\u001b[A"
     ]
    },
    {
     "name": "stdout",
     "output_type": "stream",
     "text": [
      "KO for k=3: 0.9202\n",
      "KO for k=15: 0.8875\n",
      "KO for k=51: 0.8330\n"
     ]
    },
    {
     "name": "stderr",
     "output_type": "stream",
     "text": [
      "\n",
      " 20%|██        | 1/5 [02:14<08:59, 134.97s/it]\u001b[A"
     ]
    },
    {
     "name": "stdout",
     "output_type": "stream",
     "text": [
      "KO for k=3: 0.9189\n",
      "KO for k=15: 0.8846\n",
      "KO for k=51: 0.8323\n"
     ]
    },
    {
     "name": "stderr",
     "output_type": "stream",
     "text": [
      "\n",
      " 40%|████      | 2/5 [04:29<06:44, 134.72s/it]\u001b[A"
     ]
    },
    {
     "name": "stdout",
     "output_type": "stream",
     "text": [
      "KO for k=3: 0.9209\n",
      "KO for k=15: 0.8876\n",
      "KO for k=51: 0.8354\n"
     ]
    },
    {
     "name": "stderr",
     "output_type": "stream",
     "text": [
      "\n",
      " 60%|██████    | 3/5 [06:42<04:28, 134.36s/it]\u001b[A"
     ]
    },
    {
     "name": "stdout",
     "output_type": "stream",
     "text": [
      "KO for k=3: 0.9217\n",
      "KO for k=15: 0.8889\n",
      "KO for k=51: 0.8366\n"
     ]
    },
    {
     "name": "stderr",
     "output_type": "stream",
     "text": [
      "\n",
      " 80%|████████  | 4/5 [08:59<02:15, 135.09s/it]\u001b[A"
     ]
    },
    {
     "name": "stdout",
     "output_type": "stream",
     "text": [
      "KO for k=3: 0.9185\n",
      "KO for k=15: 0.8849\n",
      "KO for k=51: 0.8316\n"
     ]
    },
    {
     "name": "stderr",
     "output_type": "stream",
     "text": [
      "\n",
      "100%|██████████| 5/5 [11:13<00:00, 134.75s/it]\u001b[A\n",
      "\n",
      "  0%|          | 0/5 [00:00<?, ?it/s]\u001b[A"
     ]
    },
    {
     "name": "stdout",
     "output_type": "stream",
     "text": [
      "KO for k=3: 0.9207\n",
      "KO for k=15: 0.8857\n",
      "KO for k=51: 0.8333\n"
     ]
    },
    {
     "name": "stderr",
     "output_type": "stream",
     "text": [
      "\n",
      " 20%|██        | 1/5 [02:13<08:55, 133.96s/it]\u001b[A"
     ]
    },
    {
     "name": "stdout",
     "output_type": "stream",
     "text": [
      "KO for k=3: 0.9225\n",
      "KO for k=15: 0.8872\n",
      "KO for k=51: 0.8357\n"
     ]
    },
    {
     "name": "stderr",
     "output_type": "stream",
     "text": [
      "\n",
      " 40%|████      | 2/5 [04:29<06:43, 134.34s/it]\u001b[A"
     ]
    },
    {
     "name": "stdout",
     "output_type": "stream",
     "text": [
      "KO for k=3: 0.9187\n",
      "KO for k=15: 0.8839\n",
      "KO for k=51: 0.8314\n"
     ]
    },
    {
     "name": "stderr",
     "output_type": "stream",
     "text": [
      "\n",
      " 60%|██████    | 3/5 [06:41<04:27, 133.79s/it]\u001b[A"
     ]
    },
    {
     "name": "stdout",
     "output_type": "stream",
     "text": [
      "KO for k=3: 0.9206\n",
      "KO for k=15: 0.8890\n",
      "KO for k=51: 0.8360\n"
     ]
    },
    {
     "name": "stderr",
     "output_type": "stream",
     "text": [
      "\n",
      " 80%|████████  | 4/5 [08:56<02:14, 134.19s/it]\u001b[A"
     ]
    },
    {
     "name": "stdout",
     "output_type": "stream",
     "text": [
      "KO for k=3: 0.9188\n",
      "KO for k=15: 0.8849\n",
      "KO for k=51: 0.8306\n"
     ]
    },
    {
     "name": "stderr",
     "output_type": "stream",
     "text": [
      "\n",
      "100%|██████████| 5/5 [11:11<00:00, 134.40s/it]\u001b[A\n",
      "\n",
      "  0%|          | 0/5 [00:00<?, ?it/s]\u001b[A"
     ]
    },
    {
     "name": "stdout",
     "output_type": "stream",
     "text": [
      "KO for k=3: 0.9185\n",
      "KO for k=15: 0.8844\n",
      "KO for k=51: 0.8319\n"
     ]
    },
    {
     "name": "stderr",
     "output_type": "stream",
     "text": [
      "\n",
      " 20%|██        | 1/5 [02:15<09:02, 135.71s/it]\u001b[A"
     ]
    },
    {
     "name": "stdout",
     "output_type": "stream",
     "text": [
      "KO for k=3: 0.9199\n",
      "KO for k=15: 0.8854\n",
      "KO for k=51: 0.8327\n"
     ]
    },
    {
     "name": "stderr",
     "output_type": "stream",
     "text": [
      "\n",
      " 40%|████      | 2/5 [04:30<06:45, 135.32s/it]\u001b[A"
     ]
    },
    {
     "name": "stdout",
     "output_type": "stream",
     "text": [
      "KO for k=3: 0.9219\n",
      "KO for k=15: 0.8885\n",
      "KO for k=51: 0.8320\n"
     ]
    },
    {
     "name": "stderr",
     "output_type": "stream",
     "text": [
      "\n",
      " 60%|██████    | 3/5 [06:43<04:29, 134.69s/it]\u001b[A"
     ]
    },
    {
     "name": "stdout",
     "output_type": "stream",
     "text": [
      "KO for k=3: 0.9225\n",
      "KO for k=15: 0.8886\n",
      "KO for k=51: 0.8386\n"
     ]
    },
    {
     "name": "stderr",
     "output_type": "stream",
     "text": [
      "\n",
      " 80%|████████  | 4/5 [08:58<02:14, 134.89s/it]\u001b[A"
     ]
    },
    {
     "name": "stdout",
     "output_type": "stream",
     "text": [
      "KO for k=3: 0.9202\n",
      "KO for k=15: 0.8859\n",
      "KO for k=51: 0.8351\n"
     ]
    },
    {
     "name": "stderr",
     "output_type": "stream",
     "text": [
      "\n",
      "100%|██████████| 5/5 [11:13<00:00, 134.72s/it]\u001b[A\n",
      "\n",
      "  0%|          | 0/5 [00:00<?, ?it/s]\u001b[A"
     ]
    },
    {
     "name": "stdout",
     "output_type": "stream",
     "text": [
      "KO for k=3: 0.9224\n",
      "KO for k=15: 0.8891\n",
      "KO for k=51: 0.8366\n"
     ]
    },
    {
     "name": "stderr",
     "output_type": "stream",
     "text": [
      "\n",
      " 20%|██        | 1/5 [02:13<08:55, 133.96s/it]\u001b[A"
     ]
    },
    {
     "name": "stdout",
     "output_type": "stream",
     "text": [
      "KO for k=3: 0.9175\n",
      "KO for k=15: 0.8847\n",
      "KO for k=51: 0.8326\n"
     ]
    },
    {
     "name": "stderr",
     "output_type": "stream",
     "text": [
      "\n",
      " 40%|████      | 2/5 [04:28<06:42, 134.28s/it]\u001b[A"
     ]
    },
    {
     "name": "stdout",
     "output_type": "stream",
     "text": [
      "KO for k=3: 0.9201\n",
      "KO for k=15: 0.8865\n",
      "KO for k=51: 0.8347\n"
     ]
    },
    {
     "name": "stderr",
     "output_type": "stream",
     "text": [
      "\n",
      " 60%|██████    | 3/5 [06:42<04:27, 133.91s/it]\u001b[A"
     ]
    },
    {
     "name": "stdout",
     "output_type": "stream",
     "text": [
      "KO for k=3: 0.9179\n",
      "KO for k=15: 0.8836\n",
      "KO for k=51: 0.8325\n"
     ]
    },
    {
     "name": "stderr",
     "output_type": "stream",
     "text": [
      "\n",
      " 80%|████████  | 4/5 [08:55<02:13, 133.68s/it]\u001b[A"
     ]
    },
    {
     "name": "stdout",
     "output_type": "stream",
     "text": [
      "KO for k=3: 0.9243\n",
      "KO for k=15: 0.8903\n",
      "KO for k=51: 0.8353\n"
     ]
    },
    {
     "name": "stderr",
     "output_type": "stream",
     "text": [
      "\n",
      "100%|██████████| 5/5 [11:06<00:00, 133.21s/it]\u001b[A\n",
      "\n",
      "  0%|          | 0/5 [00:00<?, ?it/s]\u001b[A"
     ]
    },
    {
     "name": "stdout",
     "output_type": "stream",
     "text": [
      "KO for k=3: 0.9219\n",
      "KO for k=15: 0.8863\n",
      "KO for k=51: 0.8333\n"
     ]
    },
    {
     "name": "stderr",
     "output_type": "stream",
     "text": [
      "\n",
      " 20%|██        | 1/5 [02:13<08:53, 133.37s/it]\u001b[A"
     ]
    },
    {
     "name": "stdout",
     "output_type": "stream",
     "text": [
      "KO for k=3: 0.9214\n",
      "KO for k=15: 0.8876\n",
      "KO for k=51: 0.8345\n"
     ]
    },
    {
     "name": "stderr",
     "output_type": "stream",
     "text": [
      "\n",
      " 40%|████      | 2/5 [04:25<06:39, 133.03s/it]\u001b[A"
     ]
    },
    {
     "name": "stdout",
     "output_type": "stream",
     "text": [
      "KO for k=3: 0.9196\n",
      "KO for k=15: 0.8865\n",
      "KO for k=51: 0.8319\n"
     ]
    },
    {
     "name": "stderr",
     "output_type": "stream",
     "text": [
      "\n",
      " 60%|██████    | 3/5 [06:37<04:25, 132.81s/it]\u001b[A"
     ]
    },
    {
     "name": "stdout",
     "output_type": "stream",
     "text": [
      "KO for k=3: 0.9190\n",
      "KO for k=15: 0.8846\n",
      "KO for k=51: 0.8345\n"
     ]
    },
    {
     "name": "stderr",
     "output_type": "stream",
     "text": [
      "\n",
      " 80%|████████  | 4/5 [08:50<02:12, 132.85s/it]\u001b[A"
     ]
    },
    {
     "name": "stdout",
     "output_type": "stream",
     "text": [
      "KO for k=3: 0.9200\n",
      "KO for k=15: 0.8859\n",
      "KO for k=51: 0.8330\n"
     ]
    },
    {
     "name": "stderr",
     "output_type": "stream",
     "text": [
      "\n",
      "100%|██████████| 5/5 [11:03<00:00, 132.72s/it]\u001b[A\n",
      "\n",
      "  0%|          | 0/5 [00:00<?, ?it/s]\u001b[A"
     ]
    },
    {
     "name": "stdout",
     "output_type": "stream",
     "text": [
      "KO for k=3: 0.9242\n",
      "KO for k=15: 0.8912\n",
      "KO for k=51: 0.8407\n"
     ]
    },
    {
     "name": "stderr",
     "output_type": "stream",
     "text": [
      "\n",
      " 20%|██        | 1/5 [02:15<09:01, 135.50s/it]\u001b[A"
     ]
    },
    {
     "name": "stdout",
     "output_type": "stream",
     "text": [
      "KO for k=3: 0.9175\n",
      "KO for k=15: 0.8832\n",
      "KO for k=51: 0.8278\n"
     ]
    },
    {
     "name": "stderr",
     "output_type": "stream",
     "text": [
      "\n",
      " 40%|████      | 2/5 [04:33<06:48, 136.13s/it]\u001b[A"
     ]
    },
    {
     "name": "stdout",
     "output_type": "stream",
     "text": [
      "KO for k=3: 0.9200\n",
      "KO for k=15: 0.8874\n",
      "KO for k=51: 0.8351\n"
     ]
    },
    {
     "name": "stderr",
     "output_type": "stream",
     "text": [
      "\n",
      " 60%|██████    | 3/5 [06:47<04:31, 135.51s/it]\u001b[A"
     ]
    },
    {
     "name": "stdout",
     "output_type": "stream",
     "text": [
      "KO for k=3: 0.9196\n",
      "KO for k=15: 0.8866\n",
      "KO for k=51: 0.8328\n"
     ]
    },
    {
     "name": "stderr",
     "output_type": "stream",
     "text": [
      "\n",
      " 80%|████████  | 4/5 [09:01<02:15, 135.28s/it]\u001b[A"
     ]
    },
    {
     "name": "stdout",
     "output_type": "stream",
     "text": [
      "KO for k=3: 0.9198\n",
      "KO for k=15: 0.8855\n",
      "KO for k=51: 0.8323\n"
     ]
    },
    {
     "name": "stderr",
     "output_type": "stream",
     "text": [
      "\n",
      "100%|██████████| 5/5 [11:13<00:00, 134.67s/it]\u001b[A\n",
      "\n",
      "  0%|          | 0/5 [00:00<?, ?it/s]\u001b[A"
     ]
    },
    {
     "name": "stdout",
     "output_type": "stream",
     "text": [
      "KO for k=3: 0.9162\n",
      "KO for k=15: 0.8818\n",
      "KO for k=51: 0.8270\n"
     ]
    },
    {
     "name": "stderr",
     "output_type": "stream",
     "text": [
      "\n",
      " 20%|██        | 1/5 [02:10<08:42, 130.71s/it]\u001b[A"
     ]
    },
    {
     "name": "stdout",
     "output_type": "stream",
     "text": [
      "KO for k=3: 0.9185\n",
      "KO for k=15: 0.8860\n",
      "KO for k=51: 0.8341\n"
     ]
    },
    {
     "name": "stderr",
     "output_type": "stream",
     "text": [
      "\n",
      " 40%|████      | 2/5 [04:22<06:33, 131.17s/it]\u001b[A"
     ]
    },
    {
     "name": "stdout",
     "output_type": "stream",
     "text": [
      "KO for k=3: 0.9200\n",
      "KO for k=15: 0.8855\n",
      "KO for k=51: 0.8324\n"
     ]
    },
    {
     "name": "stderr",
     "output_type": "stream",
     "text": [
      "\n",
      " 60%|██████    | 3/5 [06:33<04:22, 131.09s/it]\u001b[A"
     ]
    },
    {
     "name": "stdout",
     "output_type": "stream",
     "text": [
      "KO for k=3: 0.9213\n",
      "KO for k=15: 0.8880\n",
      "KO for k=51: 0.8384\n"
     ]
    },
    {
     "name": "stderr",
     "output_type": "stream",
     "text": [
      "\n",
      " 80%|████████  | 4/5 [08:47<02:11, 131.89s/it]\u001b[A"
     ]
    },
    {
     "name": "stdout",
     "output_type": "stream",
     "text": [
      "KO for k=3: 0.9245\n",
      "KO for k=15: 0.8889\n",
      "KO for k=51: 0.8351\n"
     ]
    },
    {
     "name": "stderr",
     "output_type": "stream",
     "text": [
      "\n",
      "100%|██████████| 5/5 [10:56<00:00, 131.33s/it]\u001b[A\n",
      "\n",
      "  0%|          | 0/5 [00:00<?, ?it/s]\u001b[A"
     ]
    },
    {
     "name": "stdout",
     "output_type": "stream",
     "text": [
      "KO for k=3: 0.9199\n",
      "KO for k=15: 0.8872\n",
      "KO for k=51: 0.8373\n"
     ]
    },
    {
     "name": "stderr",
     "output_type": "stream",
     "text": [
      "\n",
      " 20%|██        | 1/5 [02:11<08:47, 131.75s/it]\u001b[A"
     ]
    },
    {
     "name": "stdout",
     "output_type": "stream",
     "text": [
      "KO for k=3: 0.9208\n",
      "KO for k=15: 0.8868\n",
      "KO for k=51: 0.8338\n"
     ]
    },
    {
     "name": "stderr",
     "output_type": "stream",
     "text": [
      "\n",
      " 40%|████      | 2/5 [04:21<06:33, 131.03s/it]\u001b[A"
     ]
    },
    {
     "name": "stdout",
     "output_type": "stream",
     "text": [
      "KO for k=3: 0.9204\n",
      "KO for k=15: 0.8848\n",
      "KO for k=51: 0.8317\n"
     ]
    },
    {
     "name": "stderr",
     "output_type": "stream",
     "text": [
      "\n",
      " 60%|██████    | 3/5 [06:30<04:21, 130.54s/it]\u001b[A"
     ]
    },
    {
     "name": "stdout",
     "output_type": "stream",
     "text": [
      "KO for k=3: 0.9214\n",
      "KO for k=15: 0.8873\n",
      "KO for k=51: 0.8340\n"
     ]
    },
    {
     "name": "stderr",
     "output_type": "stream",
     "text": [
      "\n",
      " 80%|████████  | 4/5 [08:40<02:10, 130.27s/it]\u001b[A"
     ]
    },
    {
     "name": "stdout",
     "output_type": "stream",
     "text": [
      "KO for k=3: 0.9198\n",
      "KO for k=15: 0.8844\n",
      "KO for k=51: 0.8324\n"
     ]
    },
    {
     "name": "stderr",
     "output_type": "stream",
     "text": [
      "\n",
      "100%|██████████| 5/5 [10:50<00:00, 130.07s/it]\u001b[A\n",
      "\n",
      "  0%|          | 0/5 [00:00<?, ?it/s]\u001b[A"
     ]
    },
    {
     "name": "stdout",
     "output_type": "stream",
     "text": [
      "KO for k=3: 0.9191\n",
      "KO for k=15: 0.8868\n",
      "KO for k=51: 0.8336\n"
     ]
    },
    {
     "name": "stderr",
     "output_type": "stream",
     "text": [
      "\n",
      " 20%|██        | 1/5 [02:10<08:43, 130.98s/it]\u001b[A"
     ]
    },
    {
     "name": "stdout",
     "output_type": "stream",
     "text": [
      "KO for k=3: 0.9221\n",
      "KO for k=15: 0.8898\n",
      "KO for k=51: 0.8375\n"
     ]
    },
    {
     "name": "stderr",
     "output_type": "stream",
     "text": [
      "\n",
      " 40%|████      | 2/5 [04:22<06:33, 131.27s/it]\u001b[A"
     ]
    },
    {
     "name": "stdout",
     "output_type": "stream",
     "text": [
      "KO for k=3: 0.9209\n",
      "KO for k=15: 0.8866\n",
      "KO for k=51: 0.8352\n"
     ]
    },
    {
     "name": "stderr",
     "output_type": "stream",
     "text": [
      "\n",
      " 60%|██████    | 3/5 [06:38<04:25, 132.57s/it]\u001b[A"
     ]
    },
    {
     "name": "stdout",
     "output_type": "stream",
     "text": [
      "KO for k=3: 0.9192\n",
      "KO for k=15: 0.8853\n",
      "KO for k=51: 0.8310\n"
     ]
    },
    {
     "name": "stderr",
     "output_type": "stream",
     "text": [
      "\n",
      " 80%|████████  | 4/5 [08:51<02:12, 132.77s/it]\u001b[A"
     ]
    },
    {
     "name": "stdout",
     "output_type": "stream",
     "text": [
      "KO for k=3: 0.9197\n",
      "KO for k=15: 0.8843\n",
      "KO for k=51: 0.8304\n"
     ]
    },
    {
     "name": "stderr",
     "output_type": "stream",
     "text": [
      "\n",
      "100%|██████████| 5/5 [11:05<00:00, 133.13s/it]\u001b[A\n",
      " 64%|██████▎   | 7/11 [12:57:14<7:20:44, 6611.11s/it]"
     ]
    },
    {
     "name": "stdout",
     "output_type": "stream",
     "text": [
      "GO\n"
     ]
    },
    {
     "name": "stderr",
     "output_type": "stream",
     "text": [
      "\n",
      "  0%|          | 0/5 [00:00<?, ?it/s]\u001b[A"
     ]
    },
    {
     "name": "stdout",
     "output_type": "stream",
     "text": [
      "GO for k=3: 0.8958\n",
      "GO for k=15: 0.8705\n",
      "GO for k=51: 0.8247\n"
     ]
    },
    {
     "name": "stderr",
     "output_type": "stream",
     "text": [
      "\n",
      " 20%|██        | 1/5 [02:27<09:51, 147.77s/it]\u001b[A"
     ]
    },
    {
     "name": "stdout",
     "output_type": "stream",
     "text": [
      "GO for k=3: 0.8940\n",
      "GO for k=15: 0.8697\n",
      "GO for k=51: 0.8223\n"
     ]
    },
    {
     "name": "stderr",
     "output_type": "stream",
     "text": [
      "\n",
      " 40%|████      | 2/5 [04:57<07:25, 148.46s/it]\u001b[A"
     ]
    },
    {
     "name": "stdout",
     "output_type": "stream",
     "text": [
      "GO for k=3: 0.8937\n",
      "GO for k=15: 0.8704\n",
      "GO for k=51: 0.8254\n"
     ]
    },
    {
     "name": "stderr",
     "output_type": "stream",
     "text": [
      "\n",
      " 60%|██████    | 3/5 [07:25<04:56, 148.09s/it]\u001b[A"
     ]
    },
    {
     "name": "stdout",
     "output_type": "stream",
     "text": [
      "GO for k=3: 0.8953\n",
      "GO for k=15: 0.8723\n",
      "GO for k=51: 0.8273\n"
     ]
    },
    {
     "name": "stderr",
     "output_type": "stream",
     "text": [
      "\n",
      " 80%|████████  | 4/5 [09:50<02:27, 147.43s/it]\u001b[A"
     ]
    },
    {
     "name": "stdout",
     "output_type": "stream",
     "text": [
      "GO for k=3: 0.8929\n",
      "GO for k=15: 0.8695\n",
      "GO for k=51: 0.8228\n"
     ]
    },
    {
     "name": "stderr",
     "output_type": "stream",
     "text": [
      "\n",
      "100%|██████████| 5/5 [12:17<00:00, 147.54s/it]\u001b[A\n",
      "\n",
      "  0%|          | 0/5 [00:00<?, ?it/s]\u001b[A"
     ]
    },
    {
     "name": "stdout",
     "output_type": "stream",
     "text": [
      "GO for k=3: 0.8944\n",
      "GO for k=15: 0.8701\n",
      "GO for k=51: 0.8243\n"
     ]
    },
    {
     "name": "stderr",
     "output_type": "stream",
     "text": [
      "\n",
      " 20%|██        | 1/5 [02:27<09:49, 147.44s/it]\u001b[A"
     ]
    },
    {
     "name": "stdout",
     "output_type": "stream",
     "text": [
      "GO for k=3: 0.8953\n",
      "GO for k=15: 0.8711\n",
      "GO for k=51: 0.8244\n"
     ]
    },
    {
     "name": "stderr",
     "output_type": "stream",
     "text": [
      "\n",
      " 40%|████      | 2/5 [04:54<07:22, 147.44s/it]\u001b[A"
     ]
    },
    {
     "name": "stdout",
     "output_type": "stream",
     "text": [
      "GO for k=3: 0.8954\n",
      "GO for k=15: 0.8694\n",
      "GO for k=51: 0.8236\n"
     ]
    },
    {
     "name": "stderr",
     "output_type": "stream",
     "text": [
      "\n",
      " 60%|██████    | 3/5 [07:21<04:54, 147.29s/it]\u001b[A"
     ]
    },
    {
     "name": "stdout",
     "output_type": "stream",
     "text": [
      "GO for k=3: 0.8952\n",
      "GO for k=15: 0.8715\n",
      "GO for k=51: 0.8247\n"
     ]
    },
    {
     "name": "stderr",
     "output_type": "stream",
     "text": [
      "\n",
      " 80%|████████  | 4/5 [09:47<02:26, 146.74s/it]\u001b[A"
     ]
    },
    {
     "name": "stdout",
     "output_type": "stream",
     "text": [
      "GO for k=3: 0.8942\n",
      "GO for k=15: 0.8703\n",
      "GO for k=51: 0.8260\n"
     ]
    },
    {
     "name": "stderr",
     "output_type": "stream",
     "text": [
      "\n",
      "100%|██████████| 5/5 [12:14<00:00, 146.82s/it]\u001b[A\n",
      "\n",
      "  0%|          | 0/5 [00:00<?, ?it/s]\u001b[A"
     ]
    },
    {
     "name": "stdout",
     "output_type": "stream",
     "text": [
      "GO for k=3: 0.8922\n",
      "GO for k=15: 0.8684\n",
      "GO for k=51: 0.8216\n"
     ]
    },
    {
     "name": "stderr",
     "output_type": "stream",
     "text": [
      "\n",
      " 20%|██        | 1/5 [02:25<09:43, 145.98s/it]\u001b[A"
     ]
    },
    {
     "name": "stdout",
     "output_type": "stream",
     "text": [
      "GO for k=3: 0.8964\n",
      "GO for k=15: 0.8714\n",
      "GO for k=51: 0.8244\n"
     ]
    },
    {
     "name": "stderr",
     "output_type": "stream",
     "text": [
      "\n",
      " 40%|████      | 2/5 [04:52<07:18, 146.24s/it]\u001b[A"
     ]
    },
    {
     "name": "stdout",
     "output_type": "stream",
     "text": [
      "GO for k=3: 0.8948\n",
      "GO for k=15: 0.8694\n",
      "GO for k=51: 0.8256\n"
     ]
    },
    {
     "name": "stderr",
     "output_type": "stream",
     "text": [
      "\n",
      " 60%|██████    | 3/5 [07:19<04:52, 146.31s/it]\u001b[A"
     ]
    },
    {
     "name": "stdout",
     "output_type": "stream",
     "text": [
      "GO for k=3: 0.8944\n",
      "GO for k=15: 0.8705\n"
     ]
    }
   ],
   "source": [
    "for annotation in tqdm(annotations): \n",
    "    print(annotation)\n",
    "    random_state = np.random.RandomState(random_state_seed)\n",
    "\n",
    "    # Not null annotation column and embedding columns\n",
    "    annot_df = swiss_df[\n",
    "        swiss_df[annotation].notnull() & swiss_df[embedding_columns].notnull().all(axis=1)\n",
    "    ]#.sample(1000) # For testing\n",
    "   \n",
    "    metrics_df = pd.DataFrame(\n",
    "        data=np.nan,\n",
    "        index=annot_df.index,\n",
    "        columns=[f'k={k}' for k in ks]\n",
    "    )\n",
    "    \n",
    "    for repeat in range(n_repeats):\n",
    "        kfold = KFold(n_splits=n_folds, random_state=random_state, shuffle=True)\n",
    "        for train_ids, test_ids in tqdm(kfold.split(annot_df), total=kfold.n_splits):\n",
    "\n",
    "            # Train-test split\n",
    "            train_X = annot_df.iloc[train_ids][embedding_columns]\n",
    "            test_X = annot_df.iloc[test_ids][embedding_columns]\n",
    "            train_y = annot_df.iloc[train_ids][annotation]\n",
    "            test_y = annot_df.iloc[test_ids][annotation]\n",
    "\n",
    "            # Expand labels to lists\n",
    "            train_y, test_y = train_y.str.split(pat=r'\\|\\|'), test_y.str.split(pat=r'\\|\\|')\n",
    "\n",
    "            # Build & query NN graph\n",
    "            nn_graph = NNDescent(train_X, n_neighbors=max(ks), n_jobs=16)\n",
    "\n",
    "            neighbors, distances = nn_graph.query(test_X, k=max(ks))\n",
    "\n",
    "            for k in ks:\n",
    "                k_nearest_neighbors = neighbors[:, :k]\n",
    "                metric_values = calculate_metric(k_nearest_neighbors, train_y, test_y, calculate_iou)\n",
    "\n",
    "                metrics_df.loc[metric_values.index, f'k={k}'] = metric_values.values            \n",
    "                print(f'{annotation} for k={k}: {metric_values.mean():.4f}')\n",
    "            \n",
    "            results_path = Path(results_path_pattern.format(repeat, annotation))\n",
    "            results_path.parent.mkdir(exist_ok=True)\n",
    "            metrics_df.to_csv(str(results_path))"
   ]
  }
 ],
 "metadata": {
  "kernelspec": {
   "display_name": "Python 3",
   "language": "python",
   "name": "python3"
  },
  "language_info": {
   "codemirror_mode": {
    "name": "ipython",
    "version": 3
   },
   "file_extension": ".py",
   "mimetype": "text/x-python",
   "name": "python",
   "nbconvert_exporter": "python",
   "pygments_lexer": "ipython3",
   "version": "3.7.7"
  }
 },
 "nbformat": 4,
 "nbformat_minor": 4
}
